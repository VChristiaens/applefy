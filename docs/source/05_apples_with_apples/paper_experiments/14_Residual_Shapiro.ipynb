{
 "cells": [
  {
   "cell_type": "code",
   "execution_count": 1,
   "metadata": {},
   "outputs": [],
   "source": [
    "import scipy\n",
    "from sklearn import linear_model, metrics\n",
    "from scipy import stats\n",
    "import pandas as pd\n",
    "import os\n",
    "import random\n",
    "import multiprocessing\n",
    "import pickle\n",
    "from tqdm import tqdm\n",
    "import seaborn as sns\n",
    "\n",
    "import matplotlib.pyplot as plt\n",
    "import numpy as np\n",
    "from photutils import CircularAnnulus\n",
    "\n",
    "from apelfei.utils.data_handling import open_fits\n",
    "from apelfei.utils.general import center_subpixel"
   ]
  },
  {
   "cell_type": "markdown",
   "metadata": {},
   "source": [
    "## Set the global colors"
   ]
  },
  {
   "cell_type": "code",
   "execution_count": 2,
   "metadata": {},
   "outputs": [
    {
     "data": {
      "text/plain": [
       "[(0.00392156862745098, 0.45098039215686275, 0.6980392156862745),\n",
       " (0.8705882352941177, 0.5607843137254902, 0.0196078431372549),\n",
       " (0.8352941176470589, 0.3686274509803922, 0.0),\n",
       " (0.8, 0.47058823529411764, 0.7372549019607844),\n",
       " (0.33725490196078434, 0.7058823529411765, 0.9137254901960784)]"
      ]
     },
     "execution_count": 2,
     "metadata": {},
     "output_type": "execute_result"
    }
   ],
   "source": [
    "color_palette = [sns.color_palette(\"colorblind\")[0],\n",
    "                 sns.color_palette(\"colorblind\")[1],\n",
    "                 sns.color_palette(\"colorblind\")[3],\n",
    "                 sns.color_palette(\"colorblind\")[4],\n",
    "                 sns.color_palette(\"colorblind\")[9]]\n",
    "\n",
    "#color_palette = sns.color_palette(\"hls\", 5)\n",
    "color_palette"
   ]
  },
  {
   "cell_type": "markdown",
   "metadata": {},
   "source": [
    "## Evaluate number of pixel and independent resolution elements"
   ]
  },
  {
   "cell_type": "code",
   "execution_count": 3,
   "metadata": {},
   "outputs": [],
   "source": [
    "num_res_elements = dict()\n",
    "\n",
    "for i in np.linspace(1, 8, 15):\n",
    "    num_res_elements[i] = int(np.floor(np.pi*2*i))"
   ]
  },
  {
   "cell_type": "markdown",
   "metadata": {},
   "source": [
    "## Run Monte Carlo Simulation - Independent"
   ]
  },
  {
   "cell_type": "code",
   "execution_count": 4,
   "metadata": {
    "collapsed": true
   },
   "outputs": [
    {
     "name": "stdout",
     "output_type": "stream",
     "text": [
      "Running separation 1.0\n"
     ]
    },
    {
     "name": "stderr",
     "output_type": "stream",
     "text": [
      " 34%|█████████████████████████████████████████████████████▏                                                                                                     | 343466/1000000 [00:06<00:12, 54391.99it/s]\n"
     ]
    },
    {
     "ename": "KeyboardInterrupt",
     "evalue": "",
     "output_type": "error",
     "traceback": [
      "\u001b[0;31m---------------------------------------------------------------------------\u001b[0m",
      "\u001b[0;31mKeyboardInterrupt\u001b[0m                         Traceback (most recent call last)",
      "Input \u001b[0;32mIn [4]\u001b[0m, in \u001b[0;36m<cell line: 7>\u001b[0;34m()\u001b[0m\n\u001b[1;32m     17\u001b[0m tmp_res_values_normal \u001b[38;5;241m=\u001b[39m np\u001b[38;5;241m.\u001b[39mrandom\u001b[38;5;241m.\u001b[39mnormal(loc\u001b[38;5;241m=\u001b[39m\u001b[38;5;241m0\u001b[39m, scale\u001b[38;5;241m=\u001b[39m\u001b[38;5;241m1\u001b[39m, size\u001b[38;5;241m=\u001b[39mtmp_num_res)\n\u001b[1;32m     18\u001b[0m tmp_res_values_lapalce \u001b[38;5;241m=\u001b[39m np\u001b[38;5;241m.\u001b[39mrandom\u001b[38;5;241m.\u001b[39mlaplace(loc\u001b[38;5;241m=\u001b[39m\u001b[38;5;241m0\u001b[39m, scale\u001b[38;5;241m=\u001b[39m\u001b[38;5;241m1\u001b[39m, size\u001b[38;5;241m=\u001b[39mtmp_num_res)\n\u001b[1;32m     20\u001b[0m p_values_normal[tmp_separation]\u001b[38;5;241m.\u001b[39mappend(\n\u001b[0;32m---> 21\u001b[0m     \u001b[43mscipy\u001b[49m\u001b[38;5;241;43m.\u001b[39;49m\u001b[43mstats\u001b[49m\u001b[38;5;241;43m.\u001b[39;49m\u001b[43mshapiro\u001b[49m\u001b[43m(\u001b[49m\u001b[43mtmp_res_values_normal\u001b[49m\u001b[43m)\u001b[49m\u001b[38;5;241m.\u001b[39mpvalue)\n\u001b[1;32m     22\u001b[0m p_values_laplace[tmp_separation]\u001b[38;5;241m.\u001b[39mappend(\n\u001b[1;32m     23\u001b[0m     scipy\u001b[38;5;241m.\u001b[39mstats\u001b[38;5;241m.\u001b[39mshapiro(tmp_res_values_lapalce)\u001b[38;5;241m.\u001b[39mpvalue)\n",
      "File \u001b[0;32m/home/ipa/quanz/user_accounts/mbonse/2022_EpsEri/50_code/venv_eps_eri/lib/python3.8/site-packages/scipy/stats/_morestats.py:1755\u001b[0m, in \u001b[0;36mshapiro\u001b[0;34m(x)\u001b[0m\n\u001b[1;32m   1752\u001b[0m a \u001b[38;5;241m=\u001b[39m zeros(N, \u001b[38;5;124m'\u001b[39m\u001b[38;5;124mf\u001b[39m\u001b[38;5;124m'\u001b[39m)\n\u001b[1;32m   1753\u001b[0m init \u001b[38;5;241m=\u001b[39m \u001b[38;5;241m0\u001b[39m\n\u001b[0;32m-> 1755\u001b[0m y \u001b[38;5;241m=\u001b[39m \u001b[43msort\u001b[49m\u001b[43m(\u001b[49m\u001b[43mx\u001b[49m\u001b[43m)\u001b[49m\n\u001b[1;32m   1756\u001b[0m a, w, pw, ifault \u001b[38;5;241m=\u001b[39m _statlib\u001b[38;5;241m.\u001b[39mswilk(y, a[:N\u001b[38;5;241m/\u001b[39m\u001b[38;5;241m/\u001b[39m\u001b[38;5;241m2\u001b[39m], init)\n\u001b[1;32m   1757\u001b[0m \u001b[38;5;28;01mif\u001b[39;00m ifault \u001b[38;5;129;01mnot\u001b[39;00m \u001b[38;5;129;01min\u001b[39;00m [\u001b[38;5;241m0\u001b[39m, \u001b[38;5;241m2\u001b[39m]:\n",
      "File \u001b[0;32m<__array_function__ internals>:5\u001b[0m, in \u001b[0;36msort\u001b[0;34m(*args, **kwargs)\u001b[0m\n",
      "File \u001b[0;32m/home/ipa/quanz/user_accounts/mbonse/2022_EpsEri/50_code/venv_eps_eri/lib/python3.8/site-packages/numpy/core/fromnumeric.py:997\u001b[0m, in \u001b[0;36msort\u001b[0;34m(a, axis, kind, order)\u001b[0m\n\u001b[1;32m    995\u001b[0m     axis \u001b[38;5;241m=\u001b[39m \u001b[38;5;241m-\u001b[39m\u001b[38;5;241m1\u001b[39m\n\u001b[1;32m    996\u001b[0m \u001b[38;5;28;01melse\u001b[39;00m:\n\u001b[0;32m--> 997\u001b[0m     a \u001b[38;5;241m=\u001b[39m \u001b[43masanyarray\u001b[49m(a)\u001b[38;5;241m.\u001b[39mcopy(order\u001b[38;5;241m=\u001b[39m\u001b[38;5;124m\"\u001b[39m\u001b[38;5;124mK\u001b[39m\u001b[38;5;124m\"\u001b[39m)\n\u001b[1;32m    998\u001b[0m a\u001b[38;5;241m.\u001b[39msort(axis\u001b[38;5;241m=\u001b[39maxis, kind\u001b[38;5;241m=\u001b[39mkind, order\u001b[38;5;241m=\u001b[39morder)\n\u001b[1;32m    999\u001b[0m \u001b[38;5;28;01mreturn\u001b[39;00m a\n",
      "\u001b[0;31mKeyboardInterrupt\u001b[0m: "
     ]
    }
   ],
   "source": [
    "np.random.seed(42)\n",
    "num_tests= 1000000\n",
    "\n",
    "p_values_normal = dict()\n",
    "p_values_laplace = dict()\n",
    "\n",
    "for tmp_separation in np.linspace(1, 8, 15):\n",
    "    print(\"Running separation \" + str(tmp_separation))\n",
    "    tmp_num_res = num_res_elements[tmp_separation]\n",
    "    \n",
    "    # setup empty lists\n",
    "    p_values_normal[tmp_separation] = []\n",
    "    p_values_laplace[tmp_separation] = []\n",
    "    \n",
    "    for i in tqdm(range(num_tests)):\n",
    "        # 1.) Sample a random noise values - gaussian, laplace\n",
    "        tmp_res_values_normal = np.random.normal(loc=0, scale=1, size=tmp_num_res)\n",
    "        tmp_res_values_lapalce = np.random.laplace(loc=0, scale=1, size=tmp_num_res)\n",
    "        \n",
    "        p_values_normal[tmp_separation].append(\n",
    "            scipy.stats.shapiro(tmp_res_values_normal).pvalue)\n",
    "        p_values_laplace[tmp_separation].append(\n",
    "            scipy.stats.shapiro(tmp_res_values_lapalce).pvalue)"
   ]
  },
  {
   "cell_type": "markdown",
   "metadata": {},
   "source": [
    "## Save the results / Or restore the results"
   ]
  },
  {
   "cell_type": "code",
   "execution_count": 4,
   "metadata": {},
   "outputs": [],
   "source": [
    "result_dir = \"../../../70_results/part1/shapiro_tests/\""
   ]
  },
  {
   "cell_type": "code",
   "execution_count": null,
   "metadata": {},
   "outputs": [],
   "source": [
    "# Save as .pkl\n",
    "with open(os.path.join(result_dir, 'A1_Shapiro_normal.pickle'), 'wb') as handle:\n",
    "    pickle.dump(p_values_normal, handle, protocol=pickle.HIGHEST_PROTOCOL)\n",
    "    \n",
    "with open(os.path.join(result_dir, 'A1_Shapiro_laplace.pickle'), 'wb') as handle:\n",
    "    pickle.dump(p_values_laplace, handle, protocol=pickle.HIGHEST_PROTOCOL)"
   ]
  },
  {
   "cell_type": "code",
   "execution_count": 5,
   "metadata": {},
   "outputs": [],
   "source": [
    "# Load .pkl\n",
    "with open(os.path.join(result_dir, 'A1_Shapiro_normal.pickle'), 'rb') as handle:\n",
    "    p_values_normal = pickle.load(handle)\n",
    "    \n",
    "with open(os.path.join(result_dir, 'A1_Shapiro_laplace.pickle'), 'rb') as handle:\n",
    "    p_values_laplace = pickle.load(handle)"
   ]
  },
  {
   "cell_type": "markdown",
   "metadata": {},
   "source": [
    "## Count the occurance of p-values"
   ]
  },
  {
   "cell_type": "code",
   "execution_count": 6,
   "metadata": {},
   "outputs": [],
   "source": [
    "normal_p_001 = [np.sum(np.array(p_values) < 0.01) / len(p_values) for p_values in p_values_normal.values()]\n",
    "laplace_p_001 = [np.sum(np.array(p_values) < 0.01) / len(p_values) for p_values in p_values_laplace.values()]\n",
    "\n",
    "normal_p_02 = [np.sum(np.array(p_values) < 0.2) / len(p_values) for p_values in p_values_normal.values()]\n",
    "laplace_p_02 = [np.sum(np.array(p_values) < 0.2) / len(p_values) for p_values in p_values_laplace.values()]"
   ]
  },
  {
   "cell_type": "markdown",
   "metadata": {},
   "source": [
    "## Make the Plot"
   ]
  },
  {
   "cell_type": "code",
   "execution_count": 7,
   "metadata": {},
   "outputs": [
    {
     "data": {
      "image/png": "[encoded data removed]",
      "text/plain": [
       "<Figure size 576x252 with 4 Axes>"
      ]
     },
     "metadata": {},
     "output_type": "display_data"
    }
   ],
   "source": [
    "fig = plt.figure(constrained_layout=False, figsize=(8, 3.5))\n",
    "\n",
    "gs0 = fig.add_gridspec(1, 2)\n",
    "gs0.update(hspace=0.1, wspace=0.05)\n",
    "\n",
    "low = fig.add_subplot(gs0[0, 0])\n",
    "high = fig.add_subplot(gs0[0, 1], sharey=low, sharex=low)\n",
    "\n",
    "# Plot 1: Low T1 error\n",
    "low.plot(p_values_normal.keys(), normal_p_001, lw=3, color=color_palette[0], \n",
    "            label=\"Gaussian Noise\")\n",
    "low.plot(p_values_normal.keys(), laplace_p_001, lw=3, color=color_palette[1], \n",
    "            label=\"Laplacian Noise\")\n",
    "low.grid()\n",
    "low.set_ylim(0, 1)\n",
    "low.set_xlim(0.5, 8.5)\n",
    "low.set_xticks(np.arange(1,9))\n",
    "\n",
    "for tick in low.xaxis.get_major_ticks():\n",
    "    tick.label.set_fontsize(12) \n",
    "for tick in low.yaxis.get_major_ticks():\n",
    "    tick.label.set_fontsize(12) \n",
    "\n",
    "# second x axis\n",
    "low_2 = low.twiny()\n",
    "low_2.set_xticks(np.arange(1, 9))\n",
    "low_2.tick_params(axis=\"x\",direction=\"in\", pad=-45)\n",
    "low_2.set_xticklabels(list(num_res_elements.values())[::2], fontsize=12)\n",
    "low_2.set_xlim(0.5, 8.5)\n",
    "for tmp_label in low_2.xaxis.get_ticklabels():\n",
    "    tmp_label.set_bbox(dict(facecolor='white', edgecolor='none'))\n",
    "low_2.text(1.3, 0.87, \"# Resolution elements\", \n",
    "             bbox=dict(facecolor='white', edgecolor='none'),\n",
    "             fontsize=14) \n",
    "\n",
    "low.set_title(r\"$p < 0.01$\", fontsize=14, y=1.02)\n",
    "low.set_xlabel(r\"Separation $[FWHM]$\", fontsize=14)\n",
    "low.set_ylabel(\"Fraction of trials\", fontsize=14)\n",
    "\n",
    "\n",
    "# Plot 3: High T1 error - independent samples\n",
    "high.plot(p_values_normal.keys(), normal_p_02, lw=3, color=color_palette[0])\n",
    "high.plot(p_values_normal.keys(), laplace_p_02, lw=3, color=color_palette[1])\n",
    "high.grid()\n",
    "\n",
    "plt.setp(high.get_yticklabels(), visible=False)\n",
    "high.set_title(r\"$p < 0.2$\", fontsize=14, y=1.02)\n",
    "for tick in high.xaxis.get_major_ticks():\n",
    "    tick.label.set_fontsize(12) \n",
    "    \n",
    "# second x axis\n",
    "high_2 = high.twiny()\n",
    "high_2.set_xticks(np.arange(1, 9))\n",
    "high_2.tick_params(axis=\"x\",direction=\"in\", pad=-45)\n",
    "high_2.set_xticklabels(list(num_res_elements.values())[::2], fontsize=12)\n",
    "high_2.set_xlim(0.5, 8.5)\n",
    "for tmp_label in high_2.xaxis.get_ticklabels():\n",
    "    tmp_label.set_bbox(dict(facecolor='white', edgecolor='none'))\n",
    "high_2.text(1.3, 0.87, \"# Resolution elements\",\n",
    "              bbox=dict(facecolor='white', edgecolor='none'),\n",
    "              fontsize=14)\n",
    "\n",
    "\n",
    "high.set_xlabel(r\"Separation $[FWHM]$\", fontsize=14)\n",
    "\n",
    "\n",
    "# Legend\n",
    "lgd = low.legend(loc='center right',ncol=2,\n",
    "                 bbox_to_anchor=(1.78, -0.32),\n",
    "                 fontsize=14,\n",
    "                 markerscale=3.,)\n",
    "\n",
    "fig_title = fig.suptitle(\"Testing for Normality in the Residuals\", size=16, fontweight=\"bold\", y=1.06)\n",
    "\n",
    "fig.patch.set_facecolor('white')\n",
    "plt.savefig(\"./14_Residual_Shapiro.pdf\", bbox_extra_artists=(lgd, fig_title), bbox_inches='tight')"
   ]
  },
  {
   "cell_type": "code",
   "execution_count": null,
   "metadata": {},
   "outputs": [],
   "source": []
  }
 ],
 "metadata": {
  "kernelspec": {
   "display_name": "Python 3 (ipykernel)",
   "language": "python",
   "name": "python3"
  },
  "language_info": {
   "codemirror_mode": {
    "name": "ipython",
    "version": 3
   },
   "file_extension": ".py",
   "mimetype": "text/x-python",
   "name": "python",
   "nbconvert_exporter": "python",
   "pygments_lexer": "ipython3",
   "version": "3.8.10"
  }
 },
 "nbformat": 4,
 "nbformat_minor": 4
}
