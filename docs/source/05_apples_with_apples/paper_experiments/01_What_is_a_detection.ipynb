{
 "cells": [
  {
   "cell_type": "markdown",
   "id": "086c8c8f",
   "metadata": {},
   "source": [
    "# Figure 1: Hypothesis testing"
   ]
  },
  {
   "cell_type": "markdown",
   "id": "f37d405d",
   "metadata": {},
   "source": [
    "This is the code used to create **Figure 1** in the **Apples with Apples** paper (Bonse et al. in prep). The Figure is composed of 3 subplots with describe the main steps of the hypothesis testing framework introduced in [Mawet et al. (2014)](https://arxiv.org/abs/1407.2247) and used in the paper."
   ]
  },
  {
   "cell_type": "markdown",
   "id": "a009b8f6",
   "metadata": {},
   "source": [
    "## Imports"
   ]
  },
  {
   "cell_type": "code",
   "execution_count": 1,
   "id": "4b5ef12d",
   "metadata": {},
   "outputs": [],
   "source": [
    "import os\n",
    "import json\n",
    "\n",
    "import numpy as np\n",
    "from scipy import stats\n",
    "\n",
    "import matplotlib.pyplot as plt\n",
    "import seaborn as sns\n",
    "\n",
    "from applefy.utils.data_handling import read_apples_with_apples_root, open_fits\n",
    "from applefy.utils import AperturePhotometryMode, estimate_reference_positions, get_flux\n",
    "from applefy.utils.general import center_subpixel\n",
    "\n",
    "from applefy.statistics import TTest, fpf_2_gaussian_sigma"
   ]
  },
  {
   "cell_type": "markdown",
   "id": "2b6bb8c4",
   "metadata": {},
   "source": [
    "## Data loading"
   ]
  },
  {
   "cell_type": "markdown",
   "id": "f786f2ff",
   "metadata": {},
   "source": [
    "We need to load an example residual (after using PCA) with contains a previously inserted artifical companion. Later for the computation of the contrast grid in **Figure 7** we compute several of such residuals. We use one of these residuals as an example here.\n",
    "\n",
    "In order to run the code **make sure to download the data from Zenodo and [read the instructions](../02_paper_data.md) on how to setup the files**."
   ]
  },
  {
   "cell_type": "code",
   "execution_count": 2,
   "id": "560d8b4c",
   "metadata": {},
   "outputs": [
    {
     "name": "stdout",
     "output_type": "stream",
     "text": [
      "Data in the APPLES_ROOT_DIR found. Location: /Users/markusbonse/Desktop/\n"
     ]
    }
   ],
   "source": [
    "experiment_root = read_apples_with_apples_root()"
   ]
  },
  {
   "cell_type": "markdown",
   "id": "f6c4f75a",
   "metadata": {},
   "source": [
    "Set the path to one example residual and the config file used to create it. The config file is used to obtaion the position at which the artifical planet was inserted."
   ]
  },
  {
   "cell_type": "code",
   "execution_count": 3,
   "id": "9ee4141a",
   "metadata": {},
   "outputs": [],
   "source": [
    "fake_planet_residual_path = os.path.join(\n",
    "    experiment_root, \n",
    "    \"70_results/detection_limits/Beta_Pic_non_stacked/pca_residuals/pca_020_ID_0115f.fits\")\n",
    "\n",
    "fake_planet_config_path = os.path.join(\n",
    "     experiment_root, \n",
    "    \"70_results/detection_limits/Beta_Pic_non_stacked/configs_cgrid/exp_ID_0115f.json\")"
   ]
  },
  {
   "cell_type": "markdown",
   "id": "a6c119a0",
   "metadata": {},
   "source": [
    "Open the .fits file with the fake planet residual and load the planet position from the config file."
   ]
  },
  {
   "cell_type": "code",
   "execution_count": 4,
   "id": "22440c50",
   "metadata": {},
   "outputs": [],
   "source": [
    "planet_residual = open_fits(fake_planet_residual_path)\n",
    "\n",
    "with open(fake_planet_config_path) as json_file:\n",
    "    fake_planet_config = json.load(json_file)\n",
    "\n",
    "# The last two values in \"planet_position\" are the separation from the star and the position angle\n",
    "planet_position = fake_planet_config[\"planet_position\"][:2]"
   ]
  },
  {
   "cell_type": "markdown",
   "id": "fdd2a526",
   "metadata": {},
   "source": [
    "## Extract values for planet and noise"
   ]
  },
  {
   "cell_type": "markdown",
   "id": "d5b569e1",
   "metadata": {},
   "source": [
    "We want to estimate the flux of the planet as well as the flux of reference apertures. These reference apertures need to have the same separation from the star as the planet but should not overlap with the signal of the planet. This can be done using the function [estimate_reference_positions](../../04_package/utils.rst#applefy.utils.aperture_positions.estimate_reference_positions) of applefy. Note: later for the computation of contrast curves estimate_reference_positions is used internally."
   ]
  },
  {
   "cell_type": "code",
   "execution_count": 5,
   "id": "5bea0692",
   "metadata": {},
   "outputs": [],
   "source": [
    "# estimate reference positions for the noise\n",
    "noise_positions = estimate_reference_positions(\n",
    "    planet_position,\n",
    "    center=center_subpixel(planet_residual),\n",
    "    psf_fwhm_radius=2.1,\n",
    "    angle_offset=5,  # more details are explained in the documentation of Figure 3.\n",
    "    safety_margin=0.5)"
   ]
  },
  {
   "cell_type": "code",
   "execution_count": 6,
   "id": "32400f26",
   "metadata": {},
   "outputs": [
    {
     "data": {
      "text/plain": [
       "[(45.16718454912184, 35.036050779529816, 8.4, 346.4788975654116),\n",
       " (45.05496390717036, 39.3827623578911, 8.4, 376.4788975654116),\n",
       " (42.784422191230746, 43.09101468670018, 8.4, 406.47889756541156),\n",
       " (38.963949220470184, 45.16718454912184, 8.4, 436.4788975654116),\n",
       " (34.617237642108904, 45.05496390717036, 8.4, 466.4788975654116),\n",
       " (30.908985313299823, 42.784422191230746, 8.4, 496.47889756541156),\n",
       " (28.832815450878158, 38.96394922047019, 8.4, 526.4788975654116),\n",
       " (28.945036092829636, 34.617237642108904, 8.4, 556.4788975654116),\n",
       " (31.215577808769254, 30.908985313299823, 8.4, 586.4788975654116),\n",
       " (35.03605077952982, 28.832815450878158, 8.4, 616.4788975654117)]"
      ]
     },
     "execution_count": 6,
     "metadata": {},
     "output_type": "execute_result"
    }
   ],
   "source": [
    "noise_positions"
   ]
  },
  {
   "cell_type": "markdown",
   "id": "3e4760b7",
   "metadata": {},
   "source": [
    "As a second step we have to calculate the aperture averages at the position of the planet and reference positions for the noise. For this we use the [AperturePhotometryMode](../../04_package/utils.rst#applefy.utils.aperture_photometry.AperturePhotometryMode) \"ASS\" and \"AS\" of applefy."
   ]
  },
  {
   "cell_type": "code",
   "execution_count": 7,
   "id": "437a0b52",
   "metadata": {},
   "outputs": [],
   "source": [
    "photometry_mode_planet = AperturePhotometryMode(\"ASS\", psf_fwhm_radius=2.1, search_area=1.5)\n",
    "photometry_mode_noise = AperturePhotometryMode(\"AS\", psf_fwhm_radius=2.1)"
   ]
  },
  {
   "cell_type": "markdown",
   "id": "17f4e46b",
   "metadata": {},
   "source": [
    "The function [get_flux](../../04_package/utils.rst#applefy.utils.aperture_photometry.get_flux) takes three arguments:\n",
    "- The resiudal from which we want to extract the photometry values\n",
    "- The position at which we want to extract the photometry\n",
    "- The way we want to extract the photometry (here aperture averages)"
   ]
  },
  {
   "cell_type": "code",
   "execution_count": 8,
   "id": "78e8919e",
   "metadata": {},
   "outputs": [],
   "source": [
    "# Compute the noise values\n",
    "noise_flux = []\n",
    "for tmp_pos in noise_positions:\n",
    "    tmp_flux = get_flux(planet_residual,\n",
    "                        tmp_pos[:2],\n",
    "                        photometry_mode=photometry_mode_noise)[1]\n",
    "    noise_flux.append(tmp_flux)\n",
    "    \n",
    "# Compute the planet flux\n",
    "planet_flux = get_flux(planet_residual,\n",
    "                       planet_position,\n",
    "                       photometry_mode=photometry_mode_planet)[1]"
   ]
  },
  {
   "cell_type": "markdown",
   "id": "9963245b",
   "metadata": {},
   "source": [
    "## Statistical Test"
   ]
  },
  {
   "cell_type": "markdown",
   "id": "7a7b2645",
   "metadata": {},
   "source": [
    "For the subplots 2. and 3. we need to calculate the SNR and p-value (FPF).\n",
    "\n",
    "We do this with a simple [t-Test](../../04_package/statistics.rst#applefy.statistics.parametric.TTest)."
   ]
  },
  {
   "cell_type": "code",
   "execution_count": 9,
   "id": "1bd2e4cb",
   "metadata": {},
   "outputs": [],
   "source": [
    "test = TTest()"
   ]
  },
  {
   "cell_type": "code",
   "execution_count": 10,
   "id": "c7797262",
   "metadata": {},
   "outputs": [],
   "source": [
    "p_value, snr = test.test_2samp(planet_flux, noise_flux)"
   ]
  },
  {
   "cell_type": "code",
   "execution_count": 11,
   "id": "9fa0c199",
   "metadata": {},
   "outputs": [
    {
     "data": {
      "text/plain": [
       "2.2804911538963033"
      ]
     },
     "execution_count": 11,
     "metadata": {},
     "output_type": "execute_result"
    }
   ],
   "source": [
    "snr"
   ]
  },
  {
   "cell_type": "code",
   "execution_count": 12,
   "id": "3d1629f0",
   "metadata": {},
   "outputs": [
    {
     "data": {
      "text/plain": [
       "0.024261747008021712"
      ]
     },
     "execution_count": 12,
     "metadata": {},
     "output_type": "execute_result"
    }
   ],
   "source": [
    "p_value"
   ]
  },
  {
   "cell_type": "markdown",
   "id": "58f6aea7",
   "metadata": {},
   "source": [
    "## Create the Subplots"
   ]
  },
  {
   "cell_type": "markdown",
   "id": "affb3514",
   "metadata": {},
   "source": [
    "Define the colors we use along all subplots."
   ]
  },
  {
   "cell_type": "code",
   "execution_count": 13,
   "id": "da3d77b9",
   "metadata": {},
   "outputs": [],
   "source": [
    "color_palette = [sns.color_palette(\"colorblind\")[0],\n",
    "                 sns.color_palette(\"colorblind\")[1],\n",
    "                 sns.color_palette(\"colorblind\")[3]]"
   ]
  },
  {
   "cell_type": "markdown",
   "id": "869360d1",
   "metadata": {},
   "source": [
    "### 1. Observation & Measurement"
   ]
  },
  {
   "cell_type": "markdown",
   "id": "2e071872",
   "metadata": {},
   "source": [
    "Create the first subplot showing the residual and the positions at which we extract the signal and noise sample."
   ]
  },
  {
   "cell_type": "code",
   "execution_count": 14,
   "id": "f3ecca16",
   "metadata": {
    "nbsphinx-gallery": {}
   },
   "outputs": [
    {
     "data": {
      "image/png": "[encoded data removed]",
      "text/plain": [
       "<Figure size 576x360 with 1 Axes>"
      ]
     },
     "metadata": {},
     "output_type": "display_data"
    }
   ],
   "source": [
    "# Create the Layout with gridspec\n",
    "fig = plt.figure(constrained_layout=False, figsize=(8, 5))\n",
    "gs0 = fig.add_gridspec(1, 1)\n",
    "ax_residual = fig.add_subplot(gs0[0])\n",
    "\n",
    "# 1.) The Residual Plot\n",
    "ax_residual.imshow(planet_residual)\n",
    "ax_residual.scatter(np.array(noise_positions)[:,0],\n",
    "                    np.array(noise_positions)[:,1],\n",
    "                    marker=\"o\",\n",
    "                    facecolor=\"None\",\n",
    "                    edgecolor=\"white\",\n",
    "                    s=580, lw=2.5, alpha=0.8)\n",
    "\n",
    "ax_residual.scatter(np.array([planet_position,])[:,0],\n",
    "                    np.array([planet_position,])[:,1],\n",
    "                    marker=\"o\",\n",
    "                    facecolor=\"None\",\n",
    "                    edgecolor=color_palette[1], \n",
    "                    s=580, lw=2.5,alpha=1)\n",
    "\n",
    "ax_residual.set_xlim(15, 60)\n",
    "ax_residual.set_ylim(15, 60)\n",
    "ax_residual.axes.get_xaxis().set_ticks([])\n",
    "_=ax_residual.axes.get_yaxis().set_ticks([])\n",
    "\n",
    "# Write the Labels\n",
    "ax_residual.text(20, 52, \n",
    "                 r\"$\\overline{X}_1, \\overline{X}_2, ..., \\overline{X}_{n=10}$\", \n",
    "                 color=\"white\", fontsize=18)\n",
    "\n",
    "ax_residual.arrow(27, 50,\n",
    "                  2, -3, color=\"white\",\n",
    "                  head_length=1.2,head_width=1.2)\n",
    "\n",
    "\n",
    "ax_residual.text(48, 25, \n",
    "                 r\"$\\overline{Y}_1$\", \n",
    "                 color=\"white\", fontsize=18)\n",
    "\n",
    "ax_residual.arrow(47, 26,\n",
    "                  -2., 1., color=\"white\",\n",
    "                  head_length=1.2,head_width=1.2)\n",
    "\n",
    "ax_residual.text(25, 6, \n",
    "                 r\"$SNR = T_{obs} = \" + \"{:.2f}$\".format(snr), \n",
    "                 color=\"black\", fontsize=18)\n",
    "\n",
    "fig.patch.set_facecolor('white')\n",
    "\n",
    "plt.savefig(\"./01_01_observation.pdf\",\n",
    "            bbox_inches='tight')"
   ]
  },
  {
   "cell_type": "markdown",
   "id": "d5ccfd8a",
   "metadata": {},
   "source": [
    "### 2. Hypothesis & Assumptions"
   ]
  },
  {
   "cell_type": "markdown",
   "id": "d0f89926",
   "metadata": {},
   "source": [
    "Create the second subplot which illustrates the two hypothesis: detection vs. no dectection."
   ]
  },
  {
   "cell_type": "code",
   "execution_count": 15,
   "id": "cc0c16ff",
   "metadata": {},
   "outputs": [],
   "source": [
    "# we use the same fuction to plot the H0 and H1\n",
    "def plot_hypothesis(loc_noise, \n",
    "                    scale_noise,\n",
    "                    loc_signal,\n",
    "                    axis_in):\n",
    "    \n",
    "    # 2.1) Plot the hypothesis distribution\n",
    "    x = np.linspace(stats.norm.ppf(0.00001, loc=loc_noise, scale=scale_noise),\n",
    "                    stats.norm.ppf(0.99999, loc=loc_noise, scale=scale_noise), 1000)\n",
    "\n",
    "    axis_in.plot(x, stats.norm.pdf(x, loc=loc_noise, scale=scale_noise)*0.9, \n",
    "                 label=\"Noise PDF\",\n",
    "                 color=color_palette[0], lw=3)\n",
    "\n",
    "    axis_in.plot(x, stats.norm.pdf(x, loc=loc_signal, scale=scale_noise)*0.9 + 0.0004, \n",
    "                 label=\"Signal PDF\",\n",
    "                 color=color_palette[1], lw=3)\n",
    "\n",
    "    axis_in.hlines(0, xmin=-200, xmax=200, color=\"black\")\n",
    "\n",
    "    # 2.2) Plot the observations\n",
    "    axis_in.scatter(noise_flux,\n",
    "                    np.zeros_like(noise_flux),\n",
    "                    color = color_palette[0],\n",
    "                    marker=\"x\", lw=3, s=100,\n",
    "                    label=r\"$X_1, X_2, ..., X_n$\")\n",
    "\n",
    "    axis_in.axvline(np.mean(noise_flux),\n",
    "                    ymin=-0.1, ymax=0.3, ls=\"-\",\n",
    "                    color=color_palette[0], lw=3)\n",
    "\n",
    "    axis_in.text(np.mean(noise_flux), 0.0047, r\"$\\overline{\\mathcal{X}}$\",\n",
    "                 ha=\"center\", size=18)\n",
    "\n",
    "    axis_in.scatter(planet_flux,\n",
    "                  np.zeros_like(planet_flux), \n",
    "                  color = color_palette[1],\n",
    "                  marker=\"x\", lw=3, s=100, \n",
    "                   label=r\"$Y_1$\")\n",
    "\n",
    "    axis_in.axvline(np.mean(planet_flux),\n",
    "                  ymin=-0.1, ymax=0.3, ls=\"-\",\n",
    "                  color=color_palette[1], lw=3)\n",
    "\n",
    "    axis_in.text(np.mean(planet_flux), 0.0047, r\"$\\overline{\\mathcal{Y}}$\",\n",
    "               ha=\"center\", size=18)\n",
    "\n",
    "    # 2.3) Set label and limits\n",
    "    axis_in.set_xlim(np.min(noise_flux)*2, planet_flux*1.8)\n",
    "    axis_in.set_ylim(-0.002, 0.017)\n",
    "    axis_in.axes.get_xaxis().set_ticklabels([])\n",
    "    axis_in.axes.get_yaxis().set_ticklabels([])"
   ]
  },
  {
   "cell_type": "markdown",
   "id": "9b3278d3",
   "metadata": {},
   "source": [
    "Use the function from above to create the figure."
   ]
  },
  {
   "cell_type": "code",
   "execution_count": 16,
   "id": "5b26c91f",
   "metadata": {},
   "outputs": [
    {
     "data": {
      "image/png": "[encoded data removed]",
      "text/plain": [
       "<Figure size 576x360 with 2 Axes>"
      ]
     },
     "metadata": {},
     "output_type": "display_data"
    }
   ],
   "source": [
    "# Create the Layout with gridspec\n",
    "fig = plt.figure(constrained_layout=False, figsize=(8, 5))\n",
    "gs0 = fig.add_gridspec(2, 1, height_ratios=[1, 1])\n",
    "gs0.update(hspace=0.15, wspace=0.2)\n",
    "\n",
    "ax_h0 = fig.add_subplot(gs0[0])\n",
    "ax_h1 = fig.add_subplot(gs0[1])\n",
    "\n",
    "# 1.) H0 Plot\n",
    "loc_noise = np.mean(noise_flux) + 10\n",
    "scale_noise = np.std(noise_flux) * 1.1\n",
    "loc_signal = loc_noise\n",
    "\n",
    "plot_hypothesis(loc_noise, scale_noise, loc_signal, ax_h0)\n",
    "ax_h0.text(loc_signal, 0.014, r\"$\\mu_\\mathcal{X}, \\mu_\\mathcal{Y}$\",\n",
    "           ha=\"center\", size=18)\n",
    "ax_h0.axvline(loc_noise,\n",
    "              ymin=-0.1, ymax=0.75, ls=\"-\",\n",
    "              color=color_palette[0], lw=2)\n",
    "\n",
    "ax_h0.axvline(loc_signal,\n",
    "              ymin=-0.1, ymax=0.75, ls=\":\",\n",
    "              color=color_palette[1], lw=2)\n",
    "\n",
    "ax_h0.text(-65, 0.012, r\"$H_0: \\mu_\\mathcal{X} = \\mu_\\mathcal{Y}$\",\n",
    "           ha=\"center\", size=16,\n",
    "           bbox=dict(facecolor='none', edgecolor='grey', boxstyle='round,pad=0.5'))\n",
    "\n",
    "ax_h0.set_ylabel(\"No Detection\", size=16, fontweight=\"bold\")\n",
    "\n",
    "# 2.) H1 Plot\n",
    "loc_noise = np.mean(noise_flux) + 10\n",
    "scale_noise = np.std(noise_flux) * 1.1\n",
    "loc_signal = np.mean(planet_flux) - 20\n",
    "\n",
    "plot_hypothesis(loc_noise, scale_noise, loc_signal, ax_h1)\n",
    "ax_h1.text(loc_signal, 0.014, r\"$\\mu_\\mathcal{Y}$\",\n",
    "           ha=\"center\", size=18)\n",
    "\n",
    "ax_h1.axvline(loc_signal,\n",
    "              ymin=-0.1, ymax=0.75, ls=\"--\",\n",
    "              color=color_palette[1], lw=2)\n",
    "\n",
    "ax_h1.text(loc_noise, 0.014, r\"$\\mu_\\mathcal{X}$\",\n",
    "           ha=\"center\", size=18)\n",
    "\n",
    "ax_h1.axvline(loc_noise,\n",
    "              ymin=-0.1, ymax=0.75, ls=\"--\",\n",
    "              color=color_palette[0], lw=2)\n",
    "\n",
    "ax_h1.text(-65, 0.012, r\"$H_1: \\mu_\\mathcal{X} < \\mu_\\mathcal{Y}$\",\n",
    "           ha=\"center\", size=16,\n",
    "           bbox=dict(facecolor='none', edgecolor='grey', boxstyle='round,pad=0.5'))\n",
    "\n",
    "ax_h1.set_xlabel(\"Residual Flux\", size=16)\n",
    "ax_h1.set_ylabel(\"Detection\", size=16, fontweight=\"bold\")\n",
    "\n",
    "# Add a legend\n",
    "ax_h1.legend(ncol=4,\n",
    "             fontsize=14, \n",
    "             loc='lower center',\n",
    "             bbox_to_anchor=(0.48, -.55))\n",
    "\n",
    "# Save the plot\n",
    "fig.patch.set_facecolor('white')\n",
    "plt.savefig(\"./01_02_hypothesis.pdf\",\n",
    "            bbox_inches='tight')"
   ]
  },
  {
   "cell_type": "markdown",
   "id": "9eeac492",
   "metadata": {},
   "source": [
    "### 3. Statistical Test & Conclusion"
   ]
  },
  {
   "cell_type": "markdown",
   "id": "3ffb2287",
   "metadata": {},
   "source": [
    "Create the last subplot which shows the t-distribution and the FPF for the given value of $T_{\\text{obs}}$"
   ]
  },
  {
   "cell_type": "code",
   "execution_count": 17,
   "id": "d2f9f4e4",
   "metadata": {},
   "outputs": [
    {
     "data": {
      "image/png": "[encoded data removed]",
      "text/plain": [
       "<Figure size 432x360 with 1 Axes>"
      ]
     },
     "metadata": {
      "needs_background": "light"
     },
     "output_type": "display_data"
    }
   ],
   "source": [
    "# Create the Layout with gridspec\n",
    "fig = plt.figure(constrained_layout=False, figsize=(6, 5))\n",
    "gs0 = fig.add_gridspec(1, 1)\n",
    "axis_ttest = fig.add_subplot(gs0[0])\n",
    "\n",
    "# collect all the data\n",
    "m = 1 \n",
    "n = len(noise_positions)\n",
    "snr = test.test_2samp(planet_flux, noise_flux)[1]\n",
    "\n",
    "x = np.linspace(stats.t.ppf(0.001, n+m-2),\n",
    "                stats.t.ppf(0.999, n+m-2), 1000)\n",
    "\n",
    "fill_x = np.arange(snr, 5, 0.01)\n",
    "fill_y = stats.t.pdf(fill_x, n+m-2)\n",
    "\n",
    "axis_ttest.axhline(0, color=\"black\", lw=1)\n",
    "axis_ttest.plot(x, stats.t.pdf(x, n+m-2),\n",
    "                color=color_palette[2], \n",
    "                lw=3,\n",
    "                label=\"T-Distribution \" + r\"$\\nu = 10 - 1 = 9$\")\n",
    "\n",
    "axis_ttest.fill_between(fill_x, fill_y, color=\"red\", alpha=0.5)\n",
    "axis_ttest.vlines(snr, ymin=-0.1, ymax=1, \n",
    "                  color=\"black\", lw=2)\n",
    "axis_ttest.grid()\n",
    "\n",
    "axis_ttest.text(snr, 0.3, r\"$T_{obs}$\" + \" = {:.2f}\".format(snr), \n",
    "                ha=\"center\", size=18,\n",
    "                bbox=dict(facecolor='white', edgecolor=\"white\"))\n",
    "\n",
    "\n",
    "axis_ttest.text(-0., 0.08, \"Detection Confidence:\", \n",
    "                ha=\"center\", size=18,\n",
    "                fontweight=\"bold\",\n",
    "                bbox=dict(facecolor='white', edgecolor=\"white\")) \n",
    "\n",
    "axis_ttest.text(-0., 0.02, \"FPF = {:.4f}\".format(p_value), \n",
    "                ha=\"center\", size=16,\n",
    "                bbox=dict(facecolor='white', edgecolor=\"white\"))\n",
    "\n",
    "axis_ttest.arrow(1.2, 0.025, 0.8, 0., head_width=0.015, head_length=0.1, fc='k', ec='k')\n",
    "\n",
    "axis_ttest.set_xlim(-4, 4)\n",
    "axis_ttest.set_ylim(-0.02, 0.45)\n",
    "\n",
    "axis_ttest.set_xlabel(\"SNR / Test Statistic \", fontsize=16)\n",
    "axis_ttest.set_ylabel(r\"$p(T = x | H_0)$\", fontsize=16)\n",
    "\n",
    "axis_ttest.tick_params(axis='both', which='major', labelsize=14)\n",
    "\n",
    "axis_ttest.legend(ncol=1,\n",
    "                  fontsize=16, \n",
    "                  loc='lower center',\n",
    "                  bbox_to_anchor=(0.5, -.33))\n",
    "\n",
    "#fig.patch.set_facecolor('white')\n",
    "plt.savefig(\"./01_03_test.pdf\",\n",
    "            bbox_inches='tight')"
   ]
  },
  {
   "cell_type": "markdown",
   "id": "a5ede491",
   "metadata": {},
   "source": [
    "We merge the plots using Illustrator"
   ]
  }
 ],
 "metadata": {
  "kernelspec": {
   "display_name": "Python 3 (ipykernel)",
   "language": "python",
   "name": "python3"
  },
  "language_info": {
   "codemirror_mode": {
    "name": "ipython",
    "version": 3
   },
   "file_extension": ".py",
   "mimetype": "text/x-python",
   "name": "python",
   "nbconvert_exporter": "python",
   "pygments_lexer": "ipython3",
   "version": "3.9.7"
  }
 },
 "nbformat": 4,
 "nbformat_minor": 5
}
