{
 "cells": [
  {
   "cell_type": "markdown",
   "id": "389a812a",
   "metadata": {},
   "source": [
    "# Figure 3: Independence"
   ]
  },
  {
   "cell_type": "markdown",
   "id": "74555ad7",
   "metadata": {},
   "source": [
    "<div style=\"text-align: justify\">\n",
    "This is the code used to create **Figure 3** in the Apples with Apples paper (Bonse et al. in prep). The code illustrates how the use of apertures violates the independence assumption of the T-test.\n",
    "</div>"
   ]
  },
  {
   "cell_type": "markdown",
   "id": "c5441a84",
   "metadata": {},
   "source": [
    "## Imports"
   ]
  },
  {
   "cell_type": "code",
   "execution_count": 1,
   "id": "f2eaaf33",
   "metadata": {},
   "outputs": [],
   "source": [
    "import os\n",
    "import json\n",
    "import numpy as np\n",
    "import matplotlib.pyplot as plt\n",
    "import matplotlib.gridspec as gridspec\n",
    "import seaborn as sns\n",
    "\n",
    "from applefy.utils.data_handling import read_apples_with_apples_root, \\\n",
    "    open_fits, load_adi_data\n",
    "from applefy.gaussianity.residual_tests import extract_circular_annulus"
   ]
  },
  {
   "cell_type": "markdown",
   "id": "5fe774b1",
   "metadata": {},
   "source": [
    "## Data Loading"
   ]
  },
  {
   "cell_type": "markdown",
   "id": "0e3cddb3",
   "metadata": {},
   "source": [
    "<div style=\"text-align: justify\">\n",
    "To illustrate the size of the speckles we load the unsaturated PSF. In order to run the code **make sure to download the data from Zenodo and [read the instructions](../02_paper_data.md) on how to setup the files**.\n",
    "</div>"
   ]
  },
  {
   "cell_type": "code",
   "execution_count": 2,
   "id": "2703b74c",
   "metadata": {},
   "outputs": [
    {
     "name": "stdout",
     "output_type": "stream",
     "text": [
      "Data in the APPLES_ROOT_DIR found. Location: /Users/markusbonse/Desktop/\n"
     ]
    }
   ],
   "source": [
    "experiment_root = read_apples_with_apples_root()\n",
    "\n",
    "root_dir = os.path.join(experiment_root, \"70_results/detection_limits/Beta_Pic_non_stacked/\")"
   ]
  },
  {
   "cell_type": "code",
   "execution_count": 3,
   "id": "f7acb82c",
   "metadata": {},
   "outputs": [],
   "source": [
    "# The config files contains all the information needed to read in \n",
    "# the data from the hdf5 file\n",
    "dataset_json_file = os.path.join(root_dir, \"dataset.json\")\n",
    "\n",
    "with open(dataset_json_file) as json_file:\n",
    "    tmp_dataset_config = json.load(json_file)\n",
    "\n",
    "# we only need the unsaturated psf template\n",
    "_, _, raw_psf_template_data = load_adi_data(\n",
    "    os.path.join(experiment_root, tmp_dataset_config[\"file_path\"]),\n",
    "    data_tag=tmp_dataset_config[\"stack_key\"],\n",
    "    psf_template_tag=tmp_dataset_config[\"psf_template_key\"],\n",
    "    para_tag=tmp_dataset_config[\"parang_key\"])"
   ]
  },
  {
   "cell_type": "markdown",
   "id": "4bea3589",
   "metadata": {},
   "source": [
    "The unsaturated PSF template is very large, we crop it to 21 x 21 pixel."
   ]
  },
  {
   "cell_type": "code",
   "execution_count": 4,
   "id": "9153d45b",
   "metadata": {},
   "outputs": [],
   "source": [
    "crop_template = tmp_dataset_config[\"crop_template\"]\n",
    "\n",
    "psf_template_data = raw_psf_template_data[crop_template:-crop_template, \n",
    "                                          crop_template:-crop_template]"
   ]
  },
  {
   "cell_type": "markdown",
   "id": "0572344e",
   "metadata": {},
   "source": [
    "## Create the plot"
   ]
  },
  {
   "cell_type": "markdown",
   "id": "f4fa11af",
   "metadata": {},
   "source": [
    "This is a small helper function which is used to label the images of the PSF."
   ]
  },
  {
   "cell_type": "code",
   "execution_count": 5,
   "id": "35ccecf1",
   "metadata": {},
   "outputs": [],
   "source": [
    "def plot_psf_with_positions(positions_in,\n",
    "                            axis_in,\n",
    "                            case_label):\n",
    "    \n",
    "    # Show the PSF\n",
    "    axis_in.imshow(psf_template_data, \n",
    "                   vmin=-np.max(psf_template_data)*0.1, \n",
    "                   vmax=np.max(psf_template_data))\n",
    "    \n",
    "    axis_in.text(4, 2, case_label, ha=\"center\", color=\"black\",\n",
    "                 bbox=dict(facecolor='white',\n",
    "                           boxstyle=\"round\",\n",
    "                           edgecolor=\"black\"),\n",
    "                 fontsize=14)\n",
    "    \n",
    "\n",
    "    # Plot the Positions of the Apertures and pixel\n",
    "    axis_in.scatter(positions_in[0],  \n",
    "                    positions_in[1],\n",
    "                    marker=\"o\", s=1900,\n",
    "                    edgecolor=\"white\", \n",
    "                    lw=2, facecolor=\"None\",\n",
    "                    alpha=0.8)\n",
    "\n",
    "    axis_in.scatter(positions_in[0],  \n",
    "                    positions_in[1],\n",
    "                    marker=\"x\", s=50, \n",
    "                    color=\"white\",\n",
    "                    lw=3,\n",
    "                    alpha=1)\n",
    "    \n",
    "    # Write Names of the Positions (Pixel)\n",
    "    axis_in.text(positions_in[0][0], \n",
    "                 positions_in[1][0] - 5, \"A\", \n",
    "                 fontsize=16, fontweight=\"bold\", ha=\"center\",\n",
    "                 color=sns.color_palette(\"colorblind\")[1])\n",
    "    \n",
    "    axis_in.text(positions_in[0][1], \n",
    "                 positions_in[1][1] - 5, \"B\", \n",
    "                 fontsize=16, fontweight=\"bold\",  ha=\"center\",\n",
    "                 color=sns.color_palette(\"colorblind\")[1])\n",
    "    \n",
    "    axis_in.arrow(positions_in[0][0], \n",
    "                  positions_in[1][0] - 4, \n",
    "                  0, 2.5, lw=2, \n",
    "                  head_width=0.5, head_length=0.5,\n",
    "                  color=sns.color_palette(\"colorblind\")[1])\n",
    "    \n",
    "    axis_in.arrow(positions_in[0][1], \n",
    "                  positions_in[1][1] - 4, \n",
    "                  0, 2.5, lw=2, \n",
    "                  head_width=0.5, head_length=0.5,\n",
    "                  color=sns.color_palette(\"colorblind\")[1])\n",
    "    \n",
    "    # Write Names of the Positions (Apertures)\n",
    "    axis_in.text(positions_in[0][0] - 3, \n",
    "                 positions_in[1][0] + 7, \"A'\", \n",
    "                 fontsize=16, fontweight=\"bold\", ha=\"center\",\n",
    "                 color=sns.color_palette(\"colorblind\")[4])\n",
    "    \n",
    "    axis_in.arrow(positions_in[0][0] - 2.5, \n",
    "                  positions_in[1][0] + 5, \n",
    "                  1.2, -2.3, lw=2, \n",
    "                  head_width=0.5, head_length=0.5,\n",
    "                  color=sns.color_palette(\"colorblind\")[4])\n",
    "    \n",
    "    axis_in.text(positions_in[0][1] + 3, \n",
    "                 positions_in[1][1] + 7, \"B'\", \n",
    "                 fontsize=16, fontweight=\"bold\", ha=\"center\",\n",
    "                 color=sns.color_palette(\"colorblind\")[4])\n",
    "    \n",
    "    axis_in.arrow(positions_in[0][1] + 2.5, \n",
    "                  positions_in[1][1] + 5, \n",
    "                  -1.2, -2.3, lw=2, \n",
    "                  head_width=0.5, head_length=0.5,\n",
    "                  color=sns.color_palette(\"colorblind\")[4])\n",
    "    \n",
    "\n",
    "    # Remove the axis \n",
    "    axis_in.axes.get_xaxis().set_ticks([])\n",
    "    axis_in.axes.get_yaxis().set_ticks([])\n",
    "    \n",
    "    # Plot the horizontal line to mark the cut below\n",
    "    axis_in.axhline(psf_template_data.shape[0]/2 - 0.5,\n",
    "                    color=\"white\", ls=\"--\")"
   ]
  },
  {
   "cell_type": "markdown",
   "id": "878d6242",
   "metadata": {},
   "source": [
    "This is a small helper function which is used to create the sketches for Case 1 and Case 2."
   ]
  },
  {
   "cell_type": "code",
   "execution_count": 6,
   "id": "7516aa6c",
   "metadata": {},
   "outputs": [],
   "source": [
    "psf_line = psf_template_data[:,10] - np.min(psf_template_data[:,10])\n",
    "psf_line /= np.max(psf_line)\n",
    "\n",
    "def plot_illustration(pos_A, \n",
    "                      pos_B,\n",
    "                      shift,\n",
    "                      axis_in):\n",
    "    \n",
    "    axis_in.plot(psf_line,\n",
    "                 lw=3,label=\"Potential Speckle\",\n",
    "                 color = sns.color_palette(\"colorblind\")[0])\n",
    "    \n",
    "    axis_in.set_xlim(2.1 + shift, len(psf_line) - 3.1 + shift)\n",
    "    axis_in.set_ylim(0, 1.8)\n",
    "    axis_in.axvline(pos_A, lw=3, \n",
    "                    color=sns.color_palette(\"colorblind\")[1],\n",
    "                    label=\"Pixel\",)\n",
    "    axis_in.axvline(pos_B, lw=3, \n",
    "                    color=sns.color_palette(\"colorblind\")[1])\n",
    "    \n",
    "    axis_in.axvline(pos_A, lw=114, \n",
    "                    color=sns.color_palette(\"colorblind\")[4], alpha=0.2)\n",
    "    axis_in.axvline(pos_B, lw=114, \n",
    "                    color=sns.color_palette(\"colorblind\")[4], alpha=0.2)\n",
    "    \n",
    "    line = plt.Line2D(\n",
    "        (pos_A - 2.05, pos_A + 2.05), \n",
    "        (0.3, 0.3), lw=3, mew=3, \n",
    "        color=sns.color_palette(\"colorblind\")[4], \n",
    "        marker=\"|\", ms=10)\n",
    "\n",
    "    axis_in.add_line(line)\n",
    "    \n",
    "    line = plt.Line2D(\n",
    "        (pos_B - 2.05, pos_B + 2.05), \n",
    "        (0.3, 0.3), lw=3, mew=3, label=\"Aperture\",\n",
    "        color=sns.color_palette(\"colorblind\")[4], \n",
    "        marker=\"|\", ms=10)\n",
    "\n",
    "    axis_in.add_line(line)\n",
    "    \n",
    "    # Add all labels\n",
    "    axis_in.text(pos_A, 1.4, \"A\", \n",
    "                 ha=\"center\", size=16,\n",
    "                 color=sns.color_palette(\"colorblind\")[1],\n",
    "                 va=\"center\", fontweight=\"bold\",\n",
    "                 bbox=dict(facecolor='white',\n",
    "                           boxstyle=\"round\",\n",
    "                           edgecolor=\"white\"))\n",
    "    \n",
    "    axis_in.text(pos_A - 1.3, 1.4, \"A'\", \n",
    "                 ha=\"center\", size=16, \n",
    "                 color=sns.color_palette(\"colorblind\")[4],\n",
    "                 va=\"center\", fontweight=\"bold\",\n",
    "                 bbox=dict(facecolor='white',\n",
    "                           boxstyle=\"round\",\n",
    "                           edgecolor=\"white\"))\n",
    "    \n",
    "    axis_in.text(pos_B, 1.4, \"B\", \n",
    "                 ha=\"center\", size=16, \n",
    "                 color=sns.color_palette(\"colorblind\")[1],\n",
    "                 va=\"center\", fontweight=\"bold\",\n",
    "                 bbox=dict(facecolor='white',\n",
    "                           boxstyle=\"round\",\n",
    "                           edgecolor=\"white\"))\n",
    "    \n",
    "    axis_in.text(pos_B + 1.3, 1.4, \"B'\", \n",
    "                 ha=\"center\", size=16, \n",
    "                 color=sns.color_palette(\"colorblind\")[4],\n",
    "                 va=\"center\", fontweight=\"bold\",\n",
    "                 bbox=dict(facecolor='white',\n",
    "                           boxstyle=\"round\",\n",
    "                           edgecolor=\"white\"))\n",
    "    \n",
    "    axis_in.axis(\"off\")"
   ]
  },
  {
   "cell_type": "markdown",
   "id": "b5b10d9e",
   "metadata": {},
   "source": [
    "Create the final plot."
   ]
  },
  {
   "cell_type": "code",
   "execution_count": 7,
   "id": "7beb941a",
   "metadata": {
    "nbsphinx-thumbnail": {
     "tooltip": "Illustration of how the use of apertures can violate the independence assumption of the T-test."
    }
   },
   "outputs": [
    {
     "data": {
      "image/png": "[encoded data removed]",
      "text/plain": [
       "<Figure size 576x576 with 4 Axes>"
      ]
     },
     "metadata": {},
     "output_type": "display_data"
    }
   ],
   "source": [
    "# 1.) Make the plot gridlayout \n",
    "fig = plt.figure(constrained_layout=False, \n",
    "                 figsize=(8, 8))\n",
    "gs0 = fig.add_gridspec(2, 1, height_ratios=[2.5, 2])\n",
    "gs0.update(hspace=0.05, wspace=0.15)\n",
    "\n",
    "gs1 = gridspec.GridSpecFromSubplotSpec(1, 2, \n",
    "                                       subplot_spec=gs0[0],\n",
    "                                       hspace=0., wspace=0.1,\n",
    "                                       width_ratios=[1, 1])\n",
    "\n",
    "gs2 = gridspec.GridSpecFromSubplotSpec(2, 1, \n",
    "                                       subplot_spec=gs0[1],\n",
    "                                       hspace=0.3, wspace=0.1,\n",
    "                                       height_ratios=[1, 1])\n",
    "\n",
    "ax_psf_case1 = fig.add_subplot(gs1[0])\n",
    "ax_psf_case2 = fig.add_subplot(gs1[1])\n",
    "ax_illustration1 = fig.add_subplot(gs2[0])\n",
    "ax_illustration2 = fig.add_subplot(gs2[1])\n",
    "\n",
    "\n",
    "# 2.) Plot the unsaturated PSF with apertures on top of it\n",
    "plot_psf_with_positions(([10, 10 + 4.2], [10,10],), \n",
    "                        ax_psf_case1, \"Case 1\")\n",
    "plot_psf_with_positions(([10 - 2.1, 10 + 2.1], [10,10],), \n",
    "                        ax_psf_case2, \"Case 2\")\n",
    "\n",
    "# 3.) Plot the illustrations for Case 1 and Case 2\n",
    "plot_illustration(10, 10 + 4.2, 2.1,  ax_illustration1)\n",
    "plot_illustration(10 - 2.1, 10 + 2.1, 0, ax_illustration2)\n",
    "\n",
    "plt.setp(ax_illustration1.get_xticklabels(), visible=False)\n",
    "\n",
    "ax_illustration1.text(3.7 + 2.1, 1.2, \"Case 1\", ha=\"center\", color=\"black\",\n",
    "                      fontsize=14, #fontweight=\"bold\",\n",
    "                      bbox=dict(facecolor='white',\n",
    "                                boxstyle=\"round\",\n",
    "                                edgecolor=\"black\"))\n",
    "\n",
    "ax_illustration2.text(3.7, 1.2, \"Case 2\", ha=\"center\", color=\"black\",\n",
    "                     fontsize=14, #fontweight=\"bold\",\n",
    "                     bbox=dict(facecolor='white',\n",
    "                               boxstyle=\"round\",\n",
    "                               edgecolor=\"black\"))\n",
    "\n",
    "# 4.) Add a legend\n",
    "lgd = ax_illustration2.legend(ncol=3, fontsize=14, \n",
    "                              loc='lower center',\n",
    "                              bbox_to_anchor=(0.5, -0.6))\n",
    "\n",
    "st = fig.suptitle(\"Independence of Noise Observations\", fontsize=18, fontweight=\"bold\", y=0.91)\n",
    "\n",
    "# 5.) Save the figure\n",
    "fig.patch.set_facecolor('white')\n",
    "plt.savefig(\"./03_Independence.pdf\", \n",
    "            bbox_extra_artists=(lgd, st), \n",
    "            bbox_inches='tight')"
   ]
  }
 ],
 "metadata": {
  "kernelspec": {
   "display_name": "Python 3 (ipykernel)",
   "language": "python",
   "name": "python3"
  },
  "language_info": {
   "codemirror_mode": {
    "name": "ipython",
    "version": 3
   },
   "file_extension": ".py",
   "mimetype": "text/x-python",
   "name": "python",
   "nbconvert_exporter": "python",
   "pygments_lexer": "ipython3",
   "version": "3.9.7"
  }
 },
 "nbformat": 4,
 "nbformat_minor": 5
}
