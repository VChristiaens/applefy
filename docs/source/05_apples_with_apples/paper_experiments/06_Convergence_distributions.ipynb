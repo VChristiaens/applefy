{
 "cells": [
  {
   "cell_type": "markdown",
   "id": "cc8252b5",
   "metadata": {},
   "source": [
    "# Figure 6: Convergence Distributions"
   ]
  },
  {
   "cell_type": "code",
   "execution_count": 1,
   "id": "0a60160b",
   "metadata": {},
   "outputs": [],
   "source": [
    "import os\n",
    "import json\n",
    "import matplotlib.pyplot as plt\n",
    "import matplotlib.gridspec as gridspec\n",
    "import seaborn as sns\n",
    "import numpy as np\n",
    "from scipy import stats\n",
    "import pandas as pd\n",
    "from copy import deepcopy\n",
    "\n",
    "from applefy.statistics import fpf_2_gaussian_sigma, gaussian_sigma_2_fpf, TTest, \\\n",
    "    LaplaceBootstrapTest\n",
    "from applefy.statistics.bootstrapping import GaussianBootstrapTest\n",
    "from applefy.utils import get_number_of_apertures"
   ]
  },
  {
   "cell_type": "markdown",
   "id": "c9b91a3a",
   "metadata": {},
   "source": [
    "## This Code is about"
   ]
  },
  {
   "cell_type": "markdown",
   "id": "cef26cb0",
   "metadata": {},
   "source": [
    "This Code runs Parametric Bootstrapping for Gaussian and Laplace noise at different separations. The resuls are ploted in Figure 8."
   ]
  },
  {
   "cell_type": "markdown",
   "id": "44372e4f",
   "metadata": {},
   "source": [
    "## Create the different Bootstrap models"
   ]
  },
  {
   "cell_type": "code",
   "execution_count": 2,
   "id": "59022dc0",
   "metadata": {},
   "outputs": [],
   "source": [
    "# -1 for the planet\n",
    "separation1 = get_number_of_apertures(2*2, 1) - 1\n",
    "separation2 = get_number_of_apertures(2*8, 1) - 1"
   ]
  },
  {
   "cell_type": "code",
   "execution_count": 3,
   "id": "707a5484",
   "metadata": {},
   "outputs": [],
   "source": [
    "gaussian_noise1 = np.random.normal(0, 1, separation1)\n",
    "gaussian_noise2 = np.random.normal(0, 1, separation2)\n",
    "\n",
    "laplacian_noise1 = np.random.laplace(0, 1, separation1)\n",
    "laplacian_noise2 = np.random.laplace(0, 1, separation2)"
   ]
  },
  {
   "cell_type": "code",
   "execution_count": 4,
   "id": "86852c2b",
   "metadata": {},
   "outputs": [],
   "source": [
    "# the Gaussian models\n",
    "gaussian_test1 = GaussianBootstrapTest(gaussian_noise1, num_cpus=8)\n",
    "gaussian_test2 = GaussianBootstrapTest(gaussian_noise2, num_cpus=8)\n",
    "\n",
    "# the Laplacian models\n",
    "laplace_test1 = LaplaceBootstrapTest(laplacian_noise1, num_cpus=8)\n",
    "laplace_test2 = LaplaceBootstrapTest(laplacian_noise2, num_cpus=8)"
   ]
  },
  {
   "cell_type": "code",
   "execution_count": null,
   "id": "6fe3e817",
   "metadata": {},
   "outputs": [],
   "source": [
    "# Run the Bootstrapping and save the values of T - Gauss\n",
    "gaussian_T1 = gaussian_test1.run_bootstrap_experiment(memory_size=5e6,\n",
    "                                                      num_noise_values=separation1,\n",
    "                                                      num_draws=1e8,\n",
    "                                                      approximation_interval=np.linspace(-7, 7, 100000))\n",
    "\n",
    "gaussian_T2 = gaussian_test2.run_bootstrap_experiment(memory_size=5e6,\n",
    "                                                      num_noise_values=separation2,\n",
    "                                                      num_draws=1e8,\n",
    "                                                      approximation_interval=np.linspace(-7, 7, 100000))"
   ]
  },
  {
   "cell_type": "code",
   "execution_count": null,
   "id": "3921b0b0",
   "metadata": {},
   "outputs": [],
   "source": [
    "# Run the Bootstrapping and save the values of T - Laplace\n",
    "laplace_T1 = laplace_test1.run_bootstrap_experiment(memory_size=5e6,\n",
    "                                                    num_noise_values=separation1,\n",
    "                                                    num_draws=1e8,\n",
    "                                                    approximation_interval=np.linspace(-7, 7, 100000))\n",
    "\n",
    "laplace_T2 = laplace_test1.run_bootstrap_experiment(memory_size=5e6,\n",
    "                                                    num_noise_values=separation2,\n",
    "                                                    num_draws=1e8,\n",
    "                                                    approximation_interval=np.linspace(-7, 7, 100000))"
   ]
  },
  {
   "cell_type": "markdown",
   "id": "afec224e",
   "metadata": {},
   "source": [
    "## Create the Plot"
   ]
  },
  {
   "cell_type": "code",
   "execution_count": null,
   "id": "1dcb5141",
   "metadata": {},
   "outputs": [],
   "source": [
    "axis_limit = 7."
   ]
  },
  {
   "cell_type": "code",
   "execution_count": null,
   "id": "f7175914",
   "metadata": {},
   "outputs": [],
   "source": [
    "def plot_histogram(axis_in,\n",
    "                   data_in, \n",
    "                   df_in, \n",
    "                   double=False):\n",
    "    \n",
    "    local_data = pd.DataFrame({\"T\": data_in})\n",
    "    \n",
    "    x = np.linspace(-axis_limit, axis_limit, 1000)\n",
    "    axis_in.plot(x, stats.t.pdf(x, df=df_in),\n",
    "                 color=sns.color_palette(\"colorblind\")[1], \n",
    "                 lw=3,\n",
    "                 label=\"T-Distribution\")\n",
    "    \n",
    "    # This hack is needed to get the histogram in the Legend\n",
    "    if double:\n",
    "        axis_in.plot(x, stats.t.pdf(x, df=df_in),\n",
    "                     color=sns.color_palette(\"colorblind\")[1], \n",
    "                     lw=3,\n",
    "                     label=\"T-Distribution\")\n",
    "    \n",
    "    axis_in.plot(x, stats.norm.pdf(x),\n",
    "                 color=\"black\",\n",
    "                 ls=\"--\",\n",
    "                 lw=2,\n",
    "                 label=\"Normal-Distribution\")\n",
    "    \n",
    "    sns.histplot(data=local_data, \n",
    "                 x=\"T\",\n",
    "                 bins=30, \n",
    "                 stat=\"density\", \n",
    "                 binrange=(-axis_limit, axis_limit),\n",
    "                 ax=axis_in,\n",
    "                 #element=\"step\",\n",
    "                 legend=True)\n",
    "    \n",
    "    axis_in.set_xlim(-axis_limit+0.5, axis_limit-0.5)\n",
    "    axis_in.set_yscale(\"log\")\n",
    "    axis_in.yaxis.grid()\n",
    "    axis_in.tick_params(axis='both', which='major', labelsize=12)"
   ]
  },
  {
   "cell_type": "code",
   "execution_count": null,
   "id": "dc21247f",
   "metadata": {},
   "outputs": [],
   "source": [
    "# 1.) Create Plot Layout\n",
    "fig = plt.figure(constrained_layout=False, figsize=(8, 8))\n",
    "gs0 = fig.add_gridspec(2, 2)\n",
    "gs0.update(hspace=0.07, wspace=0.09)\n",
    "\n",
    "ax_inner_gauss = fig.add_subplot(gs0[0, 0])\n",
    "ax_outer_gauss = fig.add_subplot(gs0[0, 1], sharex=ax_inner_gauss, sharey=ax_inner_gauss)\n",
    "ax_inner_laplace = fig.add_subplot(gs0[1, 0], sharex=ax_inner_gauss, sharey=ax_inner_gauss)\n",
    "ax_outer_laplace = fig.add_subplot(gs0[1, 1], sharex=ax_inner_gauss, sharey=ax_inner_gauss)\n",
    "\n",
    "# Plot the histograms\n",
    "idx = np.random.randint(0, gaussian_T1.shape[0]-1, int(10e7)) #10e7\n",
    "plot_histogram(ax_inner_gauss, gaussian_T1[idx], separation1 - 1, double=True)\n",
    "plot_histogram(ax_outer_gauss, gaussian_T2[idx], separation2 - 1)\n",
    "plot_histogram(ax_inner_laplace, laplace_T1[idx], separation1 - 1)\n",
    "plot_histogram(ax_outer_laplace, laplace_T2[idx], separation2 - 1)\n",
    "\n",
    "# turn of tick lables\n",
    "plt.setp(ax_outer_gauss.get_yticklabels(), visible=False)\n",
    "plt.setp(ax_outer_laplace.get_yticklabels(), visible=False)\n",
    "plt.setp(ax_inner_gauss.get_xticklabels(), visible=False)\n",
    "plt.setp(ax_outer_gauss.get_xticklabels(), visible=False)\n",
    "ax_inner_laplace.tick_params(axis='both', which='major', labelsize=14)\n",
    "ax_outer_laplace.tick_params(axis='both', which='major', labelsize=14)\n",
    "ax_inner_gauss.tick_params(axis='both', which='major', labelsize=14)\n",
    "ax_outer_gauss.tick_params(axis='both', which='major', labelsize=14)\n",
    "\n",
    "# Lables and Titles\n",
    "ax_outer_gauss.set_ylabel(\"\")\n",
    "ax_outer_laplace.set_ylabel(\"\")\n",
    "ax_inner_gauss.set_xlabel(\"\")\n",
    "ax_outer_gauss.set_xlabel(\"\")\n",
    "ax_inner_gauss.set_ylabel(\"$p(T=x|H_0)$\", size=16)\n",
    "ax_inner_laplace.set_ylabel(\"$p(T=x|H_0)$\", size=16)\n",
    "\n",
    "ax_inner_laplace.set_xlabel(\"SNR / Test Statistic\", size=16)\n",
    "ax_outer_laplace.set_xlabel(\"SNR / Test Statistic\", size=16)\n",
    "\n",
    "#ax1 = ax_inner_gauss.twinx()\n",
    "#plt.setp(ax1.get_yticklabels(), visible=False)\n",
    "#ax1.yaxis.set_label_position('left')\n",
    "ax_inner_gauss.set_ylabel(r\"$\\hat{F}$ is Gaussian\" + \"\\n\" + r\"$p\\left( T^*=x|H_0 \\right) $\",\n",
    "                          fontweight=\"bold\", size=18,  labelpad=12)\n",
    "\n",
    "#ax2 = ax_inner_laplace.twinx()\n",
    "#plt.setp(ax2.get_yticklabels(), visible=False)\n",
    "#ax2.yaxis.set_label_position('left')\n",
    "ax_inner_laplace.set_ylabel(r\"$\\hat{F}$ is Laplacian\" + \"\\n\" + r\"$p\\left( T^*=x|H_0 \\right) $\",\n",
    "                            size=18, fontweight=\"bold\", labelpad=12)\n",
    "\n",
    "\n",
    "ax_inner_gauss.set_title(\"Separation 2 FWHM\",\n",
    "                         fontsize=18, fontweight=\"bold\", y=1.02)\n",
    "ax_outer_gauss.set_title(\"Separation 8 FWHM\", \n",
    "                         fontsize=18, fontweight=\"bold\", y=1.02)\n",
    "\n",
    "# Create the legend\n",
    "handles, labels = ax_inner_laplace.get_legend_handles_labels()\n",
    "handles2, _ = ax_inner_gauss.get_legend_handles_labels()\n",
    "\n",
    "# For some reason the handles overwite the style and alpha\n",
    "handles = [handles2[0], handles[0], handles[1],]\n",
    "labels = [\"Bootstrap\", labels[0], labels[1],]\n",
    "\n",
    "handles[0].set_alpha(0.5)\n",
    "handles[0].set_color(sns.color_palette(\"colorblind\")[0])\n",
    "handles[0].set_lw(4)\n",
    "\n",
    "leg1 = fig.legend(handles, labels, \n",
    "                  bbox_to_anchor=(-0.05, -0.03), \n",
    "                  fontsize=16,\n",
    "                  loc='lower left', ncol=3)\n",
    "\n",
    "fig.patch.set_facecolor('white')\n",
    "plt.savefig(\"./06_Convergence_distribution_BS.pdf\", \n",
    "            bbox_extra_artists=(leg1,), \n",
    "            bbox_inches='tight')"
   ]
  },
  {
   "cell_type": "code",
   "execution_count": null,
   "id": "fa84df4d",
   "metadata": {},
   "outputs": [],
   "source": []
  }
 ],
 "metadata": {
  "kernelspec": {
   "display_name": "Python 3 (ipykernel)",
   "language": "python",
   "name": "python3"
  },
  "language_info": {
   "codemirror_mode": {
    "name": "ipython",
    "version": 3
   },
   "file_extension": ".py",
   "mimetype": "text/x-python",
   "name": "python",
   "nbconvert_exporter": "python",
   "pygments_lexer": "ipython3",
   "version": "3.9.7"
  }
 },
 "nbformat": 4,
 "nbformat_minor": 5
}
