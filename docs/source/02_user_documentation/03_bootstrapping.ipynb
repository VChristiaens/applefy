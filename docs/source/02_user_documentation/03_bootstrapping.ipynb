{
 "cells": [
  {
   "cell_type": "markdown",
   "id": "0b3c7404",
   "metadata": {},
   "source": [
    "# Pre-compute Bootstrap Lookups"
   ]
  },
  {
   "cell_type": "markdown",
   "id": "fda56f3d",
   "metadata": {},
   "source": [
    "The [LaplaceBootstrapTest](../03_package/statistics.rst#applefy.statistics.bootstrapping.LaplaceBootstrapTest) allows a previously computed bootstrap experiment to be restored as a lookup table. That is, we can compute the distribution of $p(T =x | H_0)$ once and reuse it. This is possible because of the pivoting property of the test (see Bonse et al. subm). \n",
    "\n",
    "In this tutorial we run several bootstrap experiments for different separations from the star and save the results. "
   ]
  },
  {
   "cell_type": "markdown",
   "id": "4d46e7a1",
   "metadata": {},
   "source": [
    "## Imports"
   ]
  },
  {
   "cell_type": "code",
   "execution_count": 1,
   "id": "dee114ed",
   "metadata": {},
   "outputs": [],
   "source": [
    "from tqdm import tqdm\n",
    "import numpy as np\n",
    "\n",
    "from applefy.utils.positions import get_number_of_apertures\n",
    "from applefy.statistics.bootstrapping import LaplaceBootstrapTest"
   ]
  },
  {
   "cell_type": "markdown",
   "id": "c83de349",
   "metadata": {},
   "source": [
    "## Determine the number of noise observations"
   ]
  },
  {
   "cell_type": "markdown",
   "id": "df13794e",
   "metadata": {},
   "source": [
    "The distribution of $p(T =x | H_0)$ depends on the number of available noise values $n$. We pre-compute the bootstrap experiments for the innermost 20 $\\lambda /D$. Further out the noise is most likely Gaussian and a [t-test](../03_package/statistics.rst#applefy.statistics.parametric.TTest) should be used."
   ]
  },
  {
   "cell_type": "code",
   "execution_count": 2,
   "id": "0a0320c9",
   "metadata": {},
   "outputs": [],
   "source": [
    "max_n = get_number_of_apertures(20, 0.5)\n",
    "min_n = get_number_of_apertures(1, 0.5)"
   ]
  },
  {
   "cell_type": "code",
   "execution_count": 3,
   "id": "ee79a206",
   "metadata": {},
   "outputs": [
    {
     "data": {
      "text/plain": [
       "6"
      ]
     },
     "execution_count": 3,
     "metadata": {},
     "output_type": "execute_result"
    }
   ],
   "source": [
    "min_n"
   ]
  },
  {
   "cell_type": "code",
   "execution_count": 4,
   "id": "35dc16b8",
   "metadata": {},
   "outputs": [
    {
     "data": {
      "text/plain": [
       "125"
      ]
     },
     "execution_count": 4,
     "metadata": {},
     "output_type": "execute_result"
    }
   ],
   "source": [
    "max_n"
   ]
  },
  {
   "cell_type": "markdown",
   "id": "24d53b6d",
   "metadata": {},
   "source": [
    "## Run the bootstrap experiments"
   ]
  },
  {
   "cell_type": "markdown",
   "id": "a3079f9e",
   "metadata": {},
   "source": [
    "Create the LaplaceBootstrapTest"
   ]
  },
  {
   "cell_type": "code",
   "execution_count": 5,
   "id": "7498af16",
   "metadata": {},
   "outputs": [],
   "source": [
    "bs_laplace_model = LaplaceBootstrapTest(num_cpus=50)"
   ]
  },
  {
   "cell_type": "markdown",
   "id": "d52b40e2",
   "metadata": {},
   "source": [
    "Calculate the bootstrap experiments."
   ]
  },
  {
   "cell_type": "code",
   "execution_count": null,
   "id": "9c9142b3",
   "metadata": {},
   "outputs": [
    {
     "name": "stderr",
     "output_type": "stream",
     "text": [
      "  4%|██████▉                                                                                                                                                              | 5/119 [04:02<1:34:55, 49.96s/it]"
     ]
    }
   ],
   "source": [
    "# Loop over all separations of interest\n",
    "for tmp_num_noise_values in tqdm(range(min_n, max_n)):\n",
    "    # 3.) Run the bootstrapping\n",
    "    bs_laplace_model.run_bootstrap_experiment(\n",
    "        memory_size=1e7,\n",
    "        num_noise_values=tmp_num_noise_values,\n",
    "        num_draws=1e9,\n",
    "        approximation_interval=np.linspace(-7, 7, 10000))"
   ]
  },
  {
   "cell_type": "markdown",
   "id": "840c1c96",
   "metadata": {},
   "source": [
    "## Save the lookup table"
   ]
  },
  {
   "cell_type": "code",
   "execution_count": null,
   "id": "37f9d399",
   "metadata": {},
   "outputs": [],
   "source": [
    "bs_laplace_model.save_lookups(\"path/to/save.csv\""
   ]
  }
 ],
 "metadata": {
  "kernelspec": {
   "display_name": "Python 3 (ipykernel)",
   "language": "python",
   "name": "python3"
  },
  "language_info": {
   "codemirror_mode": {
    "name": "ipython",
    "version": 3
   },
   "file_extension": ".py",
   "mimetype": "text/x-python",
   "name": "python",
   "nbconvert_exporter": "python",
   "pygments_lexer": "ipython3",
   "version": "3.8.10"
  }
 },
 "nbformat": 4,
 "nbformat_minor": 5
}
