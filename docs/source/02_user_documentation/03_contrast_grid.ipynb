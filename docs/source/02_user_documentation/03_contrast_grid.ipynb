{
 "cells": [
  {
   "cell_type": "markdown",
   "id": "36c9dc30",
   "metadata": {},
   "source": [
    "# Contrast Grid"
   ]
  },
  {
   "cell_type": "markdown",
   "id": "2f040bf7",
   "metadata": {},
   "source": [
    "<div style=\"text-align: justify\">\n",
    "Applefy provides two methods for calculating detection limits: **Analytical Contrast Curves** and **Contrast Grids**.\n",
    "\n",
    "This tutorial focuses on contrast grids, which are more computationally demanding, but yield more intuitive and reliable results. In addition, they are not limited to being used with linear PSF subtraction techniques (such as PCA).\n",
    "\n",
    "Contrast Grids indicate whether a planet would be detected based on its planet-to-star flux ratio and separation from the host star. All tests described in [the statistics subpackage](../../03_package/statistics.rst#applefy.statistics) can be used for the calculation. The result of a contrast grid **can be transformed into contrast curves** through thresholding.\n",
    "\n",
    "</div>"
   ]
  },
  {
   "cell_type": "markdown",
   "id": "9746bcc2",
   "metadata": {},
   "source": [
    "<div style=\"text-align: justify\">\n",
    "The following plot gives an example of a contrast grid computed with applefy. The image on the left shows a residual image obtained with PCA showing a fake planet. On the right the actual contrast grid is shown. The red box in the contrast grid marks the brightness and separation of the inserted fake planet. The color of the contrast grid is the detection uncertatinty (FPF) in terms of $\\sigma_{N}$. Planets with $> 5 \\sigma_{N}$ are easy to see by eye. Planets with less than $3 \\sigma_{N}$ are not detectable.\n",
    "\n",
    "<font color='red'>Click on the GIF animation to load the interactive version of the plot (~70 MB)</font>. \n",
    "</div>"
   ]
  },
  {
   "cell_type": "code",
   "execution_count": 1,
   "id": "77bf66d5",
   "metadata": {},
   "outputs": [
    {
     "data": {
      "text/html": [
       "<!DOCTYPE html>\n",
       "<html>\n",
       "  <head>\n",
       "    <style>\n",
       "      .spinner {\n",
       "        display: inline-block;\n",
       "        width: 50px;\n",
       "        height: 50px;\n",
       "        border: 3px solid #f3f3f3;\n",
       "        border-top: 3px solid #3498db;\n",
       "        border-radius: 50%;\n",
       "        animation: spin 1s linear infinite;\n",
       "      }\n",
       "\n",
       "      @keyframes spin {\n",
       "        0% { transform: rotate(0deg); }\n",
       "        100% { transform: rotate(360deg); }\n",
       "      }\n",
       "    </style>\n",
       "  </head>\n",
       "  <body>\n",
       "    <img src=\"Animation.gif\" object-fit=contain onclick=\"window.location.href='loading_page.html';\">\n",
       "  </body>\n",
       "</html>\n"
      ],
      "text/plain": [
       "<IPython.core.display.HTML object>"
      ]
     },
     "execution_count": 1,
     "metadata": {},
     "output_type": "execute_result"
    }
   ],
   "source": [
    "from IPython.display import HTML\n",
    "HTML('contrast_grid_animation.html')"
   ]
  },
  {
   "cell_type": "markdown",
   "id": "6bae462e",
   "metadata": {},
   "source": [
    "## Imports"
   ]
  },
  {
   "cell_type": "code",
   "execution_count": 2,
   "id": "b3112e94",
   "metadata": {},
   "outputs": [],
   "source": [
    "from pathlib import Path\n",
    "\n",
    "import seaborn as sns\n",
    "from scipy import interpolate\n",
    "import numpy as np\n",
    "import matplotlib.pyplot as plt\n",
    "import matplotlib.gridspec as gridspec\n",
    "\n",
    "from applefy.detections.contrast import Contrast\n",
    "\n",
    "from applefy.utils.photometry import AperturePhotometryMode\n",
    "from applefy.statistics import TTest, gaussian_sigma_2_fpf, \\\n",
    "    fpf_2_gaussian_sigma, LaplaceBootstrapTest\n",
    "\n",
    "from applefy.utils.file_handling import load_adi_data\n",
    "from applefy.utils import flux_ratio2mag, mag2flux_ratio"
   ]
  },
  {
   "cell_type": "markdown",
   "id": "25dbba58",
   "metadata": {},
   "source": [
    "## Demonstration Data"
   ]
  },
  {
   "cell_type": "markdown",
   "id": "d9c57ae5",
   "metadata": {},
   "source": [
    "The following tutorial shows how to compute contrast grids. The data used can be download [from Zenodo](../01_getting_started.md)."
   ]
  },
  {
   "cell_type": "code",
   "execution_count": 3,
   "id": "2d245154",
   "metadata": {},
   "outputs": [],
   "source": [
    "root_dir = Path(\"/home/ipa/quanz/user_accounts/mbonse/2021_Metrics/70_results/documentation_demos\")"
   ]
  },
  {
   "cell_type": "code",
   "execution_count": 4,
   "id": "43d1dbed",
   "metadata": {},
   "outputs": [],
   "source": [
    "dataset_config = {'file_path': Path('30_data/betapic_naco_lp_stack.hdf5'),\n",
    "                  'stack_key': \"stack_no_planet\",\n",
    "                  'psf_template_key': \"flux\",\n",
    "                  'parang_key': 'header_stack/PARANG',\n",
    "                  'dit_psf_template': 0.02019,\n",
    "                  'fwhm_size' : 4.2,\n",
    "                  'dit_science': 0.2}"
   ]
  },
  {
   "cell_type": "markdown",
   "id": "8c4fb6f8",
   "metadata": {},
   "source": [
    "In general we need three data arrays to compute contrast grids:\n",
    "- The **science sequence**: A 3D array with dimensions (time, x, y)\n",
    "- A list of **parallactic angles** for Angular Differentail Imaging (time)\n",
    "- A 2D **PSF-template** which is used to insert artificial planets and determine the detection limits.\n",
    "\n",
    "We load them from the demonstration  data. In order to save computation time we reduce the resolution of the science sequence by cutting around the central star."
   ]
  },
  {
   "cell_type": "code",
   "execution_count": 5,
   "id": "85965546",
   "metadata": {},
   "outputs": [],
   "source": [
    "# we need the psf template for contrast calculation\n",
    "science_data, angles, raw_psf_template_data = load_adi_data(\n",
    "    root_dir/dataset_config[\"file_path\"],\n",
    "    data_tag=dataset_config[\"stack_key\"],\n",
    "    psf_template_tag=dataset_config[\"psf_template_key\"],\n",
    "    para_tag=dataset_config[\"parang_key\"])\n",
    "\n",
    "dit_psf_template = dataset_config[\"dit_psf_template\"]\n",
    "dit_science = dataset_config[\"dit_science\"]\n",
    "fwhm = dataset_config[\"fwhm_size\"]\n",
    "\n",
    "psf_template = raw_psf_template_data[82:-82, 82:-82]\n",
    "science_data = science_data[:, 55:-55, 55:-55]"
   ]
  },
  {
   "cell_type": "markdown",
   "id": "c2f2597a",
   "metadata": {},
   "source": [
    "## How to compute a Contrast Grid?"
   ]
  },
  {
   "cell_type": "markdown",
   "id": "a5def9db",
   "metadata": {},
   "source": [
    "The main interface to calculate analytical contrast curves as well as contrast grids is the class [Contrast](../03_package/detections.rst#applefy.applefy.detections.contrast.Contrast). It takes the science sequence, parallactic angles and the PSF-template needed to run fake planet experiments. \n",
    "\n",
    "It further needs the FWHM of the PSF (can be calculated e.g. with [PynPoint](https://pynpoint.readthedocs.io/en/latest/) or\n",
    "[VIP](https://vip.readthedocs.io/en/latest/>)) as well as the DIT of both science sequence and PSF-template. \n",
    "\n",
    "A checkpoint directroy can be given to store intermediate results (such as residuals). Such a directroy is optional but allows to restore fake planet residuals at a later stage. More information can be found in the [API documnetation](../03_package/detections.rst#applefy.applefy.detections.contrast.Contrast)."
   ]
  },
  {
   "cell_type": "code",
   "execution_count": 6,
   "id": "e36b4d10",
   "metadata": {},
   "outputs": [],
   "source": [
    "contrast_instance = Contrast(\n",
    "    science_sequence=science_data,\n",
    "    psf_template=psf_template,\n",
    "    parang_rad=angles,\n",
    "    psf_fwhm_radius=fwhm / 2,\n",
    "    dit_psf_template=dit_psf_template,\n",
    "    dit_science=dit_science,\n",
    "    checkpoint_dir=root_dir / Path(\"70_results/contrast_grid\"))"
   ]
  },
  {
   "cell_type": "markdown",
   "id": "2b0aa12a",
   "metadata": {},
   "source": [
    "### Step 1: Design fake planet experiments"
   ]
  },
  {
   "cell_type": "markdown",
   "id": "b7e3c5e3",
   "metadata": {},
   "source": [
    "The first step is to **choose** at which **separations** and for which **planet brightnesses** we want to insert fake planets. By default, separations are selected in steps of 1 FWHM form the central star to the edge of the image. The brightness of the fake planets as to be selected manually ([more information](../03_package/detections.rst#applefy.applefy.detections.contrast.Contrast.design_fake_planet_experiments)).\n",
    "\n",
    "\n",
    "Note: The resolution we choose in this step will **determine the grid resolution of the contrast grid**."
   ]
  },
  {
   "cell_type": "code",
   "execution_count": 7,
   "id": "03c4dbf5",
   "metadata": {},
   "outputs": [
    {
     "name": "stdout",
     "output_type": "stream",
     "text": [
      "Brightness of fake planets in mag: [ 7.5  8.   8.5  9.   9.5 10.  10.5 11.  11.5 12. ]\n",
      "Planet-to-star flux ratio: [1.00000000e-03 6.30957344e-04 3.98107171e-04 2.51188643e-04\n",
      " 1.58489319e-04 1.00000000e-04 6.30957344e-05 3.98107171e-05\n",
      " 2.51188643e-05 1.58489319e-05]\n"
     ]
    }
   ],
   "source": [
    "# fake planet brightness\n",
    "flux_ratios_mag = np.linspace(7.5, 12, 10)\n",
    "flux_ratios = mag2flux_ratio(flux_ratios_mag)\n",
    "\n",
    "print(\"Brightness of fake planets in mag: \" + str(flux_ratios_mag))\n",
    "print(\"Planet-to-star flux ratio: \" + str(flux_ratios))"
   ]
  },
  {
   "cell_type": "markdown",
   "id": "b4b34b1b",
   "metadata": {},
   "source": [
    "For each cell in the contrast grid we calculate *num_fake_planets* (between min=1 and max=6) fake planet residuals."
   ]
  },
  {
   "cell_type": "code",
   "execution_count": 8,
   "id": "849592a3",
   "metadata": {},
   "outputs": [
    {
     "name": "stdout",
     "output_type": "stream",
     "text": [
      "Overwriting existing config files.\n"
     ]
    }
   ],
   "source": [
    "num_fake_planets = 3\n",
    "\n",
    "contrast_instance.design_fake_planet_experiments(\n",
    "    flux_ratios=flux_ratios,\n",
    "    num_planets=num_fake_planets,\n",
    "    overwrite=True)"
   ]
  },
  {
   "cell_type": "markdown",
   "id": "469cd240",
   "metadata": {},
   "source": [
    "## Step 2: Run fake planet experiments"
   ]
  },
  {
   "cell_type": "markdown",
   "id": "6d65b480",
   "metadata": {},
   "source": [
    "As a next step we **insert fake planetes** and **run data reduction** algorithms to obtain several residual images. Applefy allows to compute contrast grids with different post-processing algorithms. However, it does not come with any implementation of these techniques. Instead, we use existing implementations in packages like\n",
    "[PynPoint](https://pynpoint.readthedocs.io/en/latest/) or\n",
    "[VIP](https://vip.readthedocs.io/en/latest/>). See [wrappers](../03_package/wrappers.rst) for more information.\n",
    "\n",
    "In the following we use a **classical full-frame PCA** to compute the residuals. But applefy can be used with any other data-reduction algorithm.\n",
    "\n",
    "Typically, detection limits depend on the choice of post-processing hyper-parameters (e.g. the number of PCA components). Applefy allows you to compute contrast grids for several hyperparameter choices simultaneously."
   ]
  },
  {
   "cell_type": "markdown",
   "id": "65676d2b",
   "metadata": {},
   "source": [
    "Here is an example of how to use the wrapper to run fake planet experiments **with PynPoint** (requires a checkpoint_dir)."
   ]
  },
  {
   "cell_type": "code",
   "execution_count": 9,
   "id": "0e2f843c",
   "metadata": {},
   "outputs": [],
   "source": [
    "from applefy.wrappers.pynpoint import MultiComponentPCAPynPoint"
   ]
  },
  {
   "cell_type": "code",
   "execution_count": 10,
   "id": "21c39913",
   "metadata": {},
   "outputs": [],
   "source": [
    "components = [5, 10, 20, 30, 50]"
   ]
  },
  {
   "cell_type": "code",
   "execution_count": 11,
   "id": "d437b53c",
   "metadata": {},
   "outputs": [],
   "source": [
    "algorithm_function = MultiComponentPCAPynPoint(\n",
    "    num_pcas=components,\n",
    "    scratch_dir=contrast_instance.scratch_dir,\n",
    "    num_cpus_pynpoint=1)"
   ]
  },
  {
   "cell_type": "markdown",
   "id": "679030d1",
   "metadata": {},
   "source": [
    "Here is an example of how to use the wrapper to run fake planet experiments **with VIP**."
   ]
  },
  {
   "cell_type": "code",
   "execution_count": null,
   "id": "c893cddf",
   "metadata": {
    "scrolled": true
   },
   "outputs": [],
   "source": [
    "from applefy.wrappers.vip import MultiComponentPCAvip"
   ]
  },
  {
   "cell_type": "code",
   "execution_count": 21,
   "id": "17813ac4",
   "metadata": {},
   "outputs": [],
   "source": [
    "algorithm_function = MultiComponentPCAvip(\n",
    "    num_pcas_tuple=(5, 50, 10))"
   ]
  },
  {
   "cell_type": "markdown",
   "id": "bed92539",
   "metadata": {},
   "source": [
    "Applefy can run multiple fake planet experiments in parallel. If a checkpoint_dir is specified, all residuals will be saved as .fits files. Already existing residuals are restored from the checkpoint_dir."
   ]
  },
  {
   "cell_type": "code",
   "execution_count": 12,
   "id": "5c1061d3",
   "metadata": {},
   "outputs": [
    {
     "name": "stdout",
     "output_type": "stream",
     "text": [
      "Running fake planet experiments..."
     ]
    },
    {
     "name": "stderr",
     "output_type": "stream",
     "text": [
      "100%|█████████████████████████████████████████████████████████████████████████████████████████████████████████████████████████████████████████████████████████████████████| 241/241 [00:05<00:00, 43.34it/s]\n"
     ]
    },
    {
     "name": "stdout",
     "output_type": "stream",
     "text": [
      "[DONE]\n"
     ]
    }
   ],
   "source": [
    "contrast_instance.run_fake_planet_experiments(\n",
    "    algorithm_function=algorithm_function,\n",
    "    num_parallel=32)"
   ]
  },
  {
   "cell_type": "markdown",
   "id": "ec605bef",
   "metadata": {},
   "source": [
    "## Step 3: Compute the contrast grid"
   ]
  },
  {
   "cell_type": "markdown",
   "id": "d6c14c66",
   "metadata": {},
   "source": [
    "Once all fake planet experiments are finished we can **compute the contrast grid**. For this we have to choose:\n",
    "- What is signal and what is noise, i.e. **how we measure the photometry** of the noise observations and the signal of the fake planets. Applefy allows to use aperture sums and spaced pixel values. A discussion about when to use what is given in (Bonse et al. 2023). More details are given in the API [documentation](../03_package/utils.rst#applefy.utils.photometry.AperturePhotometryMode)."
   ]
  },
  {
   "cell_type": "code",
   "execution_count": 16,
   "id": "da5df798",
   "metadata": {},
   "outputs": [],
   "source": [
    "# Use spaced pixel values\n",
    "photometry_mode_planet = AperturePhotometryMode(\n",
    "    \"FS\", # or \"P\"\n",
    "    psf_fwhm_radius=fwhm/2, \n",
    "    search_area=0.5)\n",
    "photometry_mode_noise = AperturePhotometryMode(\n",
    "    \"P\", \n",
    "    psf_fwhm_radius=fwhm/2)"
   ]
  },
  {
   "cell_type": "code",
   "execution_count": 15,
   "id": "8969c206",
   "metadata": {},
   "outputs": [],
   "source": [
    "# Use apertures pixel values\n",
    "photometry_mode_planet = AperturePhotometryMode(\n",
    "    \"AS\", # or \"ASS\"\n",
    "    psf_fwhm_radius=fwhm/2, \n",
    "    search_area=0.5)\n",
    "\n",
    "photometry_mode_noise = AperturePhotometryMode(\n",
    "    \"AS\",\n",
    "    psf_fwhm_radius=fwhm/2)"
   ]
  },
  {
   "cell_type": "code",
   "execution_count": 14,
   "id": "5a4186b3",
   "metadata": {},
   "outputs": [],
   "source": [
    "contrast_instance.prepare_contrast_results(\n",
    "    photometry_mode_planet=photometry_mode_planet,\n",
    "    photometry_mode_noise=photometry_mode_noise)"
   ]
  },
  {
   "cell_type": "markdown",
   "id": "806503b6",
   "metadata": {},
   "source": [
    "- Which statistical test we want to use i.e. what type of noise we assume for our residual images."
   ]
  },
  {
   "cell_type": "markdown",
   "id": "fc5568c5",
   "metadata": {},
   "source": [
    "**Option 1:** The classical [t-test](../03_package/statistics.rst#applefy.statistics.parametric.TTest) as discussed in Mawet et al. 2014 (assumes **Gaussian residual noise**)."
   ]
  },
  {
   "cell_type": "code",
   "execution_count": 17,
   "id": "62081a59",
   "metadata": {},
   "outputs": [],
   "source": [
    "statistical_test = TTest()"
   ]
  },
  {
   "cell_type": "markdown",
   "id": "d27fa215",
   "metadata": {},
   "source": [
    "**Option 2:** The [Parametric Bootstrap](../03_package/statistics.rst#applefy.statistics.bootstrapping.LaplaceBootstrapTest) test as discussed in Bonse et al. 2023 (assumes **Laplacian residual noise**). You can download the lookup [from Zenodo](../01_getting_started.md)."
   ]
  },
  {
   "cell_type": "code",
   "execution_count": null,
   "id": "596dca1c",
   "metadata": {},
   "outputs": [],
   "source": [
    "statistical_test = LaplaceBootstrapTest.construct_from_json_file(\"file/to/lookup_table\")"
   ]
  },
  {
   "cell_type": "markdown",
   "id": "3c8d4b3c",
   "metadata": {},
   "source": [
    "The contrast grid can again be calculated using multiprocessing."
   ]
  },
  {
   "cell_type": "code",
   "execution_count": null,
   "id": "d1236688",
   "metadata": {},
   "outputs": [
    {
     "name": "stdout",
     "output_type": "stream",
     "text": [
      "Computing contrast grid for PCA (005 components)\n",
      "Computing contrast grid with multiprocessing:\n",
      "................................................................................[DONE]\n",
      "Computing contrast grid for PCA (010 components)\n",
      "Computing contrast grid with multiprocessing:\n",
      "................"
     ]
    }
   ],
   "source": [
    "contrast_curves_grid, contrast_grids = contrast_instance.compute_contrast_grids(\n",
    "    statistical_test=statistical_test,\n",
    "    num_cores=32,\n",
    "    confidence_level_fpf=gaussian_sigma_2_fpf(5),\n",
    "    num_rot_iter=20,\n",
    "    safety_margin=2.0,\n",
    "    pixel_scale=0.02718)"
   ]
  },
  {
   "cell_type": "markdown",
   "id": "35346ac1",
   "metadata": {},
   "source": [
    "We get two outputs:\n",
    "- A dict which contains the contrast grids (one for each number of PCA components).\n",
    "- A Pandas table showing the contrast curves obtained by thresholding the contrast grids."
   ]
  },
  {
   "cell_type": "code",
   "execution_count": null,
   "id": "fb7b6e38",
   "metadata": {},
   "outputs": [],
   "source": [
    "contrast_curves_grid"
   ]
  },
  {
   "cell_type": "markdown",
   "id": "9a4d15a1",
   "metadata": {},
   "source": [
    "## Plot the Contrast Grid"
   ]
  },
  {
   "cell_type": "markdown",
   "id": "fbd50ef1",
   "metadata": {},
   "source": [
    "The following code gives an example for how to plot a contrast grid."
   ]
  },
  {
   "cell_type": "code",
   "execution_count": null,
   "id": "d92275c7",
   "metadata": {},
   "outputs": [],
   "source": [
    "example_grid = contrast_grids[\"PCA (030 components)\"]\n",
    "\n",
    "# convert FPF to Gaussian Sigma\n",
    "example_grid = example_grid.applymap(fpf_2_gaussian_sigma) \n",
    "\n",
    "# convert flux_ratio to mag\n",
    "example_grid.index = flux_ratio2mag(example_grid.index)\n",
    "example_grid"
   ]
  },
  {
   "cell_type": "code",
   "execution_count": null,
   "id": "cd0014fa",
   "metadata": {},
   "outputs": [],
   "source": [
    "def plot_contrast_grid(\n",
    "    contrast_grid_axis,\n",
    "    colorbar_axis,\n",
    "    contrast_grid):\n",
    "    \n",
    "    c_bar_kargs = dict(\n",
    "        orientation = \"vertical\",\n",
    "        label = r\"Confidence [$\\sigma_{\\mathcal{N}}$]\")\n",
    "    \n",
    "    heat = sns.heatmap(\n",
    "        contrast_grid,\n",
    "        vmax=2, vmin=7, \n",
    "        annot=True,\n",
    "        cmap=\"YlGnBu\",\n",
    "        ax=contrast_grid_axis,\n",
    "        cbar_ax=colorbar_axis,\n",
    "        cbar_kws=c_bar_kargs)\n",
    "    \n",
    "    ylabels = ['{:.1f}'.format(float(x.get_text())) \n",
    "               for x in heat.get_yticklabels()]\n",
    "    _=heat.set_yticklabels(ylabels)"
   ]
  },
  {
   "cell_type": "code",
   "execution_count": null,
   "id": "3fd65505",
   "metadata": {},
   "outputs": [],
   "source": [
    "fig = plt.figure(figsize=(8, 4))\n",
    "\n",
    "gs0 = fig.add_gridspec(1, 1)\n",
    "gs0.update(wspace=0.0, hspace=0.2)\n",
    "gs1 = gridspec.GridSpecFromSubplotSpec(\n",
    "    1, 2, subplot_spec = gs0[0], \n",
    "    wspace=0.05, width_ratios=[1, 0.03])\n",
    "\n",
    "# All axis we need\n",
    "contrast_ax = fig.add_subplot(gs1[0])\n",
    "colorbar_ax = fig.add_subplot(gs1[1])\n",
    "\n",
    "# Plot the contrast grid\n",
    "plot_contrast_grid(\n",
    "    contrast_grid_axis=contrast_ax,\n",
    "    colorbar_axis=colorbar_ax,\n",
    "    contrast_grid=example_grid)\n",
    "\n",
    "colorbar_ax.yaxis.label.set_size(14)\n",
    "\n",
    "contrast_ax.set_ylabel(\n",
    "    \"Contrast - $c = f_p / f_*$ - [mag]\", size=14)\n",
    "contrast_ax.set_xlabel(\n",
    "    r\"Separation [FWHM]\", size=14)\n",
    "contrast_ax.set_title(\n",
    "    \"Contrast Grid with 30 PCA components\", \n",
    "    fontsize=16, \n",
    "    fontweight=\"bold\", \n",
    "    y=1.03)\n",
    "\n",
    "contrast_ax.tick_params(\n",
    "    axis='both', \n",
    "    which='major', \n",
    "    labelsize=12)\n",
    "\n",
    "# Save the figure\n",
    "fig.patch.set_facecolor('white')"
   ]
  },
  {
   "cell_type": "markdown",
   "id": "f24bb6ee",
   "metadata": {},
   "source": [
    "## Plot the contrast curves"
   ]
  },
  {
   "cell_type": "markdown",
   "id": "7c09fe6f",
   "metadata": {},
   "source": [
    "The following code shows how we can plot and compare the contrast curves for different numbers of PCA components."
   ]
  },
  {
   "cell_type": "code",
   "execution_count": null,
   "id": "1bff190e",
   "metadata": {},
   "outputs": [],
   "source": [
    "# compute the overall best contrast curve\n",
    "overall_best = np.min(contrast_curves_grid.values, axis=1)"
   ]
  },
  {
   "cell_type": "code",
   "execution_count": null,
   "id": "be65f187",
   "metadata": {},
   "outputs": [],
   "source": [
    "# Find one color for each number of PCA components used.\n",
    "colors = sns.color_palette(\n",
    "    \"rocket_r\", \n",
    "    n_colors=len(contrast_curves_grid.columns))\n",
    "colors"
   ]
  },
  {
   "cell_type": "code",
   "execution_count": null,
   "id": "72ab850b",
   "metadata": {},
   "outputs": [],
   "source": [
    "separations_arcsec = contrast_curves_grid.reset_index(level=0).index\n",
    "separations_FWHM = contrast_curves_grid.reset_index(level=1).index"
   ]
  },
  {
   "cell_type": "code",
   "execution_count": null,
   "id": "bf773bfe",
   "metadata": {},
   "outputs": [],
   "source": [
    "# 1.) Create Plot Layout\n",
    "fig = plt.figure(constrained_layout=False, figsize=(12, 8))\n",
    "gs0 = fig.add_gridspec(1, 1)\n",
    "axis_contrast_curvse = fig.add_subplot(gs0[0, 0])\n",
    "\n",
    "\n",
    "# ---------------------- Create the Plot --------------------\n",
    "i = 0 # color picker\n",
    "\n",
    "for tmp_model in contrast_curves_grid.columns:\n",
    "    \n",
    "    num_components = int(tmp_model[6:9])\n",
    "    tmp_flux_ratios = contrast_curves_grid.reset_index(\n",
    "        level=0)[tmp_model].values\n",
    "    \n",
    "    axis_contrast_curvse.plot(separations_arcsec,\n",
    "                              tmp_flux_ratios,\n",
    "                              color = colors[i],\n",
    "                              label=num_components)\n",
    "    i+=1\n",
    "    \n",
    "axis_contrast_curvse.set_yscale(\"log\")\n",
    "# ------------ Plot the overall best -------------------------\n",
    "axis_contrast_curvse.plot(\n",
    "    separations_arcsec,\n",
    "    overall_best,\n",
    "    color = \"blue\",\n",
    "    lw=3,\n",
    "    ls=\"--\",\n",
    "    label=\"Best\")\n",
    "\n",
    "# ------------- Double axis and limits -----------------------\n",
    "lim_mag_y = (11, 8)\n",
    "lim_arcsec_x = (0.3, 0.95)\n",
    "sep_lambda_arcse = interpolate.interp1d(\n",
    "    separations_arcsec, \n",
    "    separations_FWHM, \n",
    "    fill_value='extrapolate')\n",
    "\n",
    "axis_contrast_curvse_mag = axis_contrast_curvse.twinx()\n",
    "axis_contrast_curvse_mag.plot(\n",
    "    separations_arcsec,\n",
    "    flux_ratio2mag(tmp_flux_ratios),\n",
    "    alpha=0.)\n",
    "axis_contrast_curvse_mag.invert_yaxis()\n",
    "\n",
    "axis_contrast_curvse_lambda = axis_contrast_curvse.twiny()\n",
    "axis_contrast_curvse_lambda.plot(\n",
    "    separations_FWHM,\n",
    "    tmp_flux_ratios,\n",
    "    alpha=0.)\n",
    "\n",
    "axis_contrast_curvse.grid(which='both')\n",
    "axis_contrast_curvse_mag.set_ylim(*lim_mag_y)\n",
    "axis_contrast_curvse.set_ylim(\n",
    "    mag2flux_ratio(lim_mag_y[0]), \n",
    "    mag2flux_ratio(lim_mag_y[1]))\n",
    "\n",
    "axis_contrast_curvse.set_xlim(\n",
    "    *lim_arcsec_x)\n",
    "axis_contrast_curvse_mag.set_xlim(\n",
    "    *lim_arcsec_x)\n",
    "axis_contrast_curvse_lambda.set_xlim(\n",
    "    *sep_lambda_arcse(lim_arcsec_x))\n",
    "\n",
    "# ----------- Labels and fontsizes --------------------------\n",
    "\n",
    "axis_contrast_curvse.set_xlabel(\n",
    "    r\"Separation [arcsec]\", size=16)\n",
    "axis_contrast_curvse_lambda.set_xlabel(\n",
    "    r\"Separation [FWHM]\", size=16)\n",
    "\n",
    "axis_contrast_curvse.set_ylabel(\n",
    "    r\"Planet-to-star flux ratio\", size=16)\n",
    "axis_contrast_curvse_mag.set_ylabel(\n",
    "    r\"$\\Delta$ Magnitude\", size=16)\n",
    "\n",
    "axis_contrast_curvse.tick_params(\n",
    "    axis='both', which='major', labelsize=14)\n",
    "axis_contrast_curvse_lambda.tick_params(\n",
    "    axis='both', which='major', labelsize=14)\n",
    "axis_contrast_curvse_mag.tick_params(\n",
    "    axis='both', which='major', labelsize=14)\n",
    "\n",
    "axis_contrast_curvse_mag.set_title(\n",
    "    r\"$5 \\sigma_{\\mathcal{N}}$ Contrast Curves\",\n",
    "    fontsize=18, fontweight=\"bold\", y=1.1)\n",
    "\n",
    "# --------------------------- Legend -----------------------\n",
    "handles, labels = axis_contrast_curvse.\\\n",
    "    get_legend_handles_labels()\n",
    "\n",
    "leg1 = fig.legend(handles, labels, \n",
    "                  bbox_to_anchor=(0.22, -0.08), \n",
    "                  fontsize=14, \n",
    "                  title=\"# PCA components\",\n",
    "                  loc='lower left', ncol=8)\n",
    "\n",
    "_=plt.setp(leg1.get_title(),fontsize=14)"
   ]
  },
  {
   "cell_type": "markdown",
   "id": "1938595e",
   "metadata": {},
   "source": [
    "As you can see the number of PCA components used has a large effect on the contrast curves. We can use our analysis reverse to determine the best number of PCA components as a function of separation."
   ]
  },
  {
   "cell_type": "markdown",
   "id": "9ec09442",
   "metadata": {},
   "source": [
    "## Best number of PCA components"
   ]
  },
  {
   "cell_type": "code",
   "execution_count": null,
   "id": "5c04ab48",
   "metadata": {},
   "outputs": [],
   "source": [
    "plt.figure(figsize=(12, 8))\n",
    "\n",
    "plt.plot(separations_arcsec, \n",
    "         np.array(components)[np.argmin(\n",
    "             contrast_curves_grid.values, \n",
    "             axis=1)],)\n",
    "\n",
    "plt.title(r\"Best number of PCA components\",\n",
    "          fontsize=18, fontweight=\"bold\", y=1.1)\n",
    "\n",
    "plt.tick_params(axis='both', which='major', labelsize=14)\n",
    "plt.xlabel(\"Separation [arcsec]\", fontsize=16)\n",
    "plt.ylabel(\"Number of PCA components\", fontsize=16)\n",
    "\n",
    "plt.grid()\n",
    "ax2 = plt.twiny()\n",
    "ax2.plot(separations_FWHM, \n",
    "         np.array(components)[\n",
    "             np.argmin(contrast_curves_grid.values, axis=1)],)\n",
    "ax2.set_xlabel(\"Separation [FWHM]\", fontsize=16)\n",
    "ax2.tick_params(axis='both', which='major', labelsize=14)"
   ]
  }
 ],
 "metadata": {
  "kernelspec": {
   "display_name": "Python 3 (ipykernel)",
   "language": "python",
   "name": "python3"
  },
  "language_info": {
   "codemirror_mode": {
    "name": "ipython",
    "version": 3
   },
   "file_extension": ".py",
   "mimetype": "text/x-python",
   "name": "python",
   "nbconvert_exporter": "python",
   "pygments_lexer": "ipython3",
   "version": "3.8.10"
  }
 },
 "nbformat": 4,
 "nbformat_minor": 5
}
