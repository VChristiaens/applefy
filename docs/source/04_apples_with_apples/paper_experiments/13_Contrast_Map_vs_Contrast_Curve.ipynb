{
 "cells": [
  {
   "cell_type": "code",
   "execution_count": 1,
   "id": "0a849859",
   "metadata": {},
   "outputs": [
    {
     "name": "stdout",
     "output_type": "stream",
     "text": [
      "Found installation of parallel_sort and use it.\n"
     ]
    }
   ],
   "source": [
    "import os\n",
    "import json\n",
    "import numpy as np\n",
    "import pandas as pd\n",
    "import matplotlib.pyplot as plt\n",
    "import matplotlib.gridspec as gridspec\n",
    "import matplotlib.patches as patches\n",
    "import seaborn as sns\n",
    "from tqdm import tqdm\n",
    "\n",
    "\n",
    "from apelfei.statistics.general import fpf_2_gaussian_sigma, gaussian_sigma_2_fpf\n",
    "from apelfei.utils import center_subpixel\n",
    "from apelfei.utils.data_handling import load_adi_data\n",
    "from apelfei.utils.aperture_photometry import flux_ratio2mag, mag2flux_ratio, AperturePhotometryMode\n",
    "from apelfei.utils.aperture_positions import estimate_reference_positions\n",
    "\n",
    "from apelfei.contrast import collect_all_data_setup_configs, ContrastResults, estimate_stellar_flux,\\\n",
    "    read_and_sort_results, compute_detection_confidence\n",
    "from apelfei.statistics.parametric import TTest"
   ]
  },
  {
   "cell_type": "markdown",
   "id": "aea462a5",
   "metadata": {},
   "source": [
    "## This Code is About"
   ]
  },
  {
   "cell_type": "markdown",
   "id": "9acb3c85",
   "metadata": {},
   "source": [
    "This code shows an alternative to contrast curves which allows to compute contrast limits: The contrast map. The code calculate the results and gives the Figure 13 in the paper."
   ]
  },
  {
   "cell_type": "markdown",
   "id": "41752e59",
   "metadata": {},
   "source": [
    "## Load all config files and residuals"
   ]
  },
  {
   "cell_type": "code",
   "execution_count": 2,
   "id": "04f8f52d",
   "metadata": {},
   "outputs": [],
   "source": [
    "experiment_root = \"../../../70_results/part1/detection_limits/Beta_Pic_non_stacked/\""
   ]
  },
  {
   "cell_type": "code",
   "execution_count": 3,
   "id": "30a1d9af",
   "metadata": {},
   "outputs": [],
   "source": [
    "all_configs = collect_all_data_setup_configs(os.path.join(experiment_root, \n",
    "                                                          \"configs_cmap\"))"
   ]
  },
  {
   "cell_type": "code",
   "execution_count": 4,
   "id": "15ba8dd2",
   "metadata": {},
   "outputs": [
    {
     "name": "stdout",
     "output_type": "stream",
     "text": [
      "Found algorithm config file for method pca_005\n",
      "Collecting residuals...\n",
      "[DONE] - Found 2017 residuals.\n",
      "Found algorithm config file for method pca_010\n",
      "Collecting residuals...\n",
      "[DONE] - Found 2017 residuals.\n",
      "Found algorithm config file for method pca_020\n",
      "Collecting residuals...\n",
      "[DONE] - Found 2017 residuals.\n",
      "Found algorithm config file for method pca_030\n",
      "Collecting residuals...\n",
      "[DONE] - Found 2017 residuals.\n",
      "Found algorithm config file for method pca_040\n",
      "Collecting residuals...\n",
      "[DONE] - Found 2017 residuals.\n",
      "Found algorithm config file for method pca_050\n",
      "Collecting residuals...\n",
      "[DONE] - Found 2017 residuals.\n",
      "Found algorithm config file for method pca_075\n",
      "Collecting residuals...\n",
      "[DONE] - Found 2017 residuals.\n",
      "Found algorithm config file for method pca_100\n",
      "Collecting residuals...\n",
      "[DONE] - Found 2017 residuals.\n"
     ]
    }
   ],
   "source": [
    "# collect all the residual files with configs\n",
    "all_method_results = dict()\n",
    "algorithm_config_dir = os.path.join(experiment_root, \"configs_algo\")\n",
    "\n",
    "for tmp_file in sorted(os.listdir(algorithm_config_dir)):\n",
    "    # ignore system files\n",
    "    if tmp_file.startswith(\".\"):\n",
    "        continue\n",
    "\n",
    "    tmp_algo_config_file = os.path.join(algorithm_config_dir, tmp_file)\n",
    "    with open(tmp_algo_config_file) as json_file:\n",
    "        tmp_algorithm_config = json.load(json_file)\n",
    "    \n",
    "    tmp_algo = tmp_algorithm_config['method_name']\n",
    "    print(\"Found algorithm config file for method \" + str(tmp_algo))\n",
    "    print(\"Collecting residuals...\")\n",
    "    \n",
    "    # Loop over all fake planet experiments\n",
    "    tmp_all_results = []\n",
    "    for tmp_config in all_configs:\n",
    "        tmp_id, tmp_cmap_config_file = tmp_config\n",
    "        \n",
    "        tmp_residual_file = os.path.join(experiment_root, \n",
    "                                         \"pca_residuals\",\n",
    "                                         tmp_algo +\"_ID_\" + tmp_id + \".fits\")\n",
    "                  \n",
    "        # save residual and config file paths\n",
    "        tmp_all_results.append((tmp_cmap_config_file, tmp_residual_file))\n",
    "        \n",
    "    print(\"[DONE] - Found \" + str(len(tmp_all_results)) + \" residuals.\")\n",
    "    all_method_results[tmp_algo] = tmp_all_results"
   ]
  },
  {
   "cell_type": "markdown",
   "id": "6e11d1f6",
   "metadata": {},
   "source": [
    "## Read the data for the PSF template data"
   ]
  },
  {
   "cell_type": "code",
   "execution_count": 5,
   "id": "0f3e698a",
   "metadata": {},
   "outputs": [],
   "source": [
    "dataset_json_file = os.path.join(experiment_root, \"dataset.json\")\n",
    "config_dir = os.path.join(experiment_root, \"configs_cmap\")\n",
    "algo_config_root = os.path.join(experiment_root, \"configs_algo\")\n",
    "residual_result_dir = os.path.join(experiment_root, \"pca_residuals\")\n",
    "\n",
    "with open(dataset_json_file) as json_file:\n",
    "    tmp_dataset_config = json.load(json_file)"
   ]
  },
  {
   "cell_type": "code",
   "execution_count": 6,
   "id": "5055e22c",
   "metadata": {},
   "outputs": [],
   "source": [
    "# we need the psf template for contrast calculation\n",
    "science_data, _, raw_psf_template_data = load_adi_data(tmp_dataset_config[\"file_path\"],\n",
    "                                                       data_tag=tmp_dataset_config[\"stack_key\"],\n",
    "                                                       psf_template_tag=tmp_dataset_config[\"psf_template_key\"],\n",
    "                                                       para_tag=tmp_dataset_config[\"parang_key\"])\n",
    "\n",
    "dit_psf_template = tmp_dataset_config[\"dit_psf_template\"]\n",
    "dit_science = tmp_dataset_config[\"dit_science\"]"
   ]
  },
  {
   "cell_type": "code",
   "execution_count": 7,
   "id": "f8f5bf88",
   "metadata": {},
   "outputs": [],
   "source": [
    "# Cut the data to the innermost 8 lambda / D\n",
    "crop_science = tmp_dataset_config[\"crop_science\"]\n",
    "crop_template = tmp_dataset_config[\"crop_template\"]\n",
    "\n",
    "science_data = science_data[:,\n",
    "                            crop_science:-crop_science,\n",
    "                            crop_science:-crop_science]\n",
    "\n",
    "psf_template_data = raw_psf_template_data[crop_template:-crop_template, \n",
    "                                          crop_template:-crop_template]\n",
    "\n",
    "test_frame = science_data[0, :, :]"
   ]
  },
  {
   "cell_type": "markdown",
   "id": "f5184f47",
   "metadata": {},
   "source": [
    "## Create the Contrast Evaluator - photometry on pixel"
   ]
  },
  {
   "cell_type": "code",
   "execution_count": 8,
   "id": "3ef0e3e2",
   "metadata": {},
   "outputs": [],
   "source": [
    "photometry_mode_planet = AperturePhotometryMode(\"FS\", search_area=0.5)\n",
    "photometry_mode_noise = AperturePhotometryMode(\"P\")"
   ]
  },
  {
   "cell_type": "code",
   "execution_count": 9,
   "id": "3153f013",
   "metadata": {},
   "outputs": [],
   "source": [
    "# 1.) Compute the stellar flux\n",
    "stellar_flux = estimate_stellar_flux(\n",
    "    psf_template=psf_template_data,\n",
    "    dit_science=tmp_dataset_config[\"dit_science\"],\n",
    "    dit_psf_template=tmp_dataset_config[\"dit_psf_template\"],\n",
    "    photometry_mode=photometry_mode_planet,\n",
    "    scaling_factor=1.)"
   ]
  },
  {
   "cell_type": "code",
   "execution_count": 10,
   "id": "a2935cbf",
   "metadata": {},
   "outputs": [
    {
     "name": "stdout",
     "output_type": "stream",
     "text": [
      "pca_005\n",
      "pca_010\n",
      "pca_020\n",
      "pca_030\n",
      "pca_040\n",
      "pca_050\n",
      "pca_075\n",
      "pca_100\n"
     ]
    }
   ],
   "source": [
    "contrast_results = dict()\n",
    "\n",
    "for pca_setup, result_files in all_method_results.items():\n",
    "    print(pca_setup)\n",
    "    tmp_contrast_result = ContrastResults(model_results_in=result_files,\n",
    "                                          stellar_flux=stellar_flux,\n",
    "                                          planet_photometry_mode=photometry_mode_planet,\n",
    "                                          noise_photometry_mode=photometry_mode_noise,\n",
    "                                          psf_fwhm_radius=2.1)\n",
    "    contrast_results[pca_setup] = tmp_contrast_result"
   ]
  },
  {
   "cell_type": "code",
   "execution_count": 11,
   "id": "bccf683a",
   "metadata": {},
   "outputs": [],
   "source": [
    "contrast_result1 = contrast_results[\"pca_010\"]\n",
    "contrast_result2 = contrast_results[\"pca_050\"]"
   ]
  },
  {
   "cell_type": "markdown",
   "id": "1a819d97",
   "metadata": {},
   "source": [
    "## Compute the contrast curves"
   ]
  },
  {
   "cell_type": "code",
   "execution_count": 12,
   "id": "ddf038c9",
   "metadata": {},
   "outputs": [],
   "source": [
    "ttest_statistic = TTest()"
   ]
  },
  {
   "cell_type": "code",
   "execution_count": 13,
   "id": "a6e85a15",
   "metadata": {},
   "outputs": [
    {
     "name": "stderr",
     "output_type": "stream",
     "text": [
      "100%|███████████████████████████████████████████████████████████████████████████████████████████████████████████████████████████████████████████████████████████████████████| 16/16 [04:48<00:00, 18.05s/it]\n"
     ]
    }
   ],
   "source": [
    "median_contrast_1, contrast_error_1 = contrast_result1.compute_contrast_curve(\n",
    "    confidence_level_fpf=gaussian_sigma_2_fpf(5),\n",
    "    test_statistic=ttest_statistic,\n",
    "    num_rot_iterations=360)"
   ]
  },
  {
   "cell_type": "code",
   "execution_count": 14,
   "id": "94d3f697",
   "metadata": {},
   "outputs": [
    {
     "name": "stderr",
     "output_type": "stream",
     "text": [
      "100%|███████████████████████████████████████████████████████████████████████████████████████████████████████████████████████████████████████████████████████████████████████| 16/16 [04:52<00:00, 18.27s/it]\n"
     ]
    }
   ],
   "source": [
    "median_contrast_2, contrast_error_2 = contrast_result2.compute_contrast_curve(\n",
    "    confidence_level_fpf=gaussian_sigma_2_fpf(5),\n",
    "    test_statistic=ttest_statistic,\n",
    "    num_rot_iterations=360)"
   ]
  },
  {
   "cell_type": "markdown",
   "id": "d1e1e5f9",
   "metadata": {},
   "source": [
    "## Compute the Contrast map"
   ]
  },
  {
   "cell_type": "code",
   "execution_count": 15,
   "id": "66541441",
   "metadata": {},
   "outputs": [
    {
     "name": "stdout",
     "output_type": "stream",
     "text": [
      "Computing contrast map with multiprocessing:\n",
      "................................................................................................................................................................................................................................................................................................................................................[DONE]\n"
     ]
    }
   ],
   "source": [
    "contrast_map1, contrast_map_curve1 = contrast_result1.compute_contrast_map(\n",
    "    test_statistic=ttest_statistic,\n",
    "    num_cores=120,\n",
    "    num_rot_iter=20,\n",
    "    safety_margin=1.0,\n",
    "    contrast_curve_fpf=gaussian_sigma_2_fpf(5))"
   ]
  },
  {
   "cell_type": "code",
   "execution_count": 16,
   "id": "b879b49a",
   "metadata": {},
   "outputs": [
    {
     "name": "stdout",
     "output_type": "stream",
     "text": [
      "Computing contrast map with multiprocessing:\n",
      "................................................................................................................................................................................................................................................................................................................................................[DONE]\n"
     ]
    }
   ],
   "source": [
    "contrast_map2, contrast_map_curve2 = contrast_result2.compute_contrast_map(\n",
    "    test_statistic=ttest_statistic,\n",
    "    num_cores=120,\n",
    "    num_rot_iter=20,\n",
    "    safety_margin=1.0,\n",
    "    contrast_curve_fpf=gaussian_sigma_2_fpf(5))"
   ]
  },
  {
   "cell_type": "markdown",
   "id": "8357d238",
   "metadata": {},
   "source": [
    "## Create the Plot"
   ]
  },
  {
   "cell_type": "code",
   "execution_count": 17,
   "id": "b12fc534",
   "metadata": {},
   "outputs": [
    {
     "data": {
      "text/plain": [
       "[(0.8705882352941177, 0.5607843137254902, 0.0196078431372549),\n",
       " (0.9254901960784314, 0.8823529411764706, 0.2)]"
      ]
     },
     "execution_count": 17,
     "metadata": {},
     "output_type": "execute_result"
    }
   ],
   "source": [
    "color_palette = [sns.color_palette(\"colorblind\")[1],\n",
    "                 sns.color_palette(\"colorblind\")[8]]\n",
    "\n",
    "#color_palette = sns.color_palette(\"hls\", 2)\n",
    "color_palette"
   ]
  },
  {
   "cell_type": "code",
   "execution_count": 18,
   "id": "3d082f9a",
   "metadata": {},
   "outputs": [],
   "source": [
    "separations = contrast_map_curve2.index/4.2"
   ]
  },
  {
   "cell_type": "code",
   "execution_count": 19,
   "id": "942955ae",
   "metadata": {},
   "outputs": [],
   "source": [
    "def plot_contrast_curve(separations_in,\n",
    "                        median_contrast,\n",
    "                        contrast_error,\n",
    "                        label, \n",
    "                        axis):\n",
    "    axis.plot(separations_in, \n",
    "              flux_ratio2mag(median_contrast), \n",
    "              label=label,\n",
    "              lw=3)\n",
    "    \n",
    "    if contrast_error is not None:\n",
    "        axis.fill_between(separations_in,\n",
    "                          flux_ratio2mag(median_contrast + contrast_error * 2), \n",
    "                          flux_ratio2mag(median_contrast - contrast_error * 2),\n",
    "                          alpha=0.5)"
   ]
  },
  {
   "cell_type": "code",
   "execution_count": 21,
   "id": "8d09541b",
   "metadata": {},
   "outputs": [
    {
     "name": "stderr",
     "output_type": "stream",
     "text": [
      "/home/ipa/quanz/user_accounts/mbonse/2022_EpsEri/50_code/venv_eps_eri/lib/python3.8/site-packages/pandas/core/internals/blocks.py:402: RuntimeWarning: invalid value encountered in log10\n",
      "  result = func(self.values, **kwargs)\n"
     ]
    },
    {
     "data": {
      "image/png": "[encoded data removed]",
      "text/plain": [
       "<Figure size 576x576 with 2 Axes>"
      ]
     },
     "metadata": {},
     "output_type": "display_data"
    }
   ],
   "source": [
    "# 1.) Create Plot Layout\n",
    "fig = plt.figure(constrained_layout=False, figsize=(8, 8))\n",
    "gs0 = fig.add_gridspec(2, 1)\n",
    "gs0.update(hspace=0.07, wspace=0.09)\n",
    "\n",
    "axis_pca_10 = fig.add_subplot(gs0[0])\n",
    "axis_pca_50 = fig.add_subplot(gs0[1])\n",
    "\n",
    "# Plot the first comparison at 20 pca\n",
    "plot_contrast_curve(separations, median_contrast_1, contrast_error_1, \n",
    "                    \"Contrast curve\", axis_pca_10)\n",
    "plot_contrast_curve(separations, contrast_map_curve1, None, \n",
    "                    \"Contrast map\", axis_pca_10)\n",
    "\n",
    "axis_pca_10.set_ylim(11.5, 2.5)\n",
    "axis_pca_10.grid()\n",
    "plt.setp(axis_pca_10.get_xticklabels(), visible=False)\n",
    "\n",
    "axis_pca_10.text(7, 3.5, r\"10 PCA components\",\n",
    "             ha=\"center\", fontsize=14, #fontweight=\"bold\",\n",
    "             bbox=dict(facecolor='white', edgecolor='grey', boxstyle='round,pad=0.5'))\n",
    "\n",
    "# Plot the first comparison at 50 pca\n",
    "plot_contrast_curve(separations, median_contrast_2, contrast_error_2, \n",
    "                    \"Contrast Curve\", axis_pca_50)\n",
    "plot_contrast_curve(separations, contrast_map_curve2, None, \n",
    "                    \"Contrast Map\", axis_pca_50)\n",
    "\n",
    "axis_pca_50.set_ylim(11.5, 2.5)\n",
    "axis_pca_50.grid()\n",
    "\n",
    "axis_pca_50.text(7, 3.5, r\"50 PCA components\",\n",
    "             ha=\"center\", fontsize=14, #fontweight=\"bold\",\n",
    "             bbox=dict(facecolor='white', edgecolor='grey', boxstyle='round,pad=0.5'))\n",
    "\n",
    "# Labels\n",
    "axis_pca_50.set_xlabel(r\"Separation [FWHM]\", size=14)\n",
    "axis_pca_50.set_ylabel(r\"Contrast [mag]\", size=14)\n",
    "axis_pca_10.set_ylabel(r\"Contrast [mag]\", size=14)\n",
    "axis_pca_10.set_yticks(np.arange(2, 12, 1))\n",
    "axis_pca_50.set_yticks(np.arange(2, 12, 1))\n",
    "axis_pca_10.tick_params(axis='both', which='major', labelsize=12)\n",
    "axis_pca_50.tick_params(axis='both', which='major', labelsize=12)\n",
    "axis_pca_10.set_title(\"Contrast Grid vs. Contrast Curve\",\n",
    "                      fontsize=16, fontweight=\"bold\", y=1.02)\n",
    "\n",
    "# Legend\n",
    "handles, labels = axis_pca_10.get_legend_handles_labels()\n",
    "leg1 = fig.legend(handles, labels, \n",
    "                  bbox_to_anchor=(0.22, -0.01),\n",
    "                  loc='lower left', ncol=2, fontsize=14)\n",
    "plt.setp(leg1.get_title(),fontsize=14)\n",
    "\n",
    "\n",
    "fig.patch.set_facecolor('white')\n",
    "plt.savefig(\"./13_Contrast_grid_vs_curve.pdf\", \n",
    "            bbox_extra_artists=(leg1,), \n",
    "            bbox_inches='tight')"
   ]
  },
  {
   "cell_type": "code",
   "execution_count": null,
   "id": "4c91cac0",
   "metadata": {},
   "outputs": [],
   "source": []
  }
 ],
 "metadata": {
  "kernelspec": {
   "display_name": "Python 3 (ipykernel)",
   "language": "python",
   "name": "python3"
  },
  "language_info": {
   "codemirror_mode": {
    "name": "ipython",
    "version": 3
   },
   "file_extension": ".py",
   "mimetype": "text/x-python",
   "name": "python",
   "nbconvert_exporter": "python",
   "pygments_lexer": "ipython3",
   "version": "3.8.10"
  }
 },
 "nbformat": 4,
 "nbformat_minor": 5
}
