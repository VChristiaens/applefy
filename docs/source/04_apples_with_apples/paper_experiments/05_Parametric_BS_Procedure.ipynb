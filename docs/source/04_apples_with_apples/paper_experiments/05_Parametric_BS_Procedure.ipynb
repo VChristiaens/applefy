{
 "cells": [
  {
   "cell_type": "markdown",
   "id": "27e91565",
   "metadata": {},
   "source": [
    "# Figure 5: Parametric Bootstrap"
   ]
  },
  {
   "cell_type": "markdown",
   "id": "8054fcf3",
   "metadata": {},
   "source": [
    "<div style=\"text-align: justify\">\n",
    "This code is used to create **Figure 5** in the **Apples with Apples** paper (Bonse et al. in prep). The Figure illustrates how the parametric bootstrap introduced in the paper works. The figure is composed of 2 subplots: first, a visualization of the resampling procedure which gives us the list of bootstrap samples (with size $B$). Second, a sequence of three histograms which show how the distribution of $p(T^* = x | H_0)$ converges as $B$ gets larger (under the assumption of Gaussian noise). \n",
    "\n",
    "In addition to the plots shown in the paper we also show histograms for the convergence of $p(T^* = x | H_0)$ under the assumption of Laplacian noise.\n",
    "</div>"
   ]
  },
  {
   "cell_type": "markdown",
   "id": "a5b96496",
   "metadata": {},
   "source": [
    "## Imports"
   ]
  },
  {
   "cell_type": "code",
   "execution_count": 1,
   "id": "ef1c7d0e",
   "metadata": {},
   "outputs": [],
   "source": [
    "import os\n",
    "import json\n",
    "\n",
    "import numpy as np\n",
    "import pandas as pd\n",
    "from scipy import stats\n",
    "\n",
    "import matplotlib.pyplot as plt\n",
    "import matplotlib.gridspec as gridspec\n",
    "import seaborn as sns\n",
    "\n",
    "# bokeh visualization\n",
    "from bokeh.plotting import figure, show\n",
    "from bokeh.models import ColumnDataSource, CustomJS, Select, Label, Div, Legend, Span\n",
    "from bokeh.layouts import column, row\n",
    "\n",
    "# applefy\n",
    "from applefy.utils import AperturePhotometryMode, estimate_reference_positions, \\\n",
    "    center_subpixel, get_flux\n",
    "from applefy.utils.file_handling import load_adi_data, read_apples_with_apples_root,\\\n",
    "    open_fits\n",
    "\n",
    "from applefy.statistics import TTest, LaplaceBootstrapTest\n",
    "from applefy.statistics.bootstrapping import GaussianBootstrapTest"
   ]
  },
  {
   "cell_type": "markdown",
   "id": "c4d0a3d5",
   "metadata": {},
   "source": [
    "## Data Loading"
   ]
  },
  {
   "cell_type": "markdown",
   "id": "efc9425c",
   "metadata": {},
   "source": [
    "<div style=\"text-align: justify\">\n",
    "Figure 5 is based on the signal and noise values extracted in [Figure 01](01_What_is_a_detection.ipynb). Thus, we use the same code to extract the values.\n",
    "\n",
    "In order to run the code **make sure to download the data from Zenodo and [read the instructions](../02_paper_data.md) on how to setup the files**.\n",
    "</div>"
   ]
  },
  {
   "cell_type": "code",
   "execution_count": 2,
   "id": "80ad824e",
   "metadata": {},
   "outputs": [
    {
     "name": "stdout",
     "output_type": "stream",
     "text": [
      "Data in the APPLES_ROOT_DIR found. Location: /home/ipa/quanz/user_accounts/mbonse/2021_Metrics/70_results/apples_root_dir\n"
     ]
    }
   ],
   "source": [
    "experiment_root = read_apples_with_apples_root()"
   ]
  },
  {
   "cell_type": "markdown",
   "id": "195dcc35",
   "metadata": {},
   "source": [
    "<div style=\"text-align: justify\">\n",
    "Set the path to one example residual and the config file used to create it. The config file is used to obtain the position at which the artificial planet was inserted.\n",
    "</div>"
   ]
  },
  {
   "cell_type": "code",
   "execution_count": 3,
   "id": "8b074024",
   "metadata": {},
   "outputs": [],
   "source": [
    "fake_planet_residual_path = os.path.join(\n",
    "    experiment_root, \n",
    "    \"70_results/detection_limits/Beta_Pic_non_stacked/pca_residuals/pca_020_ID_0115f.fits\")\n",
    "\n",
    "fake_planet_config_path = os.path.join(\n",
    "     experiment_root, \n",
    "    \"70_results/detection_limits/Beta_Pic_non_stacked/configs_cgrid/exp_ID_0115f.json\")"
   ]
  },
  {
   "cell_type": "markdown",
   "id": "4ad30c81",
   "metadata": {},
   "source": [
    "Open the .fits file with the fake planet residual and load the planet position from the config file."
   ]
  },
  {
   "cell_type": "code",
   "execution_count": 4,
   "id": "b83813f1",
   "metadata": {},
   "outputs": [],
   "source": [
    "planet_residual = open_fits(fake_planet_residual_path)\n",
    "\n",
    "with open(fake_planet_config_path) as json_file:\n",
    "    fake_planet_config = json.load(json_file)\n",
    "\n",
    "# The last two values in \"planet_position\" are the separation from the star and the position angle\n",
    "planet_position = fake_planet_config[\"planet_position\"][:2]"
   ]
  },
  {
   "cell_type": "markdown",
   "id": "af6f6698",
   "metadata": {},
   "source": [
    "Estimate the positions for the noise apertures. "
   ]
  },
  {
   "cell_type": "code",
   "execution_count": 5,
   "id": "9884628e",
   "metadata": {},
   "outputs": [],
   "source": [
    "# estimate reference positions for the noise\n",
    "noise_positions = estimate_reference_positions(\n",
    "    planet_position,\n",
    "    center=center_subpixel(planet_residual),\n",
    "    psf_fwhm_radius=2.1,\n",
    "    angle_offset=5,  # more details are explained in the documentation of Figure 3.\n",
    "    safety_margin=0.5)"
   ]
  },
  {
   "cell_type": "code",
   "execution_count": 6,
   "id": "d99ac23a",
   "metadata": {},
   "outputs": [
    {
     "data": {
      "text/plain": [
       "[(45.16718454912184, 35.036050779529816, 8.4, 346.4788975654116),\n",
       " (45.05496390717036, 39.3827623578911, 8.4, 376.4788975654116),\n",
       " (42.784422191230746, 43.09101468670018, 8.4, 406.47889756541156),\n",
       " (38.963949220470184, 45.16718454912184, 8.4, 436.4788975654116),\n",
       " (34.617237642108904, 45.05496390717036, 8.4, 466.4788975654116),\n",
       " (30.908985313299823, 42.784422191230746, 8.4, 496.47889756541156),\n",
       " (28.832815450878158, 38.96394922047019, 8.4, 526.4788975654116),\n",
       " (28.945036092829636, 34.617237642108904, 8.4, 556.4788975654116),\n",
       " (31.215577808769254, 30.908985313299823, 8.4, 586.4788975654116),\n",
       " (35.03605077952982, 28.832815450878158, 8.4, 616.4788975654117)]"
      ]
     },
     "execution_count": 6,
     "metadata": {},
     "output_type": "execute_result"
    }
   ],
   "source": [
    "noise_positions"
   ]
  },
  {
   "cell_type": "markdown",
   "id": "f30fff71",
   "metadata": {},
   "source": [
    "As in [Figure 01](01_What_is_a_detection.ipynb) we use the [AperturePhotometryMode](../../04_package/utils.rst#applefy.utils.aperture_photometry.AperturePhotometryMode) \"ASS\" and \"AS\" of applefy to calculate the aperture averages."
   ]
  },
  {
   "cell_type": "code",
   "execution_count": 7,
   "id": "2e232e3a",
   "metadata": {},
   "outputs": [],
   "source": [
    "photometry_mode_planet = AperturePhotometryMode(\"ASS\", psf_fwhm_radius=2.1, search_area=1.5)\n",
    "photometry_mode_noise = AperturePhotometryMode(\"AS\", psf_fwhm_radius=2.1)"
   ]
  },
  {
   "cell_type": "code",
   "execution_count": 8,
   "id": "7e0bbaba",
   "metadata": {},
   "outputs": [],
   "source": [
    "# Compute the noise values\n",
    "noise_flux = []\n",
    "for tmp_pos in noise_positions:\n",
    "    tmp_flux = get_flux(planet_residual,\n",
    "                        tmp_pos[:2],\n",
    "                        photometry_mode=photometry_mode_noise)[1]\n",
    "    noise_flux.append(tmp_flux)\n",
    "    \n",
    "# Compute the planet flux\n",
    "planet_flux = get_flux(planet_residual,\n",
    "                       planet_position,\n",
    "                       photometry_mode=photometry_mode_planet)[1]"
   ]
  },
  {
   "cell_type": "markdown",
   "id": "bc0f9403",
   "metadata": {},
   "source": [
    "## Compute the test statistic $T_{\\text{obs}}$"
   ]
  },
  {
   "cell_type": "markdown",
   "id": "35b9bd4f",
   "metadata": {},
   "source": [
    "As for the t-Test we need to compute the test statistic $T_{\\text{obs}}$. We use the code of the [t-Test](../../04_package/statistics.rst#applefy.statistics.parametric.TTest) but only use its second return parameter."
   ]
  },
  {
   "cell_type": "code",
   "execution_count": 9,
   "id": "5d6fcf92",
   "metadata": {},
   "outputs": [
    {
     "data": {
      "text/plain": [
       "2.2804911538963033"
      ]
     },
     "execution_count": 9,
     "metadata": {},
     "output_type": "execute_result"
    }
   ],
   "source": [
    "test = TTest()\n",
    "T_obs = test.test_2samp(planet_flux, noise_flux)[1]\n",
    "\n",
    "T_obs"
   ]
  },
  {
   "cell_type": "markdown",
   "id": "9b0c89af",
   "metadata": {},
   "source": [
    "## The Gaussian Bootstrap Test"
   ]
  },
  {
   "cell_type": "markdown",
   "id": "7db5d744",
   "metadata": {},
   "source": [
    "<div style=\"text-align: justify\">\n",
    "For illustration purposes we resample from a Gaussian distribution in this example. This allows us to show that the parametric bootstrap test is equivalent to the t-Test if we make the same assumption about the noise. In reality we would never use bootstrapping if we want to assume a Gaussian noise as it is computationally expensive. However, the parametric bootstrap is not limited to the assumption of Gaussian noise. An example for Laplacian noise is shown at [the end of this page](05_Parametric_BS_Procedure.ipynb#Bootstrapping-for-Laplacian-noise).\n",
    "\n",
    "We start the resampling by setting up a [GaussianBootstrapTest](../../04_package/statistics.rst#applefy.statistics.bootstrapping.GaussianBootstrapTest). The input of the GaussianBootstrapTest is our noise sample which is used to estimate the MLE parameters $\\mu_{\\text{MLE}}= \\overline{\\mathcal{X}}$ and $\\sigma_{\\text{MLE}} = \\hat{\\sigma}_{\\mathcal{X}}$.\n",
    "</div>"
   ]
  },
  {
   "cell_type": "code",
   "execution_count": 10,
   "id": "b91ca429",
   "metadata": {},
   "outputs": [],
   "source": [
    "test_statistic = GaussianBootstrapTest(\n",
    "    noise_flux, \n",
    "    num_cpus=8)"
   ]
  },
  {
   "cell_type": "markdown",
   "id": "ad9ca83a",
   "metadata": {},
   "source": [
    "<div style=\"text-align: justify\">\n",
    "Now we can run the actual resampling using the function [run_bootstrap_experiment](../../04_package/statistics.rst#applefy.statistics.bootstrapping.BootstrapTest.run_bootstrap_experiment). The parameter *num_noise_values* gives the number of noise observations we want to resample. It should be equal to the same number of observations we extracted from our residual. This way we are able to account for the effect of the small sample statistics. The parameter *num_draws* gives the number of bootstrap samples we want to obtain ($B$). The *approximation_interval* is only needed if we want to restore our bootstrap lookup table later.\n",
    "\n",
    "Note: The following code cell is computationally expensive. Consider reducing *num_draws*.\n",
    "</div>"
   ]
  },
  {
   "cell_type": "code",
   "execution_count": 11,
   "id": "23d396aa",
   "metadata": {},
   "outputs": [],
   "source": [
    "T_star_gauss = test_statistic.run_bootstrap_experiment(\n",
    "    memory_size=5e6,\n",
    "    num_noise_values=len(noise_flux),\n",
    "    num_draws=1e8,  # num_draws=1e9 was used in the paper\n",
    "    approximation_interval=np.linspace(-7, 7, 100000))"
   ]
  },
  {
   "cell_type": "code",
   "execution_count": 12,
   "id": "6954b9a2",
   "metadata": {},
   "outputs": [
    {
     "data": {
      "text/plain": [
       "(100000000,)"
      ]
     },
     "execution_count": 12,
     "metadata": {},
     "output_type": "execute_result"
    }
   ],
   "source": [
    "T_star_gauss.shape"
   ]
  },
  {
   "cell_type": "markdown",
   "id": "1696df07",
   "metadata": {},
   "source": [
    "## Create the Subplots"
   ]
  },
  {
   "cell_type": "markdown",
   "id": "20741e49",
   "metadata": {},
   "source": [
    "Define the colors we use along all subplots."
   ]
  },
  {
   "cell_type": "code",
   "execution_count": 13,
   "id": "258e932b",
   "metadata": {},
   "outputs": [
    {
     "data": {
      "text/html": [
       "<svg  width=\"550\" height=\"55\"><rect x=\"0\" y=\"0\" width=\"55\" height=\"55\" style=\"fill:#0173b2;stroke-width:2;stroke:rgb(255,255,255)\"/><rect x=\"55\" y=\"0\" width=\"55\" height=\"55\" style=\"fill:#de8f05;stroke-width:2;stroke:rgb(255,255,255)\"/><rect x=\"110\" y=\"0\" width=\"55\" height=\"55\" style=\"fill:#029e73;stroke-width:2;stroke:rgb(255,255,255)\"/><rect x=\"165\" y=\"0\" width=\"55\" height=\"55\" style=\"fill:#d55e00;stroke-width:2;stroke:rgb(255,255,255)\"/><rect x=\"220\" y=\"0\" width=\"55\" height=\"55\" style=\"fill:#cc78bc;stroke-width:2;stroke:rgb(255,255,255)\"/><rect x=\"275\" y=\"0\" width=\"55\" height=\"55\" style=\"fill:#ca9161;stroke-width:2;stroke:rgb(255,255,255)\"/><rect x=\"330\" y=\"0\" width=\"55\" height=\"55\" style=\"fill:#fbafe4;stroke-width:2;stroke:rgb(255,255,255)\"/><rect x=\"385\" y=\"0\" width=\"55\" height=\"55\" style=\"fill:#949494;stroke-width:2;stroke:rgb(255,255,255)\"/><rect x=\"440\" y=\"0\" width=\"55\" height=\"55\" style=\"fill:#ece133;stroke-width:2;stroke:rgb(255,255,255)\"/><rect x=\"495\" y=\"0\" width=\"55\" height=\"55\" style=\"fill:#56b4e9;stroke-width:2;stroke:rgb(255,255,255)\"/></svg>"
      ],
      "text/plain": [
       "[(0.00392156862745098, 0.45098039215686275, 0.6980392156862745),\n",
       " (0.8705882352941177, 0.5607843137254902, 0.0196078431372549),\n",
       " (0.00784313725490196, 0.6196078431372549, 0.45098039215686275),\n",
       " (0.8352941176470589, 0.3686274509803922, 0.0),\n",
       " (0.8, 0.47058823529411764, 0.7372549019607844),\n",
       " (0.792156862745098, 0.5686274509803921, 0.3803921568627451),\n",
       " (0.984313725490196, 0.6862745098039216, 0.8941176470588236),\n",
       " (0.5803921568627451, 0.5803921568627451, 0.5803921568627451),\n",
       " (0.9254901960784314, 0.8823529411764706, 0.2),\n",
       " (0.33725490196078434, 0.7058823529411765, 0.9137254901960784)]"
      ]
     },
     "execution_count": 13,
     "metadata": {},
     "output_type": "execute_result"
    }
   ],
   "source": [
    "sns.color_palette(\"colorblind\")"
   ]
  },
  {
   "cell_type": "markdown",
   "id": "e5241592",
   "metadata": {},
   "source": [
    "### 1. Illustration of the Bootstrapping"
   ]
  },
  {
   "cell_type": "markdown",
   "id": "a563d255",
   "metadata": {},
   "source": [
    "The first subplot shows how we estimate the MLE parameters of the Gaussian distribution in order to use the for the resampling."
   ]
  },
  {
   "cell_type": "code",
   "execution_count": 14,
   "id": "7b11c782",
   "metadata": {},
   "outputs": [],
   "source": [
    "# Estimate the location and scale of the Gaussian we want to resample from.\n",
    "gauss_loc = np.mean(noise_flux)\n",
    "gauss_scale = np.std(noise_flux)"
   ]
  },
  {
   "cell_type": "markdown",
   "id": "3b65f863",
   "metadata": {},
   "source": [
    "Draw 6 bootstrap samples as examples. Note, the +1 is for the signal (yellow in the Figure)."
   ]
  },
  {
   "cell_type": "code",
   "execution_count": 15,
   "id": "4c58dc55",
   "metadata": {},
   "outputs": [],
   "source": [
    "np.random.seed(42)\n",
    "resamples =  [np.random.normal(loc=gauss_loc, \n",
    "                               scale=gauss_scale, \n",
    "                               size=len(noise_flux) + 1) \n",
    "              for i in range(6)]"
   ]
  },
  {
   "cell_type": "markdown",
   "id": "5e68512c",
   "metadata": {},
   "source": [
    "A simple function to plot one of the 6 bootstrap samples."
   ]
  },
  {
   "cell_type": "code",
   "execution_count": 16,
   "id": "b41f1f16",
   "metadata": {},
   "outputs": [],
   "source": [
    "def plot_samples(noise_in, \n",
    "                 planet_in,\n",
    "                 axis_in,\n",
    "                 idx):\n",
    "    \n",
    "    # if idx is None it is the actual data.\n",
    "    # We plot it with different colors and labels\n",
    "    if idx is None:\n",
    "        color_noise = sns.color_palette(\"colorblind\")[0]\n",
    "        color_signal = sns.color_palette(\"colorblind\")[1]\n",
    "        noise_label = r\"$X_1, X_2, ..., X_n$\"\n",
    "        signal_label = r\"$Y_1$\"\n",
    "    else:\n",
    "        color_noise = sns.color_palette(\"colorblind\")[2]\n",
    "        color_signal = sns.color_palette(\"colorblind\")[8]\n",
    "        noise_label = r\"$X^*_1, X^*_2, ..., X^*_n$\"\n",
    "        signal_label = r\"$Y^*_1$\"\n",
    "    \n",
    "    # Compute the test statistic for the given bootstrap sample\n",
    "    T_star = test.test_2samp(planet_in, noise_in)[1]\n",
    "    \n",
    "    axis_in.hlines(0, xmin=-200, xmax=200, color=\"black\")\n",
    "    \n",
    "    # Plot the bootstrap sample\n",
    "    axis_in.scatter(noise_in,\n",
    "                    np.zeros_like(noise_in),\n",
    "                    color = color_noise,\n",
    "                    marker=\"x\", lw=3, s=100,\n",
    "                    label=noise_label)\n",
    "\n",
    "    axis_in.scatter(planet_in,\n",
    "                    np.zeros_like(planet_in),\n",
    "                    color = color_signal,\n",
    "                    marker=\"x\", lw=3, s=100, \n",
    "                    label=signal_label)\n",
    "    \n",
    "    # Add the value of the test statistic as text\n",
    "    if idx is None:\n",
    "        t_text = r\"$T_{obs}$\" + \" = {:.2f}\".format(T_obs)\n",
    "    else:\n",
    "        t_text = r\"$T^*_{}$\".format(idx) + \" = {:.2f}\".format(T_star)\n",
    "    \n",
    "    axis_in.text(120, 0, t_text, \n",
    "                 ha=\"center\", size=16, va=\"center\",\n",
    "                 bbox=dict(facecolor='white',\n",
    "                           boxstyle=\"round\",\n",
    "                           edgecolor=\"white\"))\n",
    "    \n",
    "    axis_in.set_xlim(-100, 135)\n",
    "    axis_in.axis(\"off\")"
   ]
  },
  {
   "cell_type": "markdown",
   "id": "5a6839b3",
   "metadata": {},
   "source": [
    "Create the final subplot."
   ]
  },
  {
   "cell_type": "code",
   "execution_count": 17,
   "id": "380c213d",
   "metadata": {},
   "outputs": [
    {
     "data": {
      "image/png": "[encoded data removed]",
      "text/plain": [
       "<Figure size 800x800 with 10 Axes>"
      ]
     },
     "metadata": {},
     "output_type": "display_data"
    }
   ],
   "source": [
    "# Create the Layout with gridspec\n",
    "fig = plt.figure(constrained_layout=False, figsize=(8, 8))\n",
    "\n",
    "# We have 10 subplots stack on to of each other\n",
    "# subplot 0: The input data\n",
    "# subplot 1: Estimation of the MLE\n",
    "# subplot 2: arrows from subplot 1 to subplots 3 - 9\n",
    "# subplots 3 - 5: bootstrap examples\n",
    "# subplot 6: Empty ...\n",
    "# subplots 7 - 9: bootstrap examples\n",
    "gs0 = fig.add_gridspec(10, 1, height_ratios=[1.5, 3, 1.,\n",
    "                                             1, 1, 1, 0.5,\n",
    "                                             1, 1, 1])\n",
    "\n",
    "# 1.) Plot the observations ---------------------------------------\n",
    "ax_observations = fig.add_subplot(gs0[0])\n",
    "plot_samples(noise_flux, planet_flux, ax_observations, None)\n",
    "\n",
    "ax_observations.text(gauss_loc, 0.035, \n",
    "                     r\"$\\overline{\\mathcal{X}}$\",\n",
    "                     ha=\"center\", size=16)\n",
    "\n",
    "# 2.) Plot the MLE step -------------------------------------------\n",
    "ax_mle = fig.add_subplot(gs0[1])\n",
    "\n",
    "# Plot the gaussian\n",
    "x = np.linspace(-200, 200, 2000)\n",
    "\n",
    "ax_mle.plot(x, stats.norm.pdf(x, loc=gauss_loc, scale=gauss_scale), \n",
    "            label=\"Noise PDF\",\n",
    "            color=sns.color_palette(\"colorblind\")[0], lw=3)\n",
    "\n",
    "ax_mle.set_xlim(-100, 135)\n",
    "ax_mle.set_ylim(-0.001, 0.019)\n",
    "ax_mle.hlines(0, xmin=-200, xmax=200, color=\"black\")\n",
    "ax_mle.axes.get_xaxis().set_ticklabels([])\n",
    "ax_mle.axes.get_yaxis().set_ticklabels([])\n",
    "ax_mle.axis(\"off\")\n",
    "\n",
    "ax_mle.axvline(gauss_loc,\n",
    "               ymin=0, ymax=1.4, ls=\"--\",\n",
    "               color=\"black\", \n",
    "               lw=2,\n",
    "               zorder=-1,\n",
    "               clip_on=False)\n",
    "\n",
    "# Add Text\n",
    "ax_mle.text(90, 0.005, \n",
    "            r\"$\\mu_{MLE} = \\overline{\\mathcal{X}}$\" + \" \\n\" +  \n",
    "            r\"$\\sigma_{MLE} = \\hat{\\sigma}_{\\mathcal{X}}$\",\n",
    "            ha=\"center\", size=16,\n",
    "            bbox=dict(facecolor='white',\n",
    "                      boxstyle=\"round\",\n",
    "                      edgecolor=\"white\"))\n",
    "\n",
    "ax_mle.text(-40, 0.005, \n",
    "            r\"$\\hat{F}$\",\n",
    "            ha=\"center\", size=18,\n",
    "            bbox=dict(facecolor='white',\n",
    "                      boxstyle=\"round\",\n",
    "                      edgecolor=\"white\"))\n",
    "\n",
    "# Add dashed line\n",
    "line = plt.Line2D((gauss_loc, gauss_loc + gauss_scale), \n",
    "                  (0.015, 0.015), lw=2, color=\"black\", \n",
    "                  marker=\"|\", ms=10)\n",
    "\n",
    "ax_mle.add_line(line)\n",
    "\n",
    "ax_mle.text(gauss_loc + gauss_scale/2, 0.017, \n",
    "            r\"$\\hat{\\sigma}_{\\mathcal{X}}$\",\n",
    "            ha=\"center\", size=16,)\n",
    "\n",
    "# 3.) Plot the arrows ---------------------------------------------\n",
    "ax_top_space = fig.add_subplot(gs0[2])\n",
    "\n",
    "ax_top_space.axis(\"off\")\n",
    "ax_top_space.set_xlim(-100, 135)\n",
    "ax_top_space.set_ylim(-1, 1)\n",
    "\n",
    "# one arrow for each noise and signal value\n",
    "for tmp_sample in resamples[0]:\n",
    "    ax_top_space.arrow(tmp_sample, 1.1, 0, -2.5, \n",
    "                       clip_on=False, width=1, lw=0.5,\n",
    "                       length_includes_head=True,\n",
    "                       head_length=0.5,\n",
    "                       head_width=4,\n",
    "                       color = sns.color_palette(\"colorblind\")[0])\n",
    "\n",
    "# 4.) Plot bootstrap examples -------------------------------------\n",
    "ax_rs1 = fig.add_subplot(gs0[3])\n",
    "ax_rs2 = fig.add_subplot(gs0[4])\n",
    "ax_rs3 = fig.add_subplot(gs0[5])\n",
    "\n",
    "# Plot the Samples and Re-samples ---------------------------------\n",
    "plot_samples(resamples[0][:-1], resamples[0][-1], ax_rs1, \"1\")\n",
    "plot_samples(resamples[1][:-1], resamples[1][-1], ax_rs2, \"2\")\n",
    "plot_samples(resamples[2][:-1], resamples[2][-1], ax_rs3, \"3\")\n",
    "\n",
    "# 5.) Plot Empty ... ----------------------------------------------\n",
    "ax_middle_space = fig.add_subplot(gs0[6])\n",
    "ax_middle_space.axis(\"off\")\n",
    "ax_middle_space.text(0, 0, \"...\", fontsize=18)\n",
    "ax_middle_space.set_xlim(-1, 1)\n",
    "ax_middle_space.set_ylim(-1, 1)\n",
    "\n",
    "# 6.) Plot bootstrap examples -------------------------------------\n",
    "ax_rs4 = fig.add_subplot(gs0[7])\n",
    "ax_rs5 = fig.add_subplot(gs0[8])\n",
    "ax_rs6 = fig.add_subplot(gs0[9])\n",
    "\n",
    "# Plot the Samples and Re-samples\n",
    "plot_samples(resamples[3][:-1], resamples[3][-1], ax_rs4, \"{B-2}\")\n",
    "plot_samples(resamples[4][:-1], resamples[4][-1], ax_rs5, \"{B-1}\")\n",
    "plot_samples(resamples[5][:-1], resamples[5][-1], ax_rs6, \"{B}\")\n",
    "\n",
    "# 7.) Add a Legend ------------------------------------------------\n",
    "ax_rs6.legend(ax_observations.get_legend_handles_labels()[0] + \\\n",
    "                  ax_rs6.get_legend_handles_labels()[0],\n",
    "              ax_observations.get_legend_handles_labels()[1] + \\\n",
    "                  ax_rs6.get_legend_handles_labels()[1],\n",
    "              ncol=4,\n",
    "              fontsize=16, \n",
    "              loc='lower center',\n",
    "              bbox_to_anchor=(0.5, -1.8))\n",
    "\n",
    "fig.patch.set_facecolor('white')\n",
    "plt.savefig(\"./05_01_resample.pdf\",\n",
    "            bbox_inches='tight')"
   ]
  },
  {
   "cell_type": "markdown",
   "id": "5c4c35fe",
   "metadata": {},
   "source": [
    "### 2. Distribution of $p(T^* = x | H_0)$"
   ]
  },
  {
   "cell_type": "markdown",
   "id": "0f616e45",
   "metadata": {},
   "source": [
    "The second subplot shows how the distribution $p(T^* = x | H_0)$ converges towards the t-distribution. For this we create histograms. Each histogram is based on a subset of the *T_star_gauss* we computed earlier."
   ]
  },
  {
   "cell_type": "code",
   "execution_count": 18,
   "id": "999d754f",
   "metadata": {},
   "outputs": [],
   "source": [
    "# Create the data and setups\n",
    "np.random.seed(42)\n",
    "idx_1 = np.random.randint(0, T_star_gauss.shape[0]-1, int(1e3))\n",
    "idx_2 = np.random.randint(0, T_star_gauss.shape[0]-1, int(1e4))\n",
    "idx_3 = np.random.randint(0, T_star_gauss.shape[0]-1, int(1e7))\n",
    "\n",
    "T_set_1 = pd.DataFrame({\"T\": T_star_gauss[idx_1],\n",
    "                        \"above\": T_star_gauss[idx_1] > T_obs})\n",
    "T_set_2 = pd.DataFrame({\"T\": T_star_gauss[idx_2],\n",
    "                        \"above\": T_star_gauss[idx_2] > T_obs})\n",
    "T_set_3 = pd.DataFrame({\"T\": T_star_gauss[idx_3],\n",
    "                        \"above\": T_star_gauss[idx_3] > T_obs})\n",
    "\n",
    "# The FPF / p-value of the test is given by the fraction of observations \n",
    "# larger than T_obs. See Equation (3) in the paper.\n",
    "fpf_1 = np.sum(T_star_gauss[idx_1] > T_obs) / len(T_star_gauss[idx_1])\n",
    "fpf_2 = np.sum(T_star_gauss[idx_2] > T_obs) / len(T_star_gauss[idx_2])\n",
    "fpf_3 = np.sum(T_star_gauss[idx_3] > T_obs) / len(T_star_gauss[idx_3])"
   ]
  },
  {
   "cell_type": "markdown",
   "id": "8437b064",
   "metadata": {},
   "source": [
    "A small function which plots one of the histograms."
   ]
  },
  {
   "cell_type": "code",
   "execution_count": 19,
   "id": "0cdc2307",
   "metadata": {},
   "outputs": [],
   "source": [
    "# Limits. Most values of T are between -7 and +7.\n",
    "axis_limit = 7\n",
    "\n",
    "def plot_histogram(data_in, \n",
    "                   numb_bins, \n",
    "                   axis_in,\n",
    "                   fpf_in):\n",
    "    \n",
    "    x = np.linspace(-axis_limit, axis_limit, 1000)\n",
    "    \n",
    "    # Plot the pdf of the t-distribution\n",
    "    axis_in.plot(x, stats.t.pdf(x, df=9),\n",
    "                 color=sns.color_palette(\"colorblind\")[1], \n",
    "                 lw=3,\n",
    "                 label=\"T-Distribution \" + r\"$\\nu = 9$\")\n",
    "    \n",
    "    # Plot the histogram based on the bootstrap samples\n",
    "    sns.histplot(data=data_in, \n",
    "                 x=\"T\", \n",
    "                 hue=\"above\",\n",
    "                 palette=[sns.color_palette(\"colorblind\")[0], \"red\"],\n",
    "                 bins=numb_bins, \n",
    "                 stat=\"density\", \n",
    "                 multiple=\"stack\",\n",
    "                 binrange=(-axis_limit, axis_limit),\n",
    "                 ax=axis_in,\n",
    "                 legend=False)\n",
    "    \n",
    "    # Add Text and Labels\n",
    "    axis_in.set_xlim(-7, 7)\n",
    "    axis_in.set_yscale(\"log\")\n",
    "    axis_in.yaxis.grid()\n",
    "    axis_in.tick_params(axis='both', which='major', labelsize=14)\n",
    "    axis_in.set_yticks([1e-04, 1e-03, 1e-02, 1e-01])\n",
    "    \n",
    "    axis_in.axvline(x=T_obs,\n",
    "                    ymin=0,\n",
    "                    ymax=1,\n",
    "                    c=\"black\",\n",
    "                    linewidth=2)\n",
    "\n",
    "    axis_in.set_ylabel(\"$p(T^*=x|H_0)$\", fontsize=16)\n",
    "    fpf_text = (5, 0.1, 16)\n",
    "\n",
    "    axis_in.text(\n",
    "        -5, 0.1, \n",
    "        r\"$B$\" + \" = {:.1e}\".format(data_in.shape[0]),\n",
    "        ha=\"center\", size=16,\n",
    "        bbox=dict(\n",
    "            facecolor='white',\n",
    "            boxstyle=\"round\",\n",
    "            edgecolor=\"white\"))\n",
    "    \n",
    "    axis_in.text(fpf_text[0], fpf_text[1], \n",
    "                 r\"FPF = {:.4f}\".format(fpf_in), \n",
    "                 ha=\"center\", size=fpf_text[2],\n",
    "                 bbox=dict(\n",
    "                     facecolor='white',\n",
    "                     boxstyle=\"round\",\n",
    "                     edgecolor=\"white\"))"
   ]
  },
  {
   "cell_type": "markdown",
   "id": "3250cb29",
   "metadata": {},
   "source": [
    "Create the actual plot. Note: this can take a while since *sns.histplot* has to calculate the histogram."
   ]
  },
  {
   "cell_type": "code",
   "execution_count": 20,
   "id": "c3580736",
   "metadata": {
    "nbsphinx-thumbnail": {
     "tooltip": "Illustration of the parametric bootstrap test introduced in this paper."
    }
   },
   "outputs": [
    {
     "data": {
      "image/png": "[encoded data removed]",
      "text/plain": [
       "<Figure size 800x800 with 3 Axes>"
      ]
     },
     "metadata": {},
     "output_type": "display_data"
    }
   ],
   "source": [
    "# Create the Layout with gridspec\n",
    "fig = plt.figure(constrained_layout=False, figsize=(8, 8))\n",
    "gs0 = fig.add_gridspec(3, 1, height_ratios=[1, 1, 1])\n",
    "gs0.update(hspace=0.1, wspace=0.2)\n",
    "\n",
    "ax_b1 = fig.add_subplot(gs0[0])\n",
    "ax_b2 = fig.add_subplot(gs0[1])\n",
    "ax_b3 = fig.add_subplot(gs0[2])\n",
    "\n",
    "# Plot the histograms\n",
    "plot_histogram(T_set_1, 100, ax_b1, fpf_1)\n",
    "plot_histogram(T_set_2, 100, ax_b2, fpf_2)\n",
    "plot_histogram(T_set_3, 100, ax_b3, fpf_3)\n",
    "\n",
    "# Add a vertical line at the position of T_obs\n",
    "ax_b2.axvline(x=T_obs,\n",
    "              ymin=-1.1,\n",
    "              ymax=1.1,\n",
    "              c=\"black\",\n",
    "              linewidth=2,\n",
    "              zorder=10, \n",
    "              clip_on=False)\n",
    "\n",
    "# Clean up the Labels\n",
    "ax_b1.axes.get_xaxis().set_ticklabels([])\n",
    "ax_b1.set_xlabel(\"\")\n",
    "ax_b2.axes.get_xaxis().set_ticklabels([])\n",
    "ax_b2.set_xlabel(\"\")\n",
    "ax_b3.set_xlabel(\"SNR / Test Statistic\", fontsize=16)\n",
    "\n",
    "# Add captions\n",
    "ax_b3.text(T_obs, 0.0001, r\"$T_{obs}$\" + \" = {:.2f}\".format(T_obs), \n",
    "           ha=\"center\", size=16,\n",
    "           bbox=dict(facecolor='white',\n",
    "                     boxstyle=\"round\",\n",
    "                     edgecolor=\"white\"))\n",
    "\n",
    "# Add a legend\n",
    "ax_b3.legend(ncol=1,\n",
    "             fontsize=16, \n",
    "             loc='lower center',\n",
    "             bbox_to_anchor=(0.5, -.7))\n",
    "\n",
    "# Save the plot\n",
    "fig.patch.set_facecolor('white')\n",
    "plt.savefig(\"./05_02_bs_histogram.pdf\",\n",
    "            bbox_inches='tight')"
   ]
  },
  {
   "cell_type": "markdown",
   "id": "648dc287",
   "metadata": {},
   "source": [
    "We merged the two subplots using Adobe Illustrator."
   ]
  },
  {
   "cell_type": "markdown",
   "id": "f21b43ea",
   "metadata": {},
   "source": [
    "## Bootstrapping for Laplacian noise"
   ]
  },
  {
   "cell_type": "markdown",
   "id": "5e87731e",
   "metadata": {},
   "source": [
    "<div style=\"text-align: justify\">\n",
    "This is an additional example which compares the distribution of $p(T^*=x | H_0)$ under two different assumptions: Gaussian noise and Laplacian noise. For this we first have to run the bootstrapping again for Laplacian noise.  \n",
    "</div>"
   ]
  },
  {
   "cell_type": "markdown",
   "id": "800ef0ef",
   "metadata": {},
   "source": [
    "### 1. Creation of Bootstrap samples"
   ]
  },
  {
   "cell_type": "markdown",
   "id": "d4b976a0",
   "metadata": {},
   "source": [
    "We start by setting up a [LaplaceBootstrapTest](../../04_package/statistics.rst#applefy.statistics.bootstrapping.LaplaceBootstrapTest)."
   ]
  },
  {
   "cell_type": "code",
   "execution_count": 21,
   "id": "3c6fa60a",
   "metadata": {},
   "outputs": [],
   "source": [
    "laplace_statistic = LaplaceBootstrapTest(\n",
    "    noise_flux, num_cpus=8)"
   ]
  },
  {
   "cell_type": "markdown",
   "id": "7cdd7abf",
   "metadata": {},
   "source": [
    "Now we can run the actual resampling using the function [run_bootstrap_experiment](../../04_package/statistics.rst#applefy.statistics.bootstrapping.BootstrapTest.run_bootstrap_experiment). \n",
    "\n",
    "Note: The following code cell is computationally expensive. Consider reducing *num_draws*."
   ]
  },
  {
   "cell_type": "code",
   "execution_count": 22,
   "id": "8efd8570",
   "metadata": {},
   "outputs": [],
   "source": [
    "T_star_laplace = laplace_statistic.run_bootstrap_experiment(\n",
    "    memory_size=5e6,\n",
    "    num_noise_values=len(noise_flux),\n",
    "    num_draws=1e8,\n",
    "    approximation_interval=np.linspace(-7, 7, 100000))"
   ]
  },
  {
   "cell_type": "code",
   "execution_count": 23,
   "id": "e8b08fed",
   "metadata": {},
   "outputs": [
    {
     "data": {
      "text/plain": [
       "(100000000,)"
      ]
     },
     "execution_count": 23,
     "metadata": {},
     "output_type": "execute_result"
    }
   ],
   "source": [
    "T_star_laplace.shape"
   ]
  },
  {
   "cell_type": "markdown",
   "id": "d0551ca8",
   "metadata": {},
   "source": [
    "### 2. Compute the Histograms"
   ]
  },
  {
   "cell_type": "markdown",
   "id": "a2f01300",
   "metadata": {},
   "source": [
    "In order to be able to show the interactive plots with bokeh on a static html page we have to pre-compute the histograms for different $B$ and noise assumptions."
   ]
  },
  {
   "cell_type": "markdown",
   "id": "76f7f116",
   "metadata": {},
   "source": [
    "The results are sorted in *T_star* which is why we shuffle them here."
   ]
  },
  {
   "cell_type": "code",
   "execution_count": 24,
   "id": "7b2227d4",
   "metadata": {},
   "outputs": [],
   "source": [
    "np.random.shuffle(T_star_laplace)\n",
    "np.random.shuffle(T_star_gauss)"
   ]
  },
  {
   "cell_type": "markdown",
   "id": "70220b38",
   "metadata": {},
   "source": [
    "Compute the bins and values of the histograms."
   ]
  },
  {
   "cell_type": "code",
   "execution_count": 25,
   "id": "4ed5d3a5",
   "metadata": {},
   "outputs": [],
   "source": [
    "num_draws = np.logspace(3, 8, 6)\n",
    "histogram_bins = np.linspace(-7, 7, 100)\n",
    "\n",
    "# a dict to save all histograms\n",
    "final_histograms = dict()\n",
    "\n",
    "for tmp_B in num_draws:\n",
    "    \n",
    "    # compute the histogram for the gaussian assumption\n",
    "    tmp_hist_gauss, edges = np.histogram(\n",
    "        # using the B random values of T_star \n",
    "        # (see shuffle step before)\n",
    "        T_star_gauss[:int(tmp_B)], \n",
    "        density=True,\n",
    "        bins=histogram_bins)\n",
    "    \n",
    "    # compute the histogram for the laplacian assumption\n",
    "    tmp_hist_laplace, edges = np.histogram(\n",
    "        T_star_laplace[:int(tmp_B)], \n",
    "        density=True,\n",
    "        bins=histogram_bins)\n",
    "    \n",
    "    # compute the fpf (equation 3 in the apples with apples paper)\n",
    "    fpf_gauss = np.sum(T_star_gauss[:int(tmp_B)] > T_obs) / \\\n",
    "        len(T_star_gauss[:int(tmp_B)])\n",
    "    fpf_laplace = np.sum(T_star_laplace[:int(tmp_B)] > T_obs) / \\\n",
    "        len(T_star_laplace[:int(tmp_B)])\n",
    "    \n",
    "    # We want to different colors for the part of the histogram larger than T_obs. \n",
    "    # This is why we split the histogram into two parts\n",
    "    cut_off_idx = np.where(edges[1:] > T_obs)[0][0]\n",
    "    \n",
    "    # Save the results\n",
    "    final_histograms[\"{:.0e}\".format(tmp_B) + \"_Gauss\"] = (\n",
    "        tmp_hist_gauss[:cut_off_idx],\n",
    "        tmp_hist_gauss[cut_off_idx:],\n",
    "        \"{:.4f}\".format(fpf_gauss))\n",
    "    \n",
    "    final_histograms[\"{:.0e}\".format(tmp_B) + \"_Laplace\"] = (\n",
    "        tmp_hist_laplace[:cut_off_idx],\n",
    "        tmp_hist_laplace[cut_off_idx:],\n",
    "        \"{:.4f}\".format(fpf_laplace))"
   ]
  },
  {
   "cell_type": "markdown",
   "id": "22537a58",
   "metadata": {},
   "source": [
    "### 3. Create the Plot"
   ]
  },
  {
   "cell_type": "code",
   "execution_count": 26,
   "id": "f742f7f1",
   "metadata": {},
   "outputs": [
    {
     "data": {
      "text/html": [
       "<style>\n",
       "        .bk-notebook-logo {\n",
       "            display: block;\n",
       "            width: 20px;\n",
       "            height: 20px;\n",
       "            background-image: url(data:image/png;base64,iVBORw0KGgoAAAANSUhEUgAAABQAAAAUCAYAAACNiR0NAAAABHNCSVQICAgIfAhkiAAAAAlwSFlzAAALEgAACxIB0t1+/AAAABx0RVh0U29mdHdhcmUAQWRvYmUgRmlyZXdvcmtzIENTNui8sowAAAOkSURBVDiNjZRtaJVlGMd/1/08zzln5zjP1LWcU9N0NkN8m2CYjpgQYQXqSs0I84OLIC0hkEKoPtiH3gmKoiJDU7QpLgoLjLIQCpEsNJ1vqUOdO7ppbuec5+V+rj4ctwzd8IIbbi6u+8f1539dt3A78eXC7QizUF7gyV1fD1Yqg4JWz84yffhm0qkFqBogB9rM8tZdtwVsPUhWhGcFJngGeWrPzHm5oaMmkfEg1usvLFyc8jLRqDOMru7AyC8saQr7GG7f5fvDeH7Ej8CM66nIF+8yngt6HWaKh7k49Soy9nXurCi1o3qUbS3zWfrYeQDTB/Qj6kX6Ybhw4B+bOYoLKCC9H3Nu/leUTZ1JdRWkkn2ldcCamzrcf47KKXdAJllSlxAOkRgyHsGC/zRday5Qld9DyoM4/q/rUoy/CXh3jzOu3bHUVZeU+DEn8FInkPBFlu3+nW3Nw0mk6vCDiWg8CeJaxEwuHS3+z5RgY+YBR6V1Z1nxSOfoaPa4LASWxxdNp+VWTk7+4vzaou8v8PN+xo+KY2xsw6une2frhw05CTYOmQvsEhjhWjn0bmXPjpE1+kplmmkP3suftwTubK9Vq22qKmrBhpY4jvd5afdRA3wGjFAgcnTK2s4hY0/GPNIb0nErGMCRxWOOX64Z8RAC4oCXdklmEvcL8o0BfkNK4lUg9HTl+oPlQxdNo3Mg4Nv175e/1LDGzZen30MEjRUtmXSfiTVu1kK8W4txyV6BMKlbgk3lMwYCiusNy9fVfvvwMxv8Ynl6vxoByANLTWplvuj/nF9m2+PDtt1eiHPBr1oIfhCChQMBw6Aw0UulqTKZdfVvfG7VcfIqLG9bcldL/+pdWTLxLUy8Qq38heUIjh4XlzZxzQm19lLFlr8vdQ97rjZVOLf8nclzckbcD4wxXMidpX30sFd37Fv/GtwwhzhxGVAprjbg0gCAEeIgwCZyTV2Z1REEW8O4py0wsjeloKoMr6iCY6dP92H6Vw/oTyICIthibxjm/DfN9lVz8IqtqKYLUXfoKVMVQVVJOElGjrnnUt9T9wbgp8AyYKaGlqingHZU/uG2NTZSVqwHQTWkx9hxjkpWDaCg6Ckj5qebgBVbT3V3NNXMSiWSDdGV3hrtzla7J+duwPOToIg42ChPQOQjspnSlp1V+Gjdged7+8UN5CRAV7a5EdFNwCjEaBR27b3W890TE7g24NAP/mMDXRWrGoFPQI9ls/MWO2dWFAar/xcOIImbbpA3zgAAAABJRU5ErkJggg==);\n",
       "        }\n",
       "    </style>\n",
       "    <div>\n",
       "        <a href=\"https://bokeh.org\" target=\"_blank\" class=\"bk-notebook-logo\"></a>\n",
       "        <span id=\"p1001\">Loading BokehJS ...</span>\n",
       "    </div>\n"
      ]
     },
     "metadata": {},
     "output_type": "display_data"
    },
    {
     "data": {
      "application/javascript": [
       "(function(root) {\n",
       "  function now() {\n",
       "    return new Date();\n",
       "  }\n",
       "\n",
       "  const force = true;\n",
       "\n",
       "  if (typeof root._bokeh_onload_callbacks === \"undefined\" || force === true) {\n",
       "    root._bokeh_onload_callbacks = [];\n",
       "    root._bokeh_is_loading = undefined;\n",
       "  }\n",
       "\n",
       "const JS_MIME_TYPE = 'application/javascript';\n",
       "  const HTML_MIME_TYPE = 'text/html';\n",
       "  const EXEC_MIME_TYPE = 'application/vnd.bokehjs_exec.v0+json';\n",
       "  const CLASS_NAME = 'output_bokeh rendered_html';\n",
       "\n",
       "  /**\n",
       "   * Render data to the DOM node\n",
       "   */\n",
       "  function render(props, node) {\n",
       "    const script = document.createElement(\"script\");\n",
       "    node.appendChild(script);\n",
       "  }\n",
       "\n",
       "  /**\n",
       "   * Handle when an output is cleared or removed\n",
       "   */\n",
       "  function handleClearOutput(event, handle) {\n",
       "    const cell = handle.cell;\n",
       "\n",
       "    const id = cell.output_area._bokeh_element_id;\n",
       "    const server_id = cell.output_area._bokeh_server_id;\n",
       "    // Clean up Bokeh references\n",
       "    if (id != null && id in Bokeh.index) {\n",
       "      Bokeh.index[id].model.document.clear();\n",
       "      delete Bokeh.index[id];\n",
       "    }\n",
       "\n",
       "    if (server_id !== undefined) {\n",
       "      // Clean up Bokeh references\n",
       "      const cmd_clean = \"from bokeh.io.state import curstate; print(curstate().uuid_to_server['\" + server_id + \"'].get_sessions()[0].document.roots[0]._id)\";\n",
       "      cell.notebook.kernel.execute(cmd_clean, {\n",
       "        iopub: {\n",
       "          output: function(msg) {\n",
       "            const id = msg.content.text.trim();\n",
       "            if (id in Bokeh.index) {\n",
       "              Bokeh.index[id].model.document.clear();\n",
       "              delete Bokeh.index[id];\n",
       "            }\n",
       "          }\n",
       "        }\n",
       "      });\n",
       "      // Destroy server and session\n",
       "      const cmd_destroy = \"import bokeh.io.notebook as ion; ion.destroy_server('\" + server_id + \"')\";\n",
       "      cell.notebook.kernel.execute(cmd_destroy);\n",
       "    }\n",
       "  }\n",
       "\n",
       "  /**\n",
       "   * Handle when a new output is added\n",
       "   */\n",
       "  function handleAddOutput(event, handle) {\n",
       "    const output_area = handle.output_area;\n",
       "    const output = handle.output;\n",
       "\n",
       "    // limit handleAddOutput to display_data with EXEC_MIME_TYPE content only\n",
       "    if ((output.output_type != \"display_data\") || (!Object.prototype.hasOwnProperty.call(output.data, EXEC_MIME_TYPE))) {\n",
       "      return\n",
       "    }\n",
       "\n",
       "    const toinsert = output_area.element.find(\".\" + CLASS_NAME.split(' ')[0]);\n",
       "\n",
       "    if (output.metadata[EXEC_MIME_TYPE][\"id\"] !== undefined) {\n",
       "      toinsert[toinsert.length - 1].firstChild.textContent = output.data[JS_MIME_TYPE];\n",
       "      // store reference to embed id on output_area\n",
       "      output_area._bokeh_element_id = output.metadata[EXEC_MIME_TYPE][\"id\"];\n",
       "    }\n",
       "    if (output.metadata[EXEC_MIME_TYPE][\"server_id\"] !== undefined) {\n",
       "      const bk_div = document.createElement(\"div\");\n",
       "      bk_div.innerHTML = output.data[HTML_MIME_TYPE];\n",
       "      const script_attrs = bk_div.children[0].attributes;\n",
       "      for (let i = 0; i < script_attrs.length; i++) {\n",
       "        toinsert[toinsert.length - 1].firstChild.setAttribute(script_attrs[i].name, script_attrs[i].value);\n",
       "        toinsert[toinsert.length - 1].firstChild.textContent = bk_div.children[0].textContent\n",
       "      }\n",
       "      // store reference to server id on output_area\n",
       "      output_area._bokeh_server_id = output.metadata[EXEC_MIME_TYPE][\"server_id\"];\n",
       "    }\n",
       "  }\n",
       "\n",
       "  function register_renderer(events, OutputArea) {\n",
       "\n",
       "    function append_mime(data, metadata, element) {\n",
       "      // create a DOM node to render to\n",
       "      const toinsert = this.create_output_subarea(\n",
       "        metadata,\n",
       "        CLASS_NAME,\n",
       "        EXEC_MIME_TYPE\n",
       "      );\n",
       "      this.keyboard_manager.register_events(toinsert);\n",
       "      // Render to node\n",
       "      const props = {data: data, metadata: metadata[EXEC_MIME_TYPE]};\n",
       "      render(props, toinsert[toinsert.length - 1]);\n",
       "      element.append(toinsert);\n",
       "      return toinsert\n",
       "    }\n",
       "\n",
       "    /* Handle when an output is cleared or removed */\n",
       "    events.on('clear_output.CodeCell', handleClearOutput);\n",
       "    events.on('delete.Cell', handleClearOutput);\n",
       "\n",
       "    /* Handle when a new output is added */\n",
       "    events.on('output_added.OutputArea', handleAddOutput);\n",
       "\n",
       "    /**\n",
       "     * Register the mime type and append_mime function with output_area\n",
       "     */\n",
       "    OutputArea.prototype.register_mime_type(EXEC_MIME_TYPE, append_mime, {\n",
       "      /* Is output safe? */\n",
       "      safe: true,\n",
       "      /* Index of renderer in `output_area.display_order` */\n",
       "      index: 0\n",
       "    });\n",
       "  }\n",
       "\n",
       "  // register the mime type if in Jupyter Notebook environment and previously unregistered\n",
       "  if (root.Jupyter !== undefined) {\n",
       "    const events = require('base/js/events');\n",
       "    const OutputArea = require('notebook/js/outputarea').OutputArea;\n",
       "\n",
       "    if (OutputArea.prototype.mime_types().indexOf(EXEC_MIME_TYPE) == -1) {\n",
       "      register_renderer(events, OutputArea);\n",
       "    }\n",
       "  }\n",
       "  if (typeof (root._bokeh_timeout) === \"undefined\" || force === true) {\n",
       "    root._bokeh_timeout = Date.now() + 5000;\n",
       "    root._bokeh_failed_load = false;\n",
       "  }\n",
       "\n",
       "  const NB_LOAD_WARNING = {'data': {'text/html':\n",
       "     \"<div style='background-color: #fdd'>\\n\"+\n",
       "     \"<p>\\n\"+\n",
       "     \"BokehJS does not appear to have successfully loaded. If loading BokehJS from CDN, this \\n\"+\n",
       "     \"may be due to a slow or bad network connection. Possible fixes:\\n\"+\n",
       "     \"</p>\\n\"+\n",
       "     \"<ul>\\n\"+\n",
       "     \"<li>re-rerun `output_notebook()` to attempt to load from CDN again, or</li>\\n\"+\n",
       "     \"<li>use INLINE resources instead, as so:</li>\\n\"+\n",
       "     \"</ul>\\n\"+\n",
       "     \"<code>\\n\"+\n",
       "     \"from bokeh.resources import INLINE\\n\"+\n",
       "     \"output_notebook(resources=INLINE)\\n\"+\n",
       "     \"</code>\\n\"+\n",
       "     \"</div>\"}};\n",
       "\n",
       "  function display_loaded() {\n",
       "    const el = document.getElementById(\"p1001\");\n",
       "    if (el != null) {\n",
       "      el.textContent = \"BokehJS is loading...\";\n",
       "    }\n",
       "    if (root.Bokeh !== undefined) {\n",
       "      if (el != null) {\n",
       "        el.textContent = \"BokehJS \" + root.Bokeh.version + \" successfully loaded.\";\n",
       "      }\n",
       "    } else if (Date.now() < root._bokeh_timeout) {\n",
       "      setTimeout(display_loaded, 100)\n",
       "    }\n",
       "  }\n",
       "\n",
       "  function run_callbacks() {\n",
       "    try {\n",
       "      root._bokeh_onload_callbacks.forEach(function(callback) {\n",
       "        if (callback != null)\n",
       "          callback();\n",
       "      });\n",
       "    } finally {\n",
       "      delete root._bokeh_onload_callbacks\n",
       "    }\n",
       "    console.debug(\"Bokeh: all callbacks have finished\");\n",
       "  }\n",
       "\n",
       "  function load_libs(css_urls, js_urls, callback) {\n",
       "    if (css_urls == null) css_urls = [];\n",
       "    if (js_urls == null) js_urls = [];\n",
       "\n",
       "    root._bokeh_onload_callbacks.push(callback);\n",
       "    if (root._bokeh_is_loading > 0) {\n",
       "      console.debug(\"Bokeh: BokehJS is being loaded, scheduling callback at\", now());\n",
       "      return null;\n",
       "    }\n",
       "    if (js_urls == null || js_urls.length === 0) {\n",
       "      run_callbacks();\n",
       "      return null;\n",
       "    }\n",
       "    console.debug(\"Bokeh: BokehJS not loaded, scheduling load and callback at\", now());\n",
       "    root._bokeh_is_loading = css_urls.length + js_urls.length;\n",
       "\n",
       "    function on_load() {\n",
       "      root._bokeh_is_loading--;\n",
       "      if (root._bokeh_is_loading === 0) {\n",
       "        console.debug(\"Bokeh: all BokehJS libraries/stylesheets loaded\");\n",
       "        run_callbacks()\n",
       "      }\n",
       "    }\n",
       "\n",
       "    function on_error(url) {\n",
       "      console.error(\"failed to load \" + url);\n",
       "    }\n",
       "\n",
       "    for (let i = 0; i < css_urls.length; i++) {\n",
       "      const url = css_urls[i];\n",
       "      const element = document.createElement(\"link\");\n",
       "      element.onload = on_load;\n",
       "      element.onerror = on_error.bind(null, url);\n",
       "      element.rel = \"stylesheet\";\n",
       "      element.type = \"text/css\";\n",
       "      element.href = url;\n",
       "      console.debug(\"Bokeh: injecting link tag for BokehJS stylesheet: \", url);\n",
       "      document.body.appendChild(element);\n",
       "    }\n",
       "\n",
       "    for (let i = 0; i < js_urls.length; i++) {\n",
       "      const url = js_urls[i];\n",
       "      const element = document.createElement('script');\n",
       "      element.onload = on_load;\n",
       "      element.onerror = on_error.bind(null, url);\n",
       "      element.async = false;\n",
       "      element.src = url;\n",
       "      console.debug(\"Bokeh: injecting script tag for BokehJS library: \", url);\n",
       "      document.head.appendChild(element);\n",
       "    }\n",
       "  };\n",
       "\n",
       "  function inject_raw_css(css) {\n",
       "    const element = document.createElement(\"style\");\n",
       "    element.appendChild(document.createTextNode(css));\n",
       "    document.body.appendChild(element);\n",
       "  }\n",
       "\n",
       "  const js_urls = [\"https://cdn.bokeh.org/bokeh/release/bokeh-3.0.3.min.js\", \"https://cdn.bokeh.org/bokeh/release/bokeh-gl-3.0.3.min.js\", \"https://cdn.bokeh.org/bokeh/release/bokeh-widgets-3.0.3.min.js\", \"https://cdn.bokeh.org/bokeh/release/bokeh-tables-3.0.3.min.js\", \"https://cdn.bokeh.org/bokeh/release/bokeh-mathjax-3.0.3.min.js\"];\n",
       "  const css_urls = [];\n",
       "\n",
       "  const inline_js = [    function(Bokeh) {\n",
       "      Bokeh.set_log_level(\"info\");\n",
       "    },\n",
       "function(Bokeh) {\n",
       "    }\n",
       "  ];\n",
       "\n",
       "  function run_inline_js() {\n",
       "    if (root.Bokeh !== undefined || force === true) {\n",
       "          for (let i = 0; i < inline_js.length; i++) {\n",
       "      inline_js[i].call(root, root.Bokeh);\n",
       "    }\n",
       "if (force === true) {\n",
       "        display_loaded();\n",
       "      }} else if (Date.now() < root._bokeh_timeout) {\n",
       "      setTimeout(run_inline_js, 100);\n",
       "    } else if (!root._bokeh_failed_load) {\n",
       "      console.log(\"Bokeh: BokehJS failed to load within specified timeout.\");\n",
       "      root._bokeh_failed_load = true;\n",
       "    } else if (force !== true) {\n",
       "      const cell = $(document.getElementById(\"p1001\")).parents('.cell').data().cell;\n",
       "      cell.output_area.append_execute_result(NB_LOAD_WARNING)\n",
       "    }\n",
       "  }\n",
       "\n",
       "  if (root._bokeh_is_loading === 0) {\n",
       "    console.debug(\"Bokeh: BokehJS loaded, going straight to plotting\");\n",
       "    run_inline_js();\n",
       "  } else {\n",
       "    load_libs(css_urls, js_urls, function() {\n",
       "      console.debug(\"Bokeh: BokehJS plotting callback run at\", now());\n",
       "      run_inline_js();\n",
       "    });\n",
       "  }\n",
       "}(window));"
      ],
      "application/vnd.bokehjs_load.v0+json": "(function(root) {\n  function now() {\n    return new Date();\n  }\n\n  const force = true;\n\n  if (typeof root._bokeh_onload_callbacks === \"undefined\" || force === true) {\n    root._bokeh_onload_callbacks = [];\n    root._bokeh_is_loading = undefined;\n  }\n\n\n  if (typeof (root._bokeh_timeout) === \"undefined\" || force === true) {\n    root._bokeh_timeout = Date.now() + 5000;\n    root._bokeh_failed_load = false;\n  }\n\n  const NB_LOAD_WARNING = {'data': {'text/html':\n     \"<div style='background-color: #fdd'>\\n\"+\n     \"<p>\\n\"+\n     \"BokehJS does not appear to have successfully loaded. If loading BokehJS from CDN, this \\n\"+\n     \"may be due to a slow or bad network connection. Possible fixes:\\n\"+\n     \"</p>\\n\"+\n     \"<ul>\\n\"+\n     \"<li>re-rerun `output_notebook()` to attempt to load from CDN again, or</li>\\n\"+\n     \"<li>use INLINE resources instead, as so:</li>\\n\"+\n     \"</ul>\\n\"+\n     \"<code>\\n\"+\n     \"from bokeh.resources import INLINE\\n\"+\n     \"output_notebook(resources=INLINE)\\n\"+\n     \"</code>\\n\"+\n     \"</div>\"}};\n\n  function display_loaded() {\n    const el = document.getElementById(\"p1001\");\n    if (el != null) {\n      el.textContent = \"BokehJS is loading...\";\n    }\n    if (root.Bokeh !== undefined) {\n      if (el != null) {\n        el.textContent = \"BokehJS \" + root.Bokeh.version + \" successfully loaded.\";\n      }\n    } else if (Date.now() < root._bokeh_timeout) {\n      setTimeout(display_loaded, 100)\n    }\n  }\n\n  function run_callbacks() {\n    try {\n      root._bokeh_onload_callbacks.forEach(function(callback) {\n        if (callback != null)\n          callback();\n      });\n    } finally {\n      delete root._bokeh_onload_callbacks\n    }\n    console.debug(\"Bokeh: all callbacks have finished\");\n  }\n\n  function load_libs(css_urls, js_urls, callback) {\n    if (css_urls == null) css_urls = [];\n    if (js_urls == null) js_urls = [];\n\n    root._bokeh_onload_callbacks.push(callback);\n    if (root._bokeh_is_loading > 0) {\n      console.debug(\"Bokeh: BokehJS is being loaded, scheduling callback at\", now());\n      return null;\n    }\n    if (js_urls == null || js_urls.length === 0) {\n      run_callbacks();\n      return null;\n    }\n    console.debug(\"Bokeh: BokehJS not loaded, scheduling load and callback at\", now());\n    root._bokeh_is_loading = css_urls.length + js_urls.length;\n\n    function on_load() {\n      root._bokeh_is_loading--;\n      if (root._bokeh_is_loading === 0) {\n        console.debug(\"Bokeh: all BokehJS libraries/stylesheets loaded\");\n        run_callbacks()\n      }\n    }\n\n    function on_error(url) {\n      console.error(\"failed to load \" + url);\n    }\n\n    for (let i = 0; i < css_urls.length; i++) {\n      const url = css_urls[i];\n      const element = document.createElement(\"link\");\n      element.onload = on_load;\n      element.onerror = on_error.bind(null, url);\n      element.rel = \"stylesheet\";\n      element.type = \"text/css\";\n      element.href = url;\n      console.debug(\"Bokeh: injecting link tag for BokehJS stylesheet: \", url);\n      document.body.appendChild(element);\n    }\n\n    for (let i = 0; i < js_urls.length; i++) {\n      const url = js_urls[i];\n      const element = document.createElement('script');\n      element.onload = on_load;\n      element.onerror = on_error.bind(null, url);\n      element.async = false;\n      element.src = url;\n      console.debug(\"Bokeh: injecting script tag for BokehJS library: \", url);\n      document.head.appendChild(element);\n    }\n  };\n\n  function inject_raw_css(css) {\n    const element = document.createElement(\"style\");\n    element.appendChild(document.createTextNode(css));\n    document.body.appendChild(element);\n  }\n\n  const js_urls = [\"https://cdn.bokeh.org/bokeh/release/bokeh-3.0.3.min.js\", \"https://cdn.bokeh.org/bokeh/release/bokeh-gl-3.0.3.min.js\", \"https://cdn.bokeh.org/bokeh/release/bokeh-widgets-3.0.3.min.js\", \"https://cdn.bokeh.org/bokeh/release/bokeh-tables-3.0.3.min.js\", \"https://cdn.bokeh.org/bokeh/release/bokeh-mathjax-3.0.3.min.js\"];\n  const css_urls = [];\n\n  const inline_js = [    function(Bokeh) {\n      Bokeh.set_log_level(\"info\");\n    },\nfunction(Bokeh) {\n    }\n  ];\n\n  function run_inline_js() {\n    if (root.Bokeh !== undefined || force === true) {\n          for (let i = 0; i < inline_js.length; i++) {\n      inline_js[i].call(root, root.Bokeh);\n    }\nif (force === true) {\n        display_loaded();\n      }} else if (Date.now() < root._bokeh_timeout) {\n      setTimeout(run_inline_js, 100);\n    } else if (!root._bokeh_failed_load) {\n      console.log(\"Bokeh: BokehJS failed to load within specified timeout.\");\n      root._bokeh_failed_load = true;\n    } else if (force !== true) {\n      const cell = $(document.getElementById(\"p1001\")).parents('.cell').data().cell;\n      cell.output_area.append_execute_result(NB_LOAD_WARNING)\n    }\n  }\n\n  if (root._bokeh_is_loading === 0) {\n    console.debug(\"Bokeh: BokehJS loaded, going straight to plotting\");\n    run_inline_js();\n  } else {\n    load_libs(css_urls, js_urls, function() {\n      console.debug(\"Bokeh: BokehJS plotting callback run at\", now());\n      run_inline_js();\n    });\n  }\n}(window));"
     },
     "metadata": {},
     "output_type": "display_data"
    }
   ],
   "source": [
    "# Start the bokeh for jupyter notebooks\n",
    "from bokeh.io import output_notebook\n",
    "output_notebook()"
   ]
  },
  {
   "cell_type": "markdown",
   "id": "82c44844",
   "metadata": {},
   "source": [
    "Setup the same colors as used for the previous plot."
   ]
  },
  {
   "cell_type": "code",
   "execution_count": 27,
   "id": "6c81025d",
   "metadata": {},
   "outputs": [],
   "source": [
    "color_blue = tuple([int(i*255) for i in sns.color_palette(\"colorblind\")[0]])\n",
    "color_t_dist = tuple([int(i*255) for i in sns.color_palette(\"colorblind\")[1]])\n",
    "color_red = \"red\""
   ]
  },
  {
   "cell_type": "markdown",
   "id": "4f8e4e98",
   "metadata": {},
   "source": [
    "Create the actual interactive Plot."
   ]
  },
  {
   "cell_type": "code",
   "execution_count": 29,
   "id": "381f5084",
   "metadata": {},
   "outputs": [
    {
     "data": {
      "text/html": [
       "\n",
       "  <div id=\"a6caed70-a253-4fd0-ba35-be76b75cd6da\" data-root-id=\"p1382\" style=\"display: contents;\"></div>\n"
      ]
     },
     "metadata": {},
     "output_type": "display_data"
    },
    {
     "data": {
      "application/javascript": [
       "(function(root) {\n",
       "  function embed_document(root) {\n",
       "  const docs_json = {\"0aba7b59-da4e-4614-a139-723f57e3a28d\":{\"version\":\"3.0.3\",\"title\":\"Bokeh Application\",\"defs\":[],\"roots\":[{\"type\":\"object\",\"name\":\"Column\",\"id\":\"p1382\",\"attributes\":{\"children\":[{\"type\":\"object\",\"name\":\"Row\",\"id\":\"p1381\",\"attributes\":{\"children\":[{\"type\":\"object\",\"name\":\"Select\",\"id\":\"p1378\",\"attributes\":{\"js_property_callbacks\":{\"type\":\"map\",\"entries\":[[\"change:value\",[{\"type\":\"object\",\"name\":\"CustomJS\",\"id\":\"p1380\",\"attributes\":{\"args\":{\"type\":\"map\",\"entries\":[[\"B\",{\"id\":\"p1378\"}],[\"dist\",{\"type\":\"object\",\"name\":\"Select\",\"id\":\"p1379\",\"attributes\":{\"js_property_callbacks\":{\"type\":\"map\",\"entries\":[[\"change:value\",[{\"id\":\"p1380\"}]]]},\"title\":\"Assumed noise:\",\"options\":[\"Gauss\",\"Laplace\"],\"value\":\"Gauss\"}}],[\"fpf_text\",{\"type\":\"object\",\"name\":\"Div\",\"id\":\"p1377\",\"attributes\":{\"width\":300,\"height\":50,\"margin\":[30,10,10,50],\"text\":\"<p style=\\\"color:black;\\n                                 font-size:20px;\\n                                 font-weight: bold;\\\">FPF = 0.0245 </p>\"}}],[\"s_all_histograms\",{\"type\":\"object\",\"name\":\"ColumnDataSource\",\"id\":\"p1315\",\"attributes\":{\"selected\":{\"type\":\"object\",\"name\":\"Selection\",\"id\":\"p1317\",\"attributes\":{\"indices\":[],\"line_indices\":[]}},\"selection_policy\":{\"type\":\"object\",\"name\":\"UnionRenderers\",\"id\":\"p1316\"},\"data\":{\"type\":\"map\",\"entries\":[[\"1e+03_Gauss\",[{\"type\":\"ndarray\",\"array\":{\"type\":\"bytes\",\"data\":\"AAAAAAAAAAAAAAAAAAAAAAAAAAAAAAAAAAAAAAAAAAAAAAAAAAAAAAAAAAAAAAAAAAAAAAAAAAAAAAAAAAAAAAAAAAAAAAAAAAAAAAAAAAAAAAAAAAAAAAAAAAAAAAAAAAAAAAAAAAAAAAAAAAAAAAAAAAAAAAAAAAAAAAAAAAAAAAAAAAAAAAAAAAAAAAAAAAAAAAAAAAAAAAAAAAAAAAAAAAAAAAAAAAAAAAAAAADKXjQn7vZ8PwAAAAAAAAAAAAAAAAAAAADKXjQn7vZ8P8peNCfu9nw/AAAAAAAAAAAAAAAAAAAAAONeNCfu9ow/sF40J+72fD8rR2edMrmlP+NeNCfu9ow/sF40J+72nD/jXjQn7vacP7BeNCfu9qw/PAH0usPpsz9DdQ325UrAP+NeNCfu9rw/JF66SQwCwz/jXjQn7vbMP7BeNCfu9sw//nWH08c/yj8aAfS6w+nTP8qMHZEwjtI/DqQtLHvR1D9njZduEoPcPytHZ50yudU/2tJNYhBY2T/+dYfTxz/aPwRHZ50yudU/r3XK5FZF1T/kLxTxWHDYPyLqoA7qoNY/sF40J+72zD9gdQ325UrQP5PSkHOfXdQ/+umgDuqgxj9fAfS6w+nDPzgYR2edMsE/2tJNYhBYuT8uu4DYVBqyPzTTTWIQWKk/sF40J+72vD/a0k1iEFipPw==\"},\"shape\":[65],\"dtype\":\"float64\",\"order\":\"little\"},{\"type\":\"ndarray\",\"array\":{\"type\":\"bytes\",\"data\":\"UUdnnTK5lT+wXjQn7vaMP7BeNCfu9ow/sF40J+72jD9RR2edMrmVP7BeNCfu9ow/BEdnnTK5lT+wXjQn7vZ8PxdfNCfu9nw/sF40J+72jD8AAAAAAAAAAAAAAAAAAAAAF180J+72fD8AAAAAAAAAALBeNCfu9nw/AAAAAAAAAAAAAAAAAAAAAAAAAAAAAAAAAAAAAAAAAAAAAAAAAAAAAAAAAAAAAAAAAAAAAAAAAAAAAAAAAAAAAAAAAAAAAAAAAAAAAAAAAAAAAAAAAAAAAAAAAAAAAAAAAAAAAAAAAAAAAAAAAAAAAAAAAAAAAAAAAAAAAAAAAAAAAAAAAAAAAAAAAAAAAAAAAAAAAAAAAAA=\"},\"shape\":[34],\"dtype\":\"float64\",\"order\":\"little\"},\"0.0200\"]],[\"1e+03_Laplace\",[{\"type\":\"ndarray\",\"array\":{\"type\":\"bytes\",\"data\":\"AAAAAAAAAAAAAAAAAAAAAAAAAAAAAAAAAAAAAAAAAAAAAAAAAAAAAAAAAAAAAAAAAAAAAAAAAAAAAAAAAAAAAAAAAAAAAAAAAAAAAAAAAAAAAAAAAAAAACsvnzTKBX0/AAAAAAAAAABeL580ygV9PysvnzTKBX0/AAAAAAAAAABeL580ygV9P14vnzTKBX0/AAAAAAAAAAArL580ygWNPwAAAAAAAAAARC+fNMoFfT9EL580ygWNP14vnzTKBX0/RC+fNMoFfT8AAAAAAAAAAEQvnzTKBY0/RC+fNMoFfT9gY3enV8SlP14vnzTKBY0/YGN3p1fElT9eL580ygWtP14vnzTKBY0/YGN3p1fEpT+lipm9QVOwP0VJC+4QZak/h2N3p1fEtT9FSQvuEGWpP4djd6dXxLU/iIqZvUFTsD9UIunXJta+P2Bjd6dXxMU/fFbBSrSUxz9FSQvuEGXJP1j6tYm1l9I/D9OTc8sI2D+HY3enV8TVP3JJC+4QZdk/ODxVkW012z+WpRavD2LeP0QHbOZYx+A/OtOTc8sI2D9gY3enV8TVP14vnzTKBc0/5mnSVSnc1D/tQrA/P03KP7E1+uKbHcw/U1bBSrSUxz+mVsFKtJTHPzg8VZFtNbs/RUkL7hBluT9TVsFKtJS3P61jd6dXxLU/e33jYJ4joj9gY3enV8SlPw==\"},\"shape\":[65],\"dtype\":\"float64\",\"order\":\"little\"},{\"type\":\"ndarray\",\"array\":{\"type\":\"bytes\",\"data\":\"rWN3p1fElT8AAAAAAAAAAHt942CeI6I/e33jYJ4joj+RL580ygWdP0VJC+4QZak/Ky+fNMoFfT8rL580ygWdP5EvnzTKBZ0/Ky+fNMoFjT8AAAAAAAAAAGBjd6dXxJU/u33jYJ4joj8rL580ygV9PwAAAAAAAAAAAAAAAAAAAAAAAAAAAAAAAAAAAAAAAAAAKy+fNMoFfT8AAAAAAAAAAAAAAAAAAAAAAAAAAAAAAAArL580ygV9P5EvnzTKBX0/AAAAAAAAAAAAAAAAAAAAAAAAAAAAAAAAAAAAAAAAAAArL580ygV9PwAAAAAAAAAAAAAAAAAAAAArL580ygV9PysvnzTKBX0/AAAAAAAAAAA=\"},\"shape\":[34],\"dtype\":\"float64\",\"order\":\"little\"},\"0.0490\"]],[\"1e+04_Gauss\",[{\"type\":\"ndarray\",\"array\":{\"type\":\"bytes\",\"data\":\"T7L2uPErRz8AAAAAAAAAAAAAAAAAAAAAAAAAAAAAAAAAAAAAAAAAAAAAAAAAAAAAAAAAAAAAAAAAAAAAAAAAAAAAAAAAAAAAJ7L2uPErRz9Psva48StHPyey9rjxK0c/AAAAAAAAAAAAAAAAAAAAAAAAAAAAAAAAJ7L2uPErRz9Psva48StXP0+y9rjxK1c/nQW5SvVgYT8nsva48StXP0+y9rjxK0c/rAW5SvVgcT/029eBc0Z0P0+y9rjxK1c/O7L2uPErZz/KXjQn7vZsP6wFuUr1YIE/9NvXgXNGdD+wXjQn7vZ8P77zpAsvhIs/c5GfD9P/lD8tNVNebNyfP3UdhtSwnpg/PGyD1oJcpT8tNVNebNyvP6dif9k9ebA/DjmeELxesz9hK09hJ/m6P449Y6Dt1cA/LruA2FQawj+9/C4rknLGP6TXz+Cyycs/nrKzp2ImzD/rDgBZyUnRP+BwSGa009I/4vCm3exQ1T/t2VMxEwjYP+JnvkZR5dc/B5ujDBjj2T9Sx8UUazbYPx1q/4UiHtk/KkdnnTK51T+V/C4rknLWPygymEG5rtQ/95VknwR30j/cRqquwb7QP8UYwUR/J8s/PsC/RWiGyT9/D71HOkTGP1pZOMtpkMA/yGz9s2RRvz9hK09hJ/m6P6w9Y6Dt1bA/cD1joO3VsD8R+GmbYPuoPw==\"},\"shape\":[65],\"dtype\":\"float64\",\"order\":\"little\"},{\"type\":\"ndarray\",\"array\":{\"type\":\"bytes\",\"data\":\"DGi+RlHlpz9riBXwbxGaP2uIFfBvEZo/nQW5SvVgkT/w86QLL4SLP7BeNCfu9ow/BUdnnTK5hT8nsva48St3PwJxSGa004I/a4gV8G8Rej8nsva48StnP7BeNCfu9mw/2gW5SvVgYT+dBblK9WBhP50FuUr1YGE/eLL2uPErRz+dBblK9WBhPyey9rjxK0c/J7L2uPErRz8AAAAAAAAAAAAAAAAAAAAAAAAAAAAAAAAnsva48StHPwAAAAAAAAAAAAAAAAAAAAAAAAAAAAAAAAAAAAAAAAAAAAAAAAAAAAAAAAAAAAAAAAAAAAAAAAAAAAAAAAAAAAAAAAAAAAAAAAAAAAAAAAAAAAAAAAAAAAA=\"},\"shape\":[34],\"dtype\":\"float64\",\"order\":\"little\"},\"0.0226\"]],[\"1e+04_Laplace\",[{\"type\":\"ndarray\",\"array\":{\"type\":\"bytes\",\"data\":\"7v9nsws2Rz/F/2ezCzZHPwAAAAAAAAAAAAAAAAAAAAAAAAAAAAAAAAAAAAAAAAAA7v9nsws2Vz8AAAAAAAAAAPP/jcaIaGE/xf9nsws2Vz/u/2ezCzZHP9T/jcaIaHE/7v9nsws2Zz/u/2ezCzZ3P9T/jcaIaGE/xf9nsws2Zz/z/43GiGhxP+n/QaCOA20/xf9nsws2Vz/M//o8Sk90P+n/QaCOA20/3H8x+KrChT/L/64WUOp/P/P/jcaIaIE/4X/Egenbgj/Z/2ezCzaHP9X/1CnNHIo/1f/UKc0cij/M//o8Sk+UP+v/1CnNHJo/zP/6PEpPlD/pf3hb73aeP+f/rhZQ6p8/0H/Egenboj/u/2ezCzanP75fB/v0v6k/8i8nrxw6sT/ULyevHDqxP+1PBYbY17g/wO/StLA0uT/yd0NH22fCP8s/lpr6CMU/7v9nsws2xz+3L9uIItXMP/LzAirULdI/ynewvZxO1T/tYxFdm4bYP+sDTAI1yts/t5eOlFjs3D/o0x+QYt/eP9fT/j+bXeA/6lfzNqgy3D/Hoz9EilnWP++TPc9tcdU/04PO44+i0T/rfwvlLZDLP8BPBYbY18g/1Y9ZgETdwD8RaEHSvn/BP7xvCXARqLo/yX8x+KrCtT/HH/8mgx+2Px5A3f0+va0/xl+ahDPZpj/K32PJ0mWlPw==\"},\"shape\":[65],\"dtype\":\"float64\",\"order\":\"little\"},{\"type\":\"ndarray\",\"array\":{\"type\":\"bytes\",\"data\":\"FQD7PEpPpD++/9QpzRyaP9VfwJewC6E/yz+WmvoIlT8VAPs8Sk+UP8z/+jxKT5Q/1b/yaNiukD+w/64WUOqPPxJAKSQ5IpI/sP+uFlDqfz++/9QpzRx6P77/1CnNHHo/FYAx+KrChT/U/43GiGhxP7b/QaCOA20/EQCOxohocT/F/2ezCzZnP8X/Z7MLNmc/1P+NxohoYT8RAI7GiGhhP8X/Z7MLNkc/xf9nsws2Rz/U/43GiGhhPxcAaLMLNkc/xf9nsws2Rz/F/2ezCzZHPwAAAAAAAAAAFwBosws2Rz/U/43GiGhhP8X/Z7MLNlc/FwBosws2Rz/F/2ezCzZXP8X/Z7MLNkc/AAAAAAAAAAA=\"},\"shape\":[34],\"dtype\":\"float64\",\"order\":\"little\"},\"0.0366\"]],[\"1e+05_Gauss\",[{\"type\":\"ndarray\",\"array\":{\"type\":\"bytes\",\"data\":\"l9tBxr6JEj9220HGvokSPwAAAAAAAAAAdttBxr6JEj8AAAAAAAAAAHbbQca+iRI/l9tBxr6JEj8xyWIpns4rP5fbQca+iRI/dttBxr6JEj9jyWIpns4rP+UWCp/22kQ/l9tBxr6JMj+X20HGvolCP3bbQca+iUI/VFLSdy4sNz99UtJ3LixHP2PJYimezks/nDRui5IDVj/p5sYVOvdcP44ij+5xSF8/HAjYqKhGZD9vujAzUDprP2+2xN77FnE/zr3d2SJhcT8ePIeGuU12P1AxweS/3H8/8q6r49TMgD/msOENf96FP9sjBmuaXZA/CQjYqKhGlD/xWgaIKv+ZPyBOCryGfJ4/LpN9IeO1pD9025MSlUOrPwigee2GOLA/bfuythlntD8CgXVe1525P7PgyC/oNb8/G4AxIxe4wj8QD3is2nrFP9RsN3EhdMk/a1uopQpyzT8/CryGfJ7QPwnfEcjXI9M/7KPrDIBF1D88X/dpvQvXP4eo1iNuaNc/deYk+FmE2T8LWK99BnvYP9KjFDNrotg/h6jWI25o1z/v01HxgpzWP8PJ4es3ztQ/TfIFryh+0j8Wiv8KghPRP7d08okoMc0/SJ9SQmjcyT9EwxL3dVPFP6DEfd1UlcI/IYW4jEBkvz9LMH2p//a4Py1KnmcyWbQ/WnLxG7NPsD96ESfOeaKpPw==\"},\"shape\":[65],\"dtype\":\"float64\",\"order\":\"little\"},{\"type\":\"ndarray\",\"array\":{\"type\":\"bytes\",\"data\":\"RMMS93VTpT9jyPXH8ougP+iyFzgp8Jo/5RYKn/balD/oE134I7SOP+gYQMmg7Ik/mwC/rYH8gz92QWpXNoaBPy32+AuIi30/CjyHhrlNdj/jrqvj1MxwP+d+aFoY6Wg/hGEEbnzAZz+/vd3ZImFhP1RS0ncuLFc/CwUrAtYfXj+cNG6LkgNWP1RS0ncuLEc/VFLSdy4sRz8vFwqf9tpEPzHJYimezis/dttBxr6JQj8xyWIpns4rP5TJYimezis/dttBxr6JEj9220HGvokiPwAAAAAAAAAAuNtBxr6JEj8AAAAAAAAAAHbbQca+iRI/uNtBxr6JIj8AAAAAAAAAAAAAAAAAAAAAdttBxr6JIj8=\"},\"shape\":[34],\"dtype\":\"float64\",\"order\":\"little\"},\"0.0245\"]],[\"1e+05_Laplace\",[{\"type\":\"ndarray\",\"array\":{\"type\":\"bytes\",\"data\":\"UYsz61mQQj8wizPrWZAyP/tQzeCG2Ds/MIsz61mQEj9RizPrWZBCP2PfZqN7hkk/UYsz61mQUj9j32aje4ZZP3E1TcdqC1Y/fImAf4wBXT9xNU3HagtWPy/CMx6SKl4/UYsz61mQYj+sJ4263CRjPyS2Jn3R0mA/75jz9+d2ZT9vhNPkEh1xPzVDDdT48Wg/UYTT5BIdcT9qLu3AI5h0P1M8rc2xfnc/pq0TC73QeT/wJdpOD5Z9P3OXQIwa6H8/T2BAWeJNhD/I9TkiHm+DP00Rujs6PIk/Dh96SMgijD8aJF03OWuSP+YBYm3a+JU//W0AZnA0lz+3G0rFJGmbP+0fYdMsg6E/+iq9PYDeoz+TqEvGR7qoP0x4kO9aYak/G7QoS8tesD+hjmNu/UmzPzzV1hmRWbc/Ruxaz6A+vD+pTes/eVzAP4+QLmhpssM/cG8ytw16xz8Q7/GpddXMP5+4V+dxUtE/g/uaD2Ko1D8dKctSSdfYP2XrW7adBNw/N5GsZjyj3j+eYiPh7I/fPxsRk0pvnd4/vtRJuJGj3D84dMfD6ITYP1IVdyDdq9Q/g2vDtABI0T8nvGzAGdrMP3DXB4Qx2cc/6IzLrCvtwj+olHZ5q0W/P4+tEwu90Lk/h6HrvwBHtz9AJltpP9+yPwQaza1OPrA/WU2dXeMeqz9FbGikntemPw==\"},\"shape\":[65],\"dtype\":\"float64\",\"order\":\"little\"},{\"type\":\"ndarray\",\"array\":{\"type\":\"bytes\",\"data\":\"2r/qJVPRoj+Qs8LalkegP3bAm1zAzZ0/M852E0rmlT9u+WmlwSiUPzod/TDy95A/LH/w9aHUij/rjLACMLuNP09uAGZwNIc/lvyZKGXihD9bkOCF03R+P/fneRWQiIA/Rkpt2j9lej92A/ourFV2PyS2Jn3R0nA/+/U5Ih5vcz8ktiZ90dJwP2+0cxEERGs/5MPmiV+5Yz/z0aaW7Z9mP5b8mShl4mQ/yhnNrU4+YD9+UoBMVGdhP7tSgExUZ2E/5MPmiV+5Uz/KGc2tTj5QP8oZza1OPlA/K1HN4IbYSz9j32aje4ZJPzCLM+tZkEI/T24AZnA0Rz/KGc2tTj5APzCLM+tZkDI/MIsz61mQIj8=\"},\"shape\":[34],\"dtype\":\"float64\",\"order\":\"little\"},\"0.0355\"]],[\"1e+06_Gauss\",[{\"type\":\"ndarray\",\"array\":{\"type\":\"bytes\",\"data\":\"GhO8TCb0CT9OVVQxPa8QP1t7zzbSiRI/J6FKPGdkFD9LoUo8Z2QUP8ResldQqR0/6YQtXeWDHz8Tx8VB/D4mP2xVVDE9ryA/HTQIv7FRJT/w8W/ampYuP46QJIOhtTY/hQKWk2BFPD8aE7xMJvQ5Pzt7zzbSiUI/5AX63LmfRD/PCilwwxxLPyq6A9KP6lA/HTQIv7FRVT9AWNEfGv9aP3aqNmtgUmE/41s1aXNZYz8DE7xMJvRpP/vg1ym723A/0JkQspqjcz8E+1sJlIR7P40ugNkRvoA/L0aQcV8lhD+NYGT8fNaJPyBfSQeIq5A/AR0BzrX4lD+MeBzq7MGaP9mX0eZPrqA/sPT2UZEgpT9L4DfTMcuqPyt5JtZ+M7A/qVzmZefrsz+X0BLCJLe4PwAhbXkg/r0/jkKx7BLowT+BlBXzGNjFP3Pf8GvGmck/meEQV4R9zT8zHGTjdNrQP7UUzbgB5dI/rmQ7gjCg1D/vsT0DbY3WP+hBjz3FrNc/C9i24fnY2D8jNQ8/+9DYPxOjtdygl9g/UgSyzZXT1z83ik4ZxajWP4Pu1TI5xNQ//Q4S4aHL0j9nI1XfzdrQP9WEax3/ps0/wKOxjpB5yT/0WNYV47fFP6Rcb9t8XsI/Wz8YivF4vj8wTeTl7z65Px8YGPpeErQ/92372zpQsD96nj9FpCCqPw==\"},\"shape\":[65],\"dtype\":\"float64\",\"order\":\"little\"},{\"type\":\"ndarray\",\"array\":{\"type\":\"bytes\",\"data\":\"8pNk9qRFpT+MvqU+e5+gP6AQAQGouJo/omc9NRoNlT/oChjK2JqQP+KrUWBVfYo/CopDS2sLhD9rcjOzHaSAP26LVZkOKHo/CopDS2sLdD9OVVQxPa9wP6E66fbn+2c/b6FKPGdkZD9bPxiK8XheP0rFE53PEVo/5v1mAFfIVT+LMKR1WPdMP1MClpNgRUw/04v175c4QD/L8KSQ6nNAPza7zhtADT8/HTQIv7FRNT/JHrNy4iUxP3UOjbkcdzM/MQ6NuRx3Iz87e8820okiPzEOjbkcdyM/LV+yV1CpHT/sErxMJvQZP05VVDE9rxA/SBO8TCb0GT9OVVQxPa8QP8ResldQqQ0/xF6yV1Cp/T4=\"},\"shape\":[34],\"dtype\":\"float64\",\"order\":\"little\"},\"0.0243\"]],[\"1e+06_Laplace\",[{\"type\":\"ndarray\",\"array\":{\"type\":\"bytes\",\"data\":\"vZ5pcNLdQT9v56sS0rRAP35kAVVsy0I/rDhzwJ99Qz/xbIZgOr1GP6RmMeVu6ko/9AvN41EgUD81ekifUnJSP9FP0lIHNFc/4rw1xoZ2VT/RT9JSBzRXPxBvtvA83F4/j3YjtIm+Xj8aG7MOrOxhP+5kDfks02Q/BMwb8eBCZz8N6/PqVeNsP+rybFJjzW4/fYgc1AszcT8i/gRTWWdzP3La7yWaA3Y/KWYlQa7ieD8QLdVtyd99P2zK9wSfK4E/CxRMnT8Ogz/lKqgGt0KGPzzbARw7D4k/PfrcPqAxjz+atLPjqAaSPxZPw4VWqpQ/XlMKySVmlz9EZzpgP3CcP6BaaYlfRqA/gmQEflxNoz+HUetkJsumP40Hn3245qo/EurppefVrz/rfYAVcaSyP44nduJ4FLc/WmppW40cuz+DpltW1kbAP7xNL5bumcM/Noxc+1xjxz9pg2P52m7MP8LZfVaWOtE/+va7DsPG1D/0iisOSJLYP81DhtaAUdw/y68hsR4G3z89YDbxJdHfPwevdebAu94/ThzWMFB83D+K/STfgZ/YP4CNSzzltNQ/X/f7W/1L0T+JhPGWYnvMP+L9xy4PZMc/P7IShuJmwz8v+w9TZTzAP8MPmt6M1bo/tPepha2Qtj9N0FQxnfyyP/RMGnddDLA/jQeffbjmqj8WSn6h2eimPw==\"},\"shape\":[65],\"dtype\":\"float64\",\"order\":\"little\"},{\"type\":\"ndarray\",\"array\":{\"type\":\"bytes\",\"data\":\"se8no88goz8TaUMQ+QqgP3ehpaSVBJw/ZiAPcQw2mD9xywn7PzeUP7MIoRH09ZE/xIT6ETMBjj/b4ndaWHeKPwT4qYWtkIY/BMsG0k+1gz8ZP86NS1SAPxBvtvA83H4/31DkSKg/ej+U2vV3egd3P8Cm6CnAy3Q/7D/aMQxccj91uxcsJWNwP7EOCRgVR2o/+CNEvjrmZz/wgs2qIGRmP9MiLHa51mM/W3LPN0WIYD+WzCeVoUpZPyKE5fKhc1o/KsSiidNYVT8cKpk5BrlTPzV6SJ9SclI/z0MoXHCOTz/4I0S+OuZHP5bMJ5WhSkk/x5gU9QYLRj9G+LUpbphIP767HX4FZ0E/xYPl8qFzOj8=\"},\"shape\":[34],\"dtype\":\"float64\",\"order\":\"little\"},\"0.0356\"]],[\"1e+07_Gauss\",[{\"type\":\"ndarray\",\"array\":{\"type\":\"bytes\",\"data\":\"UnXRBVk2CT+B9AroA7IKPx6zmh0vZw4/l3K3jgQlDz/Vd+t8rUcTP9M07nYu9Bk/FQWnGrnEGT/HcCof/cYgP9V363ytRyM/oFUm3JgZKD+ImrBRH8svP8ITtncVJDM/PgKNCbYINz9u832sWak9PyUK21W5PEI/LgY0VmPNRj9Wqb+ueypJPx06oguDQVA/+yZsu83yVD8JV7NkmndZP90ixSHJ2GA/QC+6VCh8ZD+uUf81l39qP4cWkGhrdXA/Duj1JE5ZdD8bfLKmCBd6P6p3+3cBTYA/fd4qS53MhD+FQtD7jBWKPzTwg0SnopA/vl28n0cQlT9MTAs0PnKaP+y+jxwxtaA/im95zqgHpT9VtLMoLkmqPyemXdl1VrA/ltMIr5UetD+uMAOFgMO4P1fVyS6bOL4/nGgB9qI0wj/4bDqa/KnFP7dKUInnhMk/3x0c9XWkzT/waQid+OXQPycrMeIk7NI/CsPQZODX1D8zzv526InWPzVzkaWButc/YdiY5hqT2D8uSslqEcvYP0sVwC9ultg/wSFNW8vB1z9mNfb8V27WP2fYhdrDzNQ/9g6M3jz80j+3Nn4LAeDQP/ZoCCaooc0/SK06QimLyT+n9E9OrLPFPygkObDKQ8I/6LLMES9Nvj8uan/eps24P7i5X2aEPrQ/LdoZjphksD/fD8dNa0eqPw==\"},\"shape\":[65],\"dtype\":\"float64\",\"order\":\"little\"},{\"type\":\"ndarray\",\"array\":{\"type\":\"bytes\",\"data\":\"pCgdWXkHpT8qppUIdr6gP7JVDj3vZpo/edMSvED3lD/x7p5JpnyQPye054WDWoo/6KSotnZAhD+shlo9tnGAP3LzfV8CVHk/onOEA1aYdD/HcCof/cZwP7XXuVVFEWk/9/XXqax6ZD8E4VQKnThgP4WbveYdqVo/9uaILKOwVT/NMVRyKLhQPzgCjVYNXks/w+oveVB1RT/OTmUxkUNBP7WqTITU3T4/96BxFSGhOT9cAxpFYBE0PxEN9RllozA/JXXRBVk2KT/7Jmy7zfIkP7wITs233iA/jyPFCM/YHT8FZsIOTiwXP762QdAtgRU/WoiHr2JaEj/xlQlrw1sHP/zUX75DlQk/RjLU/9ni/z4=\"},\"shape\":[34],\"dtype\":\"float64\",\"order\":\"little\"},\"0.0243\"]],[\"1e+07_Laplace\",[{\"type\":\"ndarray\",\"array\":{\"type\":\"bytes\",\"data\":\"nKMtRj9hQT+bGW3VWbpBP+P5ha8L9EQ/6KbqeS0RRj+/phD+aBVJP3AY8iMqSUw/Vj3rqlosUD923tZu205SP43QrrONwVQ/pnGadw7kVj+rLg/4g6dYP+y1Rjj4v1w/ja5FEXtRYD9lbBvNVR9iP3fNiwFeomQ/gjYEEZB4Zz8zPjJw9c9qP7UEhAR9fW4/ggGuh7h8cT+X7N4spqZzPxXDLbVjeHY/1jbRUe/AeT/d2vKJvYR9P5UW7WMJOIE/fNijzJmSgz9gSSS39buGP/TuTedMzok/FMjS41dBjj/Ib+U7qYKRPz1Hlf/LXpQ/54JqZorLlz+LL/N2RRmcP0yejp4DZ6A/1w8TBaQ3oz/ZEPeDZammP06FVt3Ui6o/y3PTFaGWrz9VmaNnP86yP0OLYJ5nhrY/HLWkas32uj8v7x+etifAP1iZFvDiZcM/SMReOI19xz/TdwOvUn/MP0/cuCw6O9E/ViQG0dbD1D/tPt1ST7DYP1+NcpntStw/KW9O3rP93j9qp+s8dOrfP/vMnzC08t4/3jzj19xd3D9D6fPMhanYP3R2sl+pz9Q/r6MuZRBL0T92Y8YQpJfMP40hrkzrnsc/PyxYfnxywz9jB7EbsCjAP+cmAi5h2bo/5HjntCWHtj8zqVicFOWyP2phWO68w68/3ldWdUC/qj9JB4sQY46mPw==\"},\"shape\":[65],\"dtype\":\"float64\",\"order\":\"little\"},{\"type\":\"ndarray\",\"array\":{\"type\":\"bytes\",\"data\":\"1VXT2aoroz9UErAWBDKgP1ihUVmq5Zs/YtRaYwDDlz9IjrcuCUeUPzAtSTijl5E/0+H26KIwjj++U3XIijKKP/tTlcUNaIY/+uPS1Tesgz+N4keaUvaAP/8Ir641630/UUlKOzHAeT8GvkiMaUR2P8CimUs5n3M/MwibqDv/cD8DJfLpa1JuP9cMU5lNSmo/eHoDjp1BZz9EKELUg1plP7gLMljuqmI/3tI35P5PYD8zqPj4bi5cP9NpuCAglVk/EBtokn1VVj8JqZku2qNUP4HcFPgQOlI/sClqyY/eUD/FxUMsLuRLPyCDf2ZKIUk/OZ/1YCFARz+HymhPLoNEP4JgjwSXokE/Kv7QVkeXQD8=\"},\"shape\":[34],\"dtype\":\"float64\",\"order\":\"little\"},\"0.0353\"]],[\"1e+08_Gauss\",[{\"type\":\"ndarray\",\"array\":{\"type\":\"bytes\",\"data\":\"nv8M0LF3BT+wG9uWA4IIPxhLu8CG6ww/W5bCRbneED9Kgq9dLmkUP4fho+gVThk/aHYkouKMHT9fYyUwnO8hP80Gp2iCvCU/zQDIsZjQKT8dfSSfwsgvP5WUynYoHjM/DRBjzKJnNz8c0d1M8/o8P3VSNZi69kE/vzjIFlfLRT9G3msajf5KP5R+KfuyDFE/kfnQaoHqVD/rVLp13DxaP70vsrY1nmA/9Ce05kFrZD+PZlknjhFqP1Gt05BkV3A/es3Qb3ZbdD9WSL1dZuh5P12g917cSoA/Tlky+1aVhD91MBiTTx+KPyVs56NAkpA/gwanXIH7lD/v4BsBvXaaP9AuJP3SqaA/VvRPqzLxpD9ascK/uS6qP9RbmmLeTbA/KQK6ihwxtD+T3gJTedm4P3CbjaphNb4/FBV7lNk3wj8jIh/hqbvFPzVpAK5xkMk/RJZ3INWizT+SiZqkMOfQPxRAnTok99I/3DZaYofa1D/ks/mg5njWP0R3utl3utc/FXiUURyL2D/XXfBHUNDYP03ckDsNidg/o4MV3ka81z/sS/O8gXrWPysnJrNf19Q/2g08nV/00j/uMS0u7ufQPx05w5mros0/vhRB0/SOyT9aOaEzIbjFP/dvK6hePcI/LeVQRsk/vj8qYcbS5NO4P68iS+TTL7Q/Ki3YwApUsD88SMZDM0KqPw==\"},\"shape\":[65],\"dtype\":\"float64\",\"order\":\"little\"},{\"type\":\"ndarray\",\"array\":{\"type\":\"bytes\",\"data\":\"FLYfq8/7pD+K1aFf7K+gPx6GSkqKWZo/DvBZhYLulD991kcZcJKQPyGJ2VbNSoo/pDtOMcyhhD9OeZAvQmSAP5AXG8kf2Xk/ZTErzEBndD88KDAehkdwP7TOpgPEwWk/iRw/ziZwZD/2DDKH9mRgP/oHYkppFVo/5U/QezXqVD+d1iY/gwtRP49S7/RHOUs/ySp2sQ0ZRj9lecBHhsJBPzdYXgwAwjw/Q1LF+IiTNz/f5xw78EIzPwfNKRciyy8/SLhc0gkTKj+PF5cAZLUlPw9hNhfUhCE/kaZrtc4DHz/j79cZt9cZP5ZWeS5awxQ/C72ApwymET/hptKeNxEMP+GU9HLnwwY/bhNTasToAj8=\"},\"shape\":[34],\"dtype\":\"float64\",\"order\":\"little\"},\"0.0243\"]],[\"1e+08_Laplace\",[{\"type\":\"ndarray\",\"array\":{\"type\":\"bytes\",\"data\":\"LELHuCmsQD+kaliVFlZCPyODeCnwpkQ/AP4iFmfiRj8f78H1oDVJPypxmjCtnUw/q2XBjBWmTz9UIVb95hhSP7RIHAVHXVQ/Ite/tv+mVj/VRHlDa2hZP5Wz5+NRo1w/HKjvTgc4YD+bfuCEdEViP3aVwCTKpmQ/InNqidVWZz8TPFBUEpNqP1TO9OsDh24/aBb5oWs0cT/MFtFpW8dzPzDtp5SjfXY/FFMBYrmZeT87c+K4V2N9P1QADXq08oA/ZcB4TwqCgz/yyLhqdpCGPyCgpybGGIo/vkU3K6JUjj/1I1oazIqRPwSHL7XGXJQ/PWXoWSTGlz8f8LILJ92bP9xlZ60fTKA/oJ+v4Q00oz9qvtR4BaGmPyyoTA0PsKo/2aHze4qjrz/Q0LVVBtiyP2cGo89+f7Y/N0oVBi3guj8JaTvSACbAP5cfyFGNecM/6WM6PQiFxz9LTG/GqIHMP73z0L2HRNE/XLkux2XO1D8DnIjrVKzYPzXtA34QU9w/HGDF/xX73j8Au00PSOvfP9W/wJ/1+t4/TCwCuQ9X3D+tKRZgWazYP2XgFwA00tQ/u9eLNhJH0T/agXtG4n3MP5m2A3oyh8c/UzlbCDp1wz/JFdoZBSrAP9Oc45Qs5bo/MnXbMYt8tj9voFxhYteyPwMled+xqa8/rqghHK3Fqj/D7Bhqh5ymPw==\"},\"shape\":[65],\"dtype\":\"float64\",\"order\":\"little\"},{\"type\":\"ndarray\",\"array\":{\"type\":\"bytes\",\"data\":\"PRgUwPcuoz/Av2ZWZkugP/z4zooj35s/Rp85iI7Blz/Bua2pbV6UP1MRiqABjZE/pNo2JzEojj+OGx29XQmKP3PJR5WScYY/soUO0wlygz+pXlYjAfSAPxLOCq0Vc30/D6m4r4PMeT8Ftw+XmW12P0a4Bu5Jq3M/DT56VgsycT9IJijYwi1uP5Pf52vQk2o/vcdwDTh7Zz+0mqKgoaJkPwhcQUysQ2I/L/gxrMoiYD+G24btKWNcP3HYKvMehlk/nItbiwBNVj+A/JmED0FUP1okZRAL2VE/NXJXUf0nUD/6DfKC1/BMPztzPgeyfkk/rtEwu9MHRz9/LyNv9ZBEP7zvgSZ8QkI/ZQL67YyFQD8=\"},\"shape\":[34],\"dtype\":\"float64\",\"order\":\"little\"},\"0.0353\"]]]}}}],[\"s_hist_data_large\",{\"type\":\"object\",\"name\":\"ColumnDataSource\",\"id\":\"p1321\",\"attributes\":{\"selected\":{\"type\":\"object\",\"name\":\"Selection\",\"id\":\"p1323\",\"attributes\":{\"indices\":[],\"line_indices\":[]}},\"selection_policy\":{\"type\":\"object\",\"name\":\"UnionRenderers\",\"id\":\"p1322\"},\"data\":{\"type\":\"map\",\"entries\":[[\"top\",{\"type\":\"ndarray\",\"array\":{\"type\":\"bytes\",\"data\":\"RMMS93VTpT9jyPXH8ougP+iyFzgp8Jo/5RYKn/balD/oE134I7SOP+gYQMmg7Ik/mwC/rYH8gz92QWpXNoaBPy32+AuIi30/CjyHhrlNdj/jrqvj1MxwP+d+aFoY6Wg/hGEEbnzAZz+/vd3ZImFhP1RS0ncuLFc/CwUrAtYfXj+cNG6LkgNWP1RS0ncuLEc/VFLSdy4sRz8vFwqf9tpEPzHJYimezis/dttBxr6JQj8xyWIpns4rP5TJYimezis/dttBxr6JEj9220HGvokiPwAAAAAAAAAAuNtBxr6JEj8AAAAAAAAAAHbbQca+iRI/uNtBxr6JIj8AAAAAAAAAAAAAAAAAAAAAdttBxr6JIj8=\"},\"shape\":[34],\"dtype\":\"float64\",\"order\":\"little\"}],[\"bottom\",[1e-07,1e-07,1e-07,1e-07,1e-07,1e-07,1e-07,1e-07,1e-07,1e-07,1e-07,1e-07,1e-07,1e-07,1e-07,1e-07,1e-07,1e-07,1e-07,1e-07,1e-07,1e-07,1e-07,1e-07,1e-07,1e-07,1e-07,1e-07,1e-07,1e-07,1e-07,1e-07,1e-07,1e-07]],[\"left\",{\"type\":\"ndarray\",\"array\":{\"type\":\"bytes\",\"data\":\"NCTm7QyJAUCoqqqqqqoCQCAxb2dIzANAmLczJObtBEAQPvjggw8GQITEvJ0hMQdA/EqBWr9SCEB00UUXXXQJQOxXCtT6lQpAYN7OkJi3C0DYZJNNNtkMQFDrVwrU+g1AyHEcx3EcD0AefPDBBx8QQFq/UqDWrxBAlgK1fqVAEUDQRRdddNERQAyJeTtDYhJASMzbGRLzEkCEDz744IMTQL5SoNavFBRA+pUCtX6lFEA22WSTTTYVQHIcx3EcxxVArF8pUOtXFkDooosuuugWQCTm7QyJeRdAYClQ61cKGECabLLJJpsYQNavFKj1KxlAEvN2hsS8GUBMNtlkk00aQIh5O0Ni3hpAxLydITFvG0A=\"},\"shape\":[34],\"dtype\":\"float64\",\"order\":\"little\"}],[\"right\",{\"type\":\"ndarray\",\"array\":{\"type\":\"bytes\",\"data\":\"qKqqqqqqAkAgMW9nSMwDQJi3MyTm7QRAED744IMPBkCExLydITEHQPxKgVq/UghAdNFFF110CUDsVwrU+pUKQGDezpCYtwtA2GSTTTbZDEBQ61cK1PoNQMhxHMdxHA9AHnzwwQcfEEBav1Kg1q8QQJYCtX6lQBFA0EUXXXTREUAMiXk7Q2ISQEjM2xkS8xJAhA8++OCDE0C+UqDWrxQUQPqVArV+pRRANtlkk002FUByHMdxHMcVQKxfKVDrVxZA6KKLLrroFkAk5u0MiXkXQGApUOtXChhAmmyyySabGEDWrxSo9SsZQBLzdobEvBlATDbZZJNNGkCIeTtDYt4aQMS8nSExbxtAAAAAAAAAHEA=\"},\"shape\":[34],\"dtype\":\"float64\",\"order\":\"little\"}]]}}}],[\"s_hist_data_small\",{\"type\":\"object\",\"name\":\"ColumnDataSource\",\"id\":\"p1318\",\"attributes\":{\"selected\":{\"type\":\"object\",\"name\":\"Selection\",\"id\":\"p1320\",\"attributes\":{\"indices\":[],\"line_indices\":[]}},\"selection_policy\":{\"type\":\"object\",\"name\":\"UnionRenderers\",\"id\":\"p1319\"},\"data\":{\"type\":\"map\",\"entries\":[[\"top\",{\"type\":\"ndarray\",\"array\":{\"type\":\"bytes\",\"data\":\"l9tBxr6JEj9220HGvokSPwAAAAAAAAAAdttBxr6JEj8AAAAAAAAAAHbbQca+iRI/l9tBxr6JEj8xyWIpns4rP5fbQca+iRI/dttBxr6JEj9jyWIpns4rP+UWCp/22kQ/l9tBxr6JMj+X20HGvolCP3bbQca+iUI/VFLSdy4sNz99UtJ3LixHP2PJYimezks/nDRui5IDVj/p5sYVOvdcP44ij+5xSF8/HAjYqKhGZD9vujAzUDprP2+2xN77FnE/zr3d2SJhcT8ePIeGuU12P1AxweS/3H8/8q6r49TMgD/msOENf96FP9sjBmuaXZA/CQjYqKhGlD/xWgaIKv+ZPyBOCryGfJ4/LpN9IeO1pD9025MSlUOrPwigee2GOLA/bfuythlntD8CgXVe1525P7PgyC/oNb8/G4AxIxe4wj8QD3is2nrFP9RsN3EhdMk/a1uopQpyzT8/CryGfJ7QPwnfEcjXI9M/7KPrDIBF1D88X/dpvQvXP4eo1iNuaNc/deYk+FmE2T8LWK99BnvYP9KjFDNrotg/h6jWI25o1z/v01HxgpzWP8PJ4es3ztQ/TfIFryh+0j8Wiv8KghPRP7d08okoMc0/SJ9SQmjcyT9EwxL3dVPFP6DEfd1UlcI/IYW4jEBkvz9LMH2p//a4Py1KnmcyWbQ/WnLxG7NPsD96ESfOeaKpPw==\"},\"shape\":[65],\"dtype\":\"float64\",\"order\":\"little\"}],[\"bottom\",[1e-07,1e-07,1e-07,1e-07,1e-07,1e-07,1e-07,1e-07,1e-07,1e-07,1e-07,1e-07,1e-07,1e-07,1e-07,1e-07,1e-07,1e-07,1e-07,1e-07,1e-07,1e-07,1e-07,1e-07,1e-07,1e-07,1e-07,1e-07,1e-07,1e-07,1e-07,1e-07,1e-07,1e-07,1e-07,1e-07,1e-07,1e-07,1e-07,1e-07,1e-07,1e-07,1e-07,1e-07,1e-07,1e-07,1e-07,1e-07,1e-07,1e-07,1e-07,1e-07,1e-07,1e-07,1e-07,1e-07,1e-07,1e-07,1e-07,1e-07,1e-07,1e-07,1e-07,1e-07,1e-07]],[\"left\",{\"type\":\"ndarray\",\"array\":{\"type\":\"bytes\",\"data\":\"AAAAAAAAHMDFvJ0hMW8bwIl5O0Ni3hrATjbZZJNNGsAS83aGxLwZwNevFKj1KxnAm2yyySabGMBgKVDrVwoYwCTm7QyJeRfA6aKLLrroFsCtXylQ61cWwHIcx3EcxxXANtlkk002FcD7lQK1fqUUwMBSoNavFBTAhA8++OCDE8BIzNsZEvMSwA2JeTtDYhLA0kUXXXTREcCWArV+pUARwFq/UqDWrxDAH3zwwQcfEMDHcRzHcRwPwFDrVwrU+g3A2mSTTTbZDMBj3s6QmLcLwOxXCtT6lQrAddFFF110CcD+SoFav1IIwIbEvJ0hMQfAED744IMPBsCYtzMk5u0EwCIxb2dIzAPArKqqqqqqAsA0JObtDIkBwL6dITFvZwDAjC666KKL/r+gITFvZ0j8v7AUqPUrBfq/xAcffPDB97/U+pUCtX71v+jtDIl5O/O/+OCDDz748L8YqPUrBWrtvziO4ziO4+i/YHTRRRdd5L8AtX6lQK3fv1CBWr9SoNa/QJtssskmy7+AZ0jM2xmyv0BnSMzbGbI/IJtssskmyz9AgVq/UqDWPwC1fqVArd8/WHTRRRdd5D84juM4juPoPxCo9SsFau0/+OCDDz748D/o7QyJeTvzP9D6lQK1fvU/wAcffPDB9z+wFKj1KwX6P6AhMW9nSPw/iC666KKL/j+8nSExb2cAQA==\"},\"shape\":[65],\"dtype\":\"float64\",\"order\":\"little\"}],[\"right\",{\"type\":\"ndarray\",\"array\":{\"type\":\"bytes\",\"data\":\"xbydITFvG8CJeTtDYt4awE422WSTTRrAEvN2hsS8GcDXrxSo9SsZwJtssskmmxjAYClQ61cKGMAk5u0MiXkXwOmiiy666BbArV8pUOtXFsByHMdxHMcVwDbZZJNNNhXA+5UCtX6lFMDAUqDWrxQUwIQPPvjggxPASMzbGRLzEsANiXk7Q2ISwNJFF1100RHAlgK1fqVAEcBav1Kg1q8QwB988MEHHxDAx3Ecx3EcD8BQ61cK1PoNwNpkk0022QzAY97OkJi3C8DsVwrU+pUKwHXRRRdddAnA/kqBWr9SCMCGxLydITEHwBA++OCDDwbAmLczJObtBMAiMW9nSMwDwKyqqqqqqgLANCTm7QyJAcC+nSExb2cAwIwuuuiii/6/oCExb2dI/L+wFKj1KwX6v8QHH3zwwfe/1PqVArV+9b/o7QyJeTvzv/jggw8++PC/GKj1KwVq7b84juM4juPov2B00UUXXeS/ALV+pUCt379QgVq/UqDWv0CbbLLJJsu/gGdIzNsZsr9AZ0jM2xmyPyCbbLLJJss/QIFav1Kg1j8AtX6lQK3fP1h00UUXXeQ/OI7jOI7j6D8QqPUrBWrtP/jggw8++PA/6O0MiXk78z/Q+pUCtX71P8AHH3zwwfc/sBSo9SsF+j+gITFvZ0j8P4guuuiii/4/vJ0hMW9nAEA0JObtDIkBQA==\"},\"shape\":[65],\"dtype\":\"float64\",\"order\":\"little\"}]]}}}]]},\"code\":\"\\n    // 1.) Select the histogram\\n    const hist_new = s_all_histograms.data[B.value + \\\"_\\\" + dist.value]\\n    \\n    // 2.) Update the FPF\\n    const tmp_fpf = hist_new[2]\\n    fpf_text.text = '<p style=\\\"color:black; font-size:20px; font-weight:'\\n        + ' bold;\\\">FPF = ' + tmp_fpf + '</p>'\\n    \\n    \\n    // 3.) update the values\\n    s_hist_data_small.data = {\\n         top: hist_new[0], \\n         bottom: s_hist_data_small.data.bottom, \\n         left: s_hist_data_small.data.left, \\n         right: s_hist_data_small.data.right}; \\n         \\n    s_hist_data_large.data = {\\n         top: hist_new[1], \\n         bottom: s_hist_data_large.data.bottom, \\n         left: s_hist_data_large.data.left, \\n         right: s_hist_data_large.data.right};    \\n    \\n\"}}]]]},\"title\":\"B:\",\"options\":[\"1e+03\",\"1e+04\",\"1e+05\",\"1e+06\",\"1e+07\",\"1e+08\"],\"value\":\"1e+05\"}},{\"id\":\"p1379\"},{\"id\":\"p1377\"}]}},{\"type\":\"object\",\"name\":\"Figure\",\"id\":\"p1282\",\"attributes\":{\"width\":750,\"height\":300,\"x_range\":{\"type\":\"object\",\"name\":\"Range1d\",\"id\":\"p1292\",\"attributes\":{\"start\":-7,\"end\":7}},\"y_range\":{\"type\":\"object\",\"name\":\"Range1d\",\"id\":\"p1294\",\"attributes\":{\"start\":1e-05,\"end\":3}},\"x_scale\":{\"type\":\"object\",\"name\":\"LinearScale\",\"id\":\"p1296\"},\"y_scale\":{\"type\":\"object\",\"name\":\"LogScale\",\"id\":\"p1298\"},\"title\":{\"type\":\"object\",\"name\":\"Title\",\"id\":\"p1285\",\"attributes\":{\"text\":\"Parametric Bootstrap Distribution\"}},\"renderers\":[{\"type\":\"object\",\"name\":\"GlyphRenderer\",\"id\":\"p1330\",\"attributes\":{\"data_source\":{\"id\":\"p1318\"},\"view\":{\"type\":\"object\",\"name\":\"CDSView\",\"id\":\"p1331\",\"attributes\":{\"filter\":{\"type\":\"object\",\"name\":\"AllIndices\",\"id\":\"p1332\"}}},\"glyph\":{\"type\":\"object\",\"name\":\"Quad\",\"id\":\"p1327\",\"attributes\":{\"left\":{\"type\":\"field\",\"field\":\"left\"},\"right\":{\"type\":\"field\",\"field\":\"right\"},\"bottom\":{\"type\":\"field\",\"field\":\"bottom\"},\"top\":{\"type\":\"field\",\"field\":\"top\"},\"line_color\":{\"type\":\"value\",\"value\":\"white\"},\"fill_color\":{\"type\":\"value\",\"value\":[1,115,178]}}},\"nonselection_glyph\":{\"type\":\"object\",\"name\":\"Quad\",\"id\":\"p1328\",\"attributes\":{\"left\":{\"type\":\"field\",\"field\":\"left\"},\"right\":{\"type\":\"field\",\"field\":\"right\"},\"bottom\":{\"type\":\"field\",\"field\":\"bottom\"},\"top\":{\"type\":\"field\",\"field\":\"top\"},\"line_color\":{\"type\":\"value\",\"value\":\"white\"},\"line_alpha\":{\"type\":\"value\",\"value\":0.1},\"fill_color\":{\"type\":\"value\",\"value\":[1,115,178]},\"fill_alpha\":{\"type\":\"value\",\"value\":0.1},\"hatch_alpha\":{\"type\":\"value\",\"value\":0.1}}},\"muted_glyph\":{\"type\":\"object\",\"name\":\"Quad\",\"id\":\"p1329\",\"attributes\":{\"left\":{\"type\":\"field\",\"field\":\"left\"},\"right\":{\"type\":\"field\",\"field\":\"right\"},\"bottom\":{\"type\":\"field\",\"field\":\"bottom\"},\"top\":{\"type\":\"field\",\"field\":\"top\"},\"line_color\":{\"type\":\"value\",\"value\":\"white\"},\"line_alpha\":{\"type\":\"value\",\"value\":0.2},\"fill_color\":{\"type\":\"value\",\"value\":[1,115,178]},\"fill_alpha\":{\"type\":\"value\",\"value\":0.2},\"hatch_alpha\":{\"type\":\"value\",\"value\":0.2}}}}},{\"type\":\"object\",\"name\":\"GlyphRenderer\",\"id\":\"p1339\",\"attributes\":{\"data_source\":{\"id\":\"p1321\"},\"view\":{\"type\":\"object\",\"name\":\"CDSView\",\"id\":\"p1340\",\"attributes\":{\"filter\":{\"type\":\"object\",\"name\":\"AllIndices\",\"id\":\"p1341\"}}},\"glyph\":{\"type\":\"object\",\"name\":\"Quad\",\"id\":\"p1336\",\"attributes\":{\"left\":{\"type\":\"field\",\"field\":\"left\"},\"right\":{\"type\":\"field\",\"field\":\"right\"},\"bottom\":{\"type\":\"field\",\"field\":\"bottom\"},\"top\":{\"type\":\"field\",\"field\":\"top\"},\"line_color\":{\"type\":\"value\",\"value\":\"white\"},\"fill_color\":{\"type\":\"value\",\"value\":\"red\"}}},\"nonselection_glyph\":{\"type\":\"object\",\"name\":\"Quad\",\"id\":\"p1337\",\"attributes\":{\"left\":{\"type\":\"field\",\"field\":\"left\"},\"right\":{\"type\":\"field\",\"field\":\"right\"},\"bottom\":{\"type\":\"field\",\"field\":\"bottom\"},\"top\":{\"type\":\"field\",\"field\":\"top\"},\"line_color\":{\"type\":\"value\",\"value\":\"white\"},\"line_alpha\":{\"type\":\"value\",\"value\":0.1},\"fill_color\":{\"type\":\"value\",\"value\":\"red\"},\"fill_alpha\":{\"type\":\"value\",\"value\":0.1},\"hatch_alpha\":{\"type\":\"value\",\"value\":0.1}}},\"muted_glyph\":{\"type\":\"object\",\"name\":\"Quad\",\"id\":\"p1338\",\"attributes\":{\"left\":{\"type\":\"field\",\"field\":\"left\"},\"right\":{\"type\":\"field\",\"field\":\"right\"},\"bottom\":{\"type\":\"field\",\"field\":\"bottom\"},\"top\":{\"type\":\"field\",\"field\":\"top\"},\"line_color\":{\"type\":\"value\",\"value\":\"white\"},\"line_alpha\":{\"type\":\"value\",\"value\":0.2},\"fill_color\":{\"type\":\"value\",\"value\":\"red\"},\"fill_alpha\":{\"type\":\"value\",\"value\":0.2},\"hatch_alpha\":{\"type\":\"value\",\"value\":0.2}}}}},{\"type\":\"object\",\"name\":\"Span\",\"id\":\"p1343\",\"attributes\":{\"location\":2.2804911538963033,\"dimension\":\"height\",\"line_width\":3}},{\"type\":\"object\",\"name\":\"GlyphRenderer\",\"id\":\"p1350\",\"attributes\":{\"data_source\":{\"type\":\"object\",\"name\":\"ColumnDataSource\",\"id\":\"p1344\",\"attributes\":{\"selected\":{\"type\":\"object\",\"name\":\"Selection\",\"id\":\"p1346\",\"attributes\":{\"indices\":[],\"line_indices\":[]}},\"selection_policy\":{\"type\":\"object\",\"name\":\"UnionRenderers\",\"id\":\"p1345\"},\"data\":{\"type\":\"map\",\"entries\":[[\"x\",{\"type\":\"ndarray\",\"array\":{\"type\":\"bytes\",\"data\":\"AAAAAAAAHMDFvJ0hMW8bwIl5O0Ni3hrATjbZZJNNGsAS83aGxLwZwNevFKj1KxnAm2yyySabGMBgKVDrVwoYwCTm7QyJeRfA6aKLLrroFsCtXylQ61cWwHIcx3EcxxXANtlkk002FcD7lQK1fqUUwMBSoNavFBTAhA8++OCDE8BIzNsZEvMSwA2JeTtDYhLA0kUXXXTREcCWArV+pUARwFq/UqDWrxDAH3zwwQcfEMDHcRzHcRwPwFDrVwrU+g3A2mSTTTbZDMBj3s6QmLcLwOxXCtT6lQrAddFFF110CcD+SoFav1IIwIbEvJ0hMQfAED744IMPBsCYtzMk5u0EwCIxb2dIzAPArKqqqqqqAsA0JObtDIkBwL6dITFvZwDAjC666KKL/r+gITFvZ0j8v7AUqPUrBfq/xAcffPDB97/U+pUCtX71v+jtDIl5O/O/+OCDDz748L8YqPUrBWrtvziO4ziO4+i/YHTRRRdd5L8AtX6lQK3fv1CBWr9SoNa/QJtssskmy7+AZ0jM2xmyv0BnSMzbGbI/IJtssskmyz9AgVq/UqDWPwC1fqVArd8/WHTRRRdd5D84juM4juPoPxCo9SsFau0/+OCDDz748D/o7QyJeTvzP9D6lQK1fvU/wAcffPDB9z+wFKj1KwX6P6AhMW9nSPw/iC666KKL/j+8nSExb2cAQDQk5u0MiQFAqKqqqqqqAkAgMW9nSMwDQJi3MyTm7QRAED744IMPBkCExLydITEHQPxKgVq/UghAdNFFF110CUDsVwrU+pUKQGDezpCYtwtA2GSTTTbZDEBQ61cK1PoNQMhxHMdxHA9AHnzwwQcfEEBav1Kg1q8QQJYCtX6lQBFA0EUXXXTREUAMiXk7Q2ISQEjM2xkS8xJAhA8++OCDE0C+UqDWrxQUQPqVArV+pRRANtlkk002FUByHMdxHMcVQKxfKVDrVxZA6KKLLrroFkAk5u0MiXkXQGApUOtXChhAmmyyySabGEDWrxSo9SsZQBLzdobEvBlATDbZZJNNGkCIeTtDYt4aQMS8nSExbxtAAAAAAAAAHEA=\"},\"shape\":[100],\"dtype\":\"float64\",\"order\":\"little\"}],[\"y\",{\"type\":\"ndarray\",\"array\":{\"type\":\"bytes\",\"data\":\"ZA6tl3hNAj+Azt5VGbwFPxmfbl+D3wk/cA/jExzgDj9BeNwW/3cSP4HHRhi7JhY/IWxvZRWjGj9+5oRpyA4gPz1NRsx3aSM/hSK9iLyHJz+AGnm8lJksP3BV8rjDbTE/XhknjgpNNT9qegX3EBs6P60tqnOoCkA/XYR+ePjEQz9AVpg5OW5IP+UKCMrZRU4/thzBqGjOUj+VsKnkRW1XPyydwsSYQV0/O70zGehPYj+tNqMr3/lmPxr6e7lz42w/nDl/kBUycj+vbP88jfV2P7l+hvVXAn0/xiGPlmFYgj/ygfLAjTeHP6JI6ND7Yo0/79hEDymXkj83StB4Tn+XP+/Bq3zmpZ0/JOEPpkWooj9fIdgz2WanP+glwYs1Oa0/itqqZIElsj8bVueawGK2P43uPNUyZbs/m+r/VEKbwD/oZtEOjOrDP2imvsfJl8c/UWbUg2SQyz8MbQ7ydbbPP0ABhi9N8NE/yuV69L7t0z9EuSSZt7bVP3QvCHTsLdc/C/82RP842D9GEsJr78PYP0YSwmvvw9g/E/82RP842D90Lwh07C3XP0S5JJm3ttU/0OV69L7t0z9AAYYvTfDRPxVtDvJ1ts8/UWbUg2SQyz9opr7HyZfHP+5m0Q6M6sM/n+r/VEKbwD+N7jzVMmW7PxtW55rAYrY/jtqqZIElsj/1JcGLNTmtP18h2DPZZqc/M+EPpkWooj//wat85qWdPzdK0HhOf5c/79hEDymXkj+rSOjQ+2KNP/KB8sCNN4c/xiGPlmFYgj+5fob1VwJ9P8Bs/zyN9XY/pTl/kBUycj8a+nu5c+NsP6g2oyvf+WY/RL0zGehPYj8sncLEmEFdP5WwqeRFbVc/xRzBqGjOUj/xCgjK2UVOP0BWmDk5bkg/XYR+ePjEQz+6LapzqApAP3J6BfcQGzo/XhknjgpNNT9wVfK4w20xP48aebyUmSw/jCK9iLyHJz89TUbMd2kjP37mhGnIDiA/L2xvZRWjGj+Gx0YYuyYWP0F43Bb/dxI/hQ/jExzgDj8fn25fg98JP4XO3lUZvAU/ZA6tl3hNAj8=\"},\"shape\":[100],\"dtype\":\"float64\",\"order\":\"little\"}]]}}},\"view\":{\"type\":\"object\",\"name\":\"CDSView\",\"id\":\"p1351\",\"attributes\":{\"filter\":{\"type\":\"object\",\"name\":\"AllIndices\",\"id\":\"p1352\"}}},\"glyph\":{\"type\":\"object\",\"name\":\"Line\",\"id\":\"p1347\",\"attributes\":{\"x\":{\"type\":\"field\",\"field\":\"x\"},\"y\":{\"type\":\"field\",\"field\":\"y\"},\"line_color\":\"rgb(222, 143, 5)\",\"line_width\":3}},\"nonselection_glyph\":{\"type\":\"object\",\"name\":\"Line\",\"id\":\"p1348\",\"attributes\":{\"x\":{\"type\":\"field\",\"field\":\"x\"},\"y\":{\"type\":\"field\",\"field\":\"y\"},\"line_color\":\"rgb(222, 143, 5)\",\"line_alpha\":0.1,\"line_width\":3}},\"muted_glyph\":{\"type\":\"object\",\"name\":\"Line\",\"id\":\"p1349\",\"attributes\":{\"x\":{\"type\":\"field\",\"field\":\"x\"},\"y\":{\"type\":\"field\",\"field\":\"y\"},\"line_color\":\"rgb(222, 143, 5)\",\"line_alpha\":0.2,\"line_width\":3}}}}],\"toolbar\":{\"type\":\"object\",\"name\":\"Toolbar\",\"id\":\"p1291\"},\"toolbar_location\":null,\"left\":[{\"type\":\"object\",\"name\":\"LogAxis\",\"id\":\"p1307\",\"attributes\":{\"ticker\":{\"type\":\"object\",\"name\":\"LogTicker\",\"id\":\"p1308\",\"attributes\":{\"num_minor_ticks\":10,\"mantissas\":[1,5]}},\"formatter\":{\"type\":\"object\",\"name\":\"LogTickFormatter\",\"id\":\"p1309\"},\"axis_label\":\"$$p(T^* = x| H_0)$$\",\"major_label_policy\":{\"type\":\"object\",\"name\":\"AllLabels\",\"id\":\"p1310\"}}}],\"below\":[{\"type\":\"object\",\"name\":\"LinearAxis\",\"id\":\"p1300\",\"attributes\":{\"ticker\":{\"type\":\"object\",\"name\":\"BasicTicker\",\"id\":\"p1301\",\"attributes\":{\"mantissas\":[1,2,5]}},\"formatter\":{\"type\":\"object\",\"name\":\"BasicTickFormatter\",\"id\":\"p1302\"},\"axis_label\":\"SNR / Test Statistc\",\"major_label_policy\":{\"type\":\"object\",\"name\":\"AllLabels\",\"id\":\"p1303\"}}}],\"center\":[{\"type\":\"object\",\"name\":\"Grid\",\"id\":\"p1306\",\"attributes\":{\"axis\":{\"id\":\"p1300\"}}},{\"type\":\"object\",\"name\":\"Grid\",\"id\":\"p1313\",\"attributes\":{\"dimension\":1,\"axis\":{\"id\":\"p1307\"}}},{\"type\":\"object\",\"name\":\"Label\",\"id\":\"p1342\",\"attributes\":{\"text\":\"$$T_{\\\\text{obs}} = 2.28$$\",\"x\":3,\"y\":0.2}},{\"type\":\"object\",\"name\":\"Legend\",\"id\":\"p1375\",\"attributes\":{\"location\":\"bottom_left\",\"items\":[{\"type\":\"object\",\"name\":\"LegendItem\",\"id\":\"p1376\",\"attributes\":{\"label\":{\"type\":\"value\",\"value\":\"t-distribution\"},\"renderers\":[{\"id\":\"p1350\"}]}}]}}]}}]}}]}};\n",
       "  const render_items = [{\"docid\":\"0aba7b59-da4e-4614-a139-723f57e3a28d\",\"roots\":{\"p1382\":\"a6caed70-a253-4fd0-ba35-be76b75cd6da\"},\"root_ids\":[\"p1382\"]}];\n",
       "  root.Bokeh.embed.embed_items_notebook(docs_json, render_items);\n",
       "  }\n",
       "  if (root.Bokeh !== undefined) {\n",
       "    embed_document(root);\n",
       "  } else {\n",
       "    let attempts = 0;\n",
       "    const timer = setInterval(function(root) {\n",
       "      if (root.Bokeh !== undefined) {\n",
       "        clearInterval(timer);\n",
       "        embed_document(root);\n",
       "      } else {\n",
       "        attempts++;\n",
       "        if (attempts > 100) {\n",
       "          clearInterval(timer);\n",
       "          console.log(\"Bokeh: ERROR: Unable to run BokehJS code because BokehJS library is missing\");\n",
       "        }\n",
       "      }\n",
       "    }, 10, root)\n",
       "  }\n",
       "})(window);"
      ],
      "application/vnd.bokehjs_exec.v0+json": ""
     },
     "metadata": {
      "application/vnd.bokehjs_exec.v0+json": {
       "id": "p1382"
      }
     },
     "output_type": "display_data"
    }
   ],
   "source": [
    "# 1. Setup the figure ----------------------------------------------------------\n",
    "p = figure(width=750, height=300, \n",
    "           toolbar_location=None,\n",
    "           tools = [],\n",
    "           title=\"Parametric Bootstrap Distribution\",\n",
    "           y_axis_type=\"log\", \n",
    "           y_range=(1e-5, 3),\n",
    "           x_range=(-7, 7))\n",
    "\n",
    "# 2. Plot the histogram --------------------------------------------------------\n",
    "# The ColumnDataSource are used for the interactive updates\n",
    "# s_all_histograms contains all available histograms\n",
    "s_all_histograms = ColumnDataSource(data=final_histograms)\n",
    "\n",
    "# s_hist_data_small and s_hist_data_large contain the current histogram\n",
    "s_hist_data_small = ColumnDataSource(\n",
    "    data=dict(top=final_histograms[\"1e+05_Gauss\"][0], \n",
    "              bottom=([1e-7,]*99)[:cut_off_idx], \n",
    "              left=edges[:-1][:cut_off_idx], \n",
    "              right=edges[1:][:cut_off_idx]))\n",
    "\n",
    "s_hist_data_large = ColumnDataSource(\n",
    "    data=dict(top=final_histograms[\"1e+05_Gauss\"][1], \n",
    "              bottom=([1e-7,]*99)[cut_off_idx:], \n",
    "              left=edges[:-1][cut_off_idx:], \n",
    "              right=edges[1:][cut_off_idx:]))\n",
    "\n",
    "# Draw the actual histogram ----------------------------------------------------\n",
    "p.quad(top=\"top\", bottom=\"bottom\", left=\"left\", right=\"right\",\n",
    "       source=s_hist_data_small,\n",
    "       fill_color=color_blue, \n",
    "       line_color=\"white\")\n",
    "\n",
    "p.quad(top=\"top\", bottom=\"bottom\", left=\"left\", right=\"right\",\n",
    "       source=s_hist_data_large,\n",
    "       fill_color=color_red, \n",
    "       line_color=\"white\")\n",
    "\n",
    "# 3. Add labels ----------------------------------------------------------------\n",
    "p.xaxis.axis_label = \"SNR / Test Statistc\"\n",
    "p.yaxis.axis_label = r\"$$p(T^* = x| H_0)$$\"\n",
    "mytext = Label(x=3, y=0.2,\n",
    "               text=r'$$T_{\\text{obs}} = 2.28$$')\n",
    "p.add_layout(mytext)\n",
    "\n",
    "# 4. Draw T_obs vertical line --------------------------------------------------\n",
    "vline = Span(location=T_obs, \n",
    "             dimension='height', \n",
    "             line_color='black', \n",
    "             line_width=3)\n",
    "p.renderers.extend([vline,])\n",
    "\n",
    "\n",
    "# 5. Plot the t-distibution ----------------------------------------------------\n",
    "x = np.linspace(-7.0, 7.0, 100)\n",
    "pdf = stats.t.pdf(x, df=9)\n",
    "p.line(x, pdf, line_width=3, line_color=color_t_dist,\n",
    "       legend_label=\"t-distribution\")\n",
    "p.legend.location = \"bottom_left\"\n",
    "\n",
    "\n",
    "# 6. Add fpf Text box ----------------------------------------------------------\n",
    "fpf_text = Div(text=\"\"\"<p style=\"color:black;\n",
    "                                 font-size:20px;\n",
    "                                 font-weight: bold;\">FPF = 0.0245 </p>\"\"\",\n",
    "width=300, height=50, margin=(30, 10, 10, 50))\n",
    "\n",
    "# 7. Add interaction -----------------------------------------------------------\n",
    "# JavaScript code for the update\n",
    "code = \"\"\"\n",
    "    // 1.) Select the histogram\n",
    "    const hist_new = s_all_histograms.data[B.value + \"_\" + dist.value]\n",
    "    \n",
    "    // 2.) Update the FPF\n",
    "    const tmp_fpf = hist_new[2]\n",
    "    fpf_text.text = '<p style=\"color:black; font-size:20px; font-weight:'\n",
    "        + ' bold;\">FPF = ' + tmp_fpf + '</p>'\n",
    "    \n",
    "    \n",
    "    // 3.) update the values\n",
    "    s_hist_data_small.data = {\n",
    "         top: hist_new[0], \n",
    "         bottom: s_hist_data_small.data.bottom, \n",
    "         left: s_hist_data_small.data.left, \n",
    "         right: s_hist_data_small.data.right}; \n",
    "         \n",
    "    s_hist_data_large.data = {\n",
    "         top: hist_new[1], \n",
    "         bottom: s_hist_data_large.data.bottom, \n",
    "         left: s_hist_data_large.data.left, \n",
    "         right: s_hist_data_large.data.right};    \n",
    "    \n",
    "\"\"\"\n",
    "# create the Dropdown menus\n",
    "select_B = Select(title=\"B:\", value=\"1e+05\", \n",
    "                  options=[\"{:.0e}\".format(i) for i in num_draws])\n",
    "\n",
    "select_dist = Select(title=\"Assumed noise:\", \n",
    "                     value=\"Gauss\",\n",
    "                     options=[\"Gauss\", \"Laplace\"])\n",
    "\n",
    "# Setup the callback function\n",
    "callback = CustomJS(args=dict(\n",
    "    B=select_B,\n",
    "    dist=select_dist,\n",
    "    fpf_text=fpf_text,\n",
    "    s_all_histograms=s_all_histograms,\n",
    "    s_hist_data_large=s_hist_data_large,\n",
    "    s_hist_data_small=s_hist_data_small), \n",
    "                    code=code)\n",
    "\n",
    "select_B.js_on_change('value', callback)\n",
    "select_dist.js_on_change('value', callback)\n",
    "\n",
    "# 8. Show the plot -------------------------------------------------------------\n",
    "show(column(row(select_B, select_dist, fpf_text), p))"
   ]
  }
 ],
 "metadata": {
  "celltoolbar": "Edit Metadata",
  "kernelspec": {
   "display_name": "Python 3 (ipykernel)",
   "language": "python",
   "name": "python3"
  },
  "language_info": {
   "codemirror_mode": {
    "name": "ipython",
    "version": 3
   },
   "file_extension": ".py",
   "mimetype": "text/x-python",
   "name": "python",
   "nbconvert_exporter": "python",
   "pygments_lexer": "ipython3",
   "version": "3.8.10"
  },
  "widgets": {
   "application/vnd.jupyter.widget-state+json": {
    "state": {},
    "version_major": 2,
    "version_minor": 0
   }
  }
 },
 "nbformat": 4,
 "nbformat_minor": 5
}
