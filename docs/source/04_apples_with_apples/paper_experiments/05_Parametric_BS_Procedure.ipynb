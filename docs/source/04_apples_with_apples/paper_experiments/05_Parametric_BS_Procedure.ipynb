{
 "cells": [
  {
   "cell_type": "markdown",
   "id": "27e91565",
   "metadata": {},
   "source": [
    "# Figure 5: Parametric Bootstrap"
   ]
  },
  {
   "cell_type": "markdown",
   "id": "8054fcf3",
   "metadata": {},
   "source": [
    "<div style=\"text-align: justify\">\n",
    "This code is used to create **Figure 5** in the **Apples with Apples** paper (Bonse et al. in prep). The Figure illustrates how the parametric bootstrap introduced in the paper works. The figure is composed of 2 subplots: first, a visualization of the resampling procedure which gives us the list of bootstrap samples (with size $B$). Second, a sequence of three histograms which show how the distribution of $p(T^* = x | H_0)$ converges as $B$ gets larger (under the assumption of Gaussian noise). \n",
    "\n",
    "In addition to the plots shown in the paper we also show histograms for the convergence of $p(T^* = x | H_0)$ under the assumption of Laplacian noise.\n",
    "</div>"
   ]
  },
  {
   "cell_type": "markdown",
   "id": "a5b96496",
   "metadata": {},
   "source": [
    "## Imports"
   ]
  },
  {
   "cell_type": "code",
   "execution_count": 1,
   "id": "ef1c7d0e",
   "metadata": {},
   "outputs": [],
   "source": [
    "import os\n",
    "import json\n",
    "\n",
    "import numpy as np\n",
    "import pandas as pd\n",
    "from scipy import stats\n",
    "\n",
    "import matplotlib.pyplot as plt\n",
    "import matplotlib.gridspec as gridspec\n",
    "import seaborn as sns\n",
    "\n",
    "# bokeh visualization\n",
    "from bokeh.plotting import figure, show\n",
    "from bokeh.models import ColumnDataSource, CustomJS, Select, Label, Div, Legend, Span\n",
    "from bokeh.layouts import column, row\n",
    "\n",
    "# applefy\n",
    "from applefy.utils import AperturePhotometryMode, estimate_reference_positions, \\\n",
    "    center_subpixel, get_flux\n",
    "from applefy.utils.data_handling import load_adi_data, read_apples_with_apples_root,\\\n",
    "    open_fits\n",
    "\n",
    "from applefy.statistics import TTest, LaplaceBootstrapTest\n",
    "from applefy.statistics.bootstrapping import GaussianBootstrapTest"
   ]
  },
  {
   "cell_type": "markdown",
   "id": "c4d0a3d5",
   "metadata": {},
   "source": [
    "## Data Loading"
   ]
  },
  {
   "cell_type": "markdown",
   "id": "efc9425c",
   "metadata": {},
   "source": [
    "<div style=\"text-align: justify\">\n",
    "Figure 5 is based on the signal and noise values extracted in [Figure 01](01_What_is_a_detection.ipynb). Thus, we use the same code to extract the values.\n",
    "\n",
    "In order to run the code **make sure to download the data from Zenodo and [read the instructions](../02_paper_data.md) on how to setup the files**.\n",
    "</div>"
   ]
  },
  {
   "cell_type": "code",
   "execution_count": 2,
   "id": "80ad824e",
   "metadata": {},
   "outputs": [
    {
     "name": "stdout",
     "output_type": "stream",
     "text": [
      "Data in the APPLES_ROOT_DIR found. Location: /Users/markusbonse/Desktop/\n"
     ]
    }
   ],
   "source": [
    "experiment_root = read_apples_with_apples_root()"
   ]
  },
  {
   "cell_type": "markdown",
   "id": "195dcc35",
   "metadata": {},
   "source": [
    "<div style=\"text-align: justify\">\n",
    "Set the path to one example residual and the config file used to create it. The config file is used to obtain the position at which the artificial planet was inserted.\n",
    "</div>"
   ]
  },
  {
   "cell_type": "code",
   "execution_count": 3,
   "id": "8b074024",
   "metadata": {},
   "outputs": [],
   "source": [
    "fake_planet_residual_path = os.path.join(\n",
    "    experiment_root, \n",
    "    \"70_results/detection_limits/Beta_Pic_non_stacked/pca_residuals/pca_020_ID_0115f.fits\")\n",
    "\n",
    "fake_planet_config_path = os.path.join(\n",
    "     experiment_root, \n",
    "    \"70_results/detection_limits/Beta_Pic_non_stacked/configs_cgrid/exp_ID_0115f.json\")"
   ]
  },
  {
   "cell_type": "markdown",
   "id": "4ad30c81",
   "metadata": {},
   "source": [
    "Open the .fits file with the fake planet residual and load the planet position from the config file."
   ]
  },
  {
   "cell_type": "code",
   "execution_count": 4,
   "id": "b83813f1",
   "metadata": {},
   "outputs": [],
   "source": [
    "planet_residual = open_fits(fake_planet_residual_path)\n",
    "\n",
    "with open(fake_planet_config_path) as json_file:\n",
    "    fake_planet_config = json.load(json_file)\n",
    "\n",
    "# The last two values in \"planet_position\" are the separation from the star and the position angle\n",
    "planet_position = fake_planet_config[\"planet_position\"][:2]"
   ]
  },
  {
   "cell_type": "markdown",
   "id": "af6f6698",
   "metadata": {},
   "source": [
    "Estimate the positions for the noise apertures. "
   ]
  },
  {
   "cell_type": "code",
   "execution_count": 5,
   "id": "9884628e",
   "metadata": {},
   "outputs": [],
   "source": [
    "# estimate reference positions for the noise\n",
    "noise_positions = estimate_reference_positions(\n",
    "    planet_position,\n",
    "    center=center_subpixel(planet_residual),\n",
    "    psf_fwhm_radius=2.1,\n",
    "    angle_offset=5,  # more details are explained in the documentation of Figure 3.\n",
    "    safety_margin=0.5)"
   ]
  },
  {
   "cell_type": "code",
   "execution_count": 6,
   "id": "d99ac23a",
   "metadata": {},
   "outputs": [
    {
     "data": {
      "text/plain": [
       "[(45.16718454912184, 35.036050779529816, 8.4, 346.4788975654116),\n",
       " (45.05496390717036, 39.3827623578911, 8.4, 376.4788975654116),\n",
       " (42.784422191230746, 43.09101468670018, 8.4, 406.47889756541156),\n",
       " (38.963949220470184, 45.16718454912184, 8.4, 436.4788975654116),\n",
       " (34.617237642108904, 45.05496390717036, 8.4, 466.4788975654116),\n",
       " (30.908985313299823, 42.784422191230746, 8.4, 496.47889756541156),\n",
       " (28.832815450878158, 38.96394922047019, 8.4, 526.4788975654116),\n",
       " (28.945036092829636, 34.617237642108904, 8.4, 556.4788975654116),\n",
       " (31.215577808769254, 30.908985313299823, 8.4, 586.4788975654116),\n",
       " (35.03605077952982, 28.832815450878158, 8.4, 616.4788975654117)]"
      ]
     },
     "execution_count": 6,
     "metadata": {},
     "output_type": "execute_result"
    }
   ],
   "source": [
    "noise_positions"
   ]
  },
  {
   "cell_type": "markdown",
   "id": "f30fff71",
   "metadata": {},
   "source": [
    "As in [Figure 01](01_What_is_a_detection.ipynb) we use the [AperturePhotometryMode](../../04_package/utils.rst#applefy.utils.aperture_photometry.AperturePhotometryMode) \"ASS\" and \"AS\" of applefy to calculate the aperture averages."
   ]
  },
  {
   "cell_type": "code",
   "execution_count": 7,
   "id": "2e232e3a",
   "metadata": {},
   "outputs": [],
   "source": [
    "photometry_mode_planet = AperturePhotometryMode(\"ASS\", psf_fwhm_radius=2.1, search_area=1.5)\n",
    "photometry_mode_noise = AperturePhotometryMode(\"AS\", psf_fwhm_radius=2.1)"
   ]
  },
  {
   "cell_type": "code",
   "execution_count": 8,
   "id": "7e0bbaba",
   "metadata": {},
   "outputs": [],
   "source": [
    "# Compute the noise values\n",
    "noise_flux = []\n",
    "for tmp_pos in noise_positions:\n",
    "    tmp_flux = get_flux(planet_residual,\n",
    "                        tmp_pos[:2],\n",
    "                        photometry_mode=photometry_mode_noise)[1]\n",
    "    noise_flux.append(tmp_flux)\n",
    "    \n",
    "# Compute the planet flux\n",
    "planet_flux = get_flux(planet_residual,\n",
    "                       planet_position,\n",
    "                       photometry_mode=photometry_mode_planet)[1]"
   ]
  },
  {
   "cell_type": "markdown",
   "id": "bc0f9403",
   "metadata": {},
   "source": [
    "## Compute the test statistic $T_{\\text{obs}}$"
   ]
  },
  {
   "cell_type": "markdown",
   "id": "35b9bd4f",
   "metadata": {},
   "source": [
    "As for the t-Test we need to compute the test statistic $T_{\\text{obs}}$. We use the code of the [t-Test](../../04_package/statistics.rst#applefy.statistics.parametric.TTest) but only use its second return parameter."
   ]
  },
  {
   "cell_type": "code",
   "execution_count": 9,
   "id": "5d6fcf92",
   "metadata": {},
   "outputs": [
    {
     "data": {
      "text/plain": [
       "2.2804911538963033"
      ]
     },
     "execution_count": 9,
     "metadata": {},
     "output_type": "execute_result"
    }
   ],
   "source": [
    "test = TTest()\n",
    "T_obs = test.test_2samp(planet_flux, noise_flux)[1]\n",
    "\n",
    "T_obs"
   ]
  },
  {
   "cell_type": "markdown",
   "id": "9b0c89af",
   "metadata": {},
   "source": [
    "## The Gaussian Bootstrap Test"
   ]
  },
  {
   "cell_type": "markdown",
   "id": "7db5d744",
   "metadata": {},
   "source": [
    "<div style=\"text-align: justify\">\n",
    "For illustration purposes we resample from a Gaussian distribution in this example. This allows us to show that the parametric bootstrap test is equivalent to the t-Test if we make the same assumption about the noise. In reality we would never use bootstrapping if we want to assume a Gaussian noise as it is computationally expensive. However, the parametric bootstrap is not limited to the assumption of Gaussian noise. An example for Laplacian noise is shown at [the end of this page](05_Parametric_BS_Procedure.ipynb#Bootstrapping-for-Laplacian-noise).\n",
    "\n",
    "We start the resampling by setting up a [GaussianBootstrapTest](../../04_package/statistics.rst#applefy.statistics.bootstrapping.GaussianBootstrapTest). The input of the GaussianBootstrapTest is our noise sample which is used to estimate the MLE parameters $\\mu_{\\text{MLE}}= \\overline{\\mathcal{X}}$ and $\\sigma_{\\text{MLE}} = \\hat{\\sigma}_{\\mathcal{X}}$.\n",
    "</div>"
   ]
  },
  {
   "cell_type": "code",
   "execution_count": 10,
   "id": "b91ca429",
   "metadata": {},
   "outputs": [],
   "source": [
    "test_statistic = GaussianBootstrapTest(\n",
    "    noise_flux, \n",
    "    num_cpus=8)"
   ]
  },
  {
   "cell_type": "markdown",
   "id": "ad9ca83a",
   "metadata": {},
   "source": [
    "<div style=\"text-align: justify\">\n",
    "Now we can run the actual resampling using the function [run_bootstrap_experiment](../../04_package/statistics.rst#applefy.statistics.bootstrapping.BootstrapTest.run_bootstrap_experiment). The parameter *num_noise_values* gives the number of noise observations we want to resample. It should be equal to the same number of observations we extracted from our residual. This way we are able to account for the effect of the small sample statistics. The parameter *num_draws* gives the number of bootstrap samples we want to obtain ($B$). The *approximation_interval* is only needed if we want to restore our bootstrap lookup table later.\n",
    "\n",
    "Note: The following code cell is computationally expensive. Consider reducing *num_draws*.\n",
    "</div>"
   ]
  },
  {
   "cell_type": "code",
   "execution_count": 11,
   "id": "23d396aa",
   "metadata": {},
   "outputs": [],
   "source": [
    "T_star_gauss = test_statistic.run_bootstrap_experiment(\n",
    "    memory_size=5e6,\n",
    "    num_noise_values=len(noise_flux),\n",
    "    num_draws=1e8,  # num_draws=1e9 was used in the paper\n",
    "    approximation_interval=np.linspace(-7, 7, 100000))"
   ]
  },
  {
   "cell_type": "code",
   "execution_count": 12,
   "id": "6954b9a2",
   "metadata": {},
   "outputs": [
    {
     "data": {
      "text/plain": [
       "(100000000,)"
      ]
     },
     "execution_count": 12,
     "metadata": {},
     "output_type": "execute_result"
    }
   ],
   "source": [
    "T_star_gauss.shape"
   ]
  },
  {
   "cell_type": "markdown",
   "id": "1696df07",
   "metadata": {},
   "source": [
    "## Create the Subplots"
   ]
  },
  {
   "cell_type": "markdown",
   "id": "20741e49",
   "metadata": {},
   "source": [
    "Define the colors we use along all subplots."
   ]
  },
  {
   "cell_type": "code",
   "execution_count": 13,
   "id": "258e932b",
   "metadata": {},
   "outputs": [
    {
     "data": {
      "text/html": [
       "<svg  width=\"550\" height=\"55\"><rect x=\"0\" y=\"0\" width=\"55\" height=\"55\" style=\"fill:#0173b2;stroke-width:2;stroke:rgb(255,255,255)\"/><rect x=\"55\" y=\"0\" width=\"55\" height=\"55\" style=\"fill:#de8f05;stroke-width:2;stroke:rgb(255,255,255)\"/><rect x=\"110\" y=\"0\" width=\"55\" height=\"55\" style=\"fill:#029e73;stroke-width:2;stroke:rgb(255,255,255)\"/><rect x=\"165\" y=\"0\" width=\"55\" height=\"55\" style=\"fill:#d55e00;stroke-width:2;stroke:rgb(255,255,255)\"/><rect x=\"220\" y=\"0\" width=\"55\" height=\"55\" style=\"fill:#cc78bc;stroke-width:2;stroke:rgb(255,255,255)\"/><rect x=\"275\" y=\"0\" width=\"55\" height=\"55\" style=\"fill:#ca9161;stroke-width:2;stroke:rgb(255,255,255)\"/><rect x=\"330\" y=\"0\" width=\"55\" height=\"55\" style=\"fill:#fbafe4;stroke-width:2;stroke:rgb(255,255,255)\"/><rect x=\"385\" y=\"0\" width=\"55\" height=\"55\" style=\"fill:#949494;stroke-width:2;stroke:rgb(255,255,255)\"/><rect x=\"440\" y=\"0\" width=\"55\" height=\"55\" style=\"fill:#ece133;stroke-width:2;stroke:rgb(255,255,255)\"/><rect x=\"495\" y=\"0\" width=\"55\" height=\"55\" style=\"fill:#56b4e9;stroke-width:2;stroke:rgb(255,255,255)\"/></svg>"
      ],
      "text/plain": [
       "[(0.00392156862745098, 0.45098039215686275, 0.6980392156862745),\n",
       " (0.8705882352941177, 0.5607843137254902, 0.0196078431372549),\n",
       " (0.00784313725490196, 0.6196078431372549, 0.45098039215686275),\n",
       " (0.8352941176470589, 0.3686274509803922, 0.0),\n",
       " (0.8, 0.47058823529411764, 0.7372549019607844),\n",
       " (0.792156862745098, 0.5686274509803921, 0.3803921568627451),\n",
       " (0.984313725490196, 0.6862745098039216, 0.8941176470588236),\n",
       " (0.5803921568627451, 0.5803921568627451, 0.5803921568627451),\n",
       " (0.9254901960784314, 0.8823529411764706, 0.2),\n",
       " (0.33725490196078434, 0.7058823529411765, 0.9137254901960784)]"
      ]
     },
     "execution_count": 13,
     "metadata": {},
     "output_type": "execute_result"
    }
   ],
   "source": [
    "sns.color_palette(\"colorblind\")"
   ]
  },
  {
   "cell_type": "markdown",
   "id": "e5241592",
   "metadata": {},
   "source": [
    "### 1. Illustration of the Bootstrapping"
   ]
  },
  {
   "cell_type": "markdown",
   "id": "a563d255",
   "metadata": {},
   "source": [
    "The first subplot shows how we estimate the MLE parameters of the Gaussian distribution in order to use the for the resampling."
   ]
  },
  {
   "cell_type": "code",
   "execution_count": 14,
   "id": "7b11c782",
   "metadata": {},
   "outputs": [],
   "source": [
    "# Estimate the location and scale of the Gaussian we want to resample from.\n",
    "gauss_loc = np.mean(noise_flux)\n",
    "gauss_scale = np.std(noise_flux)"
   ]
  },
  {
   "cell_type": "markdown",
   "id": "3b65f863",
   "metadata": {},
   "source": [
    "Draw 6 bootstrap samples as examples. Note, the +1 is for the signal (yellow in the Figure)."
   ]
  },
  {
   "cell_type": "code",
   "execution_count": 15,
   "id": "4c58dc55",
   "metadata": {},
   "outputs": [],
   "source": [
    "np.random.seed(42)\n",
    "resamples =  [np.random.normal(loc=gauss_loc, \n",
    "                               scale=gauss_scale, \n",
    "                               size=len(noise_flux) + 1) \n",
    "              for i in range(6)]"
   ]
  },
  {
   "cell_type": "markdown",
   "id": "5e68512c",
   "metadata": {},
   "source": [
    "A simple function to plot one of the 6 bootstrap samples."
   ]
  },
  {
   "cell_type": "code",
   "execution_count": 16,
   "id": "b41f1f16",
   "metadata": {},
   "outputs": [],
   "source": [
    "def plot_samples(noise_in, \n",
    "                 planet_in,\n",
    "                 axis_in,\n",
    "                 idx):\n",
    "    \n",
    "    # if idx is None it is the actual data.\n",
    "    # We plot it with different colors and labels\n",
    "    if idx is None:\n",
    "        color_noise = sns.color_palette(\"colorblind\")[0]\n",
    "        color_signal = sns.color_palette(\"colorblind\")[1]\n",
    "        noise_label = r\"$X_1, X_2, ..., X_n$\"\n",
    "        signal_label = r\"$Y_1$\"\n",
    "    else:\n",
    "        color_noise = sns.color_palette(\"colorblind\")[2]\n",
    "        color_signal = sns.color_palette(\"colorblind\")[8]\n",
    "        noise_label = r\"$X^*_1, X^*_2, ..., X^*_n$\"\n",
    "        signal_label = r\"$Y^*_1$\"\n",
    "    \n",
    "    # Compute the test statistic for the given bootstrap sample\n",
    "    T_star = test.test_2samp(planet_in, noise_in)[1]\n",
    "    \n",
    "    axis_in.hlines(0, xmin=-200, xmax=200, color=\"black\")\n",
    "    \n",
    "    # Plot the bootstrap sample\n",
    "    axis_in.scatter(noise_in,\n",
    "                    np.zeros_like(noise_in),\n",
    "                    color = color_noise,\n",
    "                    marker=\"x\", lw=3, s=100,\n",
    "                    label=noise_label)\n",
    "\n",
    "    axis_in.scatter(planet_in,\n",
    "                    np.zeros_like(planet_in),\n",
    "                    color = color_signal,\n",
    "                    marker=\"x\", lw=3, s=100, \n",
    "                    label=signal_label)\n",
    "    \n",
    "    # Add the value of the test statistic as text\n",
    "    if idx is None:\n",
    "        t_text = r\"$T_{obs}$\" + \" = {:.2f}\".format(T_obs)\n",
    "    else:\n",
    "        t_text = r\"$T^*_{}$\".format(idx) + \" = {:.2f}\".format(T_star)\n",
    "    \n",
    "    axis_in.text(120, 0, t_text, \n",
    "                 ha=\"center\", size=16, va=\"center\",\n",
    "                 bbox=dict(facecolor='white',\n",
    "                           boxstyle=\"round\",\n",
    "                           edgecolor=\"white\"))\n",
    "    \n",
    "    axis_in.set_xlim(-100, 135)\n",
    "    axis_in.axis(\"off\")"
   ]
  },
  {
   "cell_type": "markdown",
   "id": "5a6839b3",
   "metadata": {},
   "source": [
    "Create the final subplot."
   ]
  },
  {
   "cell_type": "code",
   "execution_count": 17,
   "id": "380c213d",
   "metadata": {},
   "outputs": [
    {
     "data": {
      "image/png": "[encoded data removed]",
      "text/plain": [
       "<Figure size 800x800 with 10 Axes>"
      ]
     },
     "metadata": {},
     "output_type": "display_data"
    }
   ],
   "source": [
    "# Create the Layout with gridspec\n",
    "fig = plt.figure(constrained_layout=False, figsize=(8, 8))\n",
    "\n",
    "# We have 10 subplots stack on to of each other\n",
    "# subplot 0: The input data\n",
    "# subplot 1: Estimation of the MLE\n",
    "# subplot 2: arrows from subplot 1 to subplots 3 - 9\n",
    "# subplots 3 - 5: bootstrap examples\n",
    "# subplot 6: Empty ...\n",
    "# subplots 7 - 9: bootstrap examples\n",
    "gs0 = fig.add_gridspec(10, 1, height_ratios=[1.5, 3, 1.,\n",
    "                                             1, 1, 1, 0.5,\n",
    "                                             1, 1, 1])\n",
    "\n",
    "# 1.) Plot the observations ---------------------------------------\n",
    "ax_observations = fig.add_subplot(gs0[0])\n",
    "plot_samples(noise_flux, planet_flux, ax_observations, None)\n",
    "\n",
    "ax_observations.text(gauss_loc, 0.035, \n",
    "                     r\"$\\overline{\\mathcal{X}}$\",\n",
    "                     ha=\"center\", size=16)\n",
    "\n",
    "# 2.) Plot the MLE step -------------------------------------------\n",
    "ax_mle = fig.add_subplot(gs0[1])\n",
    "\n",
    "# Plot the gaussian\n",
    "x = np.linspace(-200, 200, 2000)\n",
    "\n",
    "ax_mle.plot(x, stats.norm.pdf(x, loc=gauss_loc, scale=gauss_scale), \n",
    "            label=\"Noise PDF\",\n",
    "            color=sns.color_palette(\"colorblind\")[0], lw=3)\n",
    "\n",
    "ax_mle.set_xlim(-100, 135)\n",
    "ax_mle.set_ylim(-0.001, 0.019)\n",
    "ax_mle.hlines(0, xmin=-200, xmax=200, color=\"black\")\n",
    "ax_mle.axes.get_xaxis().set_ticklabels([])\n",
    "ax_mle.axes.get_yaxis().set_ticklabels([])\n",
    "ax_mle.axis(\"off\")\n",
    "\n",
    "ax_mle.axvline(gauss_loc,\n",
    "               ymin=0, ymax=1.4, ls=\"--\",\n",
    "               color=\"black\", \n",
    "               lw=2,\n",
    "               zorder=-1,\n",
    "               clip_on=False)\n",
    "\n",
    "# Add Text\n",
    "ax_mle.text(90, 0.005, \n",
    "            r\"$\\mu_{MLE} = \\overline{\\mathcal{X}}$\" + \" \\n\" +  \n",
    "            r\"$\\sigma_{MLE} = \\hat{\\sigma}_{\\mathcal{X}}$\",\n",
    "            ha=\"center\", size=16,\n",
    "            bbox=dict(facecolor='white',\n",
    "                      boxstyle=\"round\",\n",
    "                      edgecolor=\"white\"))\n",
    "\n",
    "ax_mle.text(-40, 0.005, \n",
    "            r\"$\\hat{F}$\",\n",
    "            ha=\"center\", size=18,\n",
    "            bbox=dict(facecolor='white',\n",
    "                      boxstyle=\"round\",\n",
    "                      edgecolor=\"white\"))\n",
    "\n",
    "# Add dashed line\n",
    "line = plt.Line2D((gauss_loc, gauss_loc + gauss_scale), \n",
    "                  (0.015, 0.015), lw=2, color=\"black\", \n",
    "                  marker=\"|\", ms=10)\n",
    "\n",
    "ax_mle.add_line(line)\n",
    "\n",
    "ax_mle.text(gauss_loc + gauss_scale/2, 0.017, \n",
    "            r\"$\\hat{\\sigma}_{\\mathcal{X}}$\",\n",
    "            ha=\"center\", size=16,)\n",
    "\n",
    "# 3.) Plot the arrows ---------------------------------------------\n",
    "ax_top_space = fig.add_subplot(gs0[2])\n",
    "\n",
    "ax_top_space.axis(\"off\")\n",
    "ax_top_space.set_xlim(-100, 135)\n",
    "ax_top_space.set_ylim(-1, 1)\n",
    "\n",
    "# one arrow for each noise and signal value\n",
    "for tmp_sample in resamples[0]:\n",
    "    ax_top_space.arrow(tmp_sample, 1.1, 0, -2.5, \n",
    "                       clip_on=False, width=1, lw=0.5,\n",
    "                       length_includes_head=True,\n",
    "                       head_length=0.5,\n",
    "                       head_width=4,\n",
    "                       color = sns.color_palette(\"colorblind\")[0])\n",
    "\n",
    "# 4.) Plot bootstrap examples -------------------------------------\n",
    "ax_rs1 = fig.add_subplot(gs0[3])\n",
    "ax_rs2 = fig.add_subplot(gs0[4])\n",
    "ax_rs3 = fig.add_subplot(gs0[5])\n",
    "\n",
    "# Plot the Samples and Re-samples ---------------------------------\n",
    "plot_samples(resamples[0][:-1], resamples[0][-1], ax_rs1, \"1\")\n",
    "plot_samples(resamples[1][:-1], resamples[1][-1], ax_rs2, \"2\")\n",
    "plot_samples(resamples[2][:-1], resamples[2][-1], ax_rs3, \"3\")\n",
    "\n",
    "# 5.) Plot Empty ... ----------------------------------------------\n",
    "ax_middle_space = fig.add_subplot(gs0[6])\n",
    "ax_middle_space.axis(\"off\")\n",
    "ax_middle_space.text(0, 0, \"...\", fontsize=18)\n",
    "ax_middle_space.set_xlim(-1, 1)\n",
    "ax_middle_space.set_ylim(-1, 1)\n",
    "\n",
    "# 6.) Plot bootstrap examples -------------------------------------\n",
    "ax_rs4 = fig.add_subplot(gs0[7])\n",
    "ax_rs5 = fig.add_subplot(gs0[8])\n",
    "ax_rs6 = fig.add_subplot(gs0[9])\n",
    "\n",
    "# Plot the Samples and Re-samples\n",
    "plot_samples(resamples[3][:-1], resamples[3][-1], ax_rs4, \"{B-2}\")\n",
    "plot_samples(resamples[4][:-1], resamples[4][-1], ax_rs5, \"{B-1}\")\n",
    "plot_samples(resamples[5][:-1], resamples[5][-1], ax_rs6, \"{B}\")\n",
    "\n",
    "# 7.) Add a Legend ------------------------------------------------\n",
    "ax_rs6.legend(ax_observations.get_legend_handles_labels()[0] + \\\n",
    "                  ax_rs6.get_legend_handles_labels()[0],\n",
    "              ax_observations.get_legend_handles_labels()[1] + \\\n",
    "                  ax_rs6.get_legend_handles_labels()[1],\n",
    "              ncol=4,\n",
    "              fontsize=16, \n",
    "              loc='lower center',\n",
    "              bbox_to_anchor=(0.5, -1.8))\n",
    "\n",
    "fig.patch.set_facecolor('white')\n",
    "plt.savefig(\"./05_01_resample.pdf\",\n",
    "            bbox_inches='tight')"
   ]
  },
  {
   "cell_type": "markdown",
   "id": "5c4c35fe",
   "metadata": {},
   "source": [
    "### 2. Distribution of $p(T^* = x | H_0)$"
   ]
  },
  {
   "cell_type": "markdown",
   "id": "0f616e45",
   "metadata": {},
   "source": [
    "The second subplot shows how the distribution $p(T^* = x | H_0)$ converges towards the t-distribution. For this we create histograms. Each histogram is based on a subset of the *T_star_gauss* we computed earlier."
   ]
  },
  {
   "cell_type": "code",
   "execution_count": 18,
   "id": "999d754f",
   "metadata": {},
   "outputs": [],
   "source": [
    "# Create the data and setups\n",
    "np.random.seed(42)\n",
    "idx_1 = np.random.randint(0, T_star_gauss.shape[0]-1, int(1e3))\n",
    "idx_2 = np.random.randint(0, T_star_gauss.shape[0]-1, int(1e4))\n",
    "idx_3 = np.random.randint(0, T_star_gauss.shape[0]-1, int(1e7))\n",
    "\n",
    "T_set_1 = pd.DataFrame({\"T\": T_star_gauss[idx_1],\n",
    "                        \"above\": T_star_gauss[idx_1] > T_obs})\n",
    "T_set_2 = pd.DataFrame({\"T\": T_star_gauss[idx_2],\n",
    "                        \"above\": T_star_gauss[idx_2] > T_obs})\n",
    "T_set_3 = pd.DataFrame({\"T\": T_star_gauss[idx_3],\n",
    "                        \"above\": T_star_gauss[idx_3] > T_obs})\n",
    "\n",
    "# The FPF / p-value of the test is given by the fraction of observations \n",
    "# larger than T_obs. See Equation (3) in the paper.\n",
    "fpf_1 = np.sum(T_star_gauss[idx_1] > T_obs) / len(T_star_gauss[idx_1])\n",
    "fpf_2 = np.sum(T_star_gauss[idx_2] > T_obs) / len(T_star_gauss[idx_2])\n",
    "fpf_3 = np.sum(T_star_gauss[idx_3] > T_obs) / len(T_star_gauss[idx_3])"
   ]
  },
  {
   "cell_type": "markdown",
   "id": "8437b064",
   "metadata": {},
   "source": [
    "A small function which plots one of the histograms."
   ]
  },
  {
   "cell_type": "code",
   "execution_count": 19,
   "id": "0cdc2307",
   "metadata": {},
   "outputs": [],
   "source": [
    "# Limits. Most values of T are between -7 and +7.\n",
    "axis_limit = 7\n",
    "\n",
    "def plot_histogram(data_in, \n",
    "                   numb_bins, \n",
    "                   axis_in,\n",
    "                   fpf_in):\n",
    "    \n",
    "    x = np.linspace(-axis_limit, axis_limit, 1000)\n",
    "    \n",
    "    # Plot the pdf of the t-distribution\n",
    "    axis_in.plot(x, stats.t.pdf(x, df=9),\n",
    "                 color=sns.color_palette(\"colorblind\")[1], \n",
    "                 lw=3,\n",
    "                 label=\"T-Distribution \" + r\"$\\nu = 9$\")\n",
    "    \n",
    "    # Plot the histogram based on the bootstrap samples\n",
    "    sns.histplot(data=data_in, \n",
    "                 x=\"T\", \n",
    "                 hue=\"above\",\n",
    "                 palette=[sns.color_palette(\"colorblind\")[0], \"red\"],\n",
    "                 bins=numb_bins, \n",
    "                 stat=\"density\", \n",
    "                 multiple=\"stack\",\n",
    "                 binrange=(-axis_limit, axis_limit),\n",
    "                 ax=axis_in,\n",
    "                 legend=False)\n",
    "    \n",
    "    # Add Text and Labels\n",
    "    axis_in.set_xlim(-7, 7)\n",
    "    axis_in.set_yscale(\"log\")\n",
    "    axis_in.yaxis.grid()\n",
    "    axis_in.tick_params(axis='both', which='major', labelsize=14)\n",
    "    axis_in.set_yticks([1e-04, 1e-03, 1e-02, 1e-01])\n",
    "    \n",
    "    axis_in.axvline(x=T_obs,\n",
    "                    ymin=0,\n",
    "                    ymax=1,\n",
    "                    c=\"black\",\n",
    "                    linewidth=2)\n",
    "\n",
    "    axis_in.set_ylabel(\"$p(T^*=x|H_0)$\", fontsize=16)\n",
    "    fpf_text = (5, 0.1, 16)\n",
    "\n",
    "    axis_in.text(\n",
    "        -5, 0.1, \n",
    "        r\"$B$\" + \" = {:.1e}\".format(data_in.shape[0]),\n",
    "        ha=\"center\", size=16,\n",
    "        bbox=dict(\n",
    "            facecolor='white',\n",
    "            boxstyle=\"round\",\n",
    "            edgecolor=\"white\"))\n",
    "    \n",
    "    axis_in.text(fpf_text[0], fpf_text[1], \n",
    "                 r\"FPF = {:.4f}\".format(fpf_in), \n",
    "                 ha=\"center\", size=fpf_text[2],\n",
    "                 bbox=dict(\n",
    "                     facecolor='white',\n",
    "                     boxstyle=\"round\",\n",
    "                     edgecolor=\"white\"))"
   ]
  },
  {
   "cell_type": "markdown",
   "id": "3250cb29",
   "metadata": {},
   "source": [
    "Create the actual plot. Note: this can take a while since *sns.histplot* has to calculate the histogram."
   ]
  },
  {
   "cell_type": "code",
   "execution_count": 20,
   "id": "c3580736",
   "metadata": {
    "nbsphinx-thumbnail": {
     "tooltip": "Illustration of the parametric bootstrap test introduced in this paper."
    }
   },
   "outputs": [
    {
     "data": {
      "image/png": "[encoded data removed]",
      "text/plain": [
       "<Figure size 800x800 with 3 Axes>"
      ]
     },
     "metadata": {},
     "output_type": "display_data"
    }
   ],
   "source": [
    "# Create the Layout with gridspec\n",
    "fig = plt.figure(constrained_layout=False, figsize=(8, 8))\n",
    "gs0 = fig.add_gridspec(3, 1, height_ratios=[1, 1, 1])\n",
    "gs0.update(hspace=0.1, wspace=0.2)\n",
    "\n",
    "ax_b1 = fig.add_subplot(gs0[0])\n",
    "ax_b2 = fig.add_subplot(gs0[1])\n",
    "ax_b3 = fig.add_subplot(gs0[2])\n",
    "\n",
    "# Plot the histograms\n",
    "plot_histogram(T_set_1, 100, ax_b1, fpf_1)\n",
    "plot_histogram(T_set_2, 100, ax_b2, fpf_2)\n",
    "plot_histogram(T_set_3, 100, ax_b3, fpf_3)\n",
    "\n",
    "# Add a vertical line at the position of T_obs\n",
    "ax_b2.axvline(x=T_obs,\n",
    "              ymin=-1.1,\n",
    "              ymax=1.1,\n",
    "              c=\"black\",\n",
    "              linewidth=2,\n",
    "              zorder=10, \n",
    "              clip_on=False)\n",
    "\n",
    "# Clean up the Labels\n",
    "ax_b1.axes.get_xaxis().set_ticklabels([])\n",
    "ax_b1.set_xlabel(\"\")\n",
    "ax_b2.axes.get_xaxis().set_ticklabels([])\n",
    "ax_b2.set_xlabel(\"\")\n",
    "ax_b3.set_xlabel(\"SNR / Test Statistic\", fontsize=16)\n",
    "\n",
    "# Add captions\n",
    "ax_b3.text(T_obs, 0.0001, r\"$T_{obs}$\" + \" = {:.2f}\".format(T_obs), \n",
    "           ha=\"center\", size=16,\n",
    "           bbox=dict(facecolor='white',\n",
    "                     boxstyle=\"round\",\n",
    "                     edgecolor=\"white\"))\n",
    "\n",
    "# Add a legend\n",
    "ax_b3.legend(ncol=1,\n",
    "             fontsize=16, \n",
    "             loc='lower center',\n",
    "             bbox_to_anchor=(0.5, -.7))\n",
    "\n",
    "# Save the plot\n",
    "fig.patch.set_facecolor('white')\n",
    "plt.savefig(\"./05_02_bs_histogram.pdf\",\n",
    "            bbox_inches='tight')"
   ]
  },
  {
   "cell_type": "markdown",
   "id": "648dc287",
   "metadata": {},
   "source": [
    "We merged the two subplots using Adobe Illustrator."
   ]
  },
  {
   "cell_type": "markdown",
   "id": "f21b43ea",
   "metadata": {},
   "source": [
    "## Bootstrapping for Laplacian noise"
   ]
  },
  {
   "cell_type": "markdown",
   "id": "5e87731e",
   "metadata": {},
   "source": [
    "<div style=\"text-align: justify\">\n",
    "This is an additional example which compares the distribution of $p(T^*=x | H_0)$ under two different assumptions: Gaussian noise and Laplacian noise. For this we first have to run the bootstrapping again for Laplacian noise.  \n",
    "</div>"
   ]
  },
  {
   "cell_type": "markdown",
   "id": "800ef0ef",
   "metadata": {},
   "source": [
    "### 1. Creation of Bootstrap samples"
   ]
  },
  {
   "cell_type": "markdown",
   "id": "d4b976a0",
   "metadata": {},
   "source": [
    "We start by setting up a [LaplaceBootstrapTest](../../04_package/statistics.rst#applefy.statistics.bootstrapping.LaplaceBootstrapTest)."
   ]
  },
  {
   "cell_type": "code",
   "execution_count": 21,
   "id": "3c6fa60a",
   "metadata": {},
   "outputs": [],
   "source": [
    "laplace_statistic = LaplaceBootstrapTest(\n",
    "    noise_flux, num_cpus=8)"
   ]
  },
  {
   "cell_type": "markdown",
   "id": "7cdd7abf",
   "metadata": {},
   "source": [
    "Now we can run the actual resampling using the function [run_bootstrap_experiment](../../04_package/statistics.rst#applefy.statistics.bootstrapping.BootstrapTest.run_bootstrap_experiment). \n",
    "\n",
    "Note: The following code cell is computationally expensive. Consider reducing *num_draws*."
   ]
  },
  {
   "cell_type": "code",
   "execution_count": 22,
   "id": "8efd8570",
   "metadata": {},
   "outputs": [],
   "source": [
    "T_star_laplace = laplace_statistic.run_bootstrap_experiment(\n",
    "    memory_size=5e6,\n",
    "    num_noise_values=len(noise_flux),\n",
    "    num_draws=1e8,\n",
    "    approximation_interval=np.linspace(-7, 7, 100000))"
   ]
  },
  {
   "cell_type": "code",
   "execution_count": 23,
   "id": "e8b08fed",
   "metadata": {},
   "outputs": [
    {
     "data": {
      "text/plain": [
       "(100000000,)"
      ]
     },
     "execution_count": 23,
     "metadata": {},
     "output_type": "execute_result"
    }
   ],
   "source": [
    "T_star_laplace.shape"
   ]
  },
  {
   "cell_type": "markdown",
   "id": "d0551ca8",
   "metadata": {},
   "source": [
    "### 2. Compute the Histograms"
   ]
  },
  {
   "cell_type": "markdown",
   "id": "a2f01300",
   "metadata": {},
   "source": [
    "In order to be able to show the interactive plots with bokeh on a static html page we have to pre-compute the histograms for different $B$ and noise assumptions."
   ]
  },
  {
   "cell_type": "markdown",
   "id": "76f7f116",
   "metadata": {},
   "source": [
    "The results are sorted in *T_star* which is why we shuffle them here."
   ]
  },
  {
   "cell_type": "code",
   "execution_count": 24,
   "id": "7b2227d4",
   "metadata": {},
   "outputs": [],
   "source": [
    "np.random.shuffle(T_star_laplace)\n",
    "np.random.shuffle(T_star_gauss)"
   ]
  },
  {
   "cell_type": "markdown",
   "id": "70220b38",
   "metadata": {},
   "source": [
    "Compute the bins and values of the histograms."
   ]
  },
  {
   "cell_type": "code",
   "execution_count": 25,
   "id": "4ed5d3a5",
   "metadata": {},
   "outputs": [],
   "source": [
    "num_draws = np.logspace(3, 8, 6)\n",
    "histogram_bins = np.linspace(-7, 7, 100)\n",
    "\n",
    "# a dict to save all histograms\n",
    "final_histograms = dict()\n",
    "\n",
    "for tmp_B in num_draws:\n",
    "    \n",
    "    # compute the histogram for the gaussian assumption\n",
    "    tmp_hist_gauss, edges = np.histogram(\n",
    "        # using the B random values of T_star \n",
    "        # (see shuffle step before)\n",
    "        T_star_gauss[:int(tmp_B)], \n",
    "        density=True,\n",
    "        bins=histogram_bins)\n",
    "    \n",
    "    # compute the histogram for the laplacian assumption\n",
    "    tmp_hist_laplace, edges = np.histogram(\n",
    "        T_star_laplace[:int(tmp_B)], \n",
    "        density=True,\n",
    "        bins=histogram_bins)\n",
    "    \n",
    "    # compute the fpf (equation 3 in the apples with apples paper)\n",
    "    fpf_gauss = np.sum(T_star_gauss[:int(tmp_B)] > T_obs) / \\\n",
    "        len(T_star_gauss[:int(tmp_B)])\n",
    "    fpf_laplace = np.sum(T_star_laplace[:int(tmp_B)] > T_obs) / \\\n",
    "        len(T_star_laplace[:int(tmp_B)])\n",
    "    \n",
    "    # We want to different colors for the part of the histogram larger than T_obs. \n",
    "    # This is why we split the histogram into two parts\n",
    "    cut_off_idx = np.where(edges[1:] > T_obs)[0][0]\n",
    "    \n",
    "    # Save the results\n",
    "    final_histograms[\"{:.0e}\".format(tmp_B) + \"_Gauss\"] = (\n",
    "        tmp_hist_gauss[:cut_off_idx],\n",
    "        tmp_hist_gauss[cut_off_idx:],\n",
    "        \"{:.4f}\".format(fpf_gauss))\n",
    "    \n",
    "    final_histograms[\"{:.0e}\".format(tmp_B) + \"_Laplace\"] = (\n",
    "        tmp_hist_laplace[:cut_off_idx],\n",
    "        tmp_hist_laplace[cut_off_idx:],\n",
    "        \"{:.4f}\".format(fpf_laplace))"
   ]
  },
  {
   "cell_type": "markdown",
   "id": "22537a58",
   "metadata": {},
   "source": [
    "### 3. Create the Plot"
   ]
  },
  {
   "cell_type": "code",
   "execution_count": 26,
   "id": "f742f7f1",
   "metadata": {},
   "outputs": [
    {
     "data": {
      "text/html": [
       "<style>\n",
       "        .bk-notebook-logo {\n",
       "            display: block;\n",
       "            width: 20px;\n",
       "            height: 20px;\n",
       "            background-image: url(data:image/png;base64,iVBORw0KGgoAAAANSUhEUgAAABQAAAAUCAYAAACNiR0NAAAABHNCSVQICAgIfAhkiAAAAAlwSFlzAAALEgAACxIB0t1+/AAAABx0RVh0U29mdHdhcmUAQWRvYmUgRmlyZXdvcmtzIENTNui8sowAAAOkSURBVDiNjZRtaJVlGMd/1/08zzln5zjP1LWcU9N0NkN8m2CYjpgQYQXqSs0I84OLIC0hkEKoPtiH3gmKoiJDU7QpLgoLjLIQCpEsNJ1vqUOdO7ppbuec5+V+rj4ctwzd8IIbbi6u+8f1539dt3A78eXC7QizUF7gyV1fD1Yqg4JWz84yffhm0qkFqBogB9rM8tZdtwVsPUhWhGcFJngGeWrPzHm5oaMmkfEg1usvLFyc8jLRqDOMru7AyC8saQr7GG7f5fvDeH7Ej8CM66nIF+8yngt6HWaKh7k49Soy9nXurCi1o3qUbS3zWfrYeQDTB/Qj6kX6Ybhw4B+bOYoLKCC9H3Nu/leUTZ1JdRWkkn2ldcCamzrcf47KKXdAJllSlxAOkRgyHsGC/zRday5Qld9DyoM4/q/rUoy/CXh3jzOu3bHUVZeU+DEn8FInkPBFlu3+nW3Nw0mk6vCDiWg8CeJaxEwuHS3+z5RgY+YBR6V1Z1nxSOfoaPa4LASWxxdNp+VWTk7+4vzaou8v8PN+xo+KY2xsw6une2frhw05CTYOmQvsEhjhWjn0bmXPjpE1+kplmmkP3suftwTubK9Vq22qKmrBhpY4jvd5afdRA3wGjFAgcnTK2s4hY0/GPNIb0nErGMCRxWOOX64Z8RAC4oCXdklmEvcL8o0BfkNK4lUg9HTl+oPlQxdNo3Mg4Nv175e/1LDGzZen30MEjRUtmXSfiTVu1kK8W4txyV6BMKlbgk3lMwYCiusNy9fVfvvwMxv8Ynl6vxoByANLTWplvuj/nF9m2+PDtt1eiHPBr1oIfhCChQMBw6Aw0UulqTKZdfVvfG7VcfIqLG9bcldL/+pdWTLxLUy8Qq38heUIjh4XlzZxzQm19lLFlr8vdQ97rjZVOLf8nclzckbcD4wxXMidpX30sFd37Fv/GtwwhzhxGVAprjbg0gCAEeIgwCZyTV2Z1REEW8O4py0wsjeloKoMr6iCY6dP92H6Vw/oTyICIthibxjm/DfN9lVz8IqtqKYLUXfoKVMVQVVJOElGjrnnUt9T9wbgp8AyYKaGlqingHZU/uG2NTZSVqwHQTWkx9hxjkpWDaCg6Ckj5qebgBVbT3V3NNXMSiWSDdGV3hrtzla7J+duwPOToIg42ChPQOQjspnSlp1V+Gjdged7+8UN5CRAV7a5EdFNwCjEaBR27b3W890TE7g24NAP/mMDXRWrGoFPQI9ls/MWO2dWFAar/xcOIImbbpA3zgAAAABJRU5ErkJggg==);\n",
       "        }\n",
       "    </style>\n",
       "    <div>\n",
       "        <a href=\"https://bokeh.org\" target=\"_blank\" class=\"bk-notebook-logo\"></a>\n",
       "        <span id=\"p1001\">Loading BokehJS ...</span>\n",
       "    </div>\n"
      ]
     },
     "metadata": {},
     "output_type": "display_data"
    },
    {
     "data": {
      "application/javascript": [
       "(function(root) {\n",
       "  function now() {\n",
       "    return new Date();\n",
       "  }\n",
       "\n",
       "  const force = true;\n",
       "\n",
       "  if (typeof root._bokeh_onload_callbacks === \"undefined\" || force === true) {\n",
       "    root._bokeh_onload_callbacks = [];\n",
       "    root._bokeh_is_loading = undefined;\n",
       "  }\n",
       "\n",
       "const JS_MIME_TYPE = 'application/javascript';\n",
       "  const HTML_MIME_TYPE = 'text/html';\n",
       "  const EXEC_MIME_TYPE = 'application/vnd.bokehjs_exec.v0+json';\n",
       "  const CLASS_NAME = 'output_bokeh rendered_html';\n",
       "\n",
       "  /**\n",
       "   * Render data to the DOM node\n",
       "   */\n",
       "  function render(props, node) {\n",
       "    const script = document.createElement(\"script\");\n",
       "    node.appendChild(script);\n",
       "  }\n",
       "\n",
       "  /**\n",
       "   * Handle when an output is cleared or removed\n",
       "   */\n",
       "  function handleClearOutput(event, handle) {\n",
       "    const cell = handle.cell;\n",
       "\n",
       "    const id = cell.output_area._bokeh_element_id;\n",
       "    const server_id = cell.output_area._bokeh_server_id;\n",
       "    // Clean up Bokeh references\n",
       "    if (id != null && id in Bokeh.index) {\n",
       "      Bokeh.index[id].model.document.clear();\n",
       "      delete Bokeh.index[id];\n",
       "    }\n",
       "\n",
       "    if (server_id !== undefined) {\n",
       "      // Clean up Bokeh references\n",
       "      const cmd_clean = \"from bokeh.io.state import curstate; print(curstate().uuid_to_server['\" + server_id + \"'].get_sessions()[0].document.roots[0]._id)\";\n",
       "      cell.notebook.kernel.execute(cmd_clean, {\n",
       "        iopub: {\n",
       "          output: function(msg) {\n",
       "            const id = msg.content.text.trim();\n",
       "            if (id in Bokeh.index) {\n",
       "              Bokeh.index[id].model.document.clear();\n",
       "              delete Bokeh.index[id];\n",
       "            }\n",
       "          }\n",
       "        }\n",
       "      });\n",
       "      // Destroy server and session\n",
       "      const cmd_destroy = \"import bokeh.io.notebook as ion; ion.destroy_server('\" + server_id + \"')\";\n",
       "      cell.notebook.kernel.execute(cmd_destroy);\n",
       "    }\n",
       "  }\n",
       "\n",
       "  /**\n",
       "   * Handle when a new output is added\n",
       "   */\n",
       "  function handleAddOutput(event, handle) {\n",
       "    const output_area = handle.output_area;\n",
       "    const output = handle.output;\n",
       "\n",
       "    // limit handleAddOutput to display_data with EXEC_MIME_TYPE content only\n",
       "    if ((output.output_type != \"display_data\") || (!Object.prototype.hasOwnProperty.call(output.data, EXEC_MIME_TYPE))) {\n",
       "      return\n",
       "    }\n",
       "\n",
       "    const toinsert = output_area.element.find(\".\" + CLASS_NAME.split(' ')[0]);\n",
       "\n",
       "    if (output.metadata[EXEC_MIME_TYPE][\"id\"] !== undefined) {\n",
       "      toinsert[toinsert.length - 1].firstChild.textContent = output.data[JS_MIME_TYPE];\n",
       "      // store reference to embed id on output_area\n",
       "      output_area._bokeh_element_id = output.metadata[EXEC_MIME_TYPE][\"id\"];\n",
       "    }\n",
       "    if (output.metadata[EXEC_MIME_TYPE][\"server_id\"] !== undefined) {\n",
       "      const bk_div = document.createElement(\"div\");\n",
       "      bk_div.innerHTML = output.data[HTML_MIME_TYPE];\n",
       "      const script_attrs = bk_div.children[0].attributes;\n",
       "      for (let i = 0; i < script_attrs.length; i++) {\n",
       "        toinsert[toinsert.length - 1].firstChild.setAttribute(script_attrs[i].name, script_attrs[i].value);\n",
       "        toinsert[toinsert.length - 1].firstChild.textContent = bk_div.children[0].textContent\n",
       "      }\n",
       "      // store reference to server id on output_area\n",
       "      output_area._bokeh_server_id = output.metadata[EXEC_MIME_TYPE][\"server_id\"];\n",
       "    }\n",
       "  }\n",
       "\n",
       "  function register_renderer(events, OutputArea) {\n",
       "\n",
       "    function append_mime(data, metadata, element) {\n",
       "      // create a DOM node to render to\n",
       "      const toinsert = this.create_output_subarea(\n",
       "        metadata,\n",
       "        CLASS_NAME,\n",
       "        EXEC_MIME_TYPE\n",
       "      );\n",
       "      this.keyboard_manager.register_events(toinsert);\n",
       "      // Render to node\n",
       "      const props = {data: data, metadata: metadata[EXEC_MIME_TYPE]};\n",
       "      render(props, toinsert[toinsert.length - 1]);\n",
       "      element.append(toinsert);\n",
       "      return toinsert\n",
       "    }\n",
       "\n",
       "    /* Handle when an output is cleared or removed */\n",
       "    events.on('clear_output.CodeCell', handleClearOutput);\n",
       "    events.on('delete.Cell', handleClearOutput);\n",
       "\n",
       "    /* Handle when a new output is added */\n",
       "    events.on('output_added.OutputArea', handleAddOutput);\n",
       "\n",
       "    /**\n",
       "     * Register the mime type and append_mime function with output_area\n",
       "     */\n",
       "    OutputArea.prototype.register_mime_type(EXEC_MIME_TYPE, append_mime, {\n",
       "      /* Is output safe? */\n",
       "      safe: true,\n",
       "      /* Index of renderer in `output_area.display_order` */\n",
       "      index: 0\n",
       "    });\n",
       "  }\n",
       "\n",
       "  // register the mime type if in Jupyter Notebook environment and previously unregistered\n",
       "  if (root.Jupyter !== undefined) {\n",
       "    const events = require('base/js/events');\n",
       "    const OutputArea = require('notebook/js/outputarea').OutputArea;\n",
       "\n",
       "    if (OutputArea.prototype.mime_types().indexOf(EXEC_MIME_TYPE) == -1) {\n",
       "      register_renderer(events, OutputArea);\n",
       "    }\n",
       "  }\n",
       "  if (typeof (root._bokeh_timeout) === \"undefined\" || force === true) {\n",
       "    root._bokeh_timeout = Date.now() + 5000;\n",
       "    root._bokeh_failed_load = false;\n",
       "  }\n",
       "\n",
       "  const NB_LOAD_WARNING = {'data': {'text/html':\n",
       "     \"<div style='background-color: #fdd'>\\n\"+\n",
       "     \"<p>\\n\"+\n",
       "     \"BokehJS does not appear to have successfully loaded. If loading BokehJS from CDN, this \\n\"+\n",
       "     \"may be due to a slow or bad network connection. Possible fixes:\\n\"+\n",
       "     \"</p>\\n\"+\n",
       "     \"<ul>\\n\"+\n",
       "     \"<li>re-rerun `output_notebook()` to attempt to load from CDN again, or</li>\\n\"+\n",
       "     \"<li>use INLINE resources instead, as so:</li>\\n\"+\n",
       "     \"</ul>\\n\"+\n",
       "     \"<code>\\n\"+\n",
       "     \"from bokeh.resources import INLINE\\n\"+\n",
       "     \"output_notebook(resources=INLINE)\\n\"+\n",
       "     \"</code>\\n\"+\n",
       "     \"</div>\"}};\n",
       "\n",
       "  function display_loaded() {\n",
       "    const el = document.getElementById(\"p1001\");\n",
       "    if (el != null) {\n",
       "      el.textContent = \"BokehJS is loading...\";\n",
       "    }\n",
       "    if (root.Bokeh !== undefined) {\n",
       "      if (el != null) {\n",
       "        el.textContent = \"BokehJS \" + root.Bokeh.version + \" successfully loaded.\";\n",
       "      }\n",
       "    } else if (Date.now() < root._bokeh_timeout) {\n",
       "      setTimeout(display_loaded, 100)\n",
       "    }\n",
       "  }\n",
       "\n",
       "  function run_callbacks() {\n",
       "    try {\n",
       "      root._bokeh_onload_callbacks.forEach(function(callback) {\n",
       "        if (callback != null)\n",
       "          callback();\n",
       "      });\n",
       "    } finally {\n",
       "      delete root._bokeh_onload_callbacks\n",
       "    }\n",
       "    console.debug(\"Bokeh: all callbacks have finished\");\n",
       "  }\n",
       "\n",
       "  function load_libs(css_urls, js_urls, callback) {\n",
       "    if (css_urls == null) css_urls = [];\n",
       "    if (js_urls == null) js_urls = [];\n",
       "\n",
       "    root._bokeh_onload_callbacks.push(callback);\n",
       "    if (root._bokeh_is_loading > 0) {\n",
       "      console.debug(\"Bokeh: BokehJS is being loaded, scheduling callback at\", now());\n",
       "      return null;\n",
       "    }\n",
       "    if (js_urls == null || js_urls.length === 0) {\n",
       "      run_callbacks();\n",
       "      return null;\n",
       "    }\n",
       "    console.debug(\"Bokeh: BokehJS not loaded, scheduling load and callback at\", now());\n",
       "    root._bokeh_is_loading = css_urls.length + js_urls.length;\n",
       "\n",
       "    function on_load() {\n",
       "      root._bokeh_is_loading--;\n",
       "      if (root._bokeh_is_loading === 0) {\n",
       "        console.debug(\"Bokeh: all BokehJS libraries/stylesheets loaded\");\n",
       "        run_callbacks()\n",
       "      }\n",
       "    }\n",
       "\n",
       "    function on_error(url) {\n",
       "      console.error(\"failed to load \" + url);\n",
       "    }\n",
       "\n",
       "    for (let i = 0; i < css_urls.length; i++) {\n",
       "      const url = css_urls[i];\n",
       "      const element = document.createElement(\"link\");\n",
       "      element.onload = on_load;\n",
       "      element.onerror = on_error.bind(null, url);\n",
       "      element.rel = \"stylesheet\";\n",
       "      element.type = \"text/css\";\n",
       "      element.href = url;\n",
       "      console.debug(\"Bokeh: injecting link tag for BokehJS stylesheet: \", url);\n",
       "      document.body.appendChild(element);\n",
       "    }\n",
       "\n",
       "    for (let i = 0; i < js_urls.length; i++) {\n",
       "      const url = js_urls[i];\n",
       "      const element = document.createElement('script');\n",
       "      element.onload = on_load;\n",
       "      element.onerror = on_error.bind(null, url);\n",
       "      element.async = false;\n",
       "      element.src = url;\n",
       "      console.debug(\"Bokeh: injecting script tag for BokehJS library: \", url);\n",
       "      document.head.appendChild(element);\n",
       "    }\n",
       "  };\n",
       "\n",
       "  function inject_raw_css(css) {\n",
       "    const element = document.createElement(\"style\");\n",
       "    element.appendChild(document.createTextNode(css));\n",
       "    document.body.appendChild(element);\n",
       "  }\n",
       "\n",
       "  const js_urls = [\"https://cdn.bokeh.org/bokeh/release/bokeh-3.0.3.min.js\", \"https://cdn.bokeh.org/bokeh/release/bokeh-gl-3.0.3.min.js\", \"https://cdn.bokeh.org/bokeh/release/bokeh-widgets-3.0.3.min.js\", \"https://cdn.bokeh.org/bokeh/release/bokeh-tables-3.0.3.min.js\", \"https://cdn.bokeh.org/bokeh/release/bokeh-mathjax-3.0.3.min.js\"];\n",
       "  const css_urls = [];\n",
       "\n",
       "  const inline_js = [    function(Bokeh) {\n",
       "      Bokeh.set_log_level(\"info\");\n",
       "    },\n",
       "function(Bokeh) {\n",
       "    }\n",
       "  ];\n",
       "\n",
       "  function run_inline_js() {\n",
       "    if (root.Bokeh !== undefined || force === true) {\n",
       "          for (let i = 0; i < inline_js.length; i++) {\n",
       "      inline_js[i].call(root, root.Bokeh);\n",
       "    }\n",
       "if (force === true) {\n",
       "        display_loaded();\n",
       "      }} else if (Date.now() < root._bokeh_timeout) {\n",
       "      setTimeout(run_inline_js, 100);\n",
       "    } else if (!root._bokeh_failed_load) {\n",
       "      console.log(\"Bokeh: BokehJS failed to load within specified timeout.\");\n",
       "      root._bokeh_failed_load = true;\n",
       "    } else if (force !== true) {\n",
       "      const cell = $(document.getElementById(\"p1001\")).parents('.cell').data().cell;\n",
       "      cell.output_area.append_execute_result(NB_LOAD_WARNING)\n",
       "    }\n",
       "  }\n",
       "\n",
       "  if (root._bokeh_is_loading === 0) {\n",
       "    console.debug(\"Bokeh: BokehJS loaded, going straight to plotting\");\n",
       "    run_inline_js();\n",
       "  } else {\n",
       "    load_libs(css_urls, js_urls, function() {\n",
       "      console.debug(\"Bokeh: BokehJS plotting callback run at\", now());\n",
       "      run_inline_js();\n",
       "    });\n",
       "  }\n",
       "}(window));"
      ],
      "application/vnd.bokehjs_load.v0+json": "(function(root) {\n  function now() {\n    return new Date();\n  }\n\n  const force = true;\n\n  if (typeof root._bokeh_onload_callbacks === \"undefined\" || force === true) {\n    root._bokeh_onload_callbacks = [];\n    root._bokeh_is_loading = undefined;\n  }\n\n\n  if (typeof (root._bokeh_timeout) === \"undefined\" || force === true) {\n    root._bokeh_timeout = Date.now() + 5000;\n    root._bokeh_failed_load = false;\n  }\n\n  const NB_LOAD_WARNING = {'data': {'text/html':\n     \"<div style='background-color: #fdd'>\\n\"+\n     \"<p>\\n\"+\n     \"BokehJS does not appear to have successfully loaded. If loading BokehJS from CDN, this \\n\"+\n     \"may be due to a slow or bad network connection. Possible fixes:\\n\"+\n     \"</p>\\n\"+\n     \"<ul>\\n\"+\n     \"<li>re-rerun `output_notebook()` to attempt to load from CDN again, or</li>\\n\"+\n     \"<li>use INLINE resources instead, as so:</li>\\n\"+\n     \"</ul>\\n\"+\n     \"<code>\\n\"+\n     \"from bokeh.resources import INLINE\\n\"+\n     \"output_notebook(resources=INLINE)\\n\"+\n     \"</code>\\n\"+\n     \"</div>\"}};\n\n  function display_loaded() {\n    const el = document.getElementById(\"p1001\");\n    if (el != null) {\n      el.textContent = \"BokehJS is loading...\";\n    }\n    if (root.Bokeh !== undefined) {\n      if (el != null) {\n        el.textContent = \"BokehJS \" + root.Bokeh.version + \" successfully loaded.\";\n      }\n    } else if (Date.now() < root._bokeh_timeout) {\n      setTimeout(display_loaded, 100)\n    }\n  }\n\n  function run_callbacks() {\n    try {\n      root._bokeh_onload_callbacks.forEach(function(callback) {\n        if (callback != null)\n          callback();\n      });\n    } finally {\n      delete root._bokeh_onload_callbacks\n    }\n    console.debug(\"Bokeh: all callbacks have finished\");\n  }\n\n  function load_libs(css_urls, js_urls, callback) {\n    if (css_urls == null) css_urls = [];\n    if (js_urls == null) js_urls = [];\n\n    root._bokeh_onload_callbacks.push(callback);\n    if (root._bokeh_is_loading > 0) {\n      console.debug(\"Bokeh: BokehJS is being loaded, scheduling callback at\", now());\n      return null;\n    }\n    if (js_urls == null || js_urls.length === 0) {\n      run_callbacks();\n      return null;\n    }\n    console.debug(\"Bokeh: BokehJS not loaded, scheduling load and callback at\", now());\n    root._bokeh_is_loading = css_urls.length + js_urls.length;\n\n    function on_load() {\n      root._bokeh_is_loading--;\n      if (root._bokeh_is_loading === 0) {\n        console.debug(\"Bokeh: all BokehJS libraries/stylesheets loaded\");\n        run_callbacks()\n      }\n    }\n\n    function on_error(url) {\n      console.error(\"failed to load \" + url);\n    }\n\n    for (let i = 0; i < css_urls.length; i++) {\n      const url = css_urls[i];\n      const element = document.createElement(\"link\");\n      element.onload = on_load;\n      element.onerror = on_error.bind(null, url);\n      element.rel = \"stylesheet\";\n      element.type = \"text/css\";\n      element.href = url;\n      console.debug(\"Bokeh: injecting link tag for BokehJS stylesheet: \", url);\n      document.body.appendChild(element);\n    }\n\n    for (let i = 0; i < js_urls.length; i++) {\n      const url = js_urls[i];\n      const element = document.createElement('script');\n      element.onload = on_load;\n      element.onerror = on_error.bind(null, url);\n      element.async = false;\n      element.src = url;\n      console.debug(\"Bokeh: injecting script tag for BokehJS library: \", url);\n      document.head.appendChild(element);\n    }\n  };\n\n  function inject_raw_css(css) {\n    const element = document.createElement(\"style\");\n    element.appendChild(document.createTextNode(css));\n    document.body.appendChild(element);\n  }\n\n  const js_urls = [\"https://cdn.bokeh.org/bokeh/release/bokeh-3.0.3.min.js\", \"https://cdn.bokeh.org/bokeh/release/bokeh-gl-3.0.3.min.js\", \"https://cdn.bokeh.org/bokeh/release/bokeh-widgets-3.0.3.min.js\", \"https://cdn.bokeh.org/bokeh/release/bokeh-tables-3.0.3.min.js\", \"https://cdn.bokeh.org/bokeh/release/bokeh-mathjax-3.0.3.min.js\"];\n  const css_urls = [];\n\n  const inline_js = [    function(Bokeh) {\n      Bokeh.set_log_level(\"info\");\n    },\nfunction(Bokeh) {\n    }\n  ];\n\n  function run_inline_js() {\n    if (root.Bokeh !== undefined || force === true) {\n          for (let i = 0; i < inline_js.length; i++) {\n      inline_js[i].call(root, root.Bokeh);\n    }\nif (force === true) {\n        display_loaded();\n      }} else if (Date.now() < root._bokeh_timeout) {\n      setTimeout(run_inline_js, 100);\n    } else if (!root._bokeh_failed_load) {\n      console.log(\"Bokeh: BokehJS failed to load within specified timeout.\");\n      root._bokeh_failed_load = true;\n    } else if (force !== true) {\n      const cell = $(document.getElementById(\"p1001\")).parents('.cell').data().cell;\n      cell.output_area.append_execute_result(NB_LOAD_WARNING)\n    }\n  }\n\n  if (root._bokeh_is_loading === 0) {\n    console.debug(\"Bokeh: BokehJS loaded, going straight to plotting\");\n    run_inline_js();\n  } else {\n    load_libs(css_urls, js_urls, function() {\n      console.debug(\"Bokeh: BokehJS plotting callback run at\", now());\n      run_inline_js();\n    });\n  }\n}(window));"
     },
     "metadata": {},
     "output_type": "display_data"
    }
   ],
   "source": [
    "# Start the bokeh for jupyter notebooks\n",
    "from bokeh.io import output_notebook\n",
    "output_notebook()"
   ]
  },
  {
   "cell_type": "markdown",
   "id": "82c44844",
   "metadata": {},
   "source": [
    "Setup the same colors as used for the previous plot."
   ]
  },
  {
   "cell_type": "code",
   "execution_count": 27,
   "id": "6c81025d",
   "metadata": {},
   "outputs": [],
   "source": [
    "color_blue = tuple([int(i*255) for i in sns.color_palette(\"colorblind\")[0]])\n",
    "color_t_dist = tuple([int(i*255) for i in sns.color_palette(\"colorblind\")[1]])\n",
    "color_red = \"red\""
   ]
  },
  {
   "cell_type": "markdown",
   "id": "4f8e4e98",
   "metadata": {},
   "source": [
    "Create the actual interactive Plot."
   ]
  },
  {
   "cell_type": "code",
   "execution_count": 30,
   "id": "381f5084",
   "metadata": {},
   "outputs": [
    {
     "data": {
      "text/html": [
       "\n",
       "  <div id=\"466e5774-6400-43b3-a613-e6c019da29da\" data-root-id=\"p1686\" style=\"display: contents;\"></div>\n"
      ]
     },
     "metadata": {},
     "output_type": "display_data"
    },
    {
     "data": {
      "application/javascript": [
       "(function(root) {\n",
       "  function embed_document(root) {\n",
       "  const docs_json = {\"8f8d4fdd-5779-4afb-9d30-59d516a85e19\":{\"version\":\"3.0.3\",\"title\":\"Bokeh Application\",\"defs\":[],\"roots\":[{\"type\":\"object\",\"name\":\"Column\",\"id\":\"p1686\",\"attributes\":{\"children\":[{\"type\":\"object\",\"name\":\"Row\",\"id\":\"p1685\",\"attributes\":{\"children\":[{\"type\":\"object\",\"name\":\"Select\",\"id\":\"p1682\",\"attributes\":{\"js_property_callbacks\":{\"type\":\"map\",\"entries\":[[\"change:value\",[{\"type\":\"object\",\"name\":\"CustomJS\",\"id\":\"p1684\",\"attributes\":{\"args\":{\"type\":\"map\",\"entries\":[[\"B\",{\"id\":\"p1682\"}],[\"dist\",{\"type\":\"object\",\"name\":\"Select\",\"id\":\"p1683\",\"attributes\":{\"js_property_callbacks\":{\"type\":\"map\",\"entries\":[[\"change:value\",[{\"id\":\"p1684\"}]]]},\"title\":\"Assumed noise:\",\"options\":[\"Gauss\",\"Laplace\"],\"value\":\"Gauss\"}}],[\"fpf_text\",{\"type\":\"object\",\"name\":\"Div\",\"id\":\"p1681\",\"attributes\":{\"width\":300,\"height\":50,\"margin\":[30,10,10,50],\"text\":\"<p style=\\\"color:black;\\n                                 font-size:20px;\\n                                 font-weight: bold;\\\">FPF = 0.0245 </p>\"}}],[\"s_all_histograms\",{\"type\":\"object\",\"name\":\"ColumnDataSource\",\"id\":\"p1619\",\"attributes\":{\"selected\":{\"type\":\"object\",\"name\":\"Selection\",\"id\":\"p1620\",\"attributes\":{\"indices\":[],\"line_indices\":[]}},\"selection_policy\":{\"type\":\"object\",\"name\":\"UnionRenderers\",\"id\":\"p1621\"},\"data\":{\"type\":\"map\",\"entries\":[[\"1e+03_Gauss\",[{\"type\":\"ndarray\",\"array\":{\"type\":\"bytes\",\"data\":\"AAAAAAAAAAAAAAAAAAAAAAAAAAAAAAAAAAAAAAAAAAAAAAAAAAAAAAAAAAAAAAAAAAAAAAAAAAAAAAAAAAAAAAAAAAAAAAAAAAAAAAAAAAAAAAAAAAAAAAAAAAAAAAAAAAAAAAAAAAAAAAAAAAAAAAAAAAAAAAAAAAAAAAAAAAAAAAAAAAAAAAAAAAAAAAAAAAAAAAAAAAAAAAAAAAAAAAAAAAAAAAAAAAAAAAAAAADKXjQn7vZ8PwAAAAAAAAAAAAAAAAAAAADKXjQn7vZ8P8peNCfu9nw/AAAAAAAAAAAAAAAAAAAAAONeNCfu9ow/sF40J+72fD8rR2edMrmlP+NeNCfu9ow/sF40J+72nD/jXjQn7vacP7BeNCfu9qw/GY3af6GItz+wXjQn7va8P+NeNCfu9rw/JF66SQwCwz/jXjQn7vbMP7BeNCfu9sw//nWH08c/yj8aAfS6w+nTP8qMHZEwjtI/DqQtLHvR1D/jXjQn7vbcP691yuRWRdU/2tJNYhBY2T/+dYfTxz/aPwRHZ50yudU/r3XK5FZF1T9fAbGpNOTYP6YYBFYOLdY/sF40J+72zD9gdQ325UrQP5PSkHOfXdQ/+umgDuqgxj9fAfS6w+nDPzgYR2edMsE/2tJNYhBYuT8uu4DYVBqyPzTTTWIQWKk/sF40J+72vD/a0k1iEFipPw==\"},\"shape\":[65],\"dtype\":\"float64\",\"order\":\"little\"},{\"type\":\"ndarray\",\"array\":{\"type\":\"bytes\",\"data\":\"UUdnnTK5lT+wXjQn7vaMP7BeNCfu9ow/sF40J+72jD9RR2edMrmVP7BeNCfu9ow/BEdnnTK5lT+wXjQn7vZ8PxdfNCfu9nw/sF40J+72jD8AAAAAAAAAAAAAAAAAAAAAF180J+72fD8AAAAAAAAAALBeNCfu9nw/AAAAAAAAAAAAAAAAAAAAAAAAAAAAAAAAAAAAAAAAAAAAAAAAAAAAAAAAAAAAAAAAAAAAAAAAAAAAAAAAAAAAAAAAAAAAAAAAAAAAAAAAAAAAAAAAAAAAAAAAAAAAAAAAAAAAAAAAAAAAAAAAAAAAAAAAAAAAAAAAAAAAAAAAAAAAAAAAAAAAAAAAAAAAAAAAAAAAAAAAAAA=\"},\"shape\":[34],\"dtype\":\"float64\",\"order\":\"little\"},\"0.0200\"]],[\"1e+03_Laplace\",[{\"type\":\"ndarray\",\"array\":{\"type\":\"bytes\",\"data\":\"AAAAAAAAAAAAAAAAAAAAAAAAAAAAAAAAAAAAAAAAAAAAAAAAAAAAAAAAAAAAAAAAAAAAAAAAAAAAAAAAAAAAAAAAAAAAAAAAAAAAAAAAAAAAAAAAAAAAACsvnzTKBX0/AAAAAAAAAABeL580ygV9PysvnzTKBX0/AAAAAAAAAABeL580ygV9P14vnzTKBX0/AAAAAAAAAAArL580ygWNPwAAAAAAAAAARC+fNMoFfT9EL580ygWNP14vnzTKBX0/RC+fNMoFfT8AAAAAAAAAAEQvnzTKBY0/RC+fNMoFfT9gY3enV8SlP14vnzTKBY0/YGN3p1fElT9eL580ygWtP14vnzTKBY0/YGN3p1fEpT+lipm9QVOwP0VJC+4QZak/h2N3p1fEtT9FSQvuEGWpP4djd6dXxLU/iIqZvUFTsD9UIunXJta+P2Bjd6dXxMU/fFbBSrSUxz9FSQvuEGXJPxZ3iLLMC9M/U1bBSrSU1z+HY3enV8TVP3JJC+4QZdk/ODxVkW012z+WpRavD2LeP0QHbOZYx+A/OtOTc8sI2D9gY3enV8TVP14vnzTKBc0/5mnSVSnc1D/tQrA/P03KP7E1+uKbHcw/U1bBSrSUxz+mVsFKtJTHPzg8VZFtNbs/RUkL7hBluT9TVsFKtJS3P61jd6dXxLU/e33jYJ4joj97feNgniOiPw==\"},\"shape\":[65],\"dtype\":\"float64\",\"order\":\"little\"},{\"type\":\"ndarray\",\"array\":{\"type\":\"bytes\",\"data\":\"kS+fNMoFnT8AAAAAAAAAACsvnzTKBZ0/YGN3p1fEpT+RL580ygWdP0VJC+4QZak/Ky+fNMoFfT8rL580ygWdP5EvnzTKBZ0/Ky+fNMoFjT8AAAAAAAAAAGBjd6dXxJU/u33jYJ4joj8rL580ygV9PwAAAAAAAAAAAAAAAAAAAAAAAAAAAAAAAAAAAAAAAAAAKy+fNMoFfT8AAAAAAAAAAAAAAAAAAAAAAAAAAAAAAAArL580ygV9P5EvnzTKBX0/AAAAAAAAAAAAAAAAAAAAAAAAAAAAAAAAAAAAAAAAAAArL580ygV9PwAAAAAAAAAAAAAAAAAAAAArL580ygV9PysvnzTKBX0/AAAAAAAAAAA=\"},\"shape\":[34],\"dtype\":\"float64\",\"order\":\"little\"},\"0.0490\"]],[\"1e+04_Gauss\",[{\"type\":\"ndarray\",\"array\":{\"type\":\"bytes\",\"data\":\"AAAAAAAAAAAAAAAAAAAAAAAAAAAAAAAAAAAAAAAAAAAAAAAAAAAAAAAAAAAAAAAAAAAAAAAAAAAAAAAAAAAAADL5cJiJLEc/AAAAAAAAAAAy+XCYiSxHPwn5cJiJLEc/AAAAAAAAAAAAAAAAAAAAAAAAAAAAAAAACflwmIksRz8y+XCYiSxXPzL5cJiJLFc/x7pUMmdhYT8J+XCYiSxXPzL5cJiJLEc/1rpUMmdhcT/62WJl+EZ0PzL5cJiJLFc/HvlwmIksZz9mN43+q/dsP9a6VDJnYYE/+tliZfhGdD9MN43+q/d8P+wnBmXjhIs/sWEmslwAlT+lVpsxPd2fP8YI+DFSn5g/lSWI2A5dpT9Fjf6r9xywPxpvL79QS7A/JxYBP0bqsz8O3ODxzG66Pw8Vwvhb1sA/j0IYf8sawj9pca1LJXPGP5/rZ4uV4cs/tq/JsUc+zD/V2CMfDjPRP3nK28sv1NI/GO27k3hR1T/uYmX4RhTYP39IaKBX2tc/ODZOuMHj2T9dfWJQNk7YP3c98uEwE9k/HCK2Q1fF1T9Bca1LJXPWP3Rl+EYUmNQ/dAZ6pX130j+S3PWzxcrQP9ZjpD4xKMs/VHLskQ+HyT+dj3w4zETGPwxRYNKpecA/lrAI+DFSvz/lgXMr2Pm6PywVwvhb1rA/8RTC+FvWsD9ikLt+tlipPw==\"},\"shape\":[65],\"dtype\":\"float64\",\"order\":\"little\"},{\"type\":\"ndarray\",\"array\":{\"type\":\"bytes\",\"data\":\"QL3SvjuJpz8qGH/LGhKaPyoYf8saEpo/x7pUMmdhkT8dKAZl44SLP0w3jf6r94w/eenp/sC5hT8J+XCYiSx3P5rK28sv1II/Khh/yxoSej8J+XCYiSxnP0w3jf6r92w/BLtUMmdhYT/HulQyZ2FhP8e6VDJnYWE/W/lwmIksRz/HulQyZ2FhPwn5cJiJLEc/CflwmIksRz8AAAAAAAAAAAAAAAAAAAAAAAAAAAAAAAAJ+XCYiSxHPwAAAAAAAAAAAAAAAAAAAAAAAAAAAAAAAAAAAAAAAAAAAAAAAAAAAAAAAAAAAAAAAAAAAAAAAAAAAAAAAAAAAAAAAAAAAAAAAAAAAAAAAAAAAAAAAAAAAAA=\"},\"shape\":[34],\"dtype\":\"float64\",\"order\":\"little\"},\"0.0226\"]],[\"1e+04_Laplace\",[{\"type\":\"ndarray\",\"array\":{\"type\":\"bytes\",\"data\":\"7v9nsws2Rz/F/2ezCzZHPwAAAAAAAAAAAAAAAAAAAAAAAAAAAAAAAAAAAAAAAAAA7v9nsws2Vz8AAAAAAAAAAPP/jcaIaGE/xf9nsws2Vz/u/2ezCzZHP9T/jcaIaHE/7v9nsws2Zz/u/2ezCzZ3P9T/jcaIaGE/xf9nsws2Zz/z/43GiGhxP+n/QaCOA20/xf9nsws2Vz/M//o8Sk90P+n/QaCOA20/3H8x+KrChT/L/64WUOp/P/P/jcaIaIE/4X/Egenbgj/Z/2ezCzaHP9X/1CnNHIo/1f/UKc0cij/M//o8Sk+UP+v/1CnNHJo/zP/6PEpPlD/pf3hb73aeP+f/rhZQ6p8/0H/Egenboj/uX5qEM9mmP77/1CnNHKo/8/+NxohosT/ULyevHDqxP+1/nm5sqbg/wO/StLA0uT/yd0NH22fCP8s/lpr6CMU/7v9nsws2xz+3L9uIItXMP/Gn3C9vOdI/ySuKwzda1T/trzdXAHvYP+tPcvyZvts/t5eOlFjs3D/o0x+QYt/eP9et68JoY+A/6qMZMQ0n3D/Hoz9EilnWP+9HF9UIfdU/08/03fSW0T/rfwvlLZDLP8BPBYbY18g/1Y9ZgETdwD8RAI7GiGjBP7s/cId91ro/ya/K4D6UtT/H72U+7022Px2gD89mYK0/xf9nsws2pz/Ln8hrIqykPw==\"},\"shape\":[65],\"dtype\":\"float64\",\"order\":\"little\"},{\"type\":\"ndarray\",\"array\":{\"type\":\"bytes\",\"data\":\"FUCWmvoIpT+/vznMHGOZP9VfwJewC6E/yX8x+KrClT8VAPs8Sk+UP86/X9+ZlZM/1b/yaNiukD/Vv/Jo2K6QPxDA8mjYrpA/0H/Egenbgj++/9QpzRx6P77/1CnNHHo/FYAx+KrChT/U/43GiGhxP7b/QaCOA20/EQCOxohocT/U/43GiGhhP7b/QaCOA20/1P+NxohoYT8RAI7GiGhhP8X/Z7MLNkc/xf9nsws2Rz/U/43GiGhhPxcAaLMLNkc/xf9nsws2Rz/F/2ezCzZHPwAAAAAAAAAAFwBosws2Rz/U/43GiGhhP8X/Z7MLNlc/FwBosws2Rz/F/2ezCzZXP8X/Z7MLNkc/AAAAAAAAAAA=\"},\"shape\":[34],\"dtype\":\"float64\",\"order\":\"little\"},\"0.0367\"]],[\"1e+05_Gauss\",[{\"type\":\"ndarray\",\"array\":{\"type\":\"bytes\",\"data\":\"AAAAAAAAAAA4mJXsyokSP1iYlezKiRI/AAAAAAAAAAAAAAAAAAAAADiYlezKiRI/WJiV7MqJEj84mJXsyokyP1iYlezKiRI/AAAAAAAAAACFZOBisM4rPz9LKEoE20Q/WJiV7MqJMj9jSyhKBNtEPzHlAo+ROEA/Rv66pz0sNz9u/rqnPSxHP4Vk4GKwzks/Rv66pz0sVz9UZOBisM5bPxVxPG+GSF8/j57D8rVGZD+rt3sLYjprPxCSZ+bfzHA/JZV+aVWrcT82+6MkyE12P7wdocbU3H8/AZJn5t/MgD+SeRhjjd6FP34Q3CSlXZA/FTSwvT9ZlD8MM9nGseyZP4oDEreafJ4/2mrFmTW/pD9Xw7dRRHurPzHlAo+ROLA/BX8mo4RitD8Z/MPqu4a5P0fhbcdtVr8/s+u4hrnDwj+NHUgU9XPFP+eLkpLUeMk/0fS+7UJdzT/2Gxhrh57QPzT9EvAMJdM/cEK3HDxD1D8WemTN6BPXP/et6hemadc/DKC3FEKD2T8kg13s7XnYP4R35R4qoNg/nuQ7e31o1z+RrWImaZvWPz43A8iW0NQ/uLrBzTR+0j++VbzYtRTRP59+b3LqLs0/Rp3s+yfayT/oFyrxg1PFP+sq8yUcjMI/dMHQdzxyvz+LBOmtKOm4P100sL0/WbQ/YRDcJKVdsD993CabiqKpPw==\"},\"shape\":[65],\"dtype\":\"float64\",\"order\":\"little\"},{\"type\":\"ndarray\",\"array\":{\"type\":\"bytes\",\"data\":\"6qHadSslpT+SO7W6uIKgP5K3ewtiOps/DiBPtPC1lD+JxNcXOLSOP60HADGex4k/HEgRx478gz+1Psw9LmGBP2PBwJTC1X0/I/ujJMhNdj/zkWfm38xwP4sE6a0o6Wg/H1iEVtpUaD/zkWfm38xgP8lXhFbaVFg/TXE8b4ZIXz+78V6bZ7JTP0b+uqc9LEc/Rv66pz0sRz+JSyhKBNtEPziYlezKiTI/MeUCj5E4QD9UZOBisM4rP3mYlezKiTI/AAAAAAAAAAA4mJXsyokiPziYlezKiRI/AAAAAAAAAAAAAAAAAAAAADiYlezKiRI/eZiV7MqJIj8AAAAAAAAAAAAAAAAAAAAAOJiV7MqJIj8=\"},\"shape\":[34],\"dtype\":\"float64\",\"order\":\"little\"},\"0.0245\"]],[\"1e+05_Laplace\",[{\"type\":\"ndarray\",\"array\":{\"type\":\"bytes\",\"data\":\"UYsz61mQQj8wizPrWZAyP/tQzeCG2Ds/MIsz61mQEj9RizPrWZBCP2PfZqN7hkk/B8TmiV+5Uz+wprMEdl1YP3E1TcdqC1Y/fImAf4wBXT+7/JkoZeJUP+H65ryXU18/UYsz61mQYj+sJ4263CRjPyS2Jn3R0mA/75jz9+d2ZT9vhNPkEh1xPzVDDdT48Wg/UYTT5BIdcT9qLu3AI5h0P1M8rc2xfnc/pq0TC73QeT8d9Ia2UOB9P+cZza1OPoA/Cyu9PYDegz/I9TkiHm+DP00Rujs6PIk/97ejlKf9iz8wizPrWZCSP1nOdhNK5pU//W0AZnA0lz+3G0rFJGmbP+0fYdMsg6E/+iq9PYDeoz/NDlaZ/7CoPxIShhyjaqk/4E0eeBNosD+hjmNu/UmzPzzV1hmRWbc/gFJlolg1vD/+gKNhb2PAPztddkZzq8M/cG8ytw16xz+DVS+1x9fMPxEflfLDVNE/ZsgVJgat1D8dKctSSdfYP4FrddJqCtw/GxGTSm+d3j+6lajKSIvfP6qqVT8dm94/TW4MrT+h3D+p2gTPOofYP/wuUzFYr9Q/2FHno4VE0T8JiefWvd7MPxykT2I70sc/dyaOodnqwj//LQY2vze/P3J6jiFh1bk/4Dp7fBQ5tz/ojMusK+2yPwQaza1OPrA/CIC81goDqz9/0nJ3Vs6mPw==\"},\"shape\":[65],\"dtype\":\"float64\",\"order\":\"little\"},{\"type\":\"ndarray\",\"array\":{\"type\":\"bytes\",\"data\":\"2r/qJVPRoj9VTbgH31CgPwL0hrZQ4J0/kTO1BZmulT+bxxYNA3OUPzod/TDy95A/WU2dXeMeiz8C9Ia2UOCNP/PRppbtn4Y/BwDKqwichT9bkOCF03R+P/fneRWQiIA/kBG6Ozo8eT8pPK3NsX53PyS2Jn3R0nA/oFngUpvacj/KGc2tTj5wP9Yl2k4Plm0/1+7ZG9f7YT+qClo188hnP5b8mShl4mQ/4frmvJdTXz8wizPrWZBiP1+2Jn3R0mA/lvyZKGXiVD8vwjMekipOP35SgExUZ1E/K1HN4IbYSz/9bQBmcDRHP5b8mShl4kQ/T24AZnA0Rz/KGc2tTj5APzCLM+tZkDI/MIsz61mQIj8=\"},\"shape\":[34],\"dtype\":\"float64\",\"order\":\"little\"},\"0.0355\"]],[\"1e+06_Gauss\",[{\"type\":\"ndarray\",\"array\":{\"type\":\"bytes\",\"data\":\"ubCEoQA/Bj9s67AsVqkNP0ST7tvViRI/26G5PmtkFD9Ek+7b1YkSPyT6e4/rgx8/W/p7j+uDHz+jRrW14AYpP6HrsCxWqR0/fxpUjSB3Iz9b+nuP64MvPz90N/qltTY/RGRLewu8PD/bkc2/0Go6P3bPO4MwE0I/X8fFQ2MWRT++Pj92EwpMP5/T9iKXkVA/DYt4nAiNVT/B4KBpJ01aPyX5AiiPQ2E/kBpUjSB3Yz+0xNdlrcdpP8awrs6qtnA/GAFPOrLIcz+CInZymYR7P0qfiqQ0yYA/PB0YPixOhD8UHe4QgtaJP5lPhg4bsZA/tMaUV6DglD/Z0N4XN8uaP+aIrAOeqqA/WUNVL+c1pT/lWQmj09yqP7/AcCCbOLA/Bsb89WHssz9LAxvTHKu4P0IFHfU/Fr4/11c1IgrvwT+XhopWB9bFP5Fq+iavkck/VyMQjq97zT+L65tXV9fQP1K+fs415NI/PSRknCmf1D9Lp0J97pPWP7tkQdnUrdc/Qz1ytGLa2D/d6BlAOM7YPzVqLRkkltg/nX4SXWLW1z8JJGgQ2aTWP4cBHEg9xNQ/l3p/MM7M0j/HgWGCDNvQP3Rh8PlSps0/YvbmqH93yT+kUxk7r7rFP2mmPlUZWsI/+levsqx8vj9t/sfRdzi5P8g9A1eIELQ/JS0IMXZNsD+72+byBhyqPw==\"},\"shape\":[65],\"dtype\":\"float64\",\"order\":\"little\"},{\"type\":\"ndarray\",\"array\":{\"type\":\"bytes\",\"data\":\"AEjeuUQxpT9SMJZYyZugP0uKHYOb35o/Mmadg9MQlT8aGri3Mn2QP62Rzb/Qaoo/q30PEvkdhD9Hp2vNLIqAPx7hoGknTXo/U7u+kdkSdD8yWJgj1qdwP74XZq9qKGg/rUmjk5ZVZD/IchbeoJZeP9YvdBN+L1o/9P9XS1chVj+23OXJwM5LP4w+P3YTCkw/GkjW0eUlQT/jNsk2Rg0/P7/AcCCbOEA/iGVslxDbND9thCN5QK8wP9JlbJcQ2zQ/yAuJKoucIT8kk+7b1YkiP38aVI0gdyM/GN3lycDOGz9Jv08ElhkYP22EI3lArxA/nr9PBJYZGD8kk+7b1YkSP2zrsCxWqQ0/bOuwLFap/T4=\"},\"shape\":[34],\"dtype\":\"float64\",\"order\":\"little\"},\"0.0243\"]],[\"1e+06_Laplace\",[{\"type\":\"ndarray\",\"array\":{\"type\":\"bytes\",\"data\":\"gQ/a2T4ZQj9+Ib10Cj5AP7foxH9yy0I/ysGvJaZ9Qz8/YqLWQb1GP820atNEYUs/myG9dAo+UD9gD9rZPhlSP7id6e8ONFc/rK/MitpYVT+4nenvDjRXP123ufd5ZV4/6sFSV/r5Xj8zWV/wsexhP1alMytaxGQ/uyK2H09+Zz9INpJlX+NsP788hie6r24/lvMIHOtBcT+jZvKwX2dzP90D6wDOwHU/ZlpYm/YseT9MMu3HORt+P0ihZ1YOTYE/Y4ZoDNkGgz/4HT8OCyWGP6xRPOyMC4k/9hwQzEAQjz+WuKo8rROSP665fLDLpJQ/lMf4qgholz/g3eUXt2qcP1KVUUZ3RaA/hbI+My1Doz+cZjCu9s2mP/kJHcC/86o/JcVMuCfgrz/uwkOcLaiyP5npNXLcD7c/vk7KQzohuz+18cTfO0XAP0GWRWiMlcM/WRxh3D9lxz9jAla0H2/MP2ErDBlHPdE/bSYXYYfI1D+jKC0h9JbYPx4uwHE5V9w/jaz4iqz63j+sRMSUudDfP8HXrBOpuN4/oD7niDB73D9HHaUojqLYP6IXXKMruNQ/MOuioZ5K0T8psLTuQnrMPwEamnDlXMc/P7ta4pZkwz9N2Nw7OTXAP0o9kuVm3ro/rYz7TH+Gtj8MA75qUfqyP+0+x4aHCrA/k8n9E/rWqj+SGuQrKfKmPw==\"},\"shape\":[65],\"dtype\":\"float64\",\"order\":\"little\"},{\"type\":\"ndarray\",\"array\":{\"type\":\"bytes\",\"data\":\"2ABSIVUnoz/UZrSzyACgPwQj3VZ1LZw/Ox2U0RJDmD83TYfdsUuUP92vjo1D8pE/wbU8R2PyjT8nX8+sOoaKP/h6eTNoroY/+NsDM+Phgz/tCOYX5EyAP2s15yhnAX8/cUwanlDQeT9oQix7yB13P3wA8Z+g2nQ/9O9jfsV5cj/o3tZc6hhwPwfDqNDqvWo/xXbUlULmZz+qxP5J24FmP8rBryWmfWM/iHXb6v2lYD9B0ebNkBpaPzk+3KCqc1o/JesTpKfPVT8OJAyZP0JTP7cZczm/rVI/Q/MAEUfcTj+BFHgiqSFIP6dk8fp2wUk/tU1wF0GURT/FdtSVQuZHP9lKIfMLkEI/3D3coKpzOj8=\"},\"shape\":[34],\"dtype\":\"float64\",\"order\":\"little\"},\"0.0356\"]],[\"1e+07_Gauss\",[{\"type\":\"ndarray\",\"array\":{\"type\":\"bytes\",\"data\":\"uT+9F3DXCD9rQSKU8BALP2FF7Izxgw8/fs4OxKM9ET8QOo6i7ioSPwpVcHflBhk/m0EilPAQGz/L7WiVE2ggPwaQWiHE6CI/Ff+j+A9JKD8LE8ndwCwwP+C6wOCuRzM/rkNeEi04Nz/YM9onObU9Px2yN65SYEI/e/AUT3bHRj+QRcOOrXFJP5wl+YEXD1A/FS/J8VUcVT8hEUV9lyFZP3FhBvjhpGA/4DBS38zHZD/IzIpjejJqP4P5BryJVXA/5QXsH+JodD+msstabwp6PwzoGYJYcYA/+FGjZbjkhD8r0FOi6iyKP+xkzzZSn5A/jcSgHwr6lD/ya9QIhXuaPybzcSV9saA/ML+hYA0XpT9Ws8hBQ1uqP7+4fNbMYLA/eefDL+oetD8asfL+Zbu4P61v550DS74/g9Ato/45wj/hWF0aYqvFP0thpIJVfck/JrXu8rKezT/MmJtTEePQPwDdhHYM69I/8KYY2I7X1D/U97/Dh5DWP3NXiIQrvNc/eGT1NT6S2D/sBlYlYsnYP+c87FColtg/s5mlKMzC1z/N6rtqTmrWP4ZLUgnozdQ/rFwpS0D90j+D2PZjmN7QPxJW/UQDos0/LtyKuZyKyT8KLhXB07fFPzRvoosUPMI/Lj3RB8ZTvj9kw3/hE8e4P7xzCHSpPrQ/DLWLbX1csD8hzdq3OEaqPw==\"},\"shape\":[65],\"dtype\":\"float64\",\"order\":\"little\"},{\"type\":\"ndarray\",\"array\":{\"type\":\"bytes\",\"data\":\"yVM2JJz2pD88Up+S+7ygP1PG9cxtjpo/eBFBqtr5lD9A2BJ09WGQP5IpMvytQYo/lEjUrwpQhD+VKb+nW1qAP2SvS7h8bHk/WhQNAnejdD9ouF59Wr1wP0q/9YeIUmk/vED/xwRdZD+tnaKNe0RgP7OL4iRLmlo/JThSJLIDVj8bi3LpJGJQP3WUa1engUs/zeQIYfuSRT/aHtXLO2FBP3GPrB1MDT8/RvX8hhVOOT9SJkC/+TQ0P8R4QkXOfzA/gZWJlkWVKT+ZcABQVL4jP37ODsSjPSE/x2yIU9tvGz+uPVib750WP0Kncv25URU/OuTBIxltET+Y6fCYmhkIP3brVRUbUwo/LxqGzQYl/z4=\"},\"shape\":[34],\"dtype\":\"float64\",\"order\":\"little\"},\"0.0243\"]],[\"1e+07_Laplace\",[{\"type\":\"ndarray\",\"array\":{\"type\":\"bytes\",\"data\":\"Mo/8ubiWQT+UqrcEyJBBP3tNM0Y94kQ/m3dPI43tRT+CdWikpmJJPw9zgSXA10w/warvLWUpUD/+1koOxPVRP893h0wqhlQ/HN2XxbYHVz8vOP3bvZJYP18v6QBwk1w/GLGA9X1RYD9VpIqoYBxiPwS1jqlhomQ/+RGXLimiZz+z59LVAc1qP7EgGBz1UG4/81WrjDyVcT/M1OkCoqlzP62/nXeYTHY/CjjFsiD6eT8F36jZKcB9P8P0fIV/SYE/2mYkfXiUgz/PjLZsIaCGPxQUngibyok/amYAyN0bjj9ZJm4Cg4yRP5yYoApBXpQ/CoG2rXfUlz+aHbdIXgucP7CpR+oYZqA/88SS4u0uoz8uCRrnbqqmP9Sa04qBnqo/6jflDayXrz/TnTan5dSyP6bxeAVvgLY/PqcLCeD9uj8DdGOpGSbAPxeDnfoAYcM/X7ZiYR9/xz9itlZFIn/MP25E4zGVPdE/4VTh2QvG1D+3n5VsUbTYP3j0WGkTUNw/Ei74ds7y3j8JAOOuVevfP3Ro5ryX794/olDsz1lc3D8hgWj8fq3YP/k63yFe0tQ/Irlmr9JJ0T/WBhFgdZTMP/bjh786mMc/cfBAey5vwz8oUBVagCPAP0P1nKh/4Lo/zaRSFdt+tj+zpJuQpN6yPwekqFZkzK8/uwa+eE2mqj9rIvqZIJemPw==\"},\"shape\":[65],\"dtype\":\"float64\",\"order\":\"little\"},{\"type\":\"ndarray\",\"array\":{\"type\":\"bytes\",\"data\":\"O7PrOqEtoz/IEVDKzzSgP/CmXr6q7Zs/0moyMVzllz8X6HW02E6UP5SqtwTIkJE/Y4wpr9Qrjj88KwePoF2KP2AlqVMkhoY/u1PVkd/Pgz8B+4I80+qAPztA1+DmC34/50KoPkOJeT8MSUXt5C52Py23UyA1onM/okuy34/4cD9c58bueE9uPxiEyTbnc2o/M3GGMtcsZz9b2/RW9pJlP95CwAxVhGI/23cvyAFQYD9P5SOAuNpcP6JiGbkNnlk/NMy/BsqcVj/vVxbSX3FUP6Z1gHK4XVI/Q2mWDCSmUD/Nf9vdjsBLP0L0LI7QtUk/sr0mS+zyRj/VMXj7LehEP3/yBVnT70E/yfbzsSujQD8=\"},\"shape\":[34],\"dtype\":\"float64\",\"order\":\"little\"},\"0.0354\"]],[\"1e+08_Gauss\",[{\"type\":\"ndarray\",\"array\":{\"type\":\"bytes\",\"data\":\"zzlYc/dHBD+3p6B4rBAKP3LqPyF4Nw0/J5ZaJOw9Ej+PTqBENFYUP/Wglgi8rBg/8qIaAvZAHT9HYiYZVBoiP7Mqw1RYYiU/15EB6hzHKT8PNTDA0yYwP0kByHIUNzM/TCXcX5NtNz+DlHsim3E9PybShB398UE/1wEPUA/2RT8iITKHDU5LP9Fgbt3yuVA/sbdNZ88wVT+8hvQSxNxZP+Dzs5Izb2A/mOYzNu6vZD/xUsAHLLlpP3m8dleNOnA/nFTSDgppdD/B29Z/z+N5P7NeN4pZb4A/vkRi0P+qhD8UjLzwmTSKP5Xpyn44kpA/N4bLzvLilD/wL00EUICaPwtsN4c0pqA/glHPbWYDpT8MrfEudjyqPwmFoie/WLA/hoAIBJYxtD8z+vYzudG4P2Gm2RBMRb4/HW0RKHA9wj9CMFSjhb3FP/gcuCT+iMk/4AAz9HOezT9JDIjbM+TQP1cjRwK79dI/Hrvn+zDa1D9tEj0qPX/WP1TZgEOAvNc/jD5F0UKK2D9vjURDc87YP3/+EvVsidg/G6IOQ9a91z8xve+1znXWPx4c+wLz2NQ/VRdxiY700j9+bROIx+bQPzP93oi0os0/HZIjslmOyT/BHe1HTb3FP/NelBBSNcI/DRFdCHJFvj8f0uWmo8y4P75dmnaVL7Q/2d0Tht5NsD80Pa7kbz+qPw==\"},\"shape\":[65],\"dtype\":\"float64\",\"order\":\"little\"},{\"type\":\"ndarray\",\"array\":{\"type\":\"bytes\",\"data\":\"6fGcerDrpD/kIUc3366gP9TJo5vnf5o/OWQ91zjwlD+VN5uLJ3eQP3bqYjB9M4o/vYq2kNKyhD+r8XvB1EyAP2WSeBEp83k/Am58yTJzdD/hNRBWGjZwPzhge1kqGmo/5fv2Jk1JZD8Tpzw/InVgP6MeEd1xClo/+PaOScA+VT80qJP8dLBQP+st/4nzVks/mEvi6TZjRj/0rO/xv51BP45oPQV83jw/8pA/7f98Nz9Z5y1tSCUzP2uvMi2bBTA/9yGj5XPvKT/NUaV8LAglPwbvwtyykCE/Zo7SMLkyHT82ZxqKUG8ZP2vd6oI4QxQ/oAAGdvfsED+8ksPmOREMP7NLyEgj/Qc/J5ZaJOw9Aj8=\"},\"shape\":[34],\"dtype\":\"float64\",\"order\":\"little\"},\"0.0243\"]],[\"1e+08_Laplace\",[{\"type\":\"ndarray\",\"array\":{\"type\":\"bytes\",\"data\":\"XOdIneDJQD9TgGx1HGlCP2O8NwY+dkQ/nuHr93W2Rj8Hdn47aIlJP0CdPMGuPk0/usg37cKgTz9S5QJ4/8BRP4ga5DvUJ1Q/Gnx6osmzVj8HD48AgldZP1Pk9gSSeFw/pMqkbDA4YD9jNgULujViP7ULvLO+u2Q/atRBVZp5Zz8h2tNi8ZJqP4MQAMg3V24/E2RB4B5McT/fDZfUfsxzP3spc16MUXY/3I0h8CHPeT/o4ZQYial9PwRjUd74/4A/YSBzAtqJgz89RbVwKnqGP36UJx2bCIo/jgsGZAwwjj9ljPs38pSRP+WrUlnPXJQ/6FvR8p/Olz9VEbslZs+bP7astkomSqA/FI0qEjwsoz+2gZDNHKGmPxvC2vF3w6o/P/IXcNulrz8cm8Yc+t6yP5l4lAbZeLY/1u7mz/Lmuj9JQOm/hCTAP17GzZWudMM/b70ytZ2Gxz/X3w5QLYHMPxCw65WqRtE/t5IzvRDR1D9ej8ZPSrDYP0uDSB+bWNw/CznGD8Pv3j8YQ9UqRuzfP5L46HWW994/+rxGN7pV3D+szEt9VrDYPwacKGyJ1NQ/qT8CIBtG0T9kUvaEUnrMP6wWx6XggMc/N2r/ZS9ywz8BTXlNsSTAP0qXBjrF67o/gxlUvIV0tj/BoWfegtCyP4O2bSJys68/ww3EdIisqj8ijuh/saemPw==\"},\"shape\":[65],\"dtype\":\"float64\",\"order\":\"little\"},{\"type\":\"ndarray\",\"array\":{\"type\":\"bytes\",\"data\":\"yGL9uHIsoz/aLgL6oU6gP3TpzfDF55s/ww5YJ0vmlz91npRVtGaUP671RPn4iJE/hiTovuAmjj9EJWxD2C2KP7LgAg4bj4Y/UxnmCRiSgz8SraoYxemAP/txEzRekn0/6vF/ZLWaeT+8B409h1h2P5J26JRymnM/SXJb0aI7cT/SDoLi/SduP7XMeGQKu2o/H+MaObuAZz8eH17sgbVkP3YFHA/WJWI/clvieqI4YD/lrmAUOAldP1EjhSfBcFk/MxCYG4N/Vj8SXtp0nClUP5XY0XDW+FE/e/7Y13wLUD8Lph0P6IhMPyZoqqHOPEo/X2U5DCLXRj9H7gnsfK1EPxXAw1AAiEI/xJgY3tujQD8=\"},\"shape\":[34],\"dtype\":\"float64\",\"order\":\"little\"},\"0.0354\"]]]}}}],[\"s_hist_data_large\",{\"type\":\"object\",\"name\":\"ColumnDataSource\",\"id\":\"p1625\",\"attributes\":{\"selected\":{\"type\":\"object\",\"name\":\"Selection\",\"id\":\"p1626\",\"attributes\":{\"indices\":[],\"line_indices\":[]}},\"selection_policy\":{\"type\":\"object\",\"name\":\"UnionRenderers\",\"id\":\"p1627\"},\"data\":{\"type\":\"map\",\"entries\":[[\"top\",{\"type\":\"ndarray\",\"array\":{\"type\":\"bytes\",\"data\":\"6qHadSslpT+SO7W6uIKgP5K3ewtiOps/DiBPtPC1lD+JxNcXOLSOP60HADGex4k/HEgRx478gz+1Psw9LmGBP2PBwJTC1X0/I/ujJMhNdj/zkWfm38xwP4sE6a0o6Wg/H1iEVtpUaD/zkWfm38xgP8lXhFbaVFg/TXE8b4ZIXz+78V6bZ7JTP0b+uqc9LEc/Rv66pz0sRz+JSyhKBNtEPziYlezKiTI/MeUCj5E4QD9UZOBisM4rP3mYlezKiTI/AAAAAAAAAAA4mJXsyokiPziYlezKiRI/AAAAAAAAAAAAAAAAAAAAADiYlezKiRI/eZiV7MqJIj8AAAAAAAAAAAAAAAAAAAAAOJiV7MqJIj8=\"},\"shape\":[34],\"dtype\":\"float64\",\"order\":\"little\"}],[\"bottom\",[1e-07,1e-07,1e-07,1e-07,1e-07,1e-07,1e-07,1e-07,1e-07,1e-07,1e-07,1e-07,1e-07,1e-07,1e-07,1e-07,1e-07,1e-07,1e-07,1e-07,1e-07,1e-07,1e-07,1e-07,1e-07,1e-07,1e-07,1e-07,1e-07,1e-07,1e-07,1e-07,1e-07,1e-07]],[\"left\",{\"type\":\"ndarray\",\"array\":{\"type\":\"bytes\",\"data\":\"NCTm7QyJAUCoqqqqqqoCQCAxb2dIzANAmLczJObtBEAQPvjggw8GQITEvJ0hMQdA/EqBWr9SCEB00UUXXXQJQOxXCtT6lQpAYN7OkJi3C0DYZJNNNtkMQFDrVwrU+g1AyHEcx3EcD0AefPDBBx8QQFq/UqDWrxBAlgK1fqVAEUDQRRdddNERQAyJeTtDYhJASMzbGRLzEkCEDz744IMTQL5SoNavFBRA+pUCtX6lFEA22WSTTTYVQHIcx3EcxxVArF8pUOtXFkDooosuuugWQCTm7QyJeRdAYClQ61cKGECabLLJJpsYQNavFKj1KxlAEvN2hsS8GUBMNtlkk00aQIh5O0Ni3hpAxLydITFvG0A=\"},\"shape\":[34],\"dtype\":\"float64\",\"order\":\"little\"}],[\"right\",{\"type\":\"ndarray\",\"array\":{\"type\":\"bytes\",\"data\":\"qKqqqqqqAkAgMW9nSMwDQJi3MyTm7QRAED744IMPBkCExLydITEHQPxKgVq/UghAdNFFF110CUDsVwrU+pUKQGDezpCYtwtA2GSTTTbZDEBQ61cK1PoNQMhxHMdxHA9AHnzwwQcfEEBav1Kg1q8QQJYCtX6lQBFA0EUXXXTREUAMiXk7Q2ISQEjM2xkS8xJAhA8++OCDE0C+UqDWrxQUQPqVArV+pRRANtlkk002FUByHMdxHMcVQKxfKVDrVxZA6KKLLrroFkAk5u0MiXkXQGApUOtXChhAmmyyySabGEDWrxSo9SsZQBLzdobEvBlATDbZZJNNGkCIeTtDYt4aQMS8nSExbxtAAAAAAAAAHEA=\"},\"shape\":[34],\"dtype\":\"float64\",\"order\":\"little\"}]]}}}],[\"s_hist_data_small\",{\"type\":\"object\",\"name\":\"ColumnDataSource\",\"id\":\"p1622\",\"attributes\":{\"selected\":{\"type\":\"object\",\"name\":\"Selection\",\"id\":\"p1623\",\"attributes\":{\"indices\":[],\"line_indices\":[]}},\"selection_policy\":{\"type\":\"object\",\"name\":\"UnionRenderers\",\"id\":\"p1624\"},\"data\":{\"type\":\"map\",\"entries\":[[\"top\",{\"type\":\"ndarray\",\"array\":{\"type\":\"bytes\",\"data\":\"AAAAAAAAAAA4mJXsyokSP1iYlezKiRI/AAAAAAAAAAAAAAAAAAAAADiYlezKiRI/WJiV7MqJEj84mJXsyokyP1iYlezKiRI/AAAAAAAAAACFZOBisM4rPz9LKEoE20Q/WJiV7MqJMj9jSyhKBNtEPzHlAo+ROEA/Rv66pz0sNz9u/rqnPSxHP4Vk4GKwzks/Rv66pz0sVz9UZOBisM5bPxVxPG+GSF8/j57D8rVGZD+rt3sLYjprPxCSZ+bfzHA/JZV+aVWrcT82+6MkyE12P7wdocbU3H8/AZJn5t/MgD+SeRhjjd6FP34Q3CSlXZA/FTSwvT9ZlD8MM9nGseyZP4oDEreafJ4/2mrFmTW/pD9Xw7dRRHurPzHlAo+ROLA/BX8mo4RitD8Z/MPqu4a5P0fhbcdtVr8/s+u4hrnDwj+NHUgU9XPFP+eLkpLUeMk/0fS+7UJdzT/2Gxhrh57QPzT9EvAMJdM/cEK3HDxD1D8WemTN6BPXP/et6hemadc/DKC3FEKD2T8kg13s7XnYP4R35R4qoNg/nuQ7e31o1z+RrWImaZvWPz43A8iW0NQ/uLrBzTR+0j++VbzYtRTRP59+b3LqLs0/Rp3s+yfayT/oFyrxg1PFP+sq8yUcjMI/dMHQdzxyvz+LBOmtKOm4P100sL0/WbQ/YRDcJKVdsD993CabiqKpPw==\"},\"shape\":[65],\"dtype\":\"float64\",\"order\":\"little\"}],[\"bottom\",[1e-07,1e-07,1e-07,1e-07,1e-07,1e-07,1e-07,1e-07,1e-07,1e-07,1e-07,1e-07,1e-07,1e-07,1e-07,1e-07,1e-07,1e-07,1e-07,1e-07,1e-07,1e-07,1e-07,1e-07,1e-07,1e-07,1e-07,1e-07,1e-07,1e-07,1e-07,1e-07,1e-07,1e-07,1e-07,1e-07,1e-07,1e-07,1e-07,1e-07,1e-07,1e-07,1e-07,1e-07,1e-07,1e-07,1e-07,1e-07,1e-07,1e-07,1e-07,1e-07,1e-07,1e-07,1e-07,1e-07,1e-07,1e-07,1e-07,1e-07,1e-07,1e-07,1e-07,1e-07,1e-07]],[\"left\",{\"type\":\"ndarray\",\"array\":{\"type\":\"bytes\",\"data\":\"AAAAAAAAHMDFvJ0hMW8bwIl5O0Ni3hrATjbZZJNNGsAS83aGxLwZwNevFKj1KxnAm2yyySabGMBgKVDrVwoYwCTm7QyJeRfA6aKLLrroFsCtXylQ61cWwHIcx3EcxxXANtlkk002FcD7lQK1fqUUwMBSoNavFBTAhA8++OCDE8BIzNsZEvMSwA2JeTtDYhLA0kUXXXTREcCWArV+pUARwFq/UqDWrxDAH3zwwQcfEMDHcRzHcRwPwFDrVwrU+g3A2mSTTTbZDMBj3s6QmLcLwOxXCtT6lQrAddFFF110CcD+SoFav1IIwIbEvJ0hMQfAED744IMPBsCYtzMk5u0EwCIxb2dIzAPArKqqqqqqAsA0JObtDIkBwL6dITFvZwDAjC666KKL/r+gITFvZ0j8v7AUqPUrBfq/xAcffPDB97/U+pUCtX71v+jtDIl5O/O/+OCDDz748L8YqPUrBWrtvziO4ziO4+i/YHTRRRdd5L8AtX6lQK3fv1CBWr9SoNa/QJtssskmy7+AZ0jM2xmyv0BnSMzbGbI/IJtssskmyz9AgVq/UqDWPwC1fqVArd8/WHTRRRdd5D84juM4juPoPxCo9SsFau0/+OCDDz748D/o7QyJeTvzP9D6lQK1fvU/wAcffPDB9z+wFKj1KwX6P6AhMW9nSPw/iC666KKL/j+8nSExb2cAQA==\"},\"shape\":[65],\"dtype\":\"float64\",\"order\":\"little\"}],[\"right\",{\"type\":\"ndarray\",\"array\":{\"type\":\"bytes\",\"data\":\"xbydITFvG8CJeTtDYt4awE422WSTTRrAEvN2hsS8GcDXrxSo9SsZwJtssskmmxjAYClQ61cKGMAk5u0MiXkXwOmiiy666BbArV8pUOtXFsByHMdxHMcVwDbZZJNNNhXA+5UCtX6lFMDAUqDWrxQUwIQPPvjggxPASMzbGRLzEsANiXk7Q2ISwNJFF1100RHAlgK1fqVAEcBav1Kg1q8QwB988MEHHxDAx3Ecx3EcD8BQ61cK1PoNwNpkk0022QzAY97OkJi3C8DsVwrU+pUKwHXRRRdddAnA/kqBWr9SCMCGxLydITEHwBA++OCDDwbAmLczJObtBMAiMW9nSMwDwKyqqqqqqgLANCTm7QyJAcC+nSExb2cAwIwuuuiii/6/oCExb2dI/L+wFKj1KwX6v8QHH3zwwfe/1PqVArV+9b/o7QyJeTvzv/jggw8++PC/GKj1KwVq7b84juM4juPov2B00UUXXeS/ALV+pUCt379QgVq/UqDWv0CbbLLJJsu/gGdIzNsZsr9AZ0jM2xmyPyCbbLLJJss/QIFav1Kg1j8AtX6lQK3fP1h00UUXXeQ/OI7jOI7j6D8QqPUrBWrtP/jggw8++PA/6O0MiXk78z/Q+pUCtX71P8AHH3zwwfc/sBSo9SsF+j+gITFvZ0j8P4guuuiii/4/vJ0hMW9nAEA0JObtDIkBQA==\"},\"shape\":[65],\"dtype\":\"float64\",\"order\":\"little\"}]]}}}]]},\"code\":\"\\n    // 1.) Select the histogram\\n    const hist_new = s_all_histograms.data[B.value + \\\"_\\\" + dist.value]\\n    \\n    // 2.) Update the FPF\\n    const tmp_fpf = hist_new[2]\\n    fpf_text.text = '<p style=\\\"color:black; font-size:20px; font-weight:'\\n        + ' bold;\\\">FPF = ' + tmp_fpf + '</p>'\\n    \\n    \\n    // 3.) update the values\\n    s_hist_data_small.data = {\\n         top: hist_new[0], \\n         bottom: s_hist_data_small.data.bottom, \\n         left: s_hist_data_small.data.left, \\n         right: s_hist_data_small.data.right}; \\n         \\n    s_hist_data_large.data = {\\n         top: hist_new[1], \\n         bottom: s_hist_data_large.data.bottom, \\n         left: s_hist_data_large.data.left, \\n         right: s_hist_data_large.data.right};    \\n    \\n\"}}]]]},\"title\":\"B:\",\"options\":[\"1e+03\",\"1e+04\",\"1e+05\",\"1e+06\",\"1e+07\",\"1e+08\"],\"value\":\"1e+05\"}},{\"id\":\"p1683\"},{\"id\":\"p1681\"}]}},{\"type\":\"object\",\"name\":\"Figure\",\"id\":\"p1586\",\"attributes\":{\"width\":750,\"height\":300,\"x_range\":{\"type\":\"object\",\"name\":\"Range1d\",\"id\":\"p1596\",\"attributes\":{\"start\":-7,\"end\":7}},\"y_range\":{\"type\":\"object\",\"name\":\"Range1d\",\"id\":\"p1598\",\"attributes\":{\"start\":1e-05,\"end\":3}},\"x_scale\":{\"type\":\"object\",\"name\":\"LinearScale\",\"id\":\"p1600\"},\"y_scale\":{\"type\":\"object\",\"name\":\"LogScale\",\"id\":\"p1602\"},\"title\":{\"type\":\"object\",\"name\":\"Title\",\"id\":\"p1589\",\"attributes\":{\"text\":\"Parametric Bootstrap Distribution\"}},\"renderers\":[{\"type\":\"object\",\"name\":\"GlyphRenderer\",\"id\":\"p1634\",\"attributes\":{\"data_source\":{\"id\":\"p1622\"},\"view\":{\"type\":\"object\",\"name\":\"CDSView\",\"id\":\"p1635\",\"attributes\":{\"filter\":{\"type\":\"object\",\"name\":\"AllIndices\",\"id\":\"p1636\"}}},\"glyph\":{\"type\":\"object\",\"name\":\"Quad\",\"id\":\"p1631\",\"attributes\":{\"left\":{\"type\":\"field\",\"field\":\"left\"},\"right\":{\"type\":\"field\",\"field\":\"right\"},\"bottom\":{\"type\":\"field\",\"field\":\"bottom\"},\"top\":{\"type\":\"field\",\"field\":\"top\"},\"line_color\":{\"type\":\"value\",\"value\":\"white\"},\"fill_color\":{\"type\":\"value\",\"value\":[1,115,178]}}},\"nonselection_glyph\":{\"type\":\"object\",\"name\":\"Quad\",\"id\":\"p1632\",\"attributes\":{\"left\":{\"type\":\"field\",\"field\":\"left\"},\"right\":{\"type\":\"field\",\"field\":\"right\"},\"bottom\":{\"type\":\"field\",\"field\":\"bottom\"},\"top\":{\"type\":\"field\",\"field\":\"top\"},\"line_color\":{\"type\":\"value\",\"value\":\"white\"},\"line_alpha\":{\"type\":\"value\",\"value\":0.1},\"fill_color\":{\"type\":\"value\",\"value\":[1,115,178]},\"fill_alpha\":{\"type\":\"value\",\"value\":0.1},\"hatch_alpha\":{\"type\":\"value\",\"value\":0.1}}},\"muted_glyph\":{\"type\":\"object\",\"name\":\"Quad\",\"id\":\"p1633\",\"attributes\":{\"left\":{\"type\":\"field\",\"field\":\"left\"},\"right\":{\"type\":\"field\",\"field\":\"right\"},\"bottom\":{\"type\":\"field\",\"field\":\"bottom\"},\"top\":{\"type\":\"field\",\"field\":\"top\"},\"line_color\":{\"type\":\"value\",\"value\":\"white\"},\"line_alpha\":{\"type\":\"value\",\"value\":0.2},\"fill_color\":{\"type\":\"value\",\"value\":[1,115,178]},\"fill_alpha\":{\"type\":\"value\",\"value\":0.2},\"hatch_alpha\":{\"type\":\"value\",\"value\":0.2}}}}},{\"type\":\"object\",\"name\":\"GlyphRenderer\",\"id\":\"p1643\",\"attributes\":{\"data_source\":{\"id\":\"p1625\"},\"view\":{\"type\":\"object\",\"name\":\"CDSView\",\"id\":\"p1644\",\"attributes\":{\"filter\":{\"type\":\"object\",\"name\":\"AllIndices\",\"id\":\"p1645\"}}},\"glyph\":{\"type\":\"object\",\"name\":\"Quad\",\"id\":\"p1640\",\"attributes\":{\"left\":{\"type\":\"field\",\"field\":\"left\"},\"right\":{\"type\":\"field\",\"field\":\"right\"},\"bottom\":{\"type\":\"field\",\"field\":\"bottom\"},\"top\":{\"type\":\"field\",\"field\":\"top\"},\"line_color\":{\"type\":\"value\",\"value\":\"white\"},\"fill_color\":{\"type\":\"value\",\"value\":\"red\"}}},\"nonselection_glyph\":{\"type\":\"object\",\"name\":\"Quad\",\"id\":\"p1641\",\"attributes\":{\"left\":{\"type\":\"field\",\"field\":\"left\"},\"right\":{\"type\":\"field\",\"field\":\"right\"},\"bottom\":{\"type\":\"field\",\"field\":\"bottom\"},\"top\":{\"type\":\"field\",\"field\":\"top\"},\"line_color\":{\"type\":\"value\",\"value\":\"white\"},\"line_alpha\":{\"type\":\"value\",\"value\":0.1},\"fill_color\":{\"type\":\"value\",\"value\":\"red\"},\"fill_alpha\":{\"type\":\"value\",\"value\":0.1},\"hatch_alpha\":{\"type\":\"value\",\"value\":0.1}}},\"muted_glyph\":{\"type\":\"object\",\"name\":\"Quad\",\"id\":\"p1642\",\"attributes\":{\"left\":{\"type\":\"field\",\"field\":\"left\"},\"right\":{\"type\":\"field\",\"field\":\"right\"},\"bottom\":{\"type\":\"field\",\"field\":\"bottom\"},\"top\":{\"type\":\"field\",\"field\":\"top\"},\"line_color\":{\"type\":\"value\",\"value\":\"white\"},\"line_alpha\":{\"type\":\"value\",\"value\":0.2},\"fill_color\":{\"type\":\"value\",\"value\":\"red\"},\"fill_alpha\":{\"type\":\"value\",\"value\":0.2},\"hatch_alpha\":{\"type\":\"value\",\"value\":0.2}}}}},{\"type\":\"object\",\"name\":\"Span\",\"id\":\"p1647\",\"attributes\":{\"location\":2.2804911538963033,\"dimension\":\"height\",\"line_width\":3}},{\"type\":\"object\",\"name\":\"GlyphRenderer\",\"id\":\"p1654\",\"attributes\":{\"data_source\":{\"type\":\"object\",\"name\":\"ColumnDataSource\",\"id\":\"p1648\",\"attributes\":{\"selected\":{\"type\":\"object\",\"name\":\"Selection\",\"id\":\"p1649\",\"attributes\":{\"indices\":[],\"line_indices\":[]}},\"selection_policy\":{\"type\":\"object\",\"name\":\"UnionRenderers\",\"id\":\"p1650\"},\"data\":{\"type\":\"map\",\"entries\":[[\"x\",{\"type\":\"ndarray\",\"array\":{\"type\":\"bytes\",\"data\":\"AAAAAAAAHMDFvJ0hMW8bwIl5O0Ni3hrATjbZZJNNGsAS83aGxLwZwNevFKj1KxnAm2yyySabGMBgKVDrVwoYwCTm7QyJeRfA6aKLLrroFsCtXylQ61cWwHIcx3EcxxXANtlkk002FcD7lQK1fqUUwMBSoNavFBTAhA8++OCDE8BIzNsZEvMSwA2JeTtDYhLA0kUXXXTREcCWArV+pUARwFq/UqDWrxDAH3zwwQcfEMDHcRzHcRwPwFDrVwrU+g3A2mSTTTbZDMBj3s6QmLcLwOxXCtT6lQrAddFFF110CcD+SoFav1IIwIbEvJ0hMQfAED744IMPBsCYtzMk5u0EwCIxb2dIzAPArKqqqqqqAsA0JObtDIkBwL6dITFvZwDAjC666KKL/r+gITFvZ0j8v7AUqPUrBfq/xAcffPDB97/U+pUCtX71v+jtDIl5O/O/+OCDDz748L8YqPUrBWrtvziO4ziO4+i/YHTRRRdd5L8AtX6lQK3fv1CBWr9SoNa/QJtssskmy7+AZ0jM2xmyv0BnSMzbGbI/IJtssskmyz9AgVq/UqDWPwC1fqVArd8/WHTRRRdd5D84juM4juPoPxCo9SsFau0/+OCDDz748D/o7QyJeTvzP9D6lQK1fvU/wAcffPDB9z+wFKj1KwX6P6AhMW9nSPw/iC666KKL/j+8nSExb2cAQDQk5u0MiQFAqKqqqqqqAkAgMW9nSMwDQJi3MyTm7QRAED744IMPBkCExLydITEHQPxKgVq/UghAdNFFF110CUDsVwrU+pUKQGDezpCYtwtA2GSTTTbZDEBQ61cK1PoNQMhxHMdxHA9AHnzwwQcfEEBav1Kg1q8QQJYCtX6lQBFA0EUXXXTREUAMiXk7Q2ISQEjM2xkS8xJAhA8++OCDE0C+UqDWrxQUQPqVArV+pRRANtlkk002FUByHMdxHMcVQKxfKVDrVxZA6KKLLrroFkAk5u0MiXkXQGApUOtXChhAmmyyySabGEDWrxSo9SsZQBLzdobEvBlATDbZZJNNGkCIeTtDYt4aQMS8nSExbxtAAAAAAAAAHEA=\"},\"shape\":[100],\"dtype\":\"float64\",\"order\":\"little\"}],[\"y\",{\"type\":\"ndarray\",\"array\":{\"type\":\"bytes\",\"data\":\"ZA6tl3hNAj+Azt5VGbwFPxmfbl+D3wk/cA/jExzgDj9BeNwW/3cSP4HHRhi7JhY/IWxvZRWjGj9+5oRpyA4gPz1NRsx3aSM/hSK9iLyHJz+AGnm8lJksP3BV8rjDbTE/XhknjgpNNT9qegX3EBs6P60tqnOoCkA/XYR+ePjEQz9AVpg5OW5IP+UKCMrZRU4/thzBqGjOUj+VsKnkRW1XPyydwsSYQV0/O70zGehPYj+tNqMr3/lmPxr6e7lz42w/nDl/kBUycj+vbP88jfV2P7l+hvVXAn0/xiGPlmFYgj/ygfLAjTeHP6JI6ND7Yo0/79hEDymXkj83StB4Tn+XP+/Bq3zmpZ0/JOEPpkWooj9fIdgz2WanP+glwYs1Oa0/itqqZIElsj8bVueawGK2P43uPNUyZbs/m+r/VEKbwD/oZtEOjOrDP2imvsfJl8c/UWbUg2SQyz8MbQ7ydbbPP0ABhi9N8NE/yuV69L7t0z9EuSSZt7bVP3QvCHTsLdc/C/82RP842D9GEsJr78PYP0YSwmvvw9g/E/82RP842D90Lwh07C3XP0S5JJm3ttU/0OV69L7t0z9AAYYvTfDRPxVtDvJ1ts8/UWbUg2SQyz9opr7HyZfHP+5m0Q6M6sM/n+r/VEKbwD+N7jzVMmW7PxtW55rAYrY/jtqqZIElsj/1JcGLNTmtP18h2DPZZqc/M+EPpkWooj//wat85qWdPzdK0HhOf5c/79hEDymXkj+rSOjQ+2KNP/KB8sCNN4c/xiGPlmFYgj+5fob1VwJ9P8Bs/zyN9XY/pTl/kBUycj8a+nu5c+NsP6g2oyvf+WY/RL0zGehPYj8sncLEmEFdP5WwqeRFbVc/xRzBqGjOUj/xCgjK2UVOP0BWmDk5bkg/XYR+ePjEQz+6LapzqApAP3J6BfcQGzo/XhknjgpNNT9wVfK4w20xP48aebyUmSw/jCK9iLyHJz89TUbMd2kjP37mhGnIDiA/L2xvZRWjGj+Gx0YYuyYWP0F43Bb/dxI/hQ/jExzgDj8fn25fg98JP4XO3lUZvAU/ZA6tl3hNAj8=\"},\"shape\":[100],\"dtype\":\"float64\",\"order\":\"little\"}]]}}},\"view\":{\"type\":\"object\",\"name\":\"CDSView\",\"id\":\"p1655\",\"attributes\":{\"filter\":{\"type\":\"object\",\"name\":\"AllIndices\",\"id\":\"p1656\"}}},\"glyph\":{\"type\":\"object\",\"name\":\"Line\",\"id\":\"p1651\",\"attributes\":{\"x\":{\"type\":\"field\",\"field\":\"x\"},\"y\":{\"type\":\"field\",\"field\":\"y\"},\"line_color\":\"rgb(222, 143, 5)\",\"line_width\":3}},\"nonselection_glyph\":{\"type\":\"object\",\"name\":\"Line\",\"id\":\"p1652\",\"attributes\":{\"x\":{\"type\":\"field\",\"field\":\"x\"},\"y\":{\"type\":\"field\",\"field\":\"y\"},\"line_color\":\"rgb(222, 143, 5)\",\"line_alpha\":0.1,\"line_width\":3}},\"muted_glyph\":{\"type\":\"object\",\"name\":\"Line\",\"id\":\"p1653\",\"attributes\":{\"x\":{\"type\":\"field\",\"field\":\"x\"},\"y\":{\"type\":\"field\",\"field\":\"y\"},\"line_color\":\"rgb(222, 143, 5)\",\"line_alpha\":0.2,\"line_width\":3}}}}],\"toolbar\":{\"type\":\"object\",\"name\":\"Toolbar\",\"id\":\"p1595\"},\"toolbar_location\":null,\"left\":[{\"type\":\"object\",\"name\":\"LogAxis\",\"id\":\"p1611\",\"attributes\":{\"ticker\":{\"type\":\"object\",\"name\":\"LogTicker\",\"id\":\"p1613\",\"attributes\":{\"num_minor_ticks\":10,\"mantissas\":[1,5]}},\"formatter\":{\"type\":\"object\",\"name\":\"LogTickFormatter\",\"id\":\"p1612\"},\"axis_label\":\"$$p(T^* = x| H_0)$$\",\"major_label_policy\":{\"type\":\"object\",\"name\":\"AllLabels\",\"id\":\"p1614\"}}}],\"below\":[{\"type\":\"object\",\"name\":\"LinearAxis\",\"id\":\"p1604\",\"attributes\":{\"ticker\":{\"type\":\"object\",\"name\":\"BasicTicker\",\"id\":\"p1606\",\"attributes\":{\"mantissas\":[1,2,5]}},\"formatter\":{\"type\":\"object\",\"name\":\"BasicTickFormatter\",\"id\":\"p1605\"},\"axis_label\":\"SNR / Test Statistc\",\"major_label_policy\":{\"type\":\"object\",\"name\":\"AllLabels\",\"id\":\"p1607\"}}}],\"center\":[{\"type\":\"object\",\"name\":\"Grid\",\"id\":\"p1610\",\"attributes\":{\"axis\":{\"id\":\"p1604\"}}},{\"type\":\"object\",\"name\":\"Grid\",\"id\":\"p1617\",\"attributes\":{\"dimension\":1,\"axis\":{\"id\":\"p1611\"}}},{\"type\":\"object\",\"name\":\"Label\",\"id\":\"p1646\",\"attributes\":{\"text\":\"$$T_{\\\\text{obs}} = 2.28$$\",\"x\":3,\"y\":0.2}},{\"type\":\"object\",\"name\":\"Legend\",\"id\":\"p1679\",\"attributes\":{\"location\":\"bottom_left\",\"items\":[{\"type\":\"object\",\"name\":\"LegendItem\",\"id\":\"p1680\",\"attributes\":{\"label\":{\"type\":\"value\",\"value\":\"t-distribution\"},\"renderers\":[{\"id\":\"p1654\"}]}}]}}]}}]}}]}};\n",
       "  const render_items = [{\"docid\":\"8f8d4fdd-5779-4afb-9d30-59d516a85e19\",\"roots\":{\"p1686\":\"466e5774-6400-43b3-a613-e6c019da29da\"},\"root_ids\":[\"p1686\"]}];\n",
       "  root.Bokeh.embed.embed_items_notebook(docs_json, render_items);\n",
       "  }\n",
       "  if (root.Bokeh !== undefined) {\n",
       "    embed_document(root);\n",
       "  } else {\n",
       "    let attempts = 0;\n",
       "    const timer = setInterval(function(root) {\n",
       "      if (root.Bokeh !== undefined) {\n",
       "        clearInterval(timer);\n",
       "        embed_document(root);\n",
       "      } else {\n",
       "        attempts++;\n",
       "        if (attempts > 100) {\n",
       "          clearInterval(timer);\n",
       "          console.log(\"Bokeh: ERROR: Unable to run BokehJS code because BokehJS library is missing\");\n",
       "        }\n",
       "      }\n",
       "    }, 10, root)\n",
       "  }\n",
       "})(window);"
      ],
      "application/vnd.bokehjs_exec.v0+json": ""
     },
     "metadata": {
      "application/vnd.bokehjs_exec.v0+json": {
       "id": "p1686"
      }
     },
     "output_type": "display_data"
    }
   ],
   "source": [
    "# 1. Setup the figure ----------------------------------------------------------\n",
    "p = figure(width=750, height=300, \n",
    "           toolbar_location=None,\n",
    "           tools = [],\n",
    "           title=\"Parametric Bootstrap Distribution\",\n",
    "           y_axis_type=\"log\", \n",
    "           y_range=(1e-5, 3),\n",
    "           x_range=(-7, 7))\n",
    "\n",
    "# 2. Plot the histogram --------------------------------------------------------\n",
    "# The ColumnDataSource are used for the interactive updates\n",
    "# s_all_histograms contains all available histograms\n",
    "s_all_histograms = ColumnDataSource(data=final_histograms)\n",
    "\n",
    "# s_hist_data_small and s_hist_data_large contain the current histogram\n",
    "s_hist_data_small = ColumnDataSource(\n",
    "    data=dict(top=final_histograms[\"1e+05_Gauss\"][0], \n",
    "              bottom=([1e-7,]*99)[:cut_off_idx], \n",
    "              left=edges[:-1][:cut_off_idx], \n",
    "              right=edges[1:][:cut_off_idx]))\n",
    "\n",
    "s_hist_data_large = ColumnDataSource(\n",
    "    data=dict(top=final_histograms[\"1e+05_Gauss\"][1], \n",
    "              bottom=([1e-7,]*99)[cut_off_idx:], \n",
    "              left=edges[:-1][cut_off_idx:], \n",
    "              right=edges[1:][cut_off_idx:]))\n",
    "\n",
    "# Draw the actual histogram ----------------------------------------------------\n",
    "p.quad(top=\"top\", bottom=\"bottom\", left=\"left\", right=\"right\",\n",
    "       source=s_hist_data_small,\n",
    "       fill_color=color_blue, \n",
    "       line_color=\"white\")\n",
    "\n",
    "p.quad(top=\"top\", bottom=\"bottom\", left=\"left\", right=\"right\",\n",
    "       source=s_hist_data_large,\n",
    "       fill_color=color_red, \n",
    "       line_color=\"white\")\n",
    "\n",
    "# 3. Add labels ----------------------------------------------------------------\n",
    "p.xaxis.axis_label = \"SNR / Test Statistc\"\n",
    "p.yaxis.axis_label = r\"$$p(T^* = x| H_0)$$\"\n",
    "mytext = Label(x=3, y=0.2,\n",
    "               text=r'$$T_{\\text{obs}} = 2.28$$')\n",
    "p.add_layout(mytext)\n",
    "\n",
    "# 4. Draw T_obs vertical line --------------------------------------------------\n",
    "vline = Span(location=T_obs, \n",
    "             dimension='height', \n",
    "             line_color='black', \n",
    "             line_width=3)\n",
    "p.renderers.extend([vline,])\n",
    "\n",
    "\n",
    "# 5. Plot the t-distibution ----------------------------------------------------\n",
    "x = np.linspace(-7.0, 7.0, 100)\n",
    "pdf = stats.t.pdf(x, df=9)\n",
    "p.line(x, pdf, line_width=3, line_color=color_t_dist,\n",
    "       legend_label=\"t-distribution\")\n",
    "p.legend.location = \"bottom_left\"\n",
    "\n",
    "\n",
    "# 6. Add fpf Text box ----------------------------------------------------------\n",
    "fpf_text = Div(text=\"\"\"<p style=\"color:black;\n",
    "                                 font-size:20px;\n",
    "                                 font-weight: bold;\">FPF = 0.0245 </p>\"\"\",\n",
    "width=300, height=50, margin=(30, 10, 10, 50))\n",
    "\n",
    "# 7. Add interaction -----------------------------------------------------------\n",
    "# JavaScript code for the update\n",
    "code = \"\"\"\n",
    "    // 1.) Select the histogram\n",
    "    const hist_new = s_all_histograms.data[B.value + \"_\" + dist.value]\n",
    "    \n",
    "    // 2.) Update the FPF\n",
    "    const tmp_fpf = hist_new[2]\n",
    "    fpf_text.text = '<p style=\"color:black; font-size:20px; font-weight:'\n",
    "        + ' bold;\">FPF = ' + tmp_fpf + '</p>'\n",
    "    \n",
    "    \n",
    "    // 3.) update the values\n",
    "    s_hist_data_small.data = {\n",
    "         top: hist_new[0], \n",
    "         bottom: s_hist_data_small.data.bottom, \n",
    "         left: s_hist_data_small.data.left, \n",
    "         right: s_hist_data_small.data.right}; \n",
    "         \n",
    "    s_hist_data_large.data = {\n",
    "         top: hist_new[1], \n",
    "         bottom: s_hist_data_large.data.bottom, \n",
    "         left: s_hist_data_large.data.left, \n",
    "         right: s_hist_data_large.data.right};    \n",
    "    \n",
    "\"\"\"\n",
    "# create the Dropdown menus\n",
    "select_B = Select(title=\"B:\", value=\"1e+05\", \n",
    "                  options=[\"{:.0e}\".format(i) for i in num_draws])\n",
    "\n",
    "select_dist = Select(title=\"Assumed noise:\", \n",
    "                     value=\"Gauss\",\n",
    "                     options=[\"Gauss\", \"Laplace\"])\n",
    "\n",
    "# Setup the callback function\n",
    "callback = CustomJS(args=dict(\n",
    "    B=select_B,\n",
    "    dist=select_dist,\n",
    "    fpf_text=fpf_text,\n",
    "    s_all_histograms=s_all_histograms,\n",
    "    s_hist_data_large=s_hist_data_large,\n",
    "    s_hist_data_small=s_hist_data_small), \n",
    "                    code=code)\n",
    "\n",
    "select_B.js_on_change('value', callback)\n",
    "select_dist.js_on_change('value', callback)\n",
    "\n",
    "# 8. Show the plot -------------------------------------------------------------\n",
    "show(column(row(select_B, select_dist, fpf_text), p))"
   ]
  }
 ],
 "metadata": {
  "celltoolbar": "Edit Metadata",
  "kernelspec": {
   "display_name": "Python 3 (ipykernel)",
   "language": "python",
   "name": "python3"
  },
  "language_info": {
   "codemirror_mode": {
    "name": "ipython",
    "version": 3
   },
   "file_extension": ".py",
   "mimetype": "text/x-python",
   "name": "python",
   "nbconvert_exporter": "python",
   "pygments_lexer": "ipython3",
   "version": "3.9.7"
  },
  "widgets": {
   "application/vnd.jupyter.widget-state+json": {
    "state": {},
    "version_major": 2,
    "version_minor": 0
   }
  }
 },
 "nbformat": 4,
 "nbformat_minor": 5
}
