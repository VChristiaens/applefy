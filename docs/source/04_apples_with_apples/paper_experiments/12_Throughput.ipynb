{
 "cells": [
  {
   "cell_type": "code",
   "execution_count": 1,
   "id": "fcb22f94",
   "metadata": {},
   "outputs": [
    {
     "name": "stdout",
     "output_type": "stream",
     "text": [
      "Found installation of parallel_sort and use it.\n"
     ]
    }
   ],
   "source": [
    "import os\n",
    "import matplotlib.pyplot as plt\n",
    "import matplotlib.gridspec as gridspec\n",
    "import numpy as np\n",
    "import pandas as pd\n",
    "import seaborn as sns\n",
    "import json\n",
    "\n",
    "from apelfei.contrast import ContrastResults, collect_all_data_setup_configs, estimate_stellar_flux\n",
    "from apelfei.utils.data_handling import open_fits, save_as_fits, load_adi_data\n",
    "from apelfei.utils.aperture_photometry import flux_ratio2mag, mag2flux_ratio, AperturePhotometryMode"
   ]
  },
  {
   "cell_type": "markdown",
   "id": "0ff572f5",
   "metadata": {},
   "source": [
    "## This code is about"
   ]
  },
  {
   "cell_type": "markdown",
   "id": "1d355165",
   "metadata": {},
   "source": [
    "This compute the throughput values displaied in the appendix plot 3."
   ]
  },
  {
   "cell_type": "markdown",
   "id": "f7ae0215",
   "metadata": {},
   "source": [
    "## Load all config files and residuals"
   ]
  },
  {
   "cell_type": "code",
   "execution_count": 2,
   "id": "67839809",
   "metadata": {},
   "outputs": [],
   "source": [
    "experiment_root = \"../../../70_results/part1/detection_limits/Beta_Pic_non_stacked/\""
   ]
  },
  {
   "cell_type": "code",
   "execution_count": 3,
   "id": "ff9e8db4",
   "metadata": {},
   "outputs": [],
   "source": [
    "all_configs = collect_all_data_setup_configs(os.path.join(experiment_root, \n",
    "                                                          \"configs_cmap\"))"
   ]
  },
  {
   "cell_type": "code",
   "execution_count": 4,
   "id": "f3eb611e",
   "metadata": {},
   "outputs": [
    {
     "name": "stdout",
     "output_type": "stream",
     "text": [
      "Found algorithm config file for method pca_005\n",
      "Collecting residuals...\n",
      "[DONE] - Found 2017 residuals.\n",
      "Found algorithm config file for method pca_010\n",
      "Collecting residuals...\n",
      "[DONE] - Found 2017 residuals.\n",
      "Found algorithm config file for method pca_020\n",
      "Collecting residuals...\n",
      "[DONE] - Found 2017 residuals.\n",
      "Found algorithm config file for method pca_030\n",
      "Collecting residuals...\n",
      "[DONE] - Found 2017 residuals.\n",
      "Found algorithm config file for method pca_040\n",
      "Collecting residuals...\n",
      "[DONE] - Found 2017 residuals.\n",
      "Found algorithm config file for method pca_050\n",
      "Collecting residuals...\n",
      "[DONE] - Found 2017 residuals.\n",
      "Found algorithm config file for method pca_075\n",
      "Collecting residuals...\n",
      "[DONE] - Found 2017 residuals.\n",
      "Found algorithm config file for method pca_100\n",
      "Collecting residuals...\n",
      "[DONE] - Found 2017 residuals.\n"
     ]
    }
   ],
   "source": [
    "# collect all the residual files with configs\n",
    "all_method_results = dict()\n",
    "algorithm_config_dir = os.path.join(experiment_root, \"configs_algo\")\n",
    "\n",
    "for tmp_file in sorted(os.listdir(algorithm_config_dir)):\n",
    "    # ignore system files\n",
    "    if tmp_file.startswith(\".\"):\n",
    "        continue\n",
    "\n",
    "    tmp_algo_config_file = os.path.join(algorithm_config_dir, tmp_file)\n",
    "    with open(tmp_algo_config_file) as json_file:\n",
    "        tmp_algorithm_config = json.load(json_file)\n",
    "    \n",
    "    tmp_algo = tmp_algorithm_config['method_name']\n",
    "    print(\"Found algorithm config file for method \" + str(tmp_algo))\n",
    "    print(\"Collecting residuals...\")\n",
    "    \n",
    "    # Loop over all fake planet experiments\n",
    "    tmp_all_results = []\n",
    "    for tmp_config in all_configs:\n",
    "        tmp_id, tmp_cmap_config_file = tmp_config\n",
    "        \n",
    "        tmp_residual_file = os.path.join(experiment_root, \n",
    "                                         \"pca_residuals\",\n",
    "                                         tmp_algo +\"_ID_\" + tmp_id + \".fits\")\n",
    "                  \n",
    "        # save residual and config file paths\n",
    "        tmp_all_results.append((tmp_cmap_config_file, tmp_residual_file))\n",
    "        \n",
    "    print(\"[DONE] - Found \" + str(len(tmp_all_results)) + \" residuals.\")\n",
    "    all_method_results[tmp_algo] = tmp_all_results"
   ]
  },
  {
   "cell_type": "code",
   "execution_count": 5,
   "id": "31e34390",
   "metadata": {},
   "outputs": [
    {
     "data": {
      "text/plain": [
       "('../../../70_results/part1/detection_limits/Beta_Pic_non_stacked/configs_cmap/exp_ID_0000.json',\n",
       " '../../../70_results/part1/detection_limits/Beta_Pic_non_stacked/pca_residuals/pca_005_ID_0000.fits')"
      ]
     },
     "execution_count": 5,
     "metadata": {},
     "output_type": "execute_result"
    }
   ],
   "source": [
    "all_method_results[\"pca_005\"][0]"
   ]
  },
  {
   "cell_type": "markdown",
   "id": "79c2efb1",
   "metadata": {},
   "source": [
    "## Read the data for the PSF template data¶"
   ]
  },
  {
   "cell_type": "code",
   "execution_count": 6,
   "id": "0f033bba",
   "metadata": {},
   "outputs": [],
   "source": [
    "dataset_json_file = os.path.join(experiment_root, \"dataset.json\")\n",
    "config_dir = os.path.join(experiment_root, \"configs_cmap\")\n",
    "algo_config_root = os.path.join(experiment_root, \"configs_algo\")\n",
    "residual_result_dir = os.path.join(experiment_root, \"pca_residuals\")\n",
    "\n",
    "with open(dataset_json_file) as json_file:\n",
    "    tmp_dataset_config = json.load(json_file)"
   ]
  },
  {
   "cell_type": "code",
   "execution_count": 7,
   "id": "cd529719",
   "metadata": {},
   "outputs": [
    {
     "data": {
      "text/plain": [
       "{'file_path': '../../../30_data/BetaPic/betapic_naco_lp_full.hdf5',\n",
       " 'stack_key': 'full_no_planet',\n",
       " 'psf_template_key': 'flux',\n",
       " 'parang_key': 'header_full/PARANG',\n",
       " 'dit_psf_template': 0.02019,\n",
       " 'dit_science': 0.2,\n",
       " 'crop_science': 55,\n",
       " 'crop_template': 82}"
      ]
     },
     "execution_count": 7,
     "metadata": {},
     "output_type": "execute_result"
    }
   ],
   "source": [
    "tmp_dataset_config"
   ]
  },
  {
   "cell_type": "code",
   "execution_count": 8,
   "id": "36cbc4a8",
   "metadata": {},
   "outputs": [],
   "source": [
    "# we need the psf template for contrast calculation\n",
    "science_data, _, raw_psf_template_data = load_adi_data(tmp_dataset_config[\"file_path\"],\n",
    "                                                       data_tag=tmp_dataset_config[\"stack_key\"],\n",
    "                                                       psf_template_tag=tmp_dataset_config[\"psf_template_key\"],\n",
    "                                                       para_tag=tmp_dataset_config[\"parang_key\"])\n",
    "\n",
    "dit_psf_template = tmp_dataset_config[\"dit_psf_template\"]\n",
    "dit_science = tmp_dataset_config[\"dit_science\"]"
   ]
  },
  {
   "cell_type": "code",
   "execution_count": 9,
   "id": "4b55046c",
   "metadata": {},
   "outputs": [],
   "source": [
    "# Cut the data to the innermost 8 lambda / D\n",
    "crop_science = tmp_dataset_config[\"crop_science\"]\n",
    "crop_template = tmp_dataset_config[\"crop_template\"]\n",
    "\n",
    "science_data = science_data[:,\n",
    "                            crop_science:-crop_science,\n",
    "                            crop_science:-crop_science]\n",
    "\n",
    "psf_template_data = raw_psf_template_data[crop_template:-crop_template, \n",
    "                                          crop_template:-crop_template]\n",
    "\n",
    "test_frame = science_data[0, :, :]"
   ]
  },
  {
   "cell_type": "markdown",
   "id": "95d615a5",
   "metadata": {},
   "source": [
    "## Create the Contrast Evaluator - photometry on apertures"
   ]
  },
  {
   "cell_type": "code",
   "execution_count": 10,
   "id": "5c6afa78",
   "metadata": {},
   "outputs": [],
   "source": [
    "photometry_mode_planet = AperturePhotometryMode(\"FS\", search_area=0.5)\n",
    "photometry_mode_noise = AperturePhotometryMode(\"P\")"
   ]
  },
  {
   "cell_type": "code",
   "execution_count": 11,
   "id": "7f1133b7",
   "metadata": {},
   "outputs": [],
   "source": [
    "# 1.) Compute the stellar flux\n",
    "stellar_flux = estimate_stellar_flux(\n",
    "    psf_template=psf_template_data,\n",
    "    dit_science=tmp_dataset_config[\"dit_science\"],\n",
    "    dit_psf_template=tmp_dataset_config[\"dit_psf_template\"],\n",
    "    photometry_mode=photometry_mode_planet,\n",
    "    scaling_factor=1.)"
   ]
  },
  {
   "cell_type": "code",
   "execution_count": 12,
   "id": "8d8d1645",
   "metadata": {},
   "outputs": [
    {
     "name": "stdout",
     "output_type": "stream",
     "text": [
      "pca_005\n",
      "pca_010\n",
      "pca_020\n",
      "pca_030\n",
      "pca_040\n",
      "pca_050\n",
      "pca_075\n",
      "pca_100\n"
     ]
    }
   ],
   "source": [
    "contrast_results = dict()\n",
    "\n",
    "for pca_setup, result_files in all_method_results.items():\n",
    "    print(pca_setup)\n",
    "    tmp_contrast_result = ContrastResults(model_results_in=result_files,\n",
    "                                          stellar_flux=stellar_flux,\n",
    "                                          planet_photometry_mode=photometry_mode_planet,\n",
    "                                          noise_photometry_mode=photometry_mode_noise,\n",
    "                                          psf_fwhm_radius=2.1)\n",
    "    contrast_results[pca_setup] = tmp_contrast_result"
   ]
  },
  {
   "cell_type": "markdown",
   "id": "0b2d0d5d",
   "metadata": {},
   "source": [
    "## Plot the Throughput map for two PCA configs"
   ]
  },
  {
   "cell_type": "code",
   "execution_count": 13,
   "id": "652e75d7",
   "metadata": {},
   "outputs": [],
   "source": [
    "contrast_results_1 = contrast_results[\"pca_030\"]\n",
    "\n",
    "throughput_results_1 = contrast_results_1.compute_throughput().T\n",
    "throughput_results_1.index = flux_ratio2mag(throughput_results_1.index)\n",
    "throughput_results_1.columns = (throughput_results_1.columns/4.2).astype(\"int\")\n",
    "throughput_results_1 = throughput_results_1.iloc[:17, :].iloc[::2, ::2]"
   ]
  },
  {
   "cell_type": "code",
   "execution_count": 14,
   "id": "622af199",
   "metadata": {},
   "outputs": [
    {
     "data": {
      "image/png": "[encoded data removed]",
      "text/plain": [
       "<Figure size 576x360 with 2 Axes>"
      ]
     },
     "metadata": {},
     "output_type": "display_data"
    }
   ],
   "source": [
    "fig = plt.figure(constrained_layout=False, figsize=(8, 5))\n",
    "\n",
    "gs0 = fig.add_gridspec(1, 2, width_ratios = [1, 0.05])\n",
    "gs0.update(wspace=0.05)\n",
    "\n",
    "gs1 = gridspec.GridSpecFromSubplotSpec(1, 1, subplot_spec = gs0[0], hspace=0.12)\n",
    "gs2 = gridspec.GridSpecFromSubplotSpec(3, 1, subplot_spec = gs0[1], height_ratios=[0.1, 0.8, 0.1])\n",
    "\n",
    "# q-q Plots\n",
    "throughput_ax1 = fig.add_subplot(gs1[0])\n",
    "colorbar_ax = fig.add_subplot(gs2[1])\n",
    "\n",
    "# define a function for the plot (we need the code twice)\n",
    "def plot_throughput(axis_in,\n",
    "                    tmp_throughput_results,\n",
    "                    color_bar):\n",
    "    \n",
    "    c_bar_kargs = dict(orientation = \"vertical\",\n",
    "                       label = r\"Throughput - $\\kappa(f_p, s)$\")\n",
    "    \n",
    "    heat = sns.heatmap(tmp_throughput_results,\n",
    "                       vmax=0, vmin=0.8, \n",
    "                       annot=True,\n",
    "                       cmap=\"YlGnBu\",\n",
    "                       ax=axis_in,\n",
    "                       cbar_ax=colorbar_ax,\n",
    "                       cbar_kws=c_bar_kargs)\n",
    "    \n",
    "    ylabels = ['{:d}'.format(int(float(x.get_text()))) for x in heat.get_yticklabels()]\n",
    "    _=heat.set_yticklabels(ylabels)\n",
    "\n",
    "# Plot the first throughput map\n",
    "plot_throughput(throughput_ax1, throughput_results_1,\n",
    "                color_bar=False)\n",
    "#throughput_ax1.set_xticklabels([])\n",
    "throughput_ax1.set_ylabel(\"Contrast - $c = f_p / f_*$ - [mag]\", size=14)\n",
    "throughput_ax1.set_xlabel(None)\n",
    "throughput_ax1.tick_params(axis='both', which='major', labelsize=12)\n",
    "\n",
    "\n",
    "cbar = throughput_ax1.collections[0].colorbar\n",
    "cbar.ax.tick_params(labelsize=14)\n",
    "throughput_ax1.figure.axes[-1].yaxis.label.set_size(14)\n",
    "\n",
    "throughput_ax1.set_ylabel(r\"Contrast - $c = f_p / f_*$ - [mag]\", size=14)\n",
    "throughput_ax1.set_xlabel(r\"Separation - $s$ - $\\left[FWHM \\right]$\", size=14)\n",
    "#throughput_ax1.set_title(\"Fake Planet Throughput\", fontsize=16, fontweight=\"bold\", y=1.03)\n",
    "\n",
    "fig.patch.set_facecolor('white')\n",
    "plt.savefig(\"./12_Throughput.pdf\", bbox_inches='tight')"
   ]
  },
  {
   "cell_type": "code",
   "execution_count": null,
   "id": "f194458d",
   "metadata": {},
   "outputs": [],
   "source": []
  }
 ],
 "metadata": {
  "kernelspec": {
   "display_name": "Python 3 (ipykernel)",
   "language": "python",
   "name": "python3"
  },
  "language_info": {
   "codemirror_mode": {
    "name": "ipython",
    "version": 3
   },
   "file_extension": ".py",
   "mimetype": "text/x-python",
   "name": "python",
   "nbconvert_exporter": "python",
   "pygments_lexer": "ipython3",
   "version": "3.8.10"
  }
 },
 "nbformat": 4,
 "nbformat_minor": 5
}
