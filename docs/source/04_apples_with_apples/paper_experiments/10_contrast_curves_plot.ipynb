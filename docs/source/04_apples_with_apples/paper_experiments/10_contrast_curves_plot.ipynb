{
 "cells": [
  {
   "cell_type": "code",
   "execution_count": 1,
   "id": "302ee1af",
   "metadata": {},
   "outputs": [
    {
     "name": "stdout",
     "output_type": "stream",
     "text": [
      "Found installation of parallel_sort and use it.\n"
     ]
    }
   ],
   "source": [
    "import os\n",
    "import json\n",
    "import numpy as np\n",
    "import pandas as pd\n",
    "\n",
    "import matplotlib.pyplot as plt\n",
    "import matplotlib.gridspec as gridspec\n",
    "import seaborn as sns\n",
    "\n",
    "from apelfei.statistics import fpf_2_gaussian_sigma, gaussian_sigma_2_fpf, TTest, LaplaceBootstrapTest\n",
    "from apelfei.contrast import ContrastResults, collect_all_data_setup_configs, estimate_stellar_flux\n",
    "from apelfei.utils import flux_ratio2mag, mag2flux_ratio, AperturePhotometryMode\n",
    "from apelfei.utils.data_handling import load_adi_data"
   ]
  },
  {
   "cell_type": "markdown",
   "id": "7338fac9",
   "metadata": {},
   "source": [
    "## This code is about:"
   ]
  },
  {
   "cell_type": "markdown",
   "id": "57548484",
   "metadata": {},
   "source": [
    "This code computes the contrast curves for different types of noise. The code is based on the residuals computed in the notebook 10_contrast_curves_compute_residuals. The result is the Plot 10 of the Paper"
   ]
  },
  {
   "cell_type": "markdown",
   "id": "4a4c383b",
   "metadata": {},
   "source": [
    "## Set colors used in the plot"
   ]
  },
  {
   "cell_type": "code",
   "execution_count": 2,
   "id": "f7b92d7e",
   "metadata": {},
   "outputs": [
    {
     "data": {
      "text/plain": [
       "[(0.00392156862745098, 0.45098039215686275, 0.6980392156862745),\n",
       " (0.8705882352941177, 0.5607843137254902, 0.0196078431372549)]"
      ]
     },
     "execution_count": 2,
     "metadata": {},
     "output_type": "execute_result"
    }
   ],
   "source": [
    "color_palette = [sns.color_palette(\"colorblind\")[0],\n",
    "                 sns.color_palette(\"colorblind\")[1]]\n",
    "\n",
    "color_palette"
   ]
  },
  {
   "cell_type": "markdown",
   "id": "4e77e22c",
   "metadata": {},
   "source": [
    "# Load all config files and residuals"
   ]
  },
  {
   "cell_type": "code",
   "execution_count": 3,
   "id": "5c731506",
   "metadata": {},
   "outputs": [],
   "source": [
    "experiment_root = \"../../../70_results/part1/detection_limits/Beta_Pic_non_stacked/\""
   ]
  },
  {
   "cell_type": "code",
   "execution_count": 4,
   "id": "98d31438",
   "metadata": {},
   "outputs": [],
   "source": [
    "all_configs = collect_all_data_setup_configs(os.path.join(experiment_root, \n",
    "                                                          \"configs_cmap\"))"
   ]
  },
  {
   "cell_type": "code",
   "execution_count": 5,
   "id": "1e820e2b",
   "metadata": {},
   "outputs": [
    {
     "name": "stdout",
     "output_type": "stream",
     "text": [
      "Found algorithm config file for method pca_005\n",
      "Collecting residuals...\n",
      "[DONE] - Found 2017 residuals.\n",
      "Found algorithm config file for method pca_010\n",
      "Collecting residuals...\n",
      "[DONE] - Found 2017 residuals.\n",
      "Found algorithm config file for method pca_020\n",
      "Collecting residuals...\n",
      "[DONE] - Found 2017 residuals.\n",
      "Found algorithm config file for method pca_030\n",
      "Collecting residuals...\n",
      "[DONE] - Found 2017 residuals.\n",
      "Found algorithm config file for method pca_040\n",
      "Collecting residuals...\n",
      "[DONE] - Found 2017 residuals.\n",
      "Found algorithm config file for method pca_050\n",
      "Collecting residuals...\n",
      "[DONE] - Found 2017 residuals.\n",
      "Found algorithm config file for method pca_075\n",
      "Collecting residuals...\n",
      "[DONE] - Found 2017 residuals.\n",
      "Found algorithm config file for method pca_100\n",
      "Collecting residuals...\n",
      "[DONE] - Found 2017 residuals.\n"
     ]
    }
   ],
   "source": [
    "# collect all the residual files with configs\n",
    "all_method_results = dict()\n",
    "algorithm_config_dir = os.path.join(experiment_root, \"configs_algo\")\n",
    "\n",
    "for tmp_file in sorted(os.listdir(algorithm_config_dir)):\n",
    "    # ignore system files\n",
    "    if tmp_file.startswith(\".\"):\n",
    "        continue\n",
    "\n",
    "    tmp_algo_config_file = os.path.join(algorithm_config_dir, tmp_file)\n",
    "    with open(tmp_algo_config_file) as json_file:\n",
    "        tmp_algorithm_config = json.load(json_file)\n",
    "    \n",
    "    tmp_algo = tmp_algorithm_config['method_name']\n",
    "    print(\"Found algorithm config file for method \" + str(tmp_algo))\n",
    "    print(\"Collecting residuals...\")\n",
    "    \n",
    "    # Loop over all fake planet experiments\n",
    "    tmp_all_results = []\n",
    "    for tmp_config in all_configs:\n",
    "        tmp_id, tmp_cmap_config_file = tmp_config\n",
    "        \n",
    "        tmp_residual_file = os.path.join(experiment_root, \n",
    "                                         \"pca_residuals\",\n",
    "                                         tmp_algo +\"_ID_\" + tmp_id + \".fits\")\n",
    "                  \n",
    "        # save residual and config file paths\n",
    "        tmp_all_results.append((tmp_cmap_config_file, tmp_residual_file))\n",
    "        \n",
    "    print(\"[DONE] - Found \" + str(len(tmp_all_results)) + \" residuals.\")\n",
    "    all_method_results[tmp_algo] = tmp_all_results"
   ]
  },
  {
   "cell_type": "code",
   "execution_count": 6,
   "id": "745f39cd",
   "metadata": {},
   "outputs": [
    {
     "data": {
      "text/plain": [
       "('../../../70_results/part1/detection_limits/Beta_Pic_non_stacked/configs_cmap/exp_ID_0000.json',\n",
       " '../../../70_results/part1/detection_limits/Beta_Pic_non_stacked/pca_residuals/pca_005_ID_0000.fits')"
      ]
     },
     "execution_count": 6,
     "metadata": {},
     "output_type": "execute_result"
    }
   ],
   "source": [
    "all_method_results[\"pca_005\"][0]"
   ]
  },
  {
   "cell_type": "markdown",
   "id": "01f2b202",
   "metadata": {},
   "source": [
    "# Read the data for the PSF template data"
   ]
  },
  {
   "cell_type": "code",
   "execution_count": 7,
   "id": "7156a9a8",
   "metadata": {},
   "outputs": [],
   "source": [
    "dataset_json_file = os.path.join(experiment_root, \"dataset.json\")\n",
    "config_dir = os.path.join(experiment_root, \"configs_cmap\")\n",
    "algo_config_root = os.path.join(experiment_root, \"configs_algo\")\n",
    "residual_result_dir = os.path.join(experiment_root, \"pca_residuals\")\n",
    "\n",
    "with open(dataset_json_file) as json_file:\n",
    "    tmp_dataset_config = json.load(json_file)"
   ]
  },
  {
   "cell_type": "code",
   "execution_count": 8,
   "id": "98750d2d",
   "metadata": {},
   "outputs": [
    {
     "data": {
      "text/plain": [
       "{'file_path': '../../../30_data/BetaPic/betapic_naco_lp_full.hdf5',\n",
       " 'stack_key': 'full_no_planet',\n",
       " 'psf_template_key': 'flux',\n",
       " 'parang_key': 'header_full/PARANG',\n",
       " 'dit_psf_template': 0.02019,\n",
       " 'dit_science': 0.2,\n",
       " 'crop_science': 55,\n",
       " 'crop_template': 82}"
      ]
     },
     "execution_count": 8,
     "metadata": {},
     "output_type": "execute_result"
    }
   ],
   "source": [
    "tmp_dataset_config"
   ]
  },
  {
   "cell_type": "code",
   "execution_count": 9,
   "id": "150af398",
   "metadata": {},
   "outputs": [],
   "source": [
    "# we need the psf template for contrast calculation\n",
    "science_data, _, raw_psf_template_data = load_adi_data(tmp_dataset_config[\"file_path\"],\n",
    "                                                       data_tag=tmp_dataset_config[\"stack_key\"],\n",
    "                                                       psf_template_tag=tmp_dataset_config[\"psf_template_key\"],\n",
    "                                                       para_tag=tmp_dataset_config[\"parang_key\"])\n",
    "\n",
    "dit_psf_template = tmp_dataset_config[\"dit_psf_template\"]\n",
    "dit_science = tmp_dataset_config[\"dit_science\"]"
   ]
  },
  {
   "cell_type": "code",
   "execution_count": 10,
   "id": "e70066fb",
   "metadata": {},
   "outputs": [],
   "source": [
    "# Cut the data to the innermost 8 lambda / D\n",
    "crop_science = tmp_dataset_config[\"crop_science\"]\n",
    "crop_template = tmp_dataset_config[\"crop_template\"]\n",
    "\n",
    "science_data = science_data[:,\n",
    "                            crop_science:-crop_science,\n",
    "                            crop_science:-crop_science]\n",
    "\n",
    "psf_template_data = raw_psf_template_data[crop_template:-crop_template, \n",
    "                                          crop_template:-crop_template]\n",
    "\n",
    "test_frame = science_data[0, :, :]"
   ]
  },
  {
   "cell_type": "markdown",
   "id": "616a272d",
   "metadata": {},
   "source": [
    "## Create one Contrast Result Class for each PCA result"
   ]
  },
  {
   "cell_type": "code",
   "execution_count": 11,
   "id": "db6c4947",
   "metadata": {},
   "outputs": [],
   "source": [
    "photometry_mode_planet = AperturePhotometryMode(\"FS\", psf_fwhm_radius=2.1, search_area=0.5)\n",
    "photometry_mode_noise = AperturePhotometryMode(\"P\", psf_fwhm_radius=2.1)"
   ]
  },
  {
   "cell_type": "code",
   "execution_count": 12,
   "id": "c9e63adb",
   "metadata": {},
   "outputs": [],
   "source": [
    "# 1.) Compute the stellar flux\n",
    "stellar_flux = estimate_stellar_flux(\n",
    "    psf_template=psf_template_data,\n",
    "    dit_science=tmp_dataset_config[\"dit_science\"],\n",
    "    dit_psf_template=tmp_dataset_config[\"dit_psf_template\"],\n",
    "    photometry_mode=photometry_mode_planet,\n",
    "    scaling_factor=1.)"
   ]
  },
  {
   "cell_type": "code",
   "execution_count": 13,
   "id": "33c9718e",
   "metadata": {},
   "outputs": [
    {
     "name": "stdout",
     "output_type": "stream",
     "text": [
      "pca_005\n",
      "pca_010\n",
      "pca_020\n",
      "pca_030\n",
      "pca_040\n",
      "pca_050\n",
      "pca_075\n",
      "pca_100\n"
     ]
    }
   ],
   "source": [
    "contrast_results = dict()\n",
    "\n",
    "for pca_setup, result_files in all_method_results.items():\n",
    "    print(pca_setup)\n",
    "    tmp_contrast_result = ContrastResults(model_results_in=result_files,\n",
    "                                          stellar_flux=stellar_flux,\n",
    "                                          planet_photometry_mode=photometry_mode_planet,\n",
    "                                          noise_photometry_mode=photometry_mode_noise,\n",
    "                                          psf_fwhm_radius=2.1)\n",
    "    contrast_results[pca_setup] = tmp_contrast_result"
   ]
  },
  {
   "cell_type": "markdown",
   "id": "a5eb5848",
   "metadata": {},
   "source": [
    "## Compute the contast curves 30 PCA components"
   ]
  },
  {
   "cell_type": "code",
   "execution_count": 14,
   "id": "6fd7a71f",
   "metadata": {},
   "outputs": [],
   "source": [
    "ttest_statistic = TTest(1)"
   ]
  },
  {
   "cell_type": "code",
   "execution_count": 15,
   "id": "169801f6",
   "metadata": {},
   "outputs": [],
   "source": [
    "pbs_laplace_statistic = LaplaceBootstrapTest.construct_from_json_file(\n",
    "    \"../apelfei/statistics/lookup_tables/laplace_lookup_tables.csv\")"
   ]
  },
  {
   "cell_type": "code",
   "execution_count": 16,
   "id": "eab9d5de",
   "metadata": {},
   "outputs": [],
   "source": [
    "tmp_result = contrast_results[\"pca_030\"]"
   ]
  },
  {
   "cell_type": "code",
   "execution_count": 17,
   "id": "9e2ba1c9",
   "metadata": {},
   "outputs": [
    {
     "name": "stderr",
     "output_type": "stream",
     "text": [
      "100%|███████████████████████████████████████████████████████████████████████████████████████████████████████████████████████████████████████████████████████████████████████| 16/16 [04:39<00:00, 17.44s/it]\n"
     ]
    }
   ],
   "source": [
    "median_contrast_gauss, contrast_error_gauss = tmp_result.compute_contrast_curve(\n",
    "    confidence_level_fpf=gaussian_sigma_2_fpf(5),\n",
    "    test_statistic=ttest_statistic,\n",
    "    num_rot_iterations=360)"
   ]
  },
  {
   "cell_type": "code",
   "execution_count": 18,
   "id": "2cb445f1",
   "metadata": {},
   "outputs": [
    {
     "name": "stderr",
     "output_type": "stream",
     "text": [
      "100%|███████████████████████████████████████████████████████████████████████████████████████████████████████████████████████████████████████████████████████████████████████| 16/16 [08:13<00:00, 30.81s/it]\n"
     ]
    }
   ],
   "source": [
    "median_contrast_laplace, contrast_error_laplace = tmp_result.compute_contrast_curve(\n",
    "    confidence_level_fpf=gaussian_sigma_2_fpf(5),\n",
    "    test_statistic=pbs_laplace_statistic,\n",
    "    num_rot_iterations=360)"
   ]
  },
  {
   "cell_type": "code",
   "execution_count": 19,
   "id": "3a6f8e86",
   "metadata": {},
   "outputs": [],
   "source": [
    "separations = [i / 4.2 for i in tmp_result.m_idx_table.index]"
   ]
  },
  {
   "cell_type": "markdown",
   "id": "dd082603",
   "metadata": {},
   "source": [
    "## Create the Plot"
   ]
  },
  {
   "cell_type": "code",
   "execution_count": 20,
   "id": "d8170614",
   "metadata": {},
   "outputs": [],
   "source": [
    "def plot_contrast_curve(separations,\n",
    "                        median_contrast,\n",
    "                        contrast_error,\n",
    "                        label, \n",
    "                        axis, \n",
    "                        color):\n",
    "    axis.plot(separations, \n",
    "              flux_ratio2mag(median_contrast), \n",
    "              label=label,\n",
    "              lw=2,\n",
    "              color=color)\n",
    "    \n",
    "    axis.fill_between(separations,\n",
    "                      flux_ratio2mag(median_contrast + contrast_error * 2), \n",
    "                      flux_ratio2mag(median_contrast - contrast_error * 2),\n",
    "                      alpha=0.5)"
   ]
  },
  {
   "cell_type": "code",
   "execution_count": 21,
   "id": "d4c69371",
   "metadata": {},
   "outputs": [
    {
     "data": {
      "image/png": "[encoded data removed]",
      "text/plain": [
       "<Figure size 576x360 with 1 Axes>"
      ]
     },
     "metadata": {},
     "output_type": "display_data"
    }
   ],
   "source": [
    "# 1.) Create Plot Layout\n",
    "fig = plt.figure(constrained_layout=False, figsize=(8, 5))\n",
    "gs0 = fig.add_gridspec(1, 1)\n",
    "\n",
    "axis_pca = fig.add_subplot(gs0[0, 0])\n",
    "\n",
    "# 2.) Make the plot\n",
    "plot_contrast_curve(separations, \n",
    "                    median_contrast_gauss, \n",
    "                    contrast_error_gauss,\n",
    "                    \"t-Test (Gauss)\", \n",
    "                    axis_pca,\n",
    "                    color=color_palette[0])\n",
    "\n",
    "plot_contrast_curve(separations, \n",
    "                    median_contrast_laplace, \n",
    "                    contrast_error_laplace, \n",
    "                    \"Parametric BS (Laplace)\", \n",
    "                    axis_pca,\n",
    "                    color=color_palette[1])\n",
    "\n",
    "axis_pca.grid()\n",
    "\n",
    "# 3.) Set limits\n",
    "axis_pca.set_ylim(11.5, 2.5)\n",
    "axis_pca.tick_params(axis='both', which='major', labelsize=12)\n",
    "\n",
    "# 4.) Set Labels\n",
    "axis_pca.set_xlabel(r\"Separation [FWHM]\", size=14)\n",
    "axis_pca.set_ylabel(r\"Contrast [mag]\", size=14)\n",
    "\n",
    "axis_pca.set_title(r\"5$ \\sigma_{\\mathcal{N}}$  Detection Limits vs. Type of Noise\",\n",
    "                   fontsize=16, fontweight=\"bold\", y=1.02)\n",
    "\n",
    "# 5.) Legend\n",
    "handles, labels = axis_pca.get_legend_handles_labels()\n",
    "leg1 = fig.legend(handles, labels, \n",
    "                  bbox_to_anchor=(0.17, -0.16), \n",
    "                  fontsize=14, \n",
    "                  title=\"Statistical Test\",\n",
    "                  loc='lower left', ncol=2)\n",
    "plt.setp(leg1.get_title(),fontsize=14)\n",
    "\n",
    "# 5.) Save the Plot\n",
    "fig.patch.set_facecolor('white')\n",
    "plt.savefig(\"./10_Contrast_curves.pdf\", \n",
    "            bbox_extra_artists=(leg1,), \n",
    "            bbox_inches='tight')"
   ]
  },
  {
   "cell_type": "code",
   "execution_count": null,
   "id": "5c917480",
   "metadata": {},
   "outputs": [],
   "source": []
  }
 ],
 "metadata": {
  "kernelspec": {
   "display_name": "Python 3 (ipykernel)",
   "language": "python",
   "name": "python3"
  },
  "language_info": {
   "codemirror_mode": {
    "name": "ipython",
    "version": 3
   },
   "file_extension": ".py",
   "mimetype": "text/x-python",
   "name": "python",
   "nbconvert_exporter": "python",
   "pygments_lexer": "ipython3",
   "version": "3.8.10"
  }
 },
 "nbformat": 4,
 "nbformat_minor": 5
}
