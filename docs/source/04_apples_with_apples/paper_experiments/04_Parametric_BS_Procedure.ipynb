{
 "cells": [
  {
   "cell_type": "markdown",
   "id": "27e91565",
   "metadata": {},
   "source": [
    "# Figure 4: Parametric Bootstrap"
   ]
  },
  {
   "cell_type": "markdown",
   "id": "8054fcf3",
   "metadata": {},
   "source": [
    "<div style=\"text-align: justify\">\n",
    "This code is used to create **Figure 4** in the **Apples with Apples** paper [(Bonse et al. 2023)](../../05_citation.rst). The Figure illustrates how the parametric bootstrap introduced in the paper works. The figure is composed of 2 subplots: first, a visualization of the resampling procedure which gives us the list of bootstrap samples (with size $B$). Second, a sequence of three histograms which show how the distribution of $p(T^* = t | H_0)$ converges as $B$ gets larger (under the assumption of Gaussian noise).\n",
    "\n",
    "In addition to the plots shown in the paper we also show histograms for the convergence of $p(T^* = t | H_0)$ under the assumption of Laplacian noise.\n",
    "</div>"
   ]
  },
  {
   "cell_type": "markdown",
   "id": "a5b96496",
   "metadata": {},
   "source": [
    "## Imports"
   ]
  },
  {
   "cell_type": "code",
   "execution_count": 1,
   "id": "ef1c7d0e",
   "metadata": {},
   "outputs": [],
   "source": [
    "import os\n",
    "import json\n",
    "\n",
    "import numpy as np\n",
    "import pandas as pd\n",
    "from scipy import stats\n",
    "\n",
    "import matplotlib.pyplot as plt\n",
    "import matplotlib.gridspec as gridspec\n",
    "import seaborn as sns\n",
    "\n",
    "# bokeh visualization\n",
    "from bokeh.plotting import figure, show\n",
    "from bokeh.models import ColumnDataSource, CustomJS, Select, \\\n",
    "    Label, Div, Legend, Span\n",
    "from bokeh.layouts import column, row\n",
    "\n",
    "# applefy\n",
    "from applefy.utils import AperturePhotometryMode, \\\n",
    "    estimate_reference_positions, center_subpixel, get_flux\n",
    "from applefy.utils.file_handling import load_adi_data, \\\n",
    "    read_apples_with_apples_root, open_fits\n",
    "\n",
    "from applefy.statistics import TTest, LaplaceBootstrapTest\n",
    "from applefy.statistics.bootstrapping import GaussianBootstrapTest"
   ]
  },
  {
   "cell_type": "markdown",
   "id": "c4d0a3d5",
   "metadata": {},
   "source": [
    "## Data Loading"
   ]
  },
  {
   "cell_type": "markdown",
   "id": "efc9425c",
   "metadata": {},
   "source": [
    "<div style=\"text-align: justify\">\n",
    "Figure 5 is based on the signal and noise values extracted in [Figure 01](01_What_is_a_detection.ipynb). Thus, we use the same code to extract the values.\n",
    "\n",
    "In order to run the code **make sure to download the data from Zenodo and [read the instructions](../02_paper_data.md) on how to setup the files**.\n",
    "</div>"
   ]
  },
  {
   "cell_type": "code",
   "execution_count": 2,
   "id": "80ad824e",
   "metadata": {},
   "outputs": [
    {
     "name": "stdout",
     "output_type": "stream",
     "text": [
      "Data in the APPLES_ROOT_DIR found. Location: /home/ipa/quanz/user_accounts/mbonse/2021_Metrics/70_results/apples_root_dir/\n"
     ]
    }
   ],
   "source": [
    "experiment_root = read_apples_with_apples_root()"
   ]
  },
  {
   "cell_type": "markdown",
   "id": "195dcc35",
   "metadata": {},
   "source": [
    "<div style=\"text-align: justify\">\n",
    "Set the path to one example residual and the config file used to create it. The config file is used to obtain the position at which the artificial planet was inserted.\n",
    "</div>"
   ]
  },
  {
   "cell_type": "code",
   "execution_count": 3,
   "id": "8b074024",
   "metadata": {},
   "outputs": [],
   "source": [
    "fake_planet_residual_path = os.path.join(\n",
    "    experiment_root, \n",
    "    \"70_results/detection_limits/contrast_grid_hr/residuals/PCA (020 components)/residual_ID_0115f.fits\")\n",
    "\n",
    "fake_planet_config_path = os.path.join(\n",
    "     experiment_root, \n",
    "    \"70_results/detection_limits/contrast_grid_hr/configs_cgrid/exp_ID_0115f.json\")"
   ]
  },
  {
   "cell_type": "markdown",
   "id": "4ad30c81",
   "metadata": {},
   "source": [
    "Open the .fits file with the fake planet residual and load the planet position from the config file."
   ]
  },
  {
   "cell_type": "code",
   "execution_count": 4,
   "id": "b83813f1",
   "metadata": {},
   "outputs": [],
   "source": [
    "planet_residual = open_fits(fake_planet_residual_path)\n",
    "\n",
    "with open(fake_planet_config_path) as json_file:\n",
    "    fake_planet_config = json.load(json_file)\n",
    "\n",
    "# The last two values in \"planet_position\" are the separation from the star and the position angle\n",
    "planet_position = fake_planet_config[\"planet_position\"][:2]"
   ]
  },
  {
   "cell_type": "markdown",
   "id": "af6f6698",
   "metadata": {},
   "source": [
    "Estimate the positions for the noise apertures. "
   ]
  },
  {
   "cell_type": "code",
   "execution_count": 5,
   "id": "9884628e",
   "metadata": {},
   "outputs": [],
   "source": [
    "# estimate reference positions for the noise\n",
    "noise_positions = estimate_reference_positions(\n",
    "    planet_position,\n",
    "    center=center_subpixel(planet_residual),\n",
    "    psf_fwhm_radius=2.1,\n",
    "    angle_offset=5,  # more details are explained in the documentation of Figure 3.\n",
    "    safety_margin=0.5)"
   ]
  },
  {
   "cell_type": "code",
   "execution_count": 6,
   "id": "d99ac23a",
   "metadata": {},
   "outputs": [
    {
     "data": {
      "text/plain": [
       "[(45.16718454912184, 35.036050779529816, 8.4, 346.4788975654116),\n",
       " (45.05496390717036, 39.3827623578911, 8.4, 376.4788975654116),\n",
       " (42.784422191230746, 43.09101468670018, 8.4, 406.47889756541156),\n",
       " (38.963949220470184, 45.16718454912184, 8.4, 436.4788975654116),\n",
       " (34.617237642108904, 45.05496390717036, 8.4, 466.4788975654116),\n",
       " (30.908985313299823, 42.784422191230746, 8.4, 496.47889756541156),\n",
       " (28.832815450878158, 38.96394922047019, 8.4, 526.4788975654116),\n",
       " (28.945036092829636, 34.617237642108904, 8.4, 556.4788975654116),\n",
       " (31.215577808769254, 30.908985313299823, 8.4, 586.4788975654116),\n",
       " (35.03605077952982, 28.832815450878158, 8.4, 616.4788975654117)]"
      ]
     },
     "execution_count": 6,
     "metadata": {},
     "output_type": "execute_result"
    }
   ],
   "source": [
    "noise_positions"
   ]
  },
  {
   "cell_type": "markdown",
   "id": "f30fff71",
   "metadata": {},
   "source": [
    "As in [Figure 01](01_What_is_a_detection.ipynb) we use the [AperturePhotometryMode](../../03_package/utils.rst#applefy.utils.photometry.AperturePhotometryMode) \"ASS\" and \"AS\" of applefy to calculate the aperture averages."
   ]
  },
  {
   "cell_type": "code",
   "execution_count": 7,
   "id": "2e232e3a",
   "metadata": {},
   "outputs": [],
   "source": [
    "photometry_mode_planet = AperturePhotometryMode(\"ASS\", psf_fwhm_radius=2.1, search_area=1.5)\n",
    "photometry_mode_noise = AperturePhotometryMode(\"AS\", psf_fwhm_radius=2.1)"
   ]
  },
  {
   "cell_type": "code",
   "execution_count": 8,
   "id": "7e0bbaba",
   "metadata": {},
   "outputs": [],
   "source": [
    "# Compute the noise values\n",
    "noise_flux = []\n",
    "for tmp_pos in noise_positions:\n",
    "    tmp_flux = get_flux(planet_residual,\n",
    "                        tmp_pos[:2],\n",
    "                        photometry_mode=photometry_mode_noise)[1]\n",
    "    noise_flux.append(tmp_flux)\n",
    "    \n",
    "# Compute the planet flux\n",
    "planet_flux = get_flux(planet_residual,\n",
    "                       planet_position,\n",
    "                       photometry_mode=photometry_mode_planet)[1]"
   ]
  },
  {
   "cell_type": "markdown",
   "id": "bc0f9403",
   "metadata": {},
   "source": [
    "## Compute the test statistic $T_{\\text{obs}}$"
   ]
  },
  {
   "cell_type": "markdown",
   "id": "35b9bd4f",
   "metadata": {},
   "source": [
    "As for the t-Test we need to compute the test statistic $T_{\\text{obs}}$. We use the code of the [t-Test](../../03_package/statistics.rst#applefy.statistics.parametric.TTest) but only use its second return parameter."
   ]
  },
  {
   "cell_type": "code",
   "execution_count": 9,
   "id": "5d6fcf92",
   "metadata": {},
   "outputs": [
    {
     "data": {
      "text/plain": [
       "2.2804911538959938"
      ]
     },
     "execution_count": 9,
     "metadata": {},
     "output_type": "execute_result"
    }
   ],
   "source": [
    "test = TTest()\n",
    "T_obs = test.test_2samp(planet_flux, noise_flux)[1]\n",
    "\n",
    "T_obs"
   ]
  },
  {
   "cell_type": "markdown",
   "id": "9b0c89af",
   "metadata": {},
   "source": [
    "## The Gaussian Bootstrap Test"
   ]
  },
  {
   "cell_type": "markdown",
   "id": "7db5d744",
   "metadata": {},
   "source": [
    "<div style=\"text-align: justify\">\n",
    "For illustration purposes we resample from a Gaussian distribution in this example. This allows us to show that the parametric bootstrap test is equivalent to the t-Test if we make the same assumption about the noise. In reality we would never use bootstrapping if we want to assume a Gaussian noise as it is computationally expensive. However, the parametric bootstrap is not limited to the assumption of Gaussian noise. An example for Laplacian noise is shown at [the end of this page](04_Parametric_BS_Procedure.ipynb#Bootstrapping-for-Laplacian-noise).\n",
    "\n",
    "We start the resampling by setting up a [GaussianBootstrapTest](../../03_package/statistics.rst#applefy.statistics.bootstrapping.GaussianBootstrapTest). The input of the GaussianBootstrapTest is our noise sample which is used to estimate the MLE parameters $\\mu_{\\text{MLE}}= \\overline{\\mathcal{X}}$ and $\\sigma_{\\text{MLE}} = \\hat{\\sigma}_{\\mathcal{X}}$.\n",
    "</div>"
   ]
  },
  {
   "cell_type": "code",
   "execution_count": 10,
   "id": "b91ca429",
   "metadata": {},
   "outputs": [],
   "source": [
    "test_statistic = GaussianBootstrapTest(\n",
    "    noise_flux, \n",
    "    num_cpus=8)"
   ]
  },
  {
   "cell_type": "markdown",
   "id": "ad9ca83a",
   "metadata": {},
   "source": [
    "<div style=\"text-align: justify\">\n",
    "Now we can run the actual resampling using the function [run_bootstrap_experiment](../../03_package/statistics.rst#applefy.statistics.bootstrapping.BootstrapTest.run_bootstrap_experiment). The parameter *num_noise_values* gives the number of noise observations we want to resample. It should be equal to the same number of observations we extracted from our residual. This way we are able to account for the effect of the small sample statistics. The parameter *num_draws* gives the number of bootstrap samples we want to obtain ($B$). The *approximation_interval* is only needed if we want to restore our bootstrap lookup table later.\n",
    "\n",
    "Note: The following code cell is computationally expensive. Consider reducing *num_draws*.\n",
    "</div>"
   ]
  },
  {
   "cell_type": "code",
   "execution_count": 11,
   "id": "23d396aa",
   "metadata": {},
   "outputs": [],
   "source": [
    "T_star_gauss = test_statistic.run_bootstrap_experiment(\n",
    "    memory_size=5e6,\n",
    "    num_noise_values=len(noise_flux),\n",
    "    num_draws=1e9,  # num_draws=1e9 was used in the paper\n",
    "    approximation_interval=np.linspace(-7, 7, 100000))"
   ]
  },
  {
   "cell_type": "code",
   "execution_count": 12,
   "id": "6954b9a2",
   "metadata": {},
   "outputs": [
    {
     "data": {
      "text/plain": [
       "(1000000000,)"
      ]
     },
     "execution_count": 12,
     "metadata": {},
     "output_type": "execute_result"
    }
   ],
   "source": [
    "T_star_gauss.shape"
   ]
  },
  {
   "cell_type": "markdown",
   "id": "1696df07",
   "metadata": {},
   "source": [
    "## Create the Subplots"
   ]
  },
  {
   "cell_type": "markdown",
   "id": "20741e49",
   "metadata": {},
   "source": [
    "Define the colors we use along all subplots."
   ]
  },
  {
   "cell_type": "code",
   "execution_count": 13,
   "id": "258e932b",
   "metadata": {},
   "outputs": [
    {
     "data": {
      "text/html": [
       "<svg  width=\"550\" height=\"55\"><rect x=\"0\" y=\"0\" width=\"55\" height=\"55\" style=\"fill:#0173b2;stroke-width:2;stroke:rgb(255,255,255)\"/><rect x=\"55\" y=\"0\" width=\"55\" height=\"55\" style=\"fill:#de8f05;stroke-width:2;stroke:rgb(255,255,255)\"/><rect x=\"110\" y=\"0\" width=\"55\" height=\"55\" style=\"fill:#029e73;stroke-width:2;stroke:rgb(255,255,255)\"/><rect x=\"165\" y=\"0\" width=\"55\" height=\"55\" style=\"fill:#d55e00;stroke-width:2;stroke:rgb(255,255,255)\"/><rect x=\"220\" y=\"0\" width=\"55\" height=\"55\" style=\"fill:#cc78bc;stroke-width:2;stroke:rgb(255,255,255)\"/><rect x=\"275\" y=\"0\" width=\"55\" height=\"55\" style=\"fill:#ca9161;stroke-width:2;stroke:rgb(255,255,255)\"/><rect x=\"330\" y=\"0\" width=\"55\" height=\"55\" style=\"fill:#fbafe4;stroke-width:2;stroke:rgb(255,255,255)\"/><rect x=\"385\" y=\"0\" width=\"55\" height=\"55\" style=\"fill:#949494;stroke-width:2;stroke:rgb(255,255,255)\"/><rect x=\"440\" y=\"0\" width=\"55\" height=\"55\" style=\"fill:#ece133;stroke-width:2;stroke:rgb(255,255,255)\"/><rect x=\"495\" y=\"0\" width=\"55\" height=\"55\" style=\"fill:#56b4e9;stroke-width:2;stroke:rgb(255,255,255)\"/></svg>"
      ],
      "text/plain": [
       "[(0.00392156862745098, 0.45098039215686275, 0.6980392156862745),\n",
       " (0.8705882352941177, 0.5607843137254902, 0.0196078431372549),\n",
       " (0.00784313725490196, 0.6196078431372549, 0.45098039215686275),\n",
       " (0.8352941176470589, 0.3686274509803922, 0.0),\n",
       " (0.8, 0.47058823529411764, 0.7372549019607844),\n",
       " (0.792156862745098, 0.5686274509803921, 0.3803921568627451),\n",
       " (0.984313725490196, 0.6862745098039216, 0.8941176470588236),\n",
       " (0.5803921568627451, 0.5803921568627451, 0.5803921568627451),\n",
       " (0.9254901960784314, 0.8823529411764706, 0.2),\n",
       " (0.33725490196078434, 0.7058823529411765, 0.9137254901960784)]"
      ]
     },
     "execution_count": 13,
     "metadata": {},
     "output_type": "execute_result"
    }
   ],
   "source": [
    "sns.color_palette(\"colorblind\")"
   ]
  },
  {
   "cell_type": "markdown",
   "id": "e5241592",
   "metadata": {},
   "source": [
    "### 1. Illustration of the Bootstrapping"
   ]
  },
  {
   "cell_type": "markdown",
   "id": "a563d255",
   "metadata": {},
   "source": [
    "The first subplot shows how we estimate the MLE parameters of the Gaussian distribution in order to use the for the resampling."
   ]
  },
  {
   "cell_type": "code",
   "execution_count": 14,
   "id": "7b11c782",
   "metadata": {},
   "outputs": [],
   "source": [
    "# Estimate the location and scale of the Gaussian we want to resample from.\n",
    "gauss_loc = np.mean(noise_flux)\n",
    "gauss_scale = np.std(noise_flux)"
   ]
  },
  {
   "cell_type": "markdown",
   "id": "3b65f863",
   "metadata": {},
   "source": [
    "Draw 6 bootstrap samples as examples. Note, the +1 is for the signal (yellow in the Figure)."
   ]
  },
  {
   "cell_type": "code",
   "execution_count": 15,
   "id": "4c58dc55",
   "metadata": {},
   "outputs": [],
   "source": [
    "np.random.seed(42)\n",
    "resamples =  [np.random.normal(loc=gauss_loc, \n",
    "                               scale=gauss_scale, \n",
    "                               size=len(noise_flux) + 1) \n",
    "              for i in range(6)]"
   ]
  },
  {
   "cell_type": "markdown",
   "id": "5e68512c",
   "metadata": {},
   "source": [
    "A simple function to plot one of the 6 bootstrap samples."
   ]
  },
  {
   "cell_type": "code",
   "execution_count": 16,
   "id": "b41f1f16",
   "metadata": {},
   "outputs": [],
   "source": [
    "def plot_samples(noise_in, \n",
    "                 planet_in,\n",
    "                 axis_in,\n",
    "                 idx):\n",
    "    \n",
    "    # if idx is None it is the actual data.\n",
    "    # We plot it with different colors and labels\n",
    "    if idx is None:\n",
    "        color_noise = sns.color_palette(\"colorblind\")[0]\n",
    "        color_signal = sns.color_palette(\"colorblind\")[1]\n",
    "        noise_label = r\"$X_1, X_2, ..., X_n$\"\n",
    "        signal_label = r\"$Y_1$\"\n",
    "    else:\n",
    "        color_noise = sns.color_palette(\"colorblind\")[2]\n",
    "        color_signal = sns.color_palette(\"colorblind\")[8]\n",
    "        noise_label = r\"$X^*_1, X^*_2, ..., X^*_n$\"\n",
    "        signal_label = r\"$Y^*_1$\"\n",
    "    \n",
    "    # Compute the test statistic for the given bootstrap sample\n",
    "    T_star = test.test_2samp(planet_in, noise_in)[1]\n",
    "    \n",
    "    axis_in.hlines(0, xmin=-200, xmax=200, color=\"black\")\n",
    "    \n",
    "    # Plot the bootstrap sample\n",
    "    axis_in.scatter(noise_in,\n",
    "                    np.zeros_like(noise_in),\n",
    "                    color = color_noise,\n",
    "                    marker=\"x\", lw=3, s=100,\n",
    "                    label=noise_label)\n",
    "\n",
    "    axis_in.scatter(planet_in,\n",
    "                    np.zeros_like(planet_in),\n",
    "                    color = color_signal,\n",
    "                    marker=\"x\", lw=3, s=100, \n",
    "                    label=signal_label)\n",
    "    \n",
    "    # Add the value of the test statistic as text\n",
    "    if idx is None:\n",
    "        t_text = r\"$T_{obs}$\" + \" = {:.2f}\".format(T_obs)\n",
    "    else:\n",
    "        t_text = r\"$T^*_{}$\".format(idx) + \" = {:.2f}\".format(T_star)\n",
    "    \n",
    "    axis_in.text(120, 0, t_text, \n",
    "                 ha=\"center\", size=16, va=\"center\",\n",
    "                 bbox=dict(facecolor='white',\n",
    "                           boxstyle=\"round\",\n",
    "                           edgecolor=\"white\"))\n",
    "    \n",
    "    axis_in.set_xlim(-100, 135)\n",
    "    axis_in.axis(\"off\")"
   ]
  },
  {
   "cell_type": "markdown",
   "id": "5a6839b3",
   "metadata": {},
   "source": [
    "Create the final subplot."
   ]
  },
  {
   "cell_type": "code",
   "execution_count": 17,
   "id": "380c213d",
   "metadata": {},
   "outputs": [
    {
     "data": {
      "image/png": "[encoded data removed]",
      "text/plain": [
       "<Figure size 800x800 with 10 Axes>"
      ]
     },
     "metadata": {},
     "output_type": "display_data"
    }
   ],
   "source": [
    "# Create the Layout with gridspec\n",
    "fig = plt.figure(constrained_layout=False, figsize=(8, 8))\n",
    "\n",
    "# We have 10 subplots stack on to of each other\n",
    "# subplot 0: The input data\n",
    "# subplot 1: Estimation of the MLE\n",
    "# subplot 2: arrows from subplot 1 to subplots 3 - 9\n",
    "# subplots 3 - 5: bootstrap examples\n",
    "# subplot 6: Empty ...\n",
    "# subplots 7 - 9: bootstrap examples\n",
    "gs0 = fig.add_gridspec(10, 1, height_ratios=[1.5, 3, 1.,\n",
    "                                             1, 1, 1, 0.5,\n",
    "                                             1, 1, 1])\n",
    "\n",
    "# 1.) Plot the observations ---------------------------------------\n",
    "ax_observations = fig.add_subplot(gs0[0])\n",
    "plot_samples(noise_flux, planet_flux, ax_observations, None)\n",
    "\n",
    "ax_observations.text(gauss_loc, 0.035, \n",
    "                     r\"$\\overline{\\mathcal{X}}$\",\n",
    "                     ha=\"center\", size=16)\n",
    "\n",
    "# 2.) Plot the MLE step -------------------------------------------\n",
    "ax_mle = fig.add_subplot(gs0[1])\n",
    "\n",
    "# Plot the gaussian\n",
    "x = np.linspace(-200, 200, 2000)\n",
    "\n",
    "ax_mle.plot(x, stats.norm.pdf(x, loc=gauss_loc, scale=gauss_scale), \n",
    "            label=\"Noise PDF\",\n",
    "            color=sns.color_palette(\"colorblind\")[0], lw=3)\n",
    "\n",
    "ax_mle.set_xlim(-100, 135)\n",
    "ax_mle.set_ylim(-0.001, 0.019)\n",
    "ax_mle.hlines(0, xmin=-200, xmax=200, color=\"black\")\n",
    "ax_mle.axes.get_xaxis().set_ticklabels([])\n",
    "ax_mle.axes.get_yaxis().set_ticklabels([])\n",
    "ax_mle.axis(\"off\")\n",
    "\n",
    "ax_mle.axvline(gauss_loc,\n",
    "               ymin=0, ymax=1.4, ls=\"--\",\n",
    "               color=\"black\", \n",
    "               lw=2,\n",
    "               zorder=-1,\n",
    "               clip_on=False)\n",
    "\n",
    "# Add Text\n",
    "ax_mle.text(90, 0.005, \n",
    "            r\"$\\mu_{MLE} = \\overline{\\mathcal{X}}$\" + \" \\n\" +  \n",
    "            r\"$\\sigma_{MLE} = \\hat{\\sigma}_{\\mathcal{X}}$\",\n",
    "            ha=\"center\", size=16,\n",
    "            bbox=dict(facecolor='white',\n",
    "                      boxstyle=\"round\",\n",
    "                      edgecolor=\"white\"))\n",
    "\n",
    "ax_mle.text(-40, 0.005, \n",
    "            r\"$\\hat{F}$\",\n",
    "            ha=\"center\", size=18,\n",
    "            bbox=dict(facecolor='white',\n",
    "                      boxstyle=\"round\",\n",
    "                      edgecolor=\"white\"))\n",
    "\n",
    "# Add dashed line\n",
    "line = plt.Line2D((gauss_loc, gauss_loc + gauss_scale), \n",
    "                  (0.015, 0.015), lw=2, color=\"black\", \n",
    "                  marker=\"|\", ms=10)\n",
    "\n",
    "ax_mle.add_line(line)\n",
    "\n",
    "ax_mle.text(gauss_loc + gauss_scale/2, 0.017, \n",
    "            r\"$\\hat{\\sigma}_{\\mathcal{X}}$\",\n",
    "            ha=\"center\", size=16,)\n",
    "\n",
    "# 3.) Plot the arrows ---------------------------------------------\n",
    "ax_top_space = fig.add_subplot(gs0[2])\n",
    "\n",
    "ax_top_space.axis(\"off\")\n",
    "ax_top_space.set_xlim(-100, 135)\n",
    "ax_top_space.set_ylim(-1, 1)\n",
    "\n",
    "# one arrow for each noise and signal value\n",
    "for tmp_sample in resamples[0]:\n",
    "    ax_top_space.arrow(tmp_sample, 1.1, 0, -2.5, \n",
    "                       clip_on=False, width=1, lw=0.5,\n",
    "                       length_includes_head=True,\n",
    "                       head_length=0.5,\n",
    "                       head_width=4,\n",
    "                       color = sns.color_palette(\"colorblind\")[0])\n",
    "\n",
    "# 4.) Plot bootstrap examples -------------------------------------\n",
    "ax_rs1 = fig.add_subplot(gs0[3])\n",
    "ax_rs2 = fig.add_subplot(gs0[4])\n",
    "ax_rs3 = fig.add_subplot(gs0[5])\n",
    "\n",
    "# Plot the Samples and Re-samples ---------------------------------\n",
    "plot_samples(resamples[0][:-1], resamples[0][-1], ax_rs1, \"1\")\n",
    "plot_samples(resamples[1][:-1], resamples[1][-1], ax_rs2, \"2\")\n",
    "plot_samples(resamples[2][:-1], resamples[2][-1], ax_rs3, \"3\")\n",
    "\n",
    "# 5.) Plot Empty ... ----------------------------------------------\n",
    "ax_middle_space = fig.add_subplot(gs0[6])\n",
    "ax_middle_space.axis(\"off\")\n",
    "ax_middle_space.text(0, 0, \"...\", fontsize=18)\n",
    "ax_middle_space.set_xlim(-1, 1)\n",
    "ax_middle_space.set_ylim(-1, 1)\n",
    "\n",
    "# 6.) Plot bootstrap examples -------------------------------------\n",
    "ax_rs4 = fig.add_subplot(gs0[7])\n",
    "ax_rs5 = fig.add_subplot(gs0[8])\n",
    "ax_rs6 = fig.add_subplot(gs0[9])\n",
    "\n",
    "# Plot the Samples and Re-samples\n",
    "plot_samples(resamples[3][:-1], resamples[3][-1], ax_rs4, \"{B-2}\")\n",
    "plot_samples(resamples[4][:-1], resamples[4][-1], ax_rs5, \"{B-1}\")\n",
    "plot_samples(resamples[5][:-1], resamples[5][-1], ax_rs6, \"{B}\")\n",
    "\n",
    "# 7.) Add a Legend ------------------------------------------------\n",
    "ax_rs6.legend(ax_observations.get_legend_handles_labels()[0] + \\\n",
    "                  ax_rs6.get_legend_handles_labels()[0],\n",
    "              ax_observations.get_legend_handles_labels()[1] + \\\n",
    "                  ax_rs6.get_legend_handles_labels()[1],\n",
    "              ncol=4,\n",
    "              fontsize=16, \n",
    "              loc='lower center',\n",
    "              bbox_to_anchor=(0.5, -1.8))\n",
    "\n",
    "fig.patch.set_facecolor('white')\n",
    "plt.savefig(\"./04_01_resample.pdf\",\n",
    "            bbox_inches='tight')"
   ]
  },
  {
   "cell_type": "markdown",
   "id": "5c4c35fe",
   "metadata": {},
   "source": [
    "### 2. Distribution of $p(T^* = t | H_0)$"
   ]
  },
  {
   "cell_type": "markdown",
   "id": "0f616e45",
   "metadata": {},
   "source": [
    "The second subplot shows how the distribution $p(T^* = t | H_0)$ converges towards the t-distribution. For this we create histograms. Each histogram is based on a subset of the *T_star_gauss* we computed earlier."
   ]
  },
  {
   "cell_type": "code",
   "execution_count": 18,
   "id": "999d754f",
   "metadata": {},
   "outputs": [],
   "source": [
    "# Create the data and setups\n",
    "np.random.seed(7)\n",
    "idx_1 = np.random.randint(0, T_star_gauss.shape[0]-1, int(1e3))\n",
    "idx_2 = np.random.randint(0, T_star_gauss.shape[0]-1, int(1e4))\n",
    "idx_3 = np.random.randint(0, T_star_gauss.shape[0]-1, int(1e7))\n",
    "\n",
    "T_set_1 = pd.DataFrame({\"T\": T_star_gauss[idx_1],\n",
    "                        \"above\": T_star_gauss[idx_1] > T_obs})\n",
    "T_set_2 = pd.DataFrame({\"T\": T_star_gauss[idx_2],\n",
    "                        \"above\": T_star_gauss[idx_2] > T_obs})\n",
    "T_set_3 = pd.DataFrame({\"T\": T_star_gauss[idx_3],\n",
    "                        \"above\": T_star_gauss[idx_3] > T_obs})\n",
    "\n",
    "# The FPF / p-value of the test is given by the fraction of observations \n",
    "# larger than T_obs. See Equation (3) in the paper.\n",
    "fpf_1 = np.sum(T_star_gauss[idx_1] > T_obs) / len(T_star_gauss[idx_1])\n",
    "fpf_2 = np.sum(T_star_gauss[idx_2] > T_obs) / len(T_star_gauss[idx_2])\n",
    "fpf_3 = np.sum(T_star_gauss[idx_3] > T_obs) / len(T_star_gauss[idx_3])"
   ]
  },
  {
   "cell_type": "markdown",
   "id": "8437b064",
   "metadata": {},
   "source": [
    "A small function which plots one of the histograms."
   ]
  },
  {
   "cell_type": "code",
   "execution_count": 19,
   "id": "0cdc2307",
   "metadata": {},
   "outputs": [],
   "source": [
    "# Limits. Most values of T are between -7 and +7.\n",
    "axis_limit = 7\n",
    "\n",
    "def plot_histogram(data_in, \n",
    "                   numb_bins, \n",
    "                   axis_in,\n",
    "                   fpf_in):\n",
    "    \n",
    "    x = np.linspace(-axis_limit, axis_limit, 1000)\n",
    "    \n",
    "    # Plot the pdf of the t-distribution\n",
    "    axis_in.plot(x, stats.t.pdf(x, df=9),\n",
    "                 color=sns.color_palette(\"colorblind\")[1], \n",
    "                 lw=3,\n",
    "                 label=\"$t$-Distribution \" + r\"$\\nu = 9$\")\n",
    "    \n",
    "    # Plot the histogram based on the bootstrap samples\n",
    "    sns.histplot(data=data_in, \n",
    "                 x=\"T\", \n",
    "                 hue=\"above\",\n",
    "                 palette=[sns.color_palette(\"colorblind\")[0], \"red\"],\n",
    "                 bins=numb_bins, \n",
    "                 stat=\"density\", \n",
    "                 multiple=\"stack\",\n",
    "                 binrange=(-axis_limit, axis_limit),\n",
    "                 ax=axis_in,\n",
    "                 legend=False)\n",
    "    \n",
    "    # Add Text and Labels\n",
    "    axis_in.set_xlim(-7, 7)\n",
    "    axis_in.set_yscale(\"log\")\n",
    "    axis_in.yaxis.grid()\n",
    "    axis_in.tick_params(axis='both', which='major', labelsize=14)\n",
    "    axis_in.set_yticks([1e-04, 1e-03, 1e-02, 1e-01])\n",
    "    \n",
    "    axis_in.axvline(x=T_obs,\n",
    "                    ymin=0,\n",
    "                    ymax=1,\n",
    "                    c=\"black\",\n",
    "                    linewidth=2)\n",
    "\n",
    "    axis_in.set_ylabel(\"$p(T^*=t|H_0)$\", fontsize=16)\n",
    "    fpf_text = (5, 0.1, 16)\n",
    "\n",
    "    axis_in.text(\n",
    "        -5, 0.1, \n",
    "        r\"$B$\" + \" = {:.1e}\".format(data_in.shape[0]),\n",
    "        ha=\"center\", size=16,\n",
    "        bbox=dict(\n",
    "            facecolor='white',\n",
    "            boxstyle=\"round\",\n",
    "            edgecolor=\"white\"))\n",
    "    \n",
    "    axis_in.text(fpf_text[0], fpf_text[1], \n",
    "                 r\"FPF = {:.4f}\".format(fpf_in), \n",
    "                 ha=\"center\", size=fpf_text[2],\n",
    "                 bbox=dict(\n",
    "                     facecolor='white',\n",
    "                     boxstyle=\"round\",\n",
    "                     edgecolor=\"white\"))"
   ]
  },
  {
   "cell_type": "markdown",
   "id": "3250cb29",
   "metadata": {},
   "source": [
    "Create the actual plot. Note: this can take a while since *sns.histplot* has to calculate the histogram."
   ]
  },
  {
   "cell_type": "code",
   "execution_count": 20,
   "id": "c3580736",
   "metadata": {
    "nbsphinx-thumbnail": {
     "tooltip": "Illustration of the parametric bootstrap test introduced in this paper."
    }
   },
   "outputs": [
    {
     "data": {
      "image/png": "[encoded data removed]",
      "text/plain": [
       "<Figure size 800x800 with 3 Axes>"
      ]
     },
     "metadata": {},
     "output_type": "display_data"
    }
   ],
   "source": [
    "# Create the Layout with gridspec\n",
    "fig = plt.figure(constrained_layout=False, figsize=(8, 8))\n",
    "gs0 = fig.add_gridspec(3, 1, height_ratios=[1, 1, 1])\n",
    "gs0.update(hspace=0.1, wspace=0.2)\n",
    "\n",
    "ax_b1 = fig.add_subplot(gs0[0])\n",
    "ax_b2 = fig.add_subplot(gs0[1])\n",
    "ax_b3 = fig.add_subplot(gs0[2])\n",
    "\n",
    "# Plot the histograms\n",
    "plot_histogram(T_set_1, 100, ax_b1, fpf_1)\n",
    "plot_histogram(T_set_2, 100, ax_b2, fpf_2)\n",
    "plot_histogram(T_set_3, 100, ax_b3, fpf_3)\n",
    "\n",
    "# Add a vertical line at the position of T_obs\n",
    "ax_b2.axvline(x=T_obs,\n",
    "              ymin=-1.1,\n",
    "              ymax=1.1,\n",
    "              c=\"black\",\n",
    "              linewidth=2,\n",
    "              zorder=10, \n",
    "              clip_on=False)\n",
    "\n",
    "# Clean up the Labels\n",
    "ax_b1.axes.get_xaxis().set_ticklabels([])\n",
    "ax_b1.set_xlabel(\"\")\n",
    "ax_b2.axes.get_xaxis().set_ticklabels([])\n",
    "ax_b2.set_xlabel(\"\")\n",
    "ax_b3.set_xlabel(\"Test Statistic (S/N)\", fontsize=16)\n",
    "\n",
    "# Add captions\n",
    "ax_b3.text(T_obs, 0.0001, r\"$T_{obs}$\" + \" = {:.2f}\".format(T_obs), \n",
    "           ha=\"center\", size=16,\n",
    "           bbox=dict(facecolor='white',\n",
    "                     boxstyle=\"round\",\n",
    "                     edgecolor=\"white\"))\n",
    "\n",
    "# Add a legend\n",
    "ax_b3.legend(ncol=1,\n",
    "             fontsize=16, \n",
    "             loc='lower center',\n",
    "             bbox_to_anchor=(0.5, -.7))\n",
    "\n",
    "# Save the plot\n",
    "fig.patch.set_facecolor('white')\n",
    "plt.savefig(\"./04_02_bs_histogram.pdf\",\n",
    "            bbox_inches='tight')"
   ]
  },
  {
   "cell_type": "markdown",
   "id": "648dc287",
   "metadata": {},
   "source": [
    "We merged the two subplots using Adobe Illustrator."
   ]
  },
  {
   "cell_type": "markdown",
   "id": "f21b43ea",
   "metadata": {},
   "source": [
    "## Bootstrapping for Laplacian noise"
   ]
  },
  {
   "cell_type": "markdown",
   "id": "5e87731e",
   "metadata": {},
   "source": [
    "<div style=\"text-align: justify\">\n",
    "This is an additional example which compares the distribution of $p(T^*=t | H_0)$ under two different assumptions: Gaussian noise and Laplacian noise. For this we first have to run the bootstrapping again for Laplacian noise.  \n",
    "</div>"
   ]
  },
  {
   "cell_type": "markdown",
   "id": "800ef0ef",
   "metadata": {},
   "source": [
    "### 1. Creation of Bootstrap samples"
   ]
  },
  {
   "cell_type": "markdown",
   "id": "d4b976a0",
   "metadata": {},
   "source": [
    "We start by setting up a [LaplaceBootstrapTest](../../03_package/statistics.rst#applefy.statistics.bootstrapping.LaplaceBootstrapTest)."
   ]
  },
  {
   "cell_type": "code",
   "execution_count": 21,
   "id": "3c6fa60a",
   "metadata": {},
   "outputs": [],
   "source": [
    "laplace_statistic = LaplaceBootstrapTest(\n",
    "    noise_flux, num_cpus=8)"
   ]
  },
  {
   "cell_type": "markdown",
   "id": "7cdd7abf",
   "metadata": {},
   "source": [
    "Now we can run the actual resampling using the function [run_bootstrap_experiment](../../03_package/statistics.rst#applefy.statistics.bootstrapping.BootstrapTest.run_bootstrap_experiment).\n",
    "\n",
    "Note: The following code cell is computationally expensive. Consider reducing *num_draws*."
   ]
  },
  {
   "cell_type": "code",
   "execution_count": 22,
   "id": "8efd8570",
   "metadata": {},
   "outputs": [],
   "source": [
    "T_star_laplace = laplace_statistic.run_bootstrap_experiment(\n",
    "    memory_size=5e6,\n",
    "    num_noise_values=len(noise_flux),\n",
    "    num_draws=1e8,\n",
    "    approximation_interval=np.linspace(-7, 7, 100000))"
   ]
  },
  {
   "cell_type": "code",
   "execution_count": 23,
   "id": "e8b08fed",
   "metadata": {},
   "outputs": [
    {
     "data": {
      "text/plain": [
       "(100000000,)"
      ]
     },
     "execution_count": 23,
     "metadata": {},
     "output_type": "execute_result"
    }
   ],
   "source": [
    "T_star_laplace.shape"
   ]
  },
  {
   "cell_type": "markdown",
   "id": "d0551ca8",
   "metadata": {},
   "source": [
    "### 2. Compute the Histograms"
   ]
  },
  {
   "cell_type": "markdown",
   "id": "a2f01300",
   "metadata": {},
   "source": [
    "In order to be able to show the interactive plots with bokeh on a static html page we have to pre-compute the histograms for different $B$ and noise assumptions."
   ]
  },
  {
   "cell_type": "markdown",
   "id": "76f7f116",
   "metadata": {},
   "source": [
    "The results are sorted in *T_star* which is why we shuffle them here."
   ]
  },
  {
   "cell_type": "code",
   "execution_count": 24,
   "id": "7b2227d4",
   "metadata": {},
   "outputs": [],
   "source": [
    "np.random.shuffle(T_star_laplace)\n",
    "np.random.shuffle(T_star_gauss)"
   ]
  },
  {
   "cell_type": "markdown",
   "id": "70220b38",
   "metadata": {},
   "source": [
    "Compute the bins and values of the histograms."
   ]
  },
  {
   "cell_type": "code",
   "execution_count": 25,
   "id": "4ed5d3a5",
   "metadata": {},
   "outputs": [],
   "source": [
    "num_draws = np.logspace(3, 8, 6)\n",
    "histogram_bins = np.linspace(-7, 7, 100)\n",
    "\n",
    "# a dict to save all histograms\n",
    "final_histograms = dict()\n",
    "\n",
    "for tmp_B in num_draws:\n",
    "    \n",
    "    # compute the histogram for the gaussian assumption\n",
    "    tmp_hist_gauss, edges = np.histogram(\n",
    "        # using the B random values of T_star \n",
    "        # (see shuffle step before)\n",
    "        T_star_gauss[:int(tmp_B)], \n",
    "        density=True,\n",
    "        bins=histogram_bins)\n",
    "    \n",
    "    # compute the histogram for the laplacian assumption\n",
    "    tmp_hist_laplace, edges = np.histogram(\n",
    "        T_star_laplace[:int(tmp_B)], \n",
    "        density=True,\n",
    "        bins=histogram_bins)\n",
    "    \n",
    "    # compute the fpf (equation 3 in the apples with apples paper)\n",
    "    fpf_gauss = np.sum(T_star_gauss[:int(tmp_B)] > T_obs) / \\\n",
    "        len(T_star_gauss[:int(tmp_B)])\n",
    "    fpf_laplace = np.sum(T_star_laplace[:int(tmp_B)] > T_obs) / \\\n",
    "        len(T_star_laplace[:int(tmp_B)])\n",
    "    \n",
    "    # We want to different colors for the part of the histogram larger than T_obs. \n",
    "    # This is why we split the histogram into two parts\n",
    "    cut_off_idx = np.where(edges[1:] > T_obs)[0][0]\n",
    "    \n",
    "    # Save the results\n",
    "    final_histograms[\"{:.0e}\".format(tmp_B) + \"_Gauss\"] = (\n",
    "        tmp_hist_gauss[:cut_off_idx],\n",
    "        tmp_hist_gauss[cut_off_idx:],\n",
    "        \"{:.4f}\".format(fpf_gauss))\n",
    "    \n",
    "    final_histograms[\"{:.0e}\".format(tmp_B) + \"_Laplace\"] = (\n",
    "        tmp_hist_laplace[:cut_off_idx],\n",
    "        tmp_hist_laplace[cut_off_idx:],\n",
    "        \"{:.4f}\".format(fpf_laplace))"
   ]
  },
  {
   "cell_type": "markdown",
   "id": "22537a58",
   "metadata": {},
   "source": [
    "### 3. Create the Plot"
   ]
  },
  {
   "cell_type": "code",
   "execution_count": 26,
   "id": "f742f7f1",
   "metadata": {},
   "outputs": [
    {
     "data": {
      "text/html": [
       "<style>\n",
       "        .bk-notebook-logo {\n",
       "            display: block;\n",
       "            width: 20px;\n",
       "            height: 20px;\n",
       "            background-image: url(data:image/png;base64,iVBORw0KGgoAAAANSUhEUgAAABQAAAAUCAYAAACNiR0NAAAABHNCSVQICAgIfAhkiAAAAAlwSFlzAAALEgAACxIB0t1+/AAAABx0RVh0U29mdHdhcmUAQWRvYmUgRmlyZXdvcmtzIENTNui8sowAAAOkSURBVDiNjZRtaJVlGMd/1/08zzln5zjP1LWcU9N0NkN8m2CYjpgQYQXqSs0I84OLIC0hkEKoPtiH3gmKoiJDU7QpLgoLjLIQCpEsNJ1vqUOdO7ppbuec5+V+rj4ctwzd8IIbbi6u+8f1539dt3A78eXC7QizUF7gyV1fD1Yqg4JWz84yffhm0qkFqBogB9rM8tZdtwVsPUhWhGcFJngGeWrPzHm5oaMmkfEg1usvLFyc8jLRqDOMru7AyC8saQr7GG7f5fvDeH7Ej8CM66nIF+8yngt6HWaKh7k49Soy9nXurCi1o3qUbS3zWfrYeQDTB/Qj6kX6Ybhw4B+bOYoLKCC9H3Nu/leUTZ1JdRWkkn2ldcCamzrcf47KKXdAJllSlxAOkRgyHsGC/zRday5Qld9DyoM4/q/rUoy/CXh3jzOu3bHUVZeU+DEn8FInkPBFlu3+nW3Nw0mk6vCDiWg8CeJaxEwuHS3+z5RgY+YBR6V1Z1nxSOfoaPa4LASWxxdNp+VWTk7+4vzaou8v8PN+xo+KY2xsw6une2frhw05CTYOmQvsEhjhWjn0bmXPjpE1+kplmmkP3suftwTubK9Vq22qKmrBhpY4jvd5afdRA3wGjFAgcnTK2s4hY0/GPNIb0nErGMCRxWOOX64Z8RAC4oCXdklmEvcL8o0BfkNK4lUg9HTl+oPlQxdNo3Mg4Nv175e/1LDGzZen30MEjRUtmXSfiTVu1kK8W4txyV6BMKlbgk3lMwYCiusNy9fVfvvwMxv8Ynl6vxoByANLTWplvuj/nF9m2+PDtt1eiHPBr1oIfhCChQMBw6Aw0UulqTKZdfVvfG7VcfIqLG9bcldL/+pdWTLxLUy8Qq38heUIjh4XlzZxzQm19lLFlr8vdQ97rjZVOLf8nclzckbcD4wxXMidpX30sFd37Fv/GtwwhzhxGVAprjbg0gCAEeIgwCZyTV2Z1REEW8O4py0wsjeloKoMr6iCY6dP92H6Vw/oTyICIthibxjm/DfN9lVz8IqtqKYLUXfoKVMVQVVJOElGjrnnUt9T9wbgp8AyYKaGlqingHZU/uG2NTZSVqwHQTWkx9hxjkpWDaCg6Ckj5qebgBVbT3V3NNXMSiWSDdGV3hrtzla7J+duwPOToIg42ChPQOQjspnSlp1V+Gjdged7+8UN5CRAV7a5EdFNwCjEaBR27b3W890TE7g24NAP/mMDXRWrGoFPQI9ls/MWO2dWFAar/xcOIImbbpA3zgAAAABJRU5ErkJggg==);\n",
       "        }\n",
       "    </style>\n",
       "    <div>\n",
       "        <a href=\"https://bokeh.org\" target=\"_blank\" class=\"bk-notebook-logo\"></a>\n",
       "        <span id=\"e9c97a96-4636-417b-ac60-84879996405a\">Loading BokehJS ...</span>\n",
       "    </div>\n"
      ]
     },
     "metadata": {},
     "output_type": "display_data"
    },
    {
     "data": {
      "application/javascript": [
       "(function(root) {\n",
       "  function now() {\n",
       "    return new Date();\n",
       "  }\n",
       "\n",
       "  const force = true;\n",
       "\n",
       "  if (typeof root._bokeh_onload_callbacks === \"undefined\" || force === true) {\n",
       "    root._bokeh_onload_callbacks = [];\n",
       "    root._bokeh_is_loading = undefined;\n",
       "  }\n",
       "\n",
       "const JS_MIME_TYPE = 'application/javascript';\n",
       "  const HTML_MIME_TYPE = 'text/html';\n",
       "  const EXEC_MIME_TYPE = 'application/vnd.bokehjs_exec.v0+json';\n",
       "  const CLASS_NAME = 'output_bokeh rendered_html';\n",
       "\n",
       "  /**\n",
       "   * Render data to the DOM node\n",
       "   */\n",
       "  function render(props, node) {\n",
       "    const script = document.createElement(\"script\");\n",
       "    node.appendChild(script);\n",
       "  }\n",
       "\n",
       "  /**\n",
       "   * Handle when an output is cleared or removed\n",
       "   */\n",
       "  function handleClearOutput(event, handle) {\n",
       "    const cell = handle.cell;\n",
       "\n",
       "    const id = cell.output_area._bokeh_element_id;\n",
       "    const server_id = cell.output_area._bokeh_server_id;\n",
       "    // Clean up Bokeh references\n",
       "    if (id != null && id in Bokeh.index) {\n",
       "      Bokeh.index[id].model.document.clear();\n",
       "      delete Bokeh.index[id];\n",
       "    }\n",
       "\n",
       "    if (server_id !== undefined) {\n",
       "      // Clean up Bokeh references\n",
       "      const cmd_clean = \"from bokeh.io.state import curstate; print(curstate().uuid_to_server['\" + server_id + \"'].get_sessions()[0].document.roots[0]._id)\";\n",
       "      cell.notebook.kernel.execute(cmd_clean, {\n",
       "        iopub: {\n",
       "          output: function(msg) {\n",
       "            const id = msg.content.text.trim();\n",
       "            if (id in Bokeh.index) {\n",
       "              Bokeh.index[id].model.document.clear();\n",
       "              delete Bokeh.index[id];\n",
       "            }\n",
       "          }\n",
       "        }\n",
       "      });\n",
       "      // Destroy server and session\n",
       "      const cmd_destroy = \"import bokeh.io.notebook as ion; ion.destroy_server('\" + server_id + \"')\";\n",
       "      cell.notebook.kernel.execute(cmd_destroy);\n",
       "    }\n",
       "  }\n",
       "\n",
       "  /**\n",
       "   * Handle when a new output is added\n",
       "   */\n",
       "  function handleAddOutput(event, handle) {\n",
       "    const output_area = handle.output_area;\n",
       "    const output = handle.output;\n",
       "\n",
       "    // limit handleAddOutput to display_data with EXEC_MIME_TYPE content only\n",
       "    if ((output.output_type != \"display_data\") || (!Object.prototype.hasOwnProperty.call(output.data, EXEC_MIME_TYPE))) {\n",
       "      return\n",
       "    }\n",
       "\n",
       "    const toinsert = output_area.element.find(\".\" + CLASS_NAME.split(' ')[0]);\n",
       "\n",
       "    if (output.metadata[EXEC_MIME_TYPE][\"id\"] !== undefined) {\n",
       "      toinsert[toinsert.length - 1].firstChild.textContent = output.data[JS_MIME_TYPE];\n",
       "      // store reference to embed id on output_area\n",
       "      output_area._bokeh_element_id = output.metadata[EXEC_MIME_TYPE][\"id\"];\n",
       "    }\n",
       "    if (output.metadata[EXEC_MIME_TYPE][\"server_id\"] !== undefined) {\n",
       "      const bk_div = document.createElement(\"div\");\n",
       "      bk_div.innerHTML = output.data[HTML_MIME_TYPE];\n",
       "      const script_attrs = bk_div.children[0].attributes;\n",
       "      for (let i = 0; i < script_attrs.length; i++) {\n",
       "        toinsert[toinsert.length - 1].firstChild.setAttribute(script_attrs[i].name, script_attrs[i].value);\n",
       "        toinsert[toinsert.length - 1].firstChild.textContent = bk_div.children[0].textContent\n",
       "      }\n",
       "      // store reference to server id on output_area\n",
       "      output_area._bokeh_server_id = output.metadata[EXEC_MIME_TYPE][\"server_id\"];\n",
       "    }\n",
       "  }\n",
       "\n",
       "  function register_renderer(events, OutputArea) {\n",
       "\n",
       "    function append_mime(data, metadata, element) {\n",
       "      // create a DOM node to render to\n",
       "      const toinsert = this.create_output_subarea(\n",
       "        metadata,\n",
       "        CLASS_NAME,\n",
       "        EXEC_MIME_TYPE\n",
       "      );\n",
       "      this.keyboard_manager.register_events(toinsert);\n",
       "      // Render to node\n",
       "      const props = {data: data, metadata: metadata[EXEC_MIME_TYPE]};\n",
       "      render(props, toinsert[toinsert.length - 1]);\n",
       "      element.append(toinsert);\n",
       "      return toinsert\n",
       "    }\n",
       "\n",
       "    /* Handle when an output is cleared or removed */\n",
       "    events.on('clear_output.CodeCell', handleClearOutput);\n",
       "    events.on('delete.Cell', handleClearOutput);\n",
       "\n",
       "    /* Handle when a new output is added */\n",
       "    events.on('output_added.OutputArea', handleAddOutput);\n",
       "\n",
       "    /**\n",
       "     * Register the mime type and append_mime function with output_area\n",
       "     */\n",
       "    OutputArea.prototype.register_mime_type(EXEC_MIME_TYPE, append_mime, {\n",
       "      /* Is output safe? */\n",
       "      safe: true,\n",
       "      /* Index of renderer in `output_area.display_order` */\n",
       "      index: 0\n",
       "    });\n",
       "  }\n",
       "\n",
       "  // register the mime type if in Jupyter Notebook environment and previously unregistered\n",
       "  if (root.Jupyter !== undefined) {\n",
       "    const events = require('base/js/events');\n",
       "    const OutputArea = require('notebook/js/outputarea').OutputArea;\n",
       "\n",
       "    if (OutputArea.prototype.mime_types().indexOf(EXEC_MIME_TYPE) == -1) {\n",
       "      register_renderer(events, OutputArea);\n",
       "    }\n",
       "  }\n",
       "  if (typeof (root._bokeh_timeout) === \"undefined\" || force === true) {\n",
       "    root._bokeh_timeout = Date.now() + 5000;\n",
       "    root._bokeh_failed_load = false;\n",
       "  }\n",
       "\n",
       "  const NB_LOAD_WARNING = {'data': {'text/html':\n",
       "     \"<div style='background-color: #fdd'>\\n\"+\n",
       "     \"<p>\\n\"+\n",
       "     \"BokehJS does not appear to have successfully loaded. If loading BokehJS from CDN, this \\n\"+\n",
       "     \"may be due to a slow or bad network connection. Possible fixes:\\n\"+\n",
       "     \"</p>\\n\"+\n",
       "     \"<ul>\\n\"+\n",
       "     \"<li>re-rerun `output_notebook()` to attempt to load from CDN again, or</li>\\n\"+\n",
       "     \"<li>use INLINE resources instead, as so:</li>\\n\"+\n",
       "     \"</ul>\\n\"+\n",
       "     \"<code>\\n\"+\n",
       "     \"from bokeh.resources import INLINE\\n\"+\n",
       "     \"output_notebook(resources=INLINE)\\n\"+\n",
       "     \"</code>\\n\"+\n",
       "     \"</div>\"}};\n",
       "\n",
       "  function display_loaded() {\n",
       "    const el = document.getElementById(\"e9c97a96-4636-417b-ac60-84879996405a\");\n",
       "    if (el != null) {\n",
       "      el.textContent = \"BokehJS is loading...\";\n",
       "    }\n",
       "    if (root.Bokeh !== undefined) {\n",
       "      if (el != null) {\n",
       "        el.textContent = \"BokehJS \" + root.Bokeh.version + \" successfully loaded.\";\n",
       "      }\n",
       "    } else if (Date.now() < root._bokeh_timeout) {\n",
       "      setTimeout(display_loaded, 100)\n",
       "    }\n",
       "  }\n",
       "\n",
       "  function run_callbacks() {\n",
       "    try {\n",
       "      root._bokeh_onload_callbacks.forEach(function(callback) {\n",
       "        if (callback != null)\n",
       "          callback();\n",
       "      });\n",
       "    } finally {\n",
       "      delete root._bokeh_onload_callbacks\n",
       "    }\n",
       "    console.debug(\"Bokeh: all callbacks have finished\");\n",
       "  }\n",
       "\n",
       "  function load_libs(css_urls, js_urls, callback) {\n",
       "    if (css_urls == null) css_urls = [];\n",
       "    if (js_urls == null) js_urls = [];\n",
       "\n",
       "    root._bokeh_onload_callbacks.push(callback);\n",
       "    if (root._bokeh_is_loading > 0) {\n",
       "      console.debug(\"Bokeh: BokehJS is being loaded, scheduling callback at\", now());\n",
       "      return null;\n",
       "    }\n",
       "    if (js_urls == null || js_urls.length === 0) {\n",
       "      run_callbacks();\n",
       "      return null;\n",
       "    }\n",
       "    console.debug(\"Bokeh: BokehJS not loaded, scheduling load and callback at\", now());\n",
       "    root._bokeh_is_loading = css_urls.length + js_urls.length;\n",
       "\n",
       "    function on_load() {\n",
       "      root._bokeh_is_loading--;\n",
       "      if (root._bokeh_is_loading === 0) {\n",
       "        console.debug(\"Bokeh: all BokehJS libraries/stylesheets loaded\");\n",
       "        run_callbacks()\n",
       "      }\n",
       "    }\n",
       "\n",
       "    function on_error(url) {\n",
       "      console.error(\"failed to load \" + url);\n",
       "    }\n",
       "\n",
       "    for (let i = 0; i < css_urls.length; i++) {\n",
       "      const url = css_urls[i];\n",
       "      const element = document.createElement(\"link\");\n",
       "      element.onload = on_load;\n",
       "      element.onerror = on_error.bind(null, url);\n",
       "      element.rel = \"stylesheet\";\n",
       "      element.type = \"text/css\";\n",
       "      element.href = url;\n",
       "      console.debug(\"Bokeh: injecting link tag for BokehJS stylesheet: \", url);\n",
       "      document.body.appendChild(element);\n",
       "    }\n",
       "\n",
       "    for (let i = 0; i < js_urls.length; i++) {\n",
       "      const url = js_urls[i];\n",
       "      const element = document.createElement('script');\n",
       "      element.onload = on_load;\n",
       "      element.onerror = on_error.bind(null, url);\n",
       "      element.async = false;\n",
       "      element.src = url;\n",
       "      console.debug(\"Bokeh: injecting script tag for BokehJS library: \", url);\n",
       "      document.head.appendChild(element);\n",
       "    }\n",
       "  };\n",
       "\n",
       "  function inject_raw_css(css) {\n",
       "    const element = document.createElement(\"style\");\n",
       "    element.appendChild(document.createTextNode(css));\n",
       "    document.body.appendChild(element);\n",
       "  }\n",
       "\n",
       "  const js_urls = [\"https://cdn.bokeh.org/bokeh/release/bokeh-3.1.1.min.js\", \"https://cdn.bokeh.org/bokeh/release/bokeh-gl-3.1.1.min.js\", \"https://cdn.bokeh.org/bokeh/release/bokeh-widgets-3.1.1.min.js\", \"https://cdn.bokeh.org/bokeh/release/bokeh-tables-3.1.1.min.js\", \"https://cdn.bokeh.org/bokeh/release/bokeh-mathjax-3.1.1.min.js\"];\n",
       "  const css_urls = [];\n",
       "\n",
       "  const inline_js = [    function(Bokeh) {\n",
       "      Bokeh.set_log_level(\"info\");\n",
       "    },\n",
       "function(Bokeh) {\n",
       "    }\n",
       "  ];\n",
       "\n",
       "  function run_inline_js() {\n",
       "    if (root.Bokeh !== undefined || force === true) {\n",
       "          for (let i = 0; i < inline_js.length; i++) {\n",
       "      inline_js[i].call(root, root.Bokeh);\n",
       "    }\n",
       "if (force === true) {\n",
       "        display_loaded();\n",
       "      }} else if (Date.now() < root._bokeh_timeout) {\n",
       "      setTimeout(run_inline_js, 100);\n",
       "    } else if (!root._bokeh_failed_load) {\n",
       "      console.log(\"Bokeh: BokehJS failed to load within specified timeout.\");\n",
       "      root._bokeh_failed_load = true;\n",
       "    } else if (force !== true) {\n",
       "      const cell = $(document.getElementById(\"e9c97a96-4636-417b-ac60-84879996405a\")).parents('.cell').data().cell;\n",
       "      cell.output_area.append_execute_result(NB_LOAD_WARNING)\n",
       "    }\n",
       "  }\n",
       "\n",
       "  if (root._bokeh_is_loading === 0) {\n",
       "    console.debug(\"Bokeh: BokehJS loaded, going straight to plotting\");\n",
       "    run_inline_js();\n",
       "  } else {\n",
       "    load_libs(css_urls, js_urls, function() {\n",
       "      console.debug(\"Bokeh: BokehJS plotting callback run at\", now());\n",
       "      run_inline_js();\n",
       "    });\n",
       "  }\n",
       "}(window));"
      ],
      "application/vnd.bokehjs_load.v0+json": "(function(root) {\n  function now() {\n    return new Date();\n  }\n\n  const force = true;\n\n  if (typeof root._bokeh_onload_callbacks === \"undefined\" || force === true) {\n    root._bokeh_onload_callbacks = [];\n    root._bokeh_is_loading = undefined;\n  }\n\n\n  if (typeof (root._bokeh_timeout) === \"undefined\" || force === true) {\n    root._bokeh_timeout = Date.now() + 5000;\n    root._bokeh_failed_load = false;\n  }\n\n  const NB_LOAD_WARNING = {'data': {'text/html':\n     \"<div style='background-color: #fdd'>\\n\"+\n     \"<p>\\n\"+\n     \"BokehJS does not appear to have successfully loaded. If loading BokehJS from CDN, this \\n\"+\n     \"may be due to a slow or bad network connection. Possible fixes:\\n\"+\n     \"</p>\\n\"+\n     \"<ul>\\n\"+\n     \"<li>re-rerun `output_notebook()` to attempt to load from CDN again, or</li>\\n\"+\n     \"<li>use INLINE resources instead, as so:</li>\\n\"+\n     \"</ul>\\n\"+\n     \"<code>\\n\"+\n     \"from bokeh.resources import INLINE\\n\"+\n     \"output_notebook(resources=INLINE)\\n\"+\n     \"</code>\\n\"+\n     \"</div>\"}};\n\n  function display_loaded() {\n    const el = document.getElementById(\"e9c97a96-4636-417b-ac60-84879996405a\");\n    if (el != null) {\n      el.textContent = \"BokehJS is loading...\";\n    }\n    if (root.Bokeh !== undefined) {\n      if (el != null) {\n        el.textContent = \"BokehJS \" + root.Bokeh.version + \" successfully loaded.\";\n      }\n    } else if (Date.now() < root._bokeh_timeout) {\n      setTimeout(display_loaded, 100)\n    }\n  }\n\n  function run_callbacks() {\n    try {\n      root._bokeh_onload_callbacks.forEach(function(callback) {\n        if (callback != null)\n          callback();\n      });\n    } finally {\n      delete root._bokeh_onload_callbacks\n    }\n    console.debug(\"Bokeh: all callbacks have finished\");\n  }\n\n  function load_libs(css_urls, js_urls, callback) {\n    if (css_urls == null) css_urls = [];\n    if (js_urls == null) js_urls = [];\n\n    root._bokeh_onload_callbacks.push(callback);\n    if (root._bokeh_is_loading > 0) {\n      console.debug(\"Bokeh: BokehJS is being loaded, scheduling callback at\", now());\n      return null;\n    }\n    if (js_urls == null || js_urls.length === 0) {\n      run_callbacks();\n      return null;\n    }\n    console.debug(\"Bokeh: BokehJS not loaded, scheduling load and callback at\", now());\n    root._bokeh_is_loading = css_urls.length + js_urls.length;\n\n    function on_load() {\n      root._bokeh_is_loading--;\n      if (root._bokeh_is_loading === 0) {\n        console.debug(\"Bokeh: all BokehJS libraries/stylesheets loaded\");\n        run_callbacks()\n      }\n    }\n\n    function on_error(url) {\n      console.error(\"failed to load \" + url);\n    }\n\n    for (let i = 0; i < css_urls.length; i++) {\n      const url = css_urls[i];\n      const element = document.createElement(\"link\");\n      element.onload = on_load;\n      element.onerror = on_error.bind(null, url);\n      element.rel = \"stylesheet\";\n      element.type = \"text/css\";\n      element.href = url;\n      console.debug(\"Bokeh: injecting link tag for BokehJS stylesheet: \", url);\n      document.body.appendChild(element);\n    }\n\n    for (let i = 0; i < js_urls.length; i++) {\n      const url = js_urls[i];\n      const element = document.createElement('script');\n      element.onload = on_load;\n      element.onerror = on_error.bind(null, url);\n      element.async = false;\n      element.src = url;\n      console.debug(\"Bokeh: injecting script tag for BokehJS library: \", url);\n      document.head.appendChild(element);\n    }\n  };\n\n  function inject_raw_css(css) {\n    const element = document.createElement(\"style\");\n    element.appendChild(document.createTextNode(css));\n    document.body.appendChild(element);\n  }\n\n  const js_urls = [\"https://cdn.bokeh.org/bokeh/release/bokeh-3.1.1.min.js\", \"https://cdn.bokeh.org/bokeh/release/bokeh-gl-3.1.1.min.js\", \"https://cdn.bokeh.org/bokeh/release/bokeh-widgets-3.1.1.min.js\", \"https://cdn.bokeh.org/bokeh/release/bokeh-tables-3.1.1.min.js\", \"https://cdn.bokeh.org/bokeh/release/bokeh-mathjax-3.1.1.min.js\"];\n  const css_urls = [];\n\n  const inline_js = [    function(Bokeh) {\n      Bokeh.set_log_level(\"info\");\n    },\nfunction(Bokeh) {\n    }\n  ];\n\n  function run_inline_js() {\n    if (root.Bokeh !== undefined || force === true) {\n          for (let i = 0; i < inline_js.length; i++) {\n      inline_js[i].call(root, root.Bokeh);\n    }\nif (force === true) {\n        display_loaded();\n      }} else if (Date.now() < root._bokeh_timeout) {\n      setTimeout(run_inline_js, 100);\n    } else if (!root._bokeh_failed_load) {\n      console.log(\"Bokeh: BokehJS failed to load within specified timeout.\");\n      root._bokeh_failed_load = true;\n    } else if (force !== true) {\n      const cell = $(document.getElementById(\"e9c97a96-4636-417b-ac60-84879996405a\")).parents('.cell').data().cell;\n      cell.output_area.append_execute_result(NB_LOAD_WARNING)\n    }\n  }\n\n  if (root._bokeh_is_loading === 0) {\n    console.debug(\"Bokeh: BokehJS loaded, going straight to plotting\");\n    run_inline_js();\n  } else {\n    load_libs(css_urls, js_urls, function() {\n      console.debug(\"Bokeh: BokehJS plotting callback run at\", now());\n      run_inline_js();\n    });\n  }\n}(window));"
     },
     "metadata": {},
     "output_type": "display_data"
    }
   ],
   "source": [
    "# Start the bokeh for jupyter notebooks\n",
    "from bokeh.io import output_notebook\n",
    "output_notebook()"
   ]
  },
  {
   "cell_type": "markdown",
   "id": "82c44844",
   "metadata": {},
   "source": [
    "Setup the same colors as used for the previous plot."
   ]
  },
  {
   "cell_type": "code",
   "execution_count": 27,
   "id": "6c81025d",
   "metadata": {},
   "outputs": [],
   "source": [
    "color_blue = tuple([int(i*255) for i in sns.color_palette(\"colorblind\")[0]])\n",
    "color_t_dist = tuple([int(i*255) for i in sns.color_palette(\"colorblind\")[1]])\n",
    "color_red = \"red\""
   ]
  },
  {
   "cell_type": "markdown",
   "id": "4f8e4e98",
   "metadata": {},
   "source": [
    "Create the actual interactive Plot."
   ]
  },
  {
   "cell_type": "code",
   "execution_count": 28,
   "id": "381f5084",
   "metadata": {},
   "outputs": [
    {
     "data": {
      "text/html": [
       "\n",
       "  <div id=\"ddb3b071-cb1a-48d1-ba47-75e6edb3f3cc\" data-root-id=\"p1079\" style=\"display: contents;\"></div>\n"
      ]
     },
     "metadata": {},
     "output_type": "display_data"
    },
    {
     "data": {
      "application/javascript": [
       "(function(root) {\n",
       "  function embed_document(root) {\n",
       "  const docs_json = {\"87d61ea5-ca85-44b2-81cf-1d418027eb2d\":{\"version\":\"3.1.1\",\"title\":\"Bokeh Application\",\"defs\":[],\"roots\":[{\"type\":\"object\",\"name\":\"Column\",\"id\":\"p1079\",\"attributes\":{\"children\":[{\"type\":\"object\",\"name\":\"Row\",\"id\":\"p1078\",\"attributes\":{\"children\":[{\"type\":\"object\",\"name\":\"Select\",\"id\":\"p1075\",\"attributes\":{\"js_property_callbacks\":{\"type\":\"map\",\"entries\":[[\"change:value\",[{\"type\":\"object\",\"name\":\"CustomJS\",\"id\":\"p1077\",\"attributes\":{\"args\":{\"type\":\"map\",\"entries\":[[\"B\",{\"id\":\"p1075\"}],[\"dist\",{\"type\":\"object\",\"name\":\"Select\",\"id\":\"p1076\",\"attributes\":{\"js_property_callbacks\":{\"type\":\"map\",\"entries\":[[\"change:value\",[{\"id\":\"p1077\"}]]]},\"title\":\"Assumed noise:\",\"options\":[\"Gauss\",\"Laplace\"],\"value\":\"Gauss\"}}],[\"fpf_text\",{\"type\":\"object\",\"name\":\"Div\",\"id\":\"p1074\",\"attributes\":{\"width\":300,\"height\":50,\"margin\":[30,10,10,50],\"text\":\"<p style=\\\"color:black;\\n                                 font-size:20px;\\n                                 font-weight: bold;\\\">FPF = 0.0245 </p>\"}}],[\"s_all_histograms\",{\"type\":\"object\",\"name\":\"ColumnDataSource\",\"id\":\"p1034\",\"attributes\":{\"selected\":{\"type\":\"object\",\"name\":\"Selection\",\"id\":\"p1036\",\"attributes\":{\"indices\":[],\"line_indices\":[]}},\"selection_policy\":{\"type\":\"object\",\"name\":\"UnionRenderers\",\"id\":\"p1035\"},\"data\":{\"type\":\"map\",\"entries\":[[\"1e+03_Gauss\",[{\"type\":\"ndarray\",\"array\":{\"type\":\"bytes\",\"data\":\"AAAAAAAAAAAAAAAAAAAAAAAAAAAAAAAAAAAAAAAAAAAAAAAAAAAAAAAAAAAAAAAAAAAAAAAAAACwXjQn7vZ8PwAAAAAAAAAAAAAAAAAAAAAAAAAAAAAAAAAAAAAAAAAAAAAAAAAAAAAAAAAAAAAAAAAAAAAAAAAAAAAAAAAAAAAAAAAAAAAAAONeNCfu9nw/AAAAAAAAAAAAAAAAAAAAAAAAAAAAAAAAyl40J+72fD8AAAAAAAAAAAAAAAAAAAAAyl40J+72fD8YR2edMrmVP8peNCfu9ow/PruA2FQaoj+wXjQn7vZ8P067gNhUGqI/LruA2FQaoj8H001iEFipPytHZ50yuaU/2tJNYhBYqT8H001iEFipPy67gNhUGqI/K0dnnTK5tT9DdQ325UrAPxmN2n+hiLc/LruA2FQawj/+dYfTxz/KP7BeNCfu9sw/7bv6tTYPzD/wjNp/oYjHP8EvVwLoddM/8Izaf6GI1z9XGEdnnTLRPw8wFPFYcNg/2tJNYhBY2T/1GMFEfyfbP38YBFYOLdY/TruA2FQa0j81jZduEoPcP9tGqq7BvtA/5C8U8VhwyD/JR+F6FK7PP7Pp4x95ptE/5C8U8VhwyD9fAfS6w+nDPw6kLSx70cQ/Q3UN9uVKwD9DdQ325UrAP3YYR2edMsE/LruA2FQasj8ER2edMrmlPw==\"},\"shape\":[65],\"dtype\":\"float64\",\"order\":\"little\"},{\"type\":\"ndarray\",\"array\":{\"type\":\"bytes\",\"data\":\"F180J+72nD+wXjQn7vacP7BeNCfu9pw/sF40J+72jD8AAAAAAAAAALBeNCfu9ow/sF40J+72jD8AAAAAAAAAAFFHZ50yuZU/AAAAAAAAAACwXjQn7vaMPwAAAAAAAAAAAAAAAAAAAAAAAAAAAAAAALBeNCfu9nw/F180J+72fD8AAAAAAAAAAAAAAAAAAAAAAAAAAAAAAAAAAAAAAAAAAAAAAAAAAAAAsF40J+72fD8AAAAAAAAAAAAAAAAAAAAAAAAAAAAAAAAAAAAAAAAAAAAAAAAAAAAAAAAAAAAAAAAAAAAAAAAAAAAAAAAAAAAAAAAAAAAAAAAAAAAAAAAAAAAAAAAAAAAAAAAAAAAAAAA=\"},\"shape\":[34],\"dtype\":\"float64\",\"order\":\"little\"},\"0.0230\"]],[\"1e+03_Laplace\",[{\"type\":\"ndarray\",\"array\":{\"type\":\"bytes\",\"data\":\"AAAAAAAAAAAAAAAAAAAAAAAAAAAAAAAAAAAAAAAAAAAAAAAAAAAAAAAAAAAAAAAAAAAAAAAAAAAAAAAAAAAAAAAAAAAAAAAAAAAAAAAAAAAAAAAAAAAAAAAAAAAAAAAAAAAAAAAAAAAAAAAAAAAAAAAAAAAAAAAAAAAAAAAAAAAAAAAAAAAAAAAAAAAAAAAAy8+BRlr+fD/Lz4FGWv58P/7PgUZa/nw/AAAAAAAAAADkz4FGWv58P/9b4bTDvpU/5M+BRlr+fD/kz4FGWv6MP+TPgUZa/nw/5M+BRlr+jD/YW+G0w76VP/7PgUZa/ow/y8+BRlr+jD8AAAAAAAAAAP9b4bTDvpU/y8+BRlr+nD//W+G0w76lP8vPgUZa/qw//iERbPgeoj/fIRFs+B6yP/6Vsf2OXrk/4gSpxxJPwD/+7OnqP86+P1dqFYe2psY/fqTlz4FGyj/PshmidC7LP743X6fketM/mVTHS8pK1T8+nctmiNLZP/7s6eo/zt4/yOzp6j/O3j9fHoS3++ThP4vIZ91gitw/Pp3LZojS2T9XahWHtqbWP/8EqccST9A/WU2t4tDW1D9++x29MrbPP1lNreLQ1sQ/3D55EN7uwz8fIhFs+B7CP8vPgUZa/qw/3D55EN7usz9dMEU+6wbDPyyWsf2OXqk/2FvhtMO+lT/fIRFs+B6iPw==\"},\"shape\":[65],\"dtype\":\"float64\",\"order\":\"little\"},{\"type\":\"ndarray\",\"array\":{\"type\":\"bytes\",\"data\":\"MdCBRlr+nD/RlbH9jl6pP9hb4bTDvpU/2FvhtMO+lT8x0IFGWv6cP9hb4bTDvpU/y8+BRlr+fD/Lz4FGWv6MPzHQgUZa/pw/y8+BRlr+jD/Lz4FGWv6MP8vPgUZa/nw/MdCBRlr+fD8AAAAAAAAAAAAAAAAAAAAAAAAAAAAAAAAAAAAAAAAAAMvPgUZa/nw/AAAAAAAAAAAAAAAAAAAAAMvPgUZa/ow/AAAAAAAAAAAAAAAAAAAAADHQgUZa/nw/AAAAAAAAAAAAAAAAAAAAAAAAAAAAAAAAAAAAAAAAAAAAAAAAAAAAAAAAAAAAAAAAAAAAAAAAAAAAAAAAAAAAAAAAAAAAAAAAAAAAAAAAAAA=\"},\"shape\":[34],\"dtype\":\"float64\",\"order\":\"little\"},\"0.0400\"]],[\"1e+04_Gauss\",[{\"type\":\"ndarray\",\"array\":{\"type\":\"bytes\",\"data\":\"AAAAAAAAAAAAAAAAAAAAAE+y9rjxK0c/AAAAAAAAAAAAAAAAAAAAAAAAAAAAAAAAAAAAAAAAAAAnsva48StXPwAAAAAAAAAAAAAAAAAAAAAAAAAAAAAAAAAAAAAAAAAAAAAAAAAAAAAAAAAAAAAAAAAAAAAAAAAAAAAAAAAAAABPsva48StnP0+y9rjxK1c/J7L2uPErVz+dBblK9WBhPwAAAAAAAAAArAW5SvVgYT+sBblK9WBxP7wFuUr1YHE/O7L2uPErdz/QcEhmtNOCP18dhtSwnog/gogV8G8Rij/i29eBc0aEP+JnvkZR5Zc/J7L2uPErlz+YkZ8P0/+UP5p/i9AMI58/a4gV8G8Rqj89+GmbYPuoP96HmxKOHLA/IPMqLk2PsT9oNNmAiue1PyThFu+Gsrs/UCYQ9BONwz9hbIPWglzFP60K+LcIzcg/N5IZ7bT0zj9P/HE8IXjRP6HuZZ4bGNQ/7U1tbDVp1D/U4FkAFrjWP+vEhNWZ/dY/rh/HE4LX2T9gTipbpmPZP3W7PcfFFNc/IuqgDuqg1j9pSajcA/LWP6HuZZ4bGNQ/GewkX0rf0j9u/HE8IXjRPwrv33v9DM4/jMkGVDxvyT8ifxHzKi7FP2cKO8mX0sM/ORhHZ50ywT/MIUtk4hW2P8xLLC1kMLM/cD1joO3VsD9JHYbUsJ6oPw==\"},\"shape\":[65],\"dtype\":\"float64\",\"order\":\"little\"},{\"type\":\"ndarray\",\"array\":{\"type\":\"bytes\",\"data\":\"zEssLWQwoz9QJhD0E42jP43zpAsvhJs/a4gV8G8Rij9lNVNebNyPP2uIFfBvEYo/9jRTXmzcfz+wXjQn7vZ8P9oFuUr1YIE/J7L2uPErVz+dBblK9WBxP50FuUr1YHE/eLL2uPErZz8AAAAAAAAAACey9rjxK1c/eLL2uPErVz8AAAAAAAAAACey9rjxK1c/AAAAAAAAAAAAAAAAAAAAAAAAAAAAAAAAJ7L2uPErRz8AAAAAAAAAAAAAAAAAAAAAJ7L2uPErRz8AAAAAAAAAAAAAAAAAAAAAAAAAAAAAAAAAAAAAAAAAAAAAAAAAAAAAAAAAAAAAAAAAAAAAAAAAAAAAAAAAAAAAJ7L2uPErRz8=\"},\"shape\":[34],\"dtype\":\"float64\",\"order\":\"little\"},\"0.0227\"]],[\"1e+04_Laplace\",[{\"type\":\"ndarray\",\"array\":{\"type\":\"bytes\",\"data\":\"AAAAAAAAAADiyz+2QjRHPwAAAAAAAAAA4ss/tkI0Rz8AAAAAAAAAAOnYrwgyZ2E/C8w/tkI0Vz/iyz+2QjRHPwvMP7ZCNEc/4ss/tkI0Zz8LzD+2QjRHP+LLP7ZCNEc/AAAAAAAAAAALzD+2QjRnP+LLP7ZCNGc/4ss/tkI0Zz8LzD+2QjRnPwvMP7ZCNEc/4ss/tkI0dz9exQcNyxp6P8nVEzR22oI/uNUTNHbagj/2yz+2QjRnP4zFBw3LGno/+divCDJngT83z9uK/sCFPzfP24r+wIU/NMJrOA+Oiz9exQcNyxqKP+rQKXVcB5U/oMij4YanmD/q0Cl1XAeVPw2/z2NTAZ0/utnW/WAKoT/51Ow+RzejP5m7M4+XdK4/LrrlpDkurz8G1MVJGJSzP5vJyta1Srg/MDugFACjvj8UHAIgIgvAPwbUxUkYlMM/n4o7ibDWxz/swpItPjHLP7d3ULoF/tE/NtOeVOnw0z/XpIX2AWzaPzAhVqeuDdw/3tlAxtM53z+pmDyZQdzfPyt6L2IFF98/GQIie0Ol2z+cBzMvjBvZP3SzQzNP5dM/5Rc/Vjfb0T//ugyaaNHOP4eO/lKbBsY/0xN8jEyrwz9eWmp4+NvAP9lJXlFNHLg/XVCW+sQ1tT8/VYC53gizP6O9gXn1uq0/vcO5Im3Uqj/iyz+2QjSnPw==\"},\"shape\":[65],\"dtype\":\"float64\",\"order\":\"little\"},{\"type\":\"ndarray\",\"array\":{\"type\":\"bytes\",\"data\":\"9tnW/WAKoT/iyz+2QjSXP+nYrwgyZ6E/e8AdTrFHnD/3yKPhhqeIPwbUxUkYlJM/itr98o+tkD8cwms4D46LP37CazgPjos/V7iXutvnfz+o1RM0dtqCP9q+z2NTAX0/cM/biv7AhT/iyz+2QjRXP2bSd1+6TXQ/J9mvCDJnYT/iyz+2QjRnP+LLP7ZCNGc/4ss/tkI0Rz80zD+2QjRnP2bSd1+6TXQ/4ss/tkI0Zz/iyz+2QjRXPyfZrwgyZ2E/AAAAAAAAAAAAAAAAAAAAAOLLP7ZCNFc/NMw/tkI0Vz/iyz+2QjRXP+LLP7ZCNGc/NMw/tkI0Vz/iyz+2QjRHPwAAAAAAAAAA4ss/tkI0Rz8=\"},\"shape\":[34],\"dtype\":\"float64\",\"order\":\"little\"},\"0.0351\"]],[\"1e+05_Gauss\",[{\"type\":\"ndarray\",\"array\":{\"type\":\"bytes\",\"data\":\"ugv+n7KJEj8AAAAAAAAAALoL/p+yiRI/mQv+n7KJMj+XEf3vi84rP5kL/p+yiRI/AAAAAAAAAABlEf3vi84rP7oL/p+yiRI/ZRH974vOKz+ojv1HHyw3P5kL/p+yiSI/qI79Rx8sNz9DSv5LfDhAP2UR/e+Lzjs/ZRH974vOOz8N0/xDwh9OPw3T/EPCH04/ZRH974vOWz/gKv51F2FhP1wb/gpl9WE/TBv+CmX1YT8JUP2bVX1pPy0jfkA+q3E/ZpZ9ffjhdj/bV33RLjN5Px74PZoTQ4M/qQv+n7KJgj85b/1xulSIP3FCfhajgpA/roZ9EkZ2lz8rTp1O34+ZP6A6/uDJzKA/7qYtD2ZEpj9+QP0woxGqP3E9DlX7sLA/QfUtJuJesz9tZs0VJqi4P4P/RKQFerw/hSSG+ladwT9Ns8VyidDFPyBIfWZ8x8k/JNp4HI/czT/lRAxcTmrQP8X5G7kDNNM/L8fdC4YS1T/NnaUfdJzWP+V54VEW8dc/iWyZxzdu2D+6a+mgfHfYP1BrPdfNedg/VIfVpaNx1z9FmN3Kbs/WP8/ScRKdpdQ/sfwBkgwX0z+8QMqS25LQP/XYyPXT5c0/x0EF67sDyj9Sw3Gn6jnFPw34PZoTQ8M/c87kFXhJvj/BbfW3oWK4Pwna7eppYrQ/IEuucjcvsD/+TZ1O34+pPw==\"},\"shape\":[65],\"dtype\":\"float64\",\"order\":\"little\"},{\"type\":\"ndarray\",\"array\":{\"type\":\"bytes\",\"data\":\"Cdrt6mlipD93PF4uQLqgP/H5fE8ArZw/LZydZVuqlj+yPF4uQLqQP/H5fE8ArYw/DKK9Tb5yhj/ILr4QBDyBPwox/cXwpXo/DSN+QD6rcT9UQn4Wo4JwP5Kz/G1dSG8/0o79Rx8sZz/gKv51F2FhP+Aq/nUXYVE/HSv+dRdhUT/Z0vxDwh9OP9nS/EPCH04/80/9m1V9ST/IEf3vi847PyZK/kt8OEA/mQv+n7KJQj+ZC/6fsokiP9oL/p+yiTI/f479Rx8sNz9/jv1HHyw3P5kL/p+yiSI/yBH974vOKz9lEf3vi84rP2UR/e+Lzis/AAAAAAAAAACZC/6fsokiP5kL/p+yiRI/mQv+n7KJIj8=\"},\"shape\":[34],\"dtype\":\"float64\",\"order\":\"little\"},\"0.0252\"]],[\"1e+05_Laplace\",[{\"type\":\"ndarray\",\"array\":{\"type\":\"bytes\",\"data\":\"EkfGxHwzRz8JmFcjpD1QP7C7uoVi1ys/VNLRA5ePQj910tEDl48SPwmYVyOkPVA/nO8OdJC4Uz9U0tEDl49iPxJHxsR8M1c/NIFApW+FWT/DDEzkieFUP8MpiVSDClY/nO8OdJC4Uz8kE3LWTlJfPw9kAzV2XGg/xg9fXewZaj+5oZCOy+ZvP9fY9/VbAG0/nRnhX9XZcj9VxTyIS5d0P/UPX13sGXo/UWcWrtiUfT8GIAdSmkp9P3DfZn/ih4A/+GDwuxMkgz9quKcMAJ+GPztfwrOB/Is/J1duuSpkij+UFbfiqQ2SPyV6A6/hgJM/ctG6/837lj+wu7qFYtebP7mhkI7L5p8/PbtTz96Yoj+x6Dg0hvKmP2uzZosLP6o/m4wYCUhCsD8CegOv4YCzP4rL+8OMybU/s2yWjPNdvD8AaFUL//2/P7HopIfXh8M/GxJgb1MVxz9B+R+GWozMP/1Hk3LuEdE/duDkOS9a1T/e461cOt3YP9zFWeh3INw/gsXtlCaL3z9i6j+iUOPfPxc/2YCp2d4/CfRVUegN3D9YqxKRtKbYP/dgOhJr2dQ/YeUluyO60T+9QC/imNbMP9V3Ap16hcY//ndu8Msawz+hdZrUj0vAP9qlkrKZ3bk/+NpkWxSRtj+QBo2oSK+zP1APSFkjhq4/PYVqIptRqj+wITVaLHKkPw==\"},\"shape\":[65],\"dtype\":\"float64\",\"order\":\"little\"},{\"type\":\"ndarray\",\"array\":{\"type\":\"bytes\",\"data\":\"WI/sJIQRoz8JmFcjpD2gPz2FaiKbUZo/Mo7VILt9lz+BrCmVfTqUPwuLwqdYRZI/2goe3Pe5jT9+u7qFYteLP46wUxKpBoU/ry7K1Xdqgj8JmFcjpD2AP4oRjWV+QYE/+fIh7fLweD8Li8KnWEVyP1XFPIhLl3Q/4Lu6hWLXaz8JmFcjpD1wP6PY9/VbAG0/6UbGxHwzZz8SKolUgwpmP1TS0QOXj2I/NIFApW+FWT80gUClb4VZPxIqiVSDClY/NIFApW+FWT/pRsbEfDNXP54MTOSJ4VQ/ltLRA5ePQj967w50kLhTP8n1NGZVKU4/bLWUk51mUT9+u7qFYtdLPzSBQKVvhUk/fru6hWLXOz8=\"},\"shape\":[34],\"dtype\":\"float64\",\"order\":\"little\"},\"0.0350\"]],[\"1e+06_Gauss\",[{\"type\":\"ndarray\",\"array\":{\"type\":\"bytes\",\"data\":\"S6FKPGdkFD/EXrJXUKn9PirtQEeRGRg/2Dg3UrvOGz87x8VB/D4WP0ToEbSHnCE/S6FKPGdkJD8A7UBHkRkoP2xVVDE9ryA/9X/+ydsGKT9k6BG0h5wxP05VVDE9rzA/tpAkg6G1Nj8BzPTUBbw8P8ResldQqT0/erafiDaQSD8No/zgk5FQPyFNwVTa11E/HTQIv7FRVT/FjnLedIhaP/CL9e+XOGA/0JkQspqjYz8LgP7J2wZpP+mELV3lg28/vr+Lty9+dT+Qtp+INpB4P0E4da9cuoA/MDrgT5bthD+DBaoxdZeJP2IAcvcZDJA/omc9NRoNlT9brgys07iZPw2gkJihw6A/YNLEZlHkpD+jchiEGeipP2IXeegVZbA/uoKfK5bpsz+JQO1cu9W4PwVQAIOdBL4/TXUWhnr/wT+F9fIDgQLGP4Fsqog9rck/T34tRSLIzT8QBain9NDQP6rrXPXkydI/gFPtQYzR1D81xxD3d47WP315lBwQ6tc/wy+81ZuJ2D+TEIydRbrYP1sc0ikGkdg/3C5YtavV1z9tRx5ANojWPwkDjpTH0dQ/nySY+Cju0j/0GEV3BuvQPy5AUvz6fc0/m/CJYea3yT+TDX8cArDFP5hotWc9NcI/5aHgCdc6vj9lW3soJvC4P70wVQ9UUrQ/GlNtENA1sD96oauNlu6pPw==\"},\"shape\":[65],\"dtype\":\"float64\",\"order\":\"little\"},{\"type\":\"ndarray\",\"array\":{\"type\":\"bytes\",\"data\":\"lhZ4QF3KpD8aSik3+cugP12BYMPDK5o/TArIHpSSlT/er13/0FuQPxvmD2QWZ4o/Vm7GwnI7hT9PWyzCIUuAP0gTvEwm9Hk/c50t9wAEdD8ZpMcqRLRuP/RPPkO3J2w/CYKwbgg0ZT9E6BG0h5xhP5fNpnky6Vg/LQb63LmfVD8rToyeivpPP3hWH3vt0U4/x74yZZlnRz8n8m/ampY+Pz8oEZn1Hz4/2Dg3UrvOOz87e8820okyP06A/snbBik/yR6zcuIlMT8dNAi/sVElP7GELV3lgx8/IIUtXeWDHz9E6BG0h5whP8ResldQqR0/SBO8TCb0CT87e8820okCP8ResldQqQ0/2Dg3UrvOGz8=\"},\"shape\":[34],\"dtype\":\"float64\",\"order\":\"little\"},\"0.0244\"]],[\"1e+06_Laplace\",[{\"type\":\"ndarray\",\"array\":{\"type\":\"bytes\",\"data\":\"QQuSS5X0Qz9ux6c5vwJAPwTujBMx4kQ/LjWOIcqmRD/F0IfbzM9FP8Yjp7JyIFA/k9ylpNlbUD9eKJeD+QZTPyZChb+aRlY/nltz+zuGWT+daGqZDCZbP7UlWVz6R14/vjJQ+srnXz/i3h0NHc9hP29Sk1kuuWM/Ejz2WpQAaT/TcHFmVt9pP7Zi2zQG4G0/pPLfw5VucT/jMha5hjNzP4azgqNovXY/zZptPIuRej+cYts0BuB9P0j9Xvkim4E/H+GVdWBCgz/efgeYpt6FP9ETVBPSZIk/yUS4ItFwjj/nq/yPzQaSPyuao9QvrJM/gxoQvxE2lz89TJKo4Z6cP8e4HedYYqA//1BIOCTRoj/05sH6iOKmP0ibixZc7qo/seHdCOxasD97kyBPE8WyPzTrzBdiVrY/OqXscRi+uj+dh+tUWQ7AP6WrWMaHesM/KN+bf8qdxz8wl72ByGLMP/rXIqiGFtE/iEM3IqXS1D+a4Oag1IXYP40fES4SStw/deInFAYO3z/+BWYN6u/fP5jIALJB5N4/28KZ1eRa3D/kjnXKFsPYPyXjlf4p5NQ/IQ6Nnphp0T9qX2SgZpvMP/st8SP/YMc/i70cJUh3wz9wvDhFPjPAPwP/z7hC3Lo/NYJQEWlptj8DaET79syyP7e9Rt4CM7A/8tg6NqERqz/+jtwLF2emPw==\"},\"shape\":[65],\"dtype\":\"float64\",\"order\":\"little\"},{\"type\":\"ndarray\",\"array\":{\"type\":\"bytes\",\"data\":\"4Xn57E6boj/6/x718SagPzsNp9T6wZs/HpZ9awSrlz/Am+71OZSUPwQwgHZyY5E/8cl3vReHjj9ePm7D13OKPwYQghwc24Y/AB9UAg6Ugz/7GoILWAqBP/1XXP94s30/IF2vr90/ej9yIggf88B1Py41jiHKpnQ/BYxhFVUkcT9BRdb8oc1uP4LX7xSXKWo/Vp6EOE5kZj93NY4hyqZkP/ehmzQRN2I/JcFSFv1wXz9+kmZvQdhbP66zgqNovVY/FoF/AOpRVz8GzJcKRulSP3bcpaTZW1A/zBug5ShnUT8t1lCBF8pPP85OfF1r5kc/X2yBlc/4Rj9/fI8vY2tEP3/xow/0tEA/Tv6arcRUQj8=\"},\"shape\":[34],\"dtype\":\"float64\",\"order\":\"little\"},\"0.0353\"]],[\"1e+07_Gauss\",[{\"type\":\"ndarray\",\"array\":{\"type\":\"bytes\",\"data\":\"iX8newWyCj8nmtRWRCIFP+O7UuHb4g8/HVOXZe4qEj9FEoeuZM0WP9XbiIJaNhk/fcVuvYiXID90lPlWvuMhP1QiIv8jdyM/IpWdy0qaKj97b4wqRgguP2/Q0oJOuTI/BaCvVspgOD+w9wLwyIo+P5b+7nen5EA/fHkjXtxFRT9nZChlgOZLP/w74M2e51A/SVPAgpFYVD+AAy2lr35bP+9KjBGakWA/b3fWgR5UZD8Fbzrw/6xpPyx28ufKlnA/ny6e7lDGdD9JHFkUHY15P8RVx7m8hYA/gojPodfvhD9D5WgbaReKP22GqXEokpA/APykW8/RlD9jzVUltHuaP8acg3JIsKA/VIm5HAzxpD+aKlHeiz+qP9aY/aD1QLA/hMxUA3EntD9bfdb1jNG4P6hwqP1nJL4/k6Is5yI5wj+PvXGiOsnFPyuMXKkMksk/8ZRVVA62zT+zPkwHzuTQP4l+2eah8NI/Xa/m9q7U1D9ErhVbr3vWP4L4pab/x9c/iLdT852U2D9fXly3u8jYP3C40ortgdg/gLC8jZK21z+iird+aWbWPxtlccWR2tQ/dnxXKKf00j8in7sYjOjQP3+cXU75pc0/lMIvgE2myT8xX2ujALTFP8tt6iCeQcI/p57+nCNIvj/NpmjWVNS4P8imag57KbQ/pxlGqVNPsD8lmyVCOTiqPw==\"},\"shape\":[65],\"dtype\":\"float64\",\"order\":\"little\"},{\"type\":\"ndarray\",\"array\":{\"type\":\"bytes\",\"data\":\"zVdnHxIYpT+HzL6ULKGgPxogeuZDgZo/wI9iXijflD/mQzw69oeQP2zlqwAW/Yk/FSC7WlzNhD+Q/4DXtEaAP17iRvrw3Xk/hi8wTl4odD/bfU5UIjdwP4Z4XW67c2o/yIxAPbClZD/1EADCx61gP29Hv+pNklk/VEP8FC+BVT+Iq4fRavlQP+j5CSf0t0o/fHkjXtxFRT9eBKFaivVBPxDnFWXDhT0/RbCc4c9lOT85SFy9yzYyP5vFbr2IlzA/wMvtMZuMLD+Dn10chAUkP7JCqtroJSE/yD4XxHtUHz+NpYpWUJ8bPztpX/B5bhY/B3UV8IXrDD+sPXNP750GP8uUS5EEPwY/4KTm4cPoAj8=\"},\"shape\":[34],\"dtype\":\"float64\",\"order\":\"little\"},\"0.0242\"]],[\"1e+07_Laplace\",[{\"type\":\"ndarray\",\"array\":{\"type\":\"bytes\",\"data\":\"5eSzC50ZQj+qYJgvcsZBP5yV1c+980U/5or84uEdRT/F9kV3BZNIP/48QqK/JE4/jjKCkFSmUD9Oo84q6ftRPyakYKhHklQ/lvr3YrNbVj94ZkH31tBZP2nmqudTW1w/enI+32/TXz8EJPe3ygdiPx9QNGGRQ2Q/qwjEnth4Zz9Y/0VuioRqP/xcw8aI3Gw/v5j1PQ0mcT9o/Vg0ngx0Py9b1oycZHY/AYOYC4aMeT+gkKWqRih9P9Qkf5Ne1IA/h0qB1OZ/gz9npZgKFUKGPwWfSTvGLoo/TCnIKtUojj+h3Vzyd7GRPx0w6v2YQJQ/yCl9JW/glz8V9xMHGsObP3s2Oc3nU6A/QibU0owWoz9BEDNEeY6mP4SehU18yKo/hj56BI3Urz8ewKfRzcyyP+pQ8K2IfbY/M8lttxTCuj9OFoTRuyLAP1HaJhygXsM/lHT9rdJ4xz+S64hvEX3MP1P3Qv0SQdE/ZOjafknU1D+sTIaaTqXYP7/OtfiLUdw/ztK9NuME3z9JyRf17+3fP9b6yNK56d4/MjYnAVBi3D94/PLTULHYP6jhI7Q01NQ/4U1A/8xT0T/5+wm1U4bMP0rfCGPJnsc/ZjLCx3Vqwz/ol0VR1DbAP7krNu736ro/+ONBmJFttj/jQivnO9KyP9uPBUM3rq8/+45Qaxjmqj9KXxsiI36mPw==\"},\"shape\":[65],\"dtype\":\"float64\",\"order\":\"little\"},{\"type\":\"ndarray\",\"array\":{\"type\":\"bytes\",\"data\":\"gjOFiUUWoz+ISdJ5J1egP8QkYWcImJs/Jol7sCerlz9TLDPBBZOUP5MbT4Tih5E/QZKh+l0+jj+G0GvhIv6JP8UAjeaC0oY/tWWl161wgz/bOps/z/+APwjZcCmN1H0/16HNZnERej/fk8DHsHV2P9jeI9myh3M/Nkj4V1a4cT/zoBMb8nRuPwvAAsJclmo/lmWveXg6Zz9880iG8YFkP7LUDtogGGI/Q57Bgq1RYD9vx7GeHnBcP+rFzgb9wVk/3xStQtznVT92v2aiMzZUP3kP11tx8lI/M1BSR/GgTz/svwxkJ2BOP4EtUmvd2kc/+eLktxD/Rj8nxKoLQJVEP7WRD6B6l0A/QOHAvFPSQT8=\"},\"shape\":[34],\"dtype\":\"float64\",\"order\":\"little\"},\"0.0354\"]],[\"1e+08_Gauss\",[{\"type\":\"ndarray\",\"array\":{\"type\":\"bytes\",\"data\":\"cWk1y3aBBj93bfr8cNcIP2iPv4TFEQ4/m1oUnsqSED9CU7UKM1YUP2VsETESYRk/J9PmjfEQGz/o+8O9cJUhP5JrB2M0biU/UfSFLFjVKT+fyp4u+10vP9YW7ZSekzM/YXbVUF7FNz+LCDRV3hM9P2XQlBGL0kE/G4GCPAmgRT9GnAUP8nlLP23NZSnN4FA/B3SpveX8VD+cj73ym0FaPyeH8xzTbGA/R8RSpbh7ZD+384EO/sNpP3j1gD/wTHA/bJAQ8kGMdD+/feUCqsh5P+Iqd+PjZIA/yDxTdKy2hD93HvUqpBqKP5t7wMJilJA/gV+Ka/znlD+KKynb42aaP3eOkpqjqKA/k4ftDzr5pD/DnWwSgS2qPxu0q4zDVrA/+pafDAA4tD+RjANNfNW4Pxf2KlfcPb4/STuxIeo+wj/UE2LbYLfFP9LXBlDyksk/cwKzrB6lzT9FP+rTnuPQPy8LrhMP8tI/Qptv2Dba1D+/PSqiUHzWP94fOLKkwdc/4q0mNJOK2D/drU80v83YPxSmHHUuhdg/92UwrPm61z+EYNa9pX3WP724krM62tQ/DK2a97D10j8dnrJ7vufQP9lJNPlKoM0/daqurCONyT806T0zurTFP33J8J7pOsI/1+BRwJIwvj9gdmDSjdS4P1ZirYZmMbQ/fjHieuJSsD8sPWPi1jeqPw==\"},\"shape\":[65],\"dtype\":\"float64\",\"order\":\"little\"},{\"type\":\"ndarray\",\"array\":{\"type\":\"bytes\",\"data\":\"7KgavCj/pD9ddMYTdq+gP8tp5y/DaJo/ifO7PZvwlD8udAc0EHyQP3VUbmWbP4o/wRRGKlOohD8m76S/31WAP5n9RvdeEHo/i9G6d/yAdD+O58ADGzxwP+mgdGOLBWo/BFVp+69+ZD8ZJBjNz2BgPy1ldxIV9Vk/Ygx5oi8YVT8upddXHc5QP77F1BWSDks/AivUtmAxRj9dolXtPMpBP3HzL1XwmT0/EHg19qPzNz8grkWgAfcyP4Rpd890ei8/zdh4cDpaKj9FX962M+IkPylcAlGYAiI/Wi+B8Z2kHT8EU9YMstIYP3G03Gm5ORQ/NIYKUXT2ED+Cyn0sfOEKP9jhxbafBgg/rDiRGnRRBD8=\"},\"shape\":[34],\"dtype\":\"float64\",\"order\":\"little\"},\"0.0243\"]],[\"1e+08_Laplace\",[{\"type\":\"ndarray\",\"array\":{\"type\":\"bytes\",\"data\":\"Q2z4JfnDQD/YXHibHFlCP6U7kehzyUQ/u9USiPYURz8sS0fQBo1JPzOns8mev0w/8zgU1eUrUD9vt+tAvcBRP+oM/MxlG1Q/33iSqmu/Vj8x8+rUyaRZP3n2S8DWn1w/GeSQ41csYD+HL1Typ2NiP4lBVknPtGQ/zXWhmgJ0Zz9lFRzJG7BqP2LR9PbqOm4/NOjhqUA2cT+W3YxLUqFzP0+NEg5/g3Y/0Fps+7e1eT8g4sajBpN9PzVRfs2N7IA/mtdNbKWOgz+snXjQiYWGP80w9gg7LIo/RlxglvI3jj+4iako+oKRP8PX7KPlZpQ/SRiLYLvOlz/n9IZp5vObP+hXUwn3TqA/Bt6vc10yoz8mVGYPLJqmPxIoGv57wao/4oUQID+srz/V/Tx4kdGyP0/qnyTTe7Y/jFzcjEXruj+PQKHZFSnAP2VP3matcsM/sKJH7XR8xz9PiyRj/XzMP9AytPa7QNE/0jf+/oXR1D/Vz5iDj7DYP2QHTNNOUtw/dVT3FEX63j/fCdYWm/DfP3YX7lW3994/DWTVXUdR3D8wd24lqq3YP0OO9xtq0tQ/tuKZaXtG0T+fY3E2jX/MP6IJI7eNicc/AowwnOttwz803BG2sirAPxY1kceV7Lo/XnZXfYWAtj/UU+PmitCyPypGaiyUr68/B4yiP5S+qj8rwCGySZimPw==\"},\"shape\":[65],\"dtype\":\"float64\",\"order\":\"little\"},{\"type\":\"ndarray\",\"array\":{\"type\":\"bytes\",\"data\":\"b58Dwd4soz8rnVXA0EagP6cwCgYQ45s/NogCKQbNlz9V90L9pGmUPzQVpmsBh5E/lEHAo4wsjj/czAgCpwSKP3tSdPmrjoY/HRe1NM+Ugz8qOd1+0f2AP1dGjhCghn0/L0KpZfy4eT+Swj+mTYB2P5HPvvucrnM/8zGW78JfcT+zU4lE8BVuPwrC+7Xml2o/1pE9Om1ZZz8wj56uq8dkP5ZrAQF9TGI/s0sSCkY9YD9Roo/nUFJcP0HDx4erklk/JGltf7qWVj8t1Z3zlRxUP5nf+ZskGlI/oqo6T6buTz9vxXSnrfVMP9YV++fdxEk/pa6zP90KRz88LEYjyGxEP9LKq9VoO0I/8oenEmHDQD8=\"},\"shape\":[34],\"dtype\":\"float64\",\"order\":\"little\"},\"0.0354\"]]]}}}],[\"s_hist_data_large\",{\"type\":\"object\",\"name\":\"ColumnDataSource\",\"id\":\"p1040\",\"attributes\":{\"selected\":{\"type\":\"object\",\"name\":\"Selection\",\"id\":\"p1042\",\"attributes\":{\"indices\":[],\"line_indices\":[]}},\"selection_policy\":{\"type\":\"object\",\"name\":\"UnionRenderers\",\"id\":\"p1041\"},\"data\":{\"type\":\"map\",\"entries\":[[\"top\",{\"type\":\"ndarray\",\"array\":{\"type\":\"bytes\",\"data\":\"Cdrt6mlipD93PF4uQLqgP/H5fE8ArZw/LZydZVuqlj+yPF4uQLqQP/H5fE8ArYw/DKK9Tb5yhj/ILr4QBDyBPwox/cXwpXo/DSN+QD6rcT9UQn4Wo4JwP5Kz/G1dSG8/0o79Rx8sZz/gKv51F2FhP+Aq/nUXYVE/HSv+dRdhUT/Z0vxDwh9OP9nS/EPCH04/80/9m1V9ST/IEf3vi847PyZK/kt8OEA/mQv+n7KJQj+ZC/6fsokiP9oL/p+yiTI/f479Rx8sNz9/jv1HHyw3P5kL/p+yiSI/yBH974vOKz9lEf3vi84rP2UR/e+Lzis/AAAAAAAAAACZC/6fsokiP5kL/p+yiRI/mQv+n7KJIj8=\"},\"shape\":[34],\"dtype\":\"float64\",\"order\":\"little\"}],[\"bottom\",[1e-07,1e-07,1e-07,1e-07,1e-07,1e-07,1e-07,1e-07,1e-07,1e-07,1e-07,1e-07,1e-07,1e-07,1e-07,1e-07,1e-07,1e-07,1e-07,1e-07,1e-07,1e-07,1e-07,1e-07,1e-07,1e-07,1e-07,1e-07,1e-07,1e-07,1e-07,1e-07,1e-07,1e-07]],[\"left\",{\"type\":\"ndarray\",\"array\":{\"type\":\"bytes\",\"data\":\"NCTm7QyJAUCoqqqqqqoCQCAxb2dIzANAmLczJObtBEAQPvjggw8GQITEvJ0hMQdA/EqBWr9SCEB00UUXXXQJQOxXCtT6lQpAYN7OkJi3C0DYZJNNNtkMQFDrVwrU+g1AyHEcx3EcD0AefPDBBx8QQFq/UqDWrxBAlgK1fqVAEUDQRRdddNERQAyJeTtDYhJASMzbGRLzEkCEDz744IMTQL5SoNavFBRA+pUCtX6lFEA22WSTTTYVQHIcx3EcxxVArF8pUOtXFkDooosuuugWQCTm7QyJeRdAYClQ61cKGECabLLJJpsYQNavFKj1KxlAEvN2hsS8GUBMNtlkk00aQIh5O0Ni3hpAxLydITFvG0A=\"},\"shape\":[34],\"dtype\":\"float64\",\"order\":\"little\"}],[\"right\",{\"type\":\"ndarray\",\"array\":{\"type\":\"bytes\",\"data\":\"qKqqqqqqAkAgMW9nSMwDQJi3MyTm7QRAED744IMPBkCExLydITEHQPxKgVq/UghAdNFFF110CUDsVwrU+pUKQGDezpCYtwtA2GSTTTbZDEBQ61cK1PoNQMhxHMdxHA9AHnzwwQcfEEBav1Kg1q8QQJYCtX6lQBFA0EUXXXTREUAMiXk7Q2ISQEjM2xkS8xJAhA8++OCDE0C+UqDWrxQUQPqVArV+pRRANtlkk002FUByHMdxHMcVQKxfKVDrVxZA6KKLLrroFkAk5u0MiXkXQGApUOtXChhAmmyyySabGEDWrxSo9SsZQBLzdobEvBlATDbZZJNNGkCIeTtDYt4aQMS8nSExbxtAAAAAAAAAHEA=\"},\"shape\":[34],\"dtype\":\"float64\",\"order\":\"little\"}]]}}}],[\"s_hist_data_small\",{\"type\":\"object\",\"name\":\"ColumnDataSource\",\"id\":\"p1037\",\"attributes\":{\"selected\":{\"type\":\"object\",\"name\":\"Selection\",\"id\":\"p1039\",\"attributes\":{\"indices\":[],\"line_indices\":[]}},\"selection_policy\":{\"type\":\"object\",\"name\":\"UnionRenderers\",\"id\":\"p1038\"},\"data\":{\"type\":\"map\",\"entries\":[[\"top\",{\"type\":\"ndarray\",\"array\":{\"type\":\"bytes\",\"data\":\"ugv+n7KJEj8AAAAAAAAAALoL/p+yiRI/mQv+n7KJMj+XEf3vi84rP5kL/p+yiRI/AAAAAAAAAABlEf3vi84rP7oL/p+yiRI/ZRH974vOKz+ojv1HHyw3P5kL/p+yiSI/qI79Rx8sNz9DSv5LfDhAP2UR/e+Lzjs/ZRH974vOOz8N0/xDwh9OPw3T/EPCH04/ZRH974vOWz/gKv51F2FhP1wb/gpl9WE/TBv+CmX1YT8JUP2bVX1pPy0jfkA+q3E/ZpZ9ffjhdj/bV33RLjN5Px74PZoTQ4M/qQv+n7KJgj85b/1xulSIP3FCfhajgpA/roZ9EkZ2lz8rTp1O34+ZP6A6/uDJzKA/7qYtD2ZEpj9+QP0woxGqP3E9DlX7sLA/QfUtJuJesz9tZs0VJqi4P4P/RKQFerw/hSSG+ladwT9Ns8VyidDFPyBIfWZ8x8k/JNp4HI/czT/lRAxcTmrQP8X5G7kDNNM/L8fdC4YS1T/NnaUfdJzWP+V54VEW8dc/iWyZxzdu2D+6a+mgfHfYP1BrPdfNedg/VIfVpaNx1z9FmN3Kbs/WP8/ScRKdpdQ/sfwBkgwX0z+8QMqS25LQP/XYyPXT5c0/x0EF67sDyj9Sw3Gn6jnFPw34PZoTQ8M/c87kFXhJvj/BbfW3oWK4Pwna7eppYrQ/IEuucjcvsD/+TZ1O34+pPw==\"},\"shape\":[65],\"dtype\":\"float64\",\"order\":\"little\"}],[\"bottom\",[1e-07,1e-07,1e-07,1e-07,1e-07,1e-07,1e-07,1e-07,1e-07,1e-07,1e-07,1e-07,1e-07,1e-07,1e-07,1e-07,1e-07,1e-07,1e-07,1e-07,1e-07,1e-07,1e-07,1e-07,1e-07,1e-07,1e-07,1e-07,1e-07,1e-07,1e-07,1e-07,1e-07,1e-07,1e-07,1e-07,1e-07,1e-07,1e-07,1e-07,1e-07,1e-07,1e-07,1e-07,1e-07,1e-07,1e-07,1e-07,1e-07,1e-07,1e-07,1e-07,1e-07,1e-07,1e-07,1e-07,1e-07,1e-07,1e-07,1e-07,1e-07,1e-07,1e-07,1e-07,1e-07]],[\"left\",{\"type\":\"ndarray\",\"array\":{\"type\":\"bytes\",\"data\":\"AAAAAAAAHMDFvJ0hMW8bwIl5O0Ni3hrATjbZZJNNGsAS83aGxLwZwNevFKj1KxnAm2yyySabGMBgKVDrVwoYwCTm7QyJeRfA6aKLLrroFsCtXylQ61cWwHIcx3EcxxXANtlkk002FcD7lQK1fqUUwMBSoNavFBTAhA8++OCDE8BIzNsZEvMSwA2JeTtDYhLA0kUXXXTREcCWArV+pUARwFq/UqDWrxDAH3zwwQcfEMDHcRzHcRwPwFDrVwrU+g3A2mSTTTbZDMBj3s6QmLcLwOxXCtT6lQrAddFFF110CcD+SoFav1IIwIbEvJ0hMQfAED744IMPBsCYtzMk5u0EwCIxb2dIzAPArKqqqqqqAsA0JObtDIkBwL6dITFvZwDAjC666KKL/r+gITFvZ0j8v7AUqPUrBfq/xAcffPDB97/U+pUCtX71v+jtDIl5O/O/+OCDDz748L8YqPUrBWrtvziO4ziO4+i/YHTRRRdd5L8AtX6lQK3fv1CBWr9SoNa/QJtssskmy7+AZ0jM2xmyv0BnSMzbGbI/IJtssskmyz9AgVq/UqDWPwC1fqVArd8/WHTRRRdd5D84juM4juPoPxCo9SsFau0/+OCDDz748D/o7QyJeTvzP9D6lQK1fvU/wAcffPDB9z+wFKj1KwX6P6AhMW9nSPw/iC666KKL/j+8nSExb2cAQA==\"},\"shape\":[65],\"dtype\":\"float64\",\"order\":\"little\"}],[\"right\",{\"type\":\"ndarray\",\"array\":{\"type\":\"bytes\",\"data\":\"xbydITFvG8CJeTtDYt4awE422WSTTRrAEvN2hsS8GcDXrxSo9SsZwJtssskmmxjAYClQ61cKGMAk5u0MiXkXwOmiiy666BbArV8pUOtXFsByHMdxHMcVwDbZZJNNNhXA+5UCtX6lFMDAUqDWrxQUwIQPPvjggxPASMzbGRLzEsANiXk7Q2ISwNJFF1100RHAlgK1fqVAEcBav1Kg1q8QwB988MEHHxDAx3Ecx3EcD8BQ61cK1PoNwNpkk0022QzAY97OkJi3C8DsVwrU+pUKwHXRRRdddAnA/kqBWr9SCMCGxLydITEHwBA++OCDDwbAmLczJObtBMAiMW9nSMwDwKyqqqqqqgLANCTm7QyJAcC+nSExb2cAwIwuuuiii/6/oCExb2dI/L+wFKj1KwX6v8QHH3zwwfe/1PqVArV+9b/o7QyJeTvzv/jggw8++PC/GKj1KwVq7b84juM4juPov2B00UUXXeS/ALV+pUCt379QgVq/UqDWv0CbbLLJJsu/gGdIzNsZsr9AZ0jM2xmyPyCbbLLJJss/QIFav1Kg1j8AtX6lQK3fP1h00UUXXeQ/OI7jOI7j6D8QqPUrBWrtP/jggw8++PA/6O0MiXk78z/Q+pUCtX71P8AHH3zwwfc/sBSo9SsF+j+gITFvZ0j8P4guuuiii/4/vJ0hMW9nAEA0JObtDIkBQA==\"},\"shape\":[65],\"dtype\":\"float64\",\"order\":\"little\"}]]}}}]]},\"code\":\"\\n    // 1.) Select the histogram\\n    const hist_new = s_all_histograms.data[B.value + \\\"_\\\" + dist.value]\\n    \\n    // 2.) Update the FPF\\n    const tmp_fpf = hist_new[2]\\n    fpf_text.text = '<p style=\\\"color:black; font-size:20px; font-weight:'\\n        + ' bold;\\\">FPF = ' + tmp_fpf + '</p>'\\n    \\n    \\n    // 3.) update the values\\n    s_hist_data_small.data = {\\n         top: hist_new[0], \\n         bottom: s_hist_data_small.data.bottom, \\n         left: s_hist_data_small.data.left, \\n         right: s_hist_data_small.data.right}; \\n         \\n    s_hist_data_large.data = {\\n         top: hist_new[1], \\n         bottom: s_hist_data_large.data.bottom, \\n         left: s_hist_data_large.data.left, \\n         right: s_hist_data_large.data.right};    \\n    \\n\"}}]]]},\"title\":\"B:\",\"options\":[\"1e+03\",\"1e+04\",\"1e+05\",\"1e+06\",\"1e+07\",\"1e+08\"],\"value\":\"1e+05\"}},{\"id\":\"p1076\"},{\"id\":\"p1074\"}]}},{\"type\":\"object\",\"name\":\"Figure\",\"id\":\"p1001\",\"attributes\":{\"width\":750,\"height\":300,\"x_range\":{\"type\":\"object\",\"name\":\"Range1d\",\"id\":\"p1011\",\"attributes\":{\"start\":-7,\"end\":7}},\"y_range\":{\"type\":\"object\",\"name\":\"Range1d\",\"id\":\"p1013\",\"attributes\":{\"start\":1e-05,\"end\":3}},\"x_scale\":{\"type\":\"object\",\"name\":\"LinearScale\",\"id\":\"p1015\"},\"y_scale\":{\"type\":\"object\",\"name\":\"LogScale\",\"id\":\"p1017\"},\"title\":{\"type\":\"object\",\"name\":\"Title\",\"id\":\"p1004\",\"attributes\":{\"text\":\"Parametric Bootstrap Distribution\"}},\"renderers\":[{\"type\":\"object\",\"name\":\"GlyphRenderer\",\"id\":\"p1049\",\"attributes\":{\"data_source\":{\"id\":\"p1037\"},\"view\":{\"type\":\"object\",\"name\":\"CDSView\",\"id\":\"p1050\",\"attributes\":{\"filter\":{\"type\":\"object\",\"name\":\"AllIndices\",\"id\":\"p1051\"}}},\"glyph\":{\"type\":\"object\",\"name\":\"Quad\",\"id\":\"p1046\",\"attributes\":{\"left\":{\"type\":\"field\",\"field\":\"left\"},\"right\":{\"type\":\"field\",\"field\":\"right\"},\"bottom\":{\"type\":\"field\",\"field\":\"bottom\"},\"top\":{\"type\":\"field\",\"field\":\"top\"},\"line_color\":{\"type\":\"value\",\"value\":\"white\"},\"fill_color\":{\"type\":\"value\",\"value\":[1,115,178]}}},\"nonselection_glyph\":{\"type\":\"object\",\"name\":\"Quad\",\"id\":\"p1047\",\"attributes\":{\"left\":{\"type\":\"field\",\"field\":\"left\"},\"right\":{\"type\":\"field\",\"field\":\"right\"},\"bottom\":{\"type\":\"field\",\"field\":\"bottom\"},\"top\":{\"type\":\"field\",\"field\":\"top\"},\"line_color\":{\"type\":\"value\",\"value\":\"white\"},\"line_alpha\":{\"type\":\"value\",\"value\":0.1},\"fill_color\":{\"type\":\"value\",\"value\":[1,115,178]},\"fill_alpha\":{\"type\":\"value\",\"value\":0.1},\"hatch_alpha\":{\"type\":\"value\",\"value\":0.1}}},\"muted_glyph\":{\"type\":\"object\",\"name\":\"Quad\",\"id\":\"p1048\",\"attributes\":{\"left\":{\"type\":\"field\",\"field\":\"left\"},\"right\":{\"type\":\"field\",\"field\":\"right\"},\"bottom\":{\"type\":\"field\",\"field\":\"bottom\"},\"top\":{\"type\":\"field\",\"field\":\"top\"},\"line_color\":{\"type\":\"value\",\"value\":\"white\"},\"line_alpha\":{\"type\":\"value\",\"value\":0.2},\"fill_color\":{\"type\":\"value\",\"value\":[1,115,178]},\"fill_alpha\":{\"type\":\"value\",\"value\":0.2},\"hatch_alpha\":{\"type\":\"value\",\"value\":0.2}}}}},{\"type\":\"object\",\"name\":\"GlyphRenderer\",\"id\":\"p1058\",\"attributes\":{\"data_source\":{\"id\":\"p1040\"},\"view\":{\"type\":\"object\",\"name\":\"CDSView\",\"id\":\"p1059\",\"attributes\":{\"filter\":{\"type\":\"object\",\"name\":\"AllIndices\",\"id\":\"p1060\"}}},\"glyph\":{\"type\":\"object\",\"name\":\"Quad\",\"id\":\"p1055\",\"attributes\":{\"left\":{\"type\":\"field\",\"field\":\"left\"},\"right\":{\"type\":\"field\",\"field\":\"right\"},\"bottom\":{\"type\":\"field\",\"field\":\"bottom\"},\"top\":{\"type\":\"field\",\"field\":\"top\"},\"line_color\":{\"type\":\"value\",\"value\":\"white\"},\"fill_color\":{\"type\":\"value\",\"value\":\"red\"}}},\"nonselection_glyph\":{\"type\":\"object\",\"name\":\"Quad\",\"id\":\"p1056\",\"attributes\":{\"left\":{\"type\":\"field\",\"field\":\"left\"},\"right\":{\"type\":\"field\",\"field\":\"right\"},\"bottom\":{\"type\":\"field\",\"field\":\"bottom\"},\"top\":{\"type\":\"field\",\"field\":\"top\"},\"line_color\":{\"type\":\"value\",\"value\":\"white\"},\"line_alpha\":{\"type\":\"value\",\"value\":0.1},\"fill_color\":{\"type\":\"value\",\"value\":\"red\"},\"fill_alpha\":{\"type\":\"value\",\"value\":0.1},\"hatch_alpha\":{\"type\":\"value\",\"value\":0.1}}},\"muted_glyph\":{\"type\":\"object\",\"name\":\"Quad\",\"id\":\"p1057\",\"attributes\":{\"left\":{\"type\":\"field\",\"field\":\"left\"},\"right\":{\"type\":\"field\",\"field\":\"right\"},\"bottom\":{\"type\":\"field\",\"field\":\"bottom\"},\"top\":{\"type\":\"field\",\"field\":\"top\"},\"line_color\":{\"type\":\"value\",\"value\":\"white\"},\"line_alpha\":{\"type\":\"value\",\"value\":0.2},\"fill_color\":{\"type\":\"value\",\"value\":\"red\"},\"fill_alpha\":{\"type\":\"value\",\"value\":0.2},\"hatch_alpha\":{\"type\":\"value\",\"value\":0.2}}}}},{\"type\":\"object\",\"name\":\"Span\",\"id\":\"p1062\",\"attributes\":{\"location\":2.2804911538959938,\"dimension\":\"height\",\"line_width\":3}},{\"type\":\"object\",\"name\":\"GlyphRenderer\",\"id\":\"p1069\",\"attributes\":{\"data_source\":{\"type\":\"object\",\"name\":\"ColumnDataSource\",\"id\":\"p1063\",\"attributes\":{\"selected\":{\"type\":\"object\",\"name\":\"Selection\",\"id\":\"p1065\",\"attributes\":{\"indices\":[],\"line_indices\":[]}},\"selection_policy\":{\"type\":\"object\",\"name\":\"UnionRenderers\",\"id\":\"p1064\"},\"data\":{\"type\":\"map\",\"entries\":[[\"x\",{\"type\":\"ndarray\",\"array\":{\"type\":\"bytes\",\"data\":\"AAAAAAAAHMDFvJ0hMW8bwIl5O0Ni3hrATjbZZJNNGsAS83aGxLwZwNevFKj1KxnAm2yyySabGMBgKVDrVwoYwCTm7QyJeRfA6aKLLrroFsCtXylQ61cWwHIcx3EcxxXANtlkk002FcD7lQK1fqUUwMBSoNavFBTAhA8++OCDE8BIzNsZEvMSwA2JeTtDYhLA0kUXXXTREcCWArV+pUARwFq/UqDWrxDAH3zwwQcfEMDHcRzHcRwPwFDrVwrU+g3A2mSTTTbZDMBj3s6QmLcLwOxXCtT6lQrAddFFF110CcD+SoFav1IIwIbEvJ0hMQfAED744IMPBsCYtzMk5u0EwCIxb2dIzAPArKqqqqqqAsA0JObtDIkBwL6dITFvZwDAjC666KKL/r+gITFvZ0j8v7AUqPUrBfq/xAcffPDB97/U+pUCtX71v+jtDIl5O/O/+OCDDz748L8YqPUrBWrtvziO4ziO4+i/YHTRRRdd5L8AtX6lQK3fv1CBWr9SoNa/QJtssskmy7+AZ0jM2xmyv0BnSMzbGbI/IJtssskmyz9AgVq/UqDWPwC1fqVArd8/WHTRRRdd5D84juM4juPoPxCo9SsFau0/+OCDDz748D/o7QyJeTvzP9D6lQK1fvU/wAcffPDB9z+wFKj1KwX6P6AhMW9nSPw/iC666KKL/j+8nSExb2cAQDQk5u0MiQFAqKqqqqqqAkAgMW9nSMwDQJi3MyTm7QRAED744IMPBkCExLydITEHQPxKgVq/UghAdNFFF110CUDsVwrU+pUKQGDezpCYtwtA2GSTTTbZDEBQ61cK1PoNQMhxHMdxHA9AHnzwwQcfEEBav1Kg1q8QQJYCtX6lQBFA0EUXXXTREUAMiXk7Q2ISQEjM2xkS8xJAhA8++OCDE0C+UqDWrxQUQPqVArV+pRRANtlkk002FUByHMdxHMcVQKxfKVDrVxZA6KKLLrroFkAk5u0MiXkXQGApUOtXChhAmmyyySabGEDWrxSo9SsZQBLzdobEvBlATDbZZJNNGkCIeTtDYt4aQMS8nSExbxtAAAAAAAAAHEA=\"},\"shape\":[100],\"dtype\":\"float64\",\"order\":\"little\"}],[\"y\",{\"type\":\"ndarray\",\"array\":{\"type\":\"bytes\",\"data\":\"ZA6tl3hNAj+Azt5VGbwFPxmfbl+D3wk/cA/jExzgDj9BeNwW/3cSP4HHRhi7JhY/IWxvZRWjGj9+5oRpyA4gPz1NRsx3aSM/hSK9iLyHJz+AGnm8lJksP3BV8rjDbTE/XhknjgpNNT9qegX3EBs6P60tqnOoCkA/XYR+ePjEQz9AVpg5OW5IP+UKCMrZRU4/thzBqGjOUj+VsKnkRW1XPyydwsSYQV0/O70zGehPYj+tNqMr3/lmPxr6e7lz42w/nDl/kBUycj+vbP88jfV2P7l+hvVXAn0/xiGPlmFYgj/ygfLAjTeHP6JI6ND7Yo0/79hEDymXkj83StB4Tn+XP+/Bq3zmpZ0/JOEPpkWooj9fIdgz2WanP+glwYs1Oa0/itqqZIElsj8bVueawGK2P43uPNUyZbs/m+r/VEKbwD/oZtEOjOrDP2imvsfJl8c/UWbUg2SQyz8MbQ7ydbbPP0ABhi9N8NE/yuV69L7t0z9EuSSZt7bVP3QvCHTsLdc/C/82RP842D9GEsJr78PYP0YSwmvvw9g/E/82RP842D90Lwh07C3XP0S5JJm3ttU/0OV69L7t0z9AAYYvTfDRPxVtDvJ1ts8/UWbUg2SQyz9opr7HyZfHP+5m0Q6M6sM/n+r/VEKbwD+N7jzVMmW7PxtW55rAYrY/jtqqZIElsj/1JcGLNTmtP18h2DPZZqc/M+EPpkWooj//wat85qWdPzdK0HhOf5c/79hEDymXkj+rSOjQ+2KNP/KB8sCNN4c/xiGPlmFYgj+5fob1VwJ9P8Bs/zyN9XY/pTl/kBUycj8a+nu5c+NsP6g2oyvf+WY/RL0zGehPYj8sncLEmEFdP5WwqeRFbVc/xRzBqGjOUj/xCgjK2UVOP0BWmDk5bkg/XYR+ePjEQz+6LapzqApAP3J6BfcQGzo/XhknjgpNNT9wVfK4w20xP48aebyUmSw/jCK9iLyHJz89TUbMd2kjP37mhGnIDiA/L2xvZRWjGj+Gx0YYuyYWP0F43Bb/dxI/hQ/jExzgDj8fn25fg98JP4XO3lUZvAU/ZA6tl3hNAj8=\"},\"shape\":[100],\"dtype\":\"float64\",\"order\":\"little\"}]]}}},\"view\":{\"type\":\"object\",\"name\":\"CDSView\",\"id\":\"p1070\",\"attributes\":{\"filter\":{\"type\":\"object\",\"name\":\"AllIndices\",\"id\":\"p1071\"}}},\"glyph\":{\"type\":\"object\",\"name\":\"Line\",\"id\":\"p1066\",\"attributes\":{\"x\":{\"type\":\"field\",\"field\":\"x\"},\"y\":{\"type\":\"field\",\"field\":\"y\"},\"line_color\":\"rgb(222, 143, 5)\",\"line_width\":3}},\"nonselection_glyph\":{\"type\":\"object\",\"name\":\"Line\",\"id\":\"p1067\",\"attributes\":{\"x\":{\"type\":\"field\",\"field\":\"x\"},\"y\":{\"type\":\"field\",\"field\":\"y\"},\"line_color\":\"rgb(222, 143, 5)\",\"line_alpha\":0.1,\"line_width\":3}},\"muted_glyph\":{\"type\":\"object\",\"name\":\"Line\",\"id\":\"p1068\",\"attributes\":{\"x\":{\"type\":\"field\",\"field\":\"x\"},\"y\":{\"type\":\"field\",\"field\":\"y\"},\"line_color\":\"rgb(222, 143, 5)\",\"line_alpha\":0.2,\"line_width\":3}}}}],\"toolbar\":{\"type\":\"object\",\"name\":\"Toolbar\",\"id\":\"p1010\"},\"toolbar_location\":null,\"left\":[{\"type\":\"object\",\"name\":\"LogAxis\",\"id\":\"p1026\",\"attributes\":{\"ticker\":{\"type\":\"object\",\"name\":\"LogTicker\",\"id\":\"p1028\",\"attributes\":{\"num_minor_ticks\":10,\"mantissas\":[1,5]}},\"formatter\":{\"type\":\"object\",\"name\":\"LogTickFormatter\",\"id\":\"p1027\"},\"axis_label\":\"$$p(T^* = t| H_0)$$\",\"major_label_policy\":{\"type\":\"object\",\"name\":\"AllLabels\",\"id\":\"p1029\"}}}],\"below\":[{\"type\":\"object\",\"name\":\"LinearAxis\",\"id\":\"p1019\",\"attributes\":{\"ticker\":{\"type\":\"object\",\"name\":\"BasicTicker\",\"id\":\"p1021\",\"attributes\":{\"mantissas\":[1,2,5]}},\"formatter\":{\"type\":\"object\",\"name\":\"BasicTickFormatter\",\"id\":\"p1020\"},\"axis_label\":\"Test Statistc (S/N)\",\"major_label_policy\":{\"type\":\"object\",\"name\":\"AllLabels\",\"id\":\"p1022\"}}}],\"center\":[{\"type\":\"object\",\"name\":\"Grid\",\"id\":\"p1025\",\"attributes\":{\"axis\":{\"id\":\"p1019\"}}},{\"type\":\"object\",\"name\":\"Grid\",\"id\":\"p1032\",\"attributes\":{\"dimension\":1,\"axis\":{\"id\":\"p1026\"}}},{\"type\":\"object\",\"name\":\"Label\",\"id\":\"p1061\",\"attributes\":{\"text\":\"\\\\[T_{\\\\text{obs}} = 2.28\\\\]\",\"x\":3,\"y\":0.2}},{\"type\":\"object\",\"name\":\"Legend\",\"id\":\"p1072\",\"attributes\":{\"location\":\"bottom_left\",\"items\":[{\"type\":\"object\",\"name\":\"LegendItem\",\"id\":\"p1073\",\"attributes\":{\"label\":{\"type\":\"value\",\"value\":\"t-distribution\"},\"renderers\":[{\"id\":\"p1069\"}]}}]}}]}}]}}],\"callbacks\":{\"type\":\"map\"}}};\n",
       "  const render_items = [{\"docid\":\"87d61ea5-ca85-44b2-81cf-1d418027eb2d\",\"roots\":{\"p1079\":\"ddb3b071-cb1a-48d1-ba47-75e6edb3f3cc\"},\"root_ids\":[\"p1079\"]}];\n",
       "  root.Bokeh.embed.embed_items_notebook(docs_json, render_items);\n",
       "  }\n",
       "  if (root.Bokeh !== undefined) {\n",
       "    embed_document(root);\n",
       "  } else {\n",
       "    let attempts = 0;\n",
       "    const timer = setInterval(function(root) {\n",
       "      if (root.Bokeh !== undefined) {\n",
       "        clearInterval(timer);\n",
       "        embed_document(root);\n",
       "      } else {\n",
       "        attempts++;\n",
       "        if (attempts > 100) {\n",
       "          clearInterval(timer);\n",
       "          console.log(\"Bokeh: ERROR: Unable to run BokehJS code because BokehJS library is missing\");\n",
       "        }\n",
       "      }\n",
       "    }, 10, root)\n",
       "  }\n",
       "})(window);"
      ],
      "application/vnd.bokehjs_exec.v0+json": ""
     },
     "metadata": {
      "application/vnd.bokehjs_exec.v0+json": {
       "id": "p1079"
      }
     },
     "output_type": "display_data"
    }
   ],
   "source": [
    "# 1. Setup the figure ----------------------------------------------------------\n",
    "p = figure(width=750, height=300, \n",
    "           toolbar_location=None,\n",
    "           tools = [],\n",
    "           title=\"Parametric Bootstrap Distribution\",\n",
    "           y_axis_type=\"log\", \n",
    "           y_range=(1e-5, 3),\n",
    "           x_range=(-7, 7))\n",
    "\n",
    "# 2. Plot the histogram --------------------------------------------------------\n",
    "# The ColumnDataSource are used for the interactive updates\n",
    "# s_all_histograms contains all available histograms\n",
    "s_all_histograms = ColumnDataSource(data=final_histograms)\n",
    "\n",
    "# s_hist_data_small and s_hist_data_large contain the current histogram\n",
    "s_hist_data_small = ColumnDataSource(\n",
    "    data=dict(top=final_histograms[\"1e+05_Gauss\"][0], \n",
    "              bottom=([1e-7,]*99)[:cut_off_idx], \n",
    "              left=edges[:-1][:cut_off_idx], \n",
    "              right=edges[1:][:cut_off_idx]))\n",
    "\n",
    "s_hist_data_large = ColumnDataSource(\n",
    "    data=dict(top=final_histograms[\"1e+05_Gauss\"][1], \n",
    "              bottom=([1e-7,]*99)[cut_off_idx:], \n",
    "              left=edges[:-1][cut_off_idx:], \n",
    "              right=edges[1:][cut_off_idx:]))\n",
    "\n",
    "# Draw the actual histogram ----------------------------------------------------\n",
    "p.quad(top=\"top\", bottom=\"bottom\", left=\"left\", right=\"right\",\n",
    "       source=s_hist_data_small,\n",
    "       fill_color=color_blue, \n",
    "       line_color=\"white\")\n",
    "\n",
    "p.quad(top=\"top\", bottom=\"bottom\", left=\"left\", right=\"right\",\n",
    "       source=s_hist_data_large,\n",
    "       fill_color=color_red, \n",
    "       line_color=\"white\")\n",
    "\n",
    "# 3. Add labels ----------------------------------------------------------------\n",
    "p.xaxis.axis_label = \"Test Statistc (S/N)\"\n",
    "p.yaxis.axis_label = r\"$$p(T^* = t| H_0)$$\"\n",
    "mytext = Label(x=3, y=0.2,\n",
    "               text=r'\\[T_{\\text{obs}} = 2.28\\]')\n",
    "p.add_layout(mytext)\n",
    "\n",
    "# 4. Draw T_obs vertical line --------------------------------------------------\n",
    "vline = Span(location=T_obs, \n",
    "             dimension='height', \n",
    "             line_color='black', \n",
    "             line_width=3)\n",
    "p.renderers.extend([vline,])\n",
    "\n",
    "\n",
    "# 5. Plot the t-distibution ----------------------------------------------------\n",
    "x = np.linspace(-7.0, 7.0, 100)\n",
    "pdf = stats.t.pdf(x, df=9)\n",
    "p.line(x, pdf, line_width=3, line_color=color_t_dist,\n",
    "       legend_label=\"t-distribution\")\n",
    "p.legend.location = \"bottom_left\"\n",
    "\n",
    "\n",
    "# 6. Add fpf Text box ----------------------------------------------------------\n",
    "fpf_text = Div(text=\"\"\"<p style=\"color:black;\n",
    "                                 font-size:20px;\n",
    "                                 font-weight: bold;\">FPF = 0.0245 </p>\"\"\",\n",
    "width=300, height=50, margin=(30, 10, 10, 50))\n",
    "\n",
    "# 7. Add interaction -----------------------------------------------------------\n",
    "# JavaScript code for the update\n",
    "code = \"\"\"\n",
    "    // 1.) Select the histogram\n",
    "    const hist_new = s_all_histograms.data[B.value + \"_\" + dist.value]\n",
    "    \n",
    "    // 2.) Update the FPF\n",
    "    const tmp_fpf = hist_new[2]\n",
    "    fpf_text.text = '<p style=\"color:black; font-size:20px; font-weight:'\n",
    "        + ' bold;\">FPF = ' + tmp_fpf + '</p>'\n",
    "    \n",
    "    \n",
    "    // 3.) update the values\n",
    "    s_hist_data_small.data = {\n",
    "         top: hist_new[0], \n",
    "         bottom: s_hist_data_small.data.bottom, \n",
    "         left: s_hist_data_small.data.left, \n",
    "         right: s_hist_data_small.data.right}; \n",
    "         \n",
    "    s_hist_data_large.data = {\n",
    "         top: hist_new[1], \n",
    "         bottom: s_hist_data_large.data.bottom, \n",
    "         left: s_hist_data_large.data.left, \n",
    "         right: s_hist_data_large.data.right};    \n",
    "    \n",
    "\"\"\"\n",
    "# create the Dropdown menus\n",
    "select_B = Select(title=\"B:\", value=\"1e+05\", \n",
    "                  options=[\"{:.0e}\".format(i) for i in num_draws])\n",
    "\n",
    "select_dist = Select(title=\"Assumed noise:\", \n",
    "                     value=\"Gauss\",\n",
    "                     options=[\"Gauss\", \"Laplace\"])\n",
    "\n",
    "# Setup the callback function\n",
    "callback = CustomJS(args=dict(\n",
    "    B=select_B,\n",
    "    dist=select_dist,\n",
    "    fpf_text=fpf_text,\n",
    "    s_all_histograms=s_all_histograms,\n",
    "    s_hist_data_large=s_hist_data_large,\n",
    "    s_hist_data_small=s_hist_data_small), \n",
    "                    code=code)\n",
    "\n",
    "select_B.js_on_change('value', callback)\n",
    "select_dist.js_on_change('value', callback)\n",
    "\n",
    "# 8. Show the plot -------------------------------------------------------------\n",
    "show(column(row(select_B, select_dist, fpf_text), p))"
   ]
  }
 ],
 "metadata": {
  "kernelspec": {
   "display_name": "Python 3 (ipykernel)",
   "language": "python",
   "name": "python3"
  },
  "language_info": {
   "codemirror_mode": {
    "name": "ipython",
    "version": 3
   },
   "file_extension": ".py",
   "mimetype": "text/x-python",
   "name": "python",
   "nbconvert_exporter": "python",
   "pygments_lexer": "ipython3",
   "version": "3.10.6"
  },
  "widgets": {
   "application/vnd.jupyter.widget-state+json": {
    "state": {},
    "version_major": 2,
    "version_minor": 0
   }
  }
 },
 "nbformat": 4,
 "nbformat_minor": 5
}
