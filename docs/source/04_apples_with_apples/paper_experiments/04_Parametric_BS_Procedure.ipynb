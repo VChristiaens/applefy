{
 "cells": [
  {
   "cell_type": "markdown",
   "id": "27e91565",
   "metadata": {},
   "source": [
    "# Figure 4: Parametric Bootstrap"
   ]
  },
  {
   "cell_type": "markdown",
   "id": "8054fcf3",
   "metadata": {},
   "source": [
    "<div style=\"text-align: justify\">\n",
    "This code is used to create **Figure 4** in the **Apples with Apples** paper [(Bonse et al. 2023)](../../05_citation.rst). The Figure illustrates how the parametric bootstrap introduced in the paper works. The figure is composed of 2 subplots: first, a visualization of the resampling procedure which gives us the list of bootstrap samples (with size $B$). Second, a sequence of three histograms which show how the distribution of $p(T^* = x | H_0)$ converges as $B$ gets larger (under the assumption of Gaussian noise).\n",
    "\n",
    "In addition to the plots shown in the paper we also show histograms for the convergence of $p(T^* = x | H_0)$ under the assumption of Laplacian noise.\n",
    "</div>"
   ]
  },
  {
   "cell_type": "markdown",
   "id": "a5b96496",
   "metadata": {},
   "source": [
    "## Imports"
   ]
  },
  {
   "cell_type": "code",
   "execution_count": 1,
   "id": "ef1c7d0e",
   "metadata": {},
   "outputs": [],
   "source": [
    "import os\n",
    "import json\n",
    "\n",
    "import numpy as np\n",
    "import pandas as pd\n",
    "from scipy import stats\n",
    "\n",
    "import matplotlib.pyplot as plt\n",
    "import matplotlib.gridspec as gridspec\n",
    "import seaborn as sns\n",
    "\n",
    "# bokeh visualization\n",
    "from bokeh.plotting import figure, show\n",
    "from bokeh.models import ColumnDataSource, CustomJS, Select, \\\n",
    "    Label, Div, Legend, Span\n",
    "from bokeh.layouts import column, row\n",
    "\n",
    "# applefy\n",
    "from applefy.utils import AperturePhotometryMode, \\\n",
    "    estimate_reference_positions, center_subpixel, get_flux\n",
    "from applefy.utils.file_handling import load_adi_data, \\\n",
    "    read_apples_with_apples_root, open_fits\n",
    "\n",
    "from applefy.statistics import TTest, LaplaceBootstrapTest\n",
    "from applefy.statistics.bootstrapping import GaussianBootstrapTest"
   ]
  },
  {
   "cell_type": "markdown",
   "id": "c4d0a3d5",
   "metadata": {},
   "source": [
    "## Data Loading"
   ]
  },
  {
   "cell_type": "markdown",
   "id": "efc9425c",
   "metadata": {},
   "source": [
    "<div style=\"text-align: justify\">\n",
    "Figure 5 is based on the signal and noise values extracted in [Figure 01](01_What_is_a_detection.ipynb). Thus, we use the same code to extract the values.\n",
    "\n",
    "In order to run the code **make sure to download the data from Zenodo and [read the instructions](../02_paper_data.md) on how to setup the files**.\n",
    "</div>"
   ]
  },
  {
   "cell_type": "code",
   "execution_count": 2,
   "id": "80ad824e",
   "metadata": {},
   "outputs": [
    {
     "name": "stdout",
     "output_type": "stream",
     "text": [
      "Data in the APPLES_ROOT_DIR found. Location: /home/ipa/quanz/user_accounts/mbonse/2021_Metrics/70_results/apples_root_dir\n"
     ]
    }
   ],
   "source": [
    "experiment_root = read_apples_with_apples_root()"
   ]
  },
  {
   "cell_type": "markdown",
   "id": "195dcc35",
   "metadata": {},
   "source": [
    "<div style=\"text-align: justify\">\n",
    "Set the path to one example residual and the config file used to create it. The config file is used to obtain the position at which the artificial planet was inserted.\n",
    "</div>"
   ]
  },
  {
   "cell_type": "code",
   "execution_count": 3,
   "id": "8b074024",
   "metadata": {},
   "outputs": [],
   "source": [
    "fake_planet_residual_path = os.path.join(\n",
    "    experiment_root, \n",
    "    \"70_results/detection_limits/contrast_grid_hr/residuals/PCA (020 components)/residual_ID_0115f.fits\")\n",
    "\n",
    "fake_planet_config_path = os.path.join(\n",
    "     experiment_root, \n",
    "    \"70_results/detection_limits/contrast_grid_hr/configs_cgrid/exp_ID_0115f.json\")"
   ]
  },
  {
   "cell_type": "markdown",
   "id": "4ad30c81",
   "metadata": {},
   "source": [
    "Open the .fits file with the fake planet residual and load the planet position from the config file."
   ]
  },
  {
   "cell_type": "code",
   "execution_count": 4,
   "id": "b83813f1",
   "metadata": {},
   "outputs": [],
   "source": [
    "planet_residual = open_fits(fake_planet_residual_path)\n",
    "\n",
    "with open(fake_planet_config_path) as json_file:\n",
    "    fake_planet_config = json.load(json_file)\n",
    "\n",
    "# The last two values in \"planet_position\" are the separation from the star and the position angle\n",
    "planet_position = fake_planet_config[\"planet_position\"][:2]"
   ]
  },
  {
   "cell_type": "markdown",
   "id": "af6f6698",
   "metadata": {},
   "source": [
    "Estimate the positions for the noise apertures. "
   ]
  },
  {
   "cell_type": "code",
   "execution_count": 5,
   "id": "9884628e",
   "metadata": {},
   "outputs": [],
   "source": [
    "# estimate reference positions for the noise\n",
    "noise_positions = estimate_reference_positions(\n",
    "    planet_position,\n",
    "    center=center_subpixel(planet_residual),\n",
    "    psf_fwhm_radius=2.1,\n",
    "    angle_offset=5,  # more details are explained in the documentation of Figure 3.\n",
    "    safety_margin=0.5)"
   ]
  },
  {
   "cell_type": "code",
   "execution_count": 6,
   "id": "d99ac23a",
   "metadata": {},
   "outputs": [
    {
     "data": {
      "text/plain": [
       "[(45.16718454912184, 35.036050779529816, 8.4, 346.4788975654116),\n",
       " (45.05496390717036, 39.3827623578911, 8.4, 376.4788975654116),\n",
       " (42.784422191230746, 43.09101468670018, 8.4, 406.47889756541156),\n",
       " (38.963949220470184, 45.16718454912184, 8.4, 436.4788975654116),\n",
       " (34.617237642108904, 45.05496390717036, 8.4, 466.4788975654116),\n",
       " (30.908985313299823, 42.784422191230746, 8.4, 496.47889756541156),\n",
       " (28.832815450878158, 38.96394922047019, 8.4, 526.4788975654116),\n",
       " (28.945036092829636, 34.617237642108904, 8.4, 556.4788975654116),\n",
       " (31.215577808769254, 30.908985313299823, 8.4, 586.4788975654116),\n",
       " (35.03605077952982, 28.832815450878158, 8.4, 616.4788975654117)]"
      ]
     },
     "execution_count": 6,
     "metadata": {},
     "output_type": "execute_result"
    }
   ],
   "source": [
    "noise_positions"
   ]
  },
  {
   "cell_type": "markdown",
   "id": "f30fff71",
   "metadata": {},
   "source": [
    "As in [Figure 01](01_What_is_a_detection.ipynb) we use the [AperturePhotometryMode](../../03_package/utils.rst#applefy.utils.photometry.AperturePhotometryMode) \"ASS\" and \"AS\" of applefy to calculate the aperture averages."
   ]
  },
  {
   "cell_type": "code",
   "execution_count": 7,
   "id": "2e232e3a",
   "metadata": {},
   "outputs": [],
   "source": [
    "photometry_mode_planet = AperturePhotometryMode(\"ASS\", psf_fwhm_radius=2.1, search_area=1.5)\n",
    "photometry_mode_noise = AperturePhotometryMode(\"AS\", psf_fwhm_radius=2.1)"
   ]
  },
  {
   "cell_type": "code",
   "execution_count": 8,
   "id": "7e0bbaba",
   "metadata": {},
   "outputs": [],
   "source": [
    "# Compute the noise values\n",
    "noise_flux = []\n",
    "for tmp_pos in noise_positions:\n",
    "    tmp_flux = get_flux(planet_residual,\n",
    "                        tmp_pos[:2],\n",
    "                        photometry_mode=photometry_mode_noise)[1]\n",
    "    noise_flux.append(tmp_flux)\n",
    "    \n",
    "# Compute the planet flux\n",
    "planet_flux = get_flux(planet_residual,\n",
    "                       planet_position,\n",
    "                       photometry_mode=photometry_mode_planet)[1]"
   ]
  },
  {
   "cell_type": "markdown",
   "id": "bc0f9403",
   "metadata": {},
   "source": [
    "## Compute the test statistic $T_{\\text{obs}}$"
   ]
  },
  {
   "cell_type": "markdown",
   "id": "35b9bd4f",
   "metadata": {},
   "source": [
    "As for the t-Test we need to compute the test statistic $T_{\\text{obs}}$. We use the code of the [t-Test](../../03_package/statistics.rst#applefy.statistics.parametric.TTest) but only use its second return parameter."
   ]
  },
  {
   "cell_type": "code",
   "execution_count": 9,
   "id": "5d6fcf92",
   "metadata": {},
   "outputs": [
    {
     "data": {
      "text/plain": [
       "2.2804911538959938"
      ]
     },
     "execution_count": 9,
     "metadata": {},
     "output_type": "execute_result"
    }
   ],
   "source": [
    "test = TTest()\n",
    "T_obs = test.test_2samp(planet_flux, noise_flux)[1]\n",
    "\n",
    "T_obs"
   ]
  },
  {
   "cell_type": "markdown",
   "id": "9b0c89af",
   "metadata": {},
   "source": [
    "## The Gaussian Bootstrap Test"
   ]
  },
  {
   "cell_type": "markdown",
   "id": "7db5d744",
   "metadata": {},
   "source": [
    "<div style=\"text-align: justify\">\n",
    "For illustration purposes we resample from a Gaussian distribution in this example. This allows us to show that the parametric bootstrap test is equivalent to the t-Test if we make the same assumption about the noise. In reality we would never use bootstrapping if we want to assume a Gaussian noise as it is computationally expensive. However, the parametric bootstrap is not limited to the assumption of Gaussian noise. An example for Laplacian noise is shown at [the end of this page](04_Parametric_BS_Procedure.ipynb#Bootstrapping-for-Laplacian-noise).\n",
    "\n",
    "We start the resampling by setting up a [GaussianBootstrapTest](../../03_package/statistics.rst#applefy.statistics.bootstrapping.GaussianBootstrapTest). The input of the GaussianBootstrapTest is our noise sample which is used to estimate the MLE parameters $\\mu_{\\text{MLE}}= \\overline{\\mathcal{X}}$ and $\\sigma_{\\text{MLE}} = \\hat{\\sigma}_{\\mathcal{X}}$.\n",
    "</div>"
   ]
  },
  {
   "cell_type": "code",
   "execution_count": 10,
   "id": "b91ca429",
   "metadata": {},
   "outputs": [],
   "source": [
    "test_statistic = GaussianBootstrapTest(\n",
    "    noise_flux, \n",
    "    num_cpus=8)"
   ]
  },
  {
   "cell_type": "markdown",
   "id": "ad9ca83a",
   "metadata": {},
   "source": [
    "<div style=\"text-align: justify\">\n",
    "Now we can run the actual resampling using the function [run_bootstrap_experiment](../../03_package/statistics.rst#applefy.statistics.bootstrapping.BootstrapTest.run_bootstrap_experiment). The parameter *num_noise_values* gives the number of noise observations we want to resample. It should be equal to the same number of observations we extracted from our residual. This way we are able to account for the effect of the small sample statistics. The parameter *num_draws* gives the number of bootstrap samples we want to obtain ($B$). The *approximation_interval* is only needed if we want to restore our bootstrap lookup table later.\n",
    "\n",
    "Note: The following code cell is computationally expensive. Consider reducing *num_draws*.\n",
    "</div>"
   ]
  },
  {
   "cell_type": "code",
   "execution_count": 11,
   "id": "23d396aa",
   "metadata": {},
   "outputs": [],
   "source": [
    "T_star_gauss = test_statistic.run_bootstrap_experiment(\n",
    "    memory_size=5e6,\n",
    "    num_noise_values=len(noise_flux),\n",
    "    num_draws=1e8,  # num_draws=1e9 was used in the paper\n",
    "    approximation_interval=np.linspace(-7, 7, 100000))"
   ]
  },
  {
   "cell_type": "code",
   "execution_count": 12,
   "id": "6954b9a2",
   "metadata": {},
   "outputs": [
    {
     "data": {
      "text/plain": [
       "(100000000,)"
      ]
     },
     "execution_count": 12,
     "metadata": {},
     "output_type": "execute_result"
    }
   ],
   "source": [
    "T_star_gauss.shape"
   ]
  },
  {
   "cell_type": "markdown",
   "id": "1696df07",
   "metadata": {},
   "source": [
    "## Create the Subplots"
   ]
  },
  {
   "cell_type": "markdown",
   "id": "20741e49",
   "metadata": {},
   "source": [
    "Define the colors we use along all subplots."
   ]
  },
  {
   "cell_type": "code",
   "execution_count": 13,
   "id": "258e932b",
   "metadata": {},
   "outputs": [
    {
     "data": {
      "text/html": [
       "<svg  width=\"550\" height=\"55\"><rect x=\"0\" y=\"0\" width=\"55\" height=\"55\" style=\"fill:#0173b2;stroke-width:2;stroke:rgb(255,255,255)\"/><rect x=\"55\" y=\"0\" width=\"55\" height=\"55\" style=\"fill:#de8f05;stroke-width:2;stroke:rgb(255,255,255)\"/><rect x=\"110\" y=\"0\" width=\"55\" height=\"55\" style=\"fill:#029e73;stroke-width:2;stroke:rgb(255,255,255)\"/><rect x=\"165\" y=\"0\" width=\"55\" height=\"55\" style=\"fill:#d55e00;stroke-width:2;stroke:rgb(255,255,255)\"/><rect x=\"220\" y=\"0\" width=\"55\" height=\"55\" style=\"fill:#cc78bc;stroke-width:2;stroke:rgb(255,255,255)\"/><rect x=\"275\" y=\"0\" width=\"55\" height=\"55\" style=\"fill:#ca9161;stroke-width:2;stroke:rgb(255,255,255)\"/><rect x=\"330\" y=\"0\" width=\"55\" height=\"55\" style=\"fill:#fbafe4;stroke-width:2;stroke:rgb(255,255,255)\"/><rect x=\"385\" y=\"0\" width=\"55\" height=\"55\" style=\"fill:#949494;stroke-width:2;stroke:rgb(255,255,255)\"/><rect x=\"440\" y=\"0\" width=\"55\" height=\"55\" style=\"fill:#ece133;stroke-width:2;stroke:rgb(255,255,255)\"/><rect x=\"495\" y=\"0\" width=\"55\" height=\"55\" style=\"fill:#56b4e9;stroke-width:2;stroke:rgb(255,255,255)\"/></svg>"
      ],
      "text/plain": [
       "[(0.00392156862745098, 0.45098039215686275, 0.6980392156862745),\n",
       " (0.8705882352941177, 0.5607843137254902, 0.0196078431372549),\n",
       " (0.00784313725490196, 0.6196078431372549, 0.45098039215686275),\n",
       " (0.8352941176470589, 0.3686274509803922, 0.0),\n",
       " (0.8, 0.47058823529411764, 0.7372549019607844),\n",
       " (0.792156862745098, 0.5686274509803921, 0.3803921568627451),\n",
       " (0.984313725490196, 0.6862745098039216, 0.8941176470588236),\n",
       " (0.5803921568627451, 0.5803921568627451, 0.5803921568627451),\n",
       " (0.9254901960784314, 0.8823529411764706, 0.2),\n",
       " (0.33725490196078434, 0.7058823529411765, 0.9137254901960784)]"
      ]
     },
     "execution_count": 13,
     "metadata": {},
     "output_type": "execute_result"
    }
   ],
   "source": [
    "sns.color_palette(\"colorblind\")"
   ]
  },
  {
   "cell_type": "markdown",
   "id": "e5241592",
   "metadata": {},
   "source": [
    "### 1. Illustration of the Bootstrapping"
   ]
  },
  {
   "cell_type": "markdown",
   "id": "a563d255",
   "metadata": {},
   "source": [
    "The first subplot shows how we estimate the MLE parameters of the Gaussian distribution in order to use the for the resampling."
   ]
  },
  {
   "cell_type": "code",
   "execution_count": 14,
   "id": "7b11c782",
   "metadata": {},
   "outputs": [],
   "source": [
    "# Estimate the location and scale of the Gaussian we want to resample from.\n",
    "gauss_loc = np.mean(noise_flux)\n",
    "gauss_scale = np.std(noise_flux)"
   ]
  },
  {
   "cell_type": "markdown",
   "id": "3b65f863",
   "metadata": {},
   "source": [
    "Draw 6 bootstrap samples as examples. Note, the +1 is for the signal (yellow in the Figure)."
   ]
  },
  {
   "cell_type": "code",
   "execution_count": 15,
   "id": "4c58dc55",
   "metadata": {},
   "outputs": [],
   "source": [
    "np.random.seed(42)\n",
    "resamples =  [np.random.normal(loc=gauss_loc, \n",
    "                               scale=gauss_scale, \n",
    "                               size=len(noise_flux) + 1) \n",
    "              for i in range(6)]"
   ]
  },
  {
   "cell_type": "markdown",
   "id": "5e68512c",
   "metadata": {},
   "source": [
    "A simple function to plot one of the 6 bootstrap samples."
   ]
  },
  {
   "cell_type": "code",
   "execution_count": 16,
   "id": "b41f1f16",
   "metadata": {},
   "outputs": [],
   "source": [
    "def plot_samples(noise_in, \n",
    "                 planet_in,\n",
    "                 axis_in,\n",
    "                 idx):\n",
    "    \n",
    "    # if idx is None it is the actual data.\n",
    "    # We plot it with different colors and labels\n",
    "    if idx is None:\n",
    "        color_noise = sns.color_palette(\"colorblind\")[0]\n",
    "        color_signal = sns.color_palette(\"colorblind\")[1]\n",
    "        noise_label = r\"$X_1, X_2, ..., X_n$\"\n",
    "        signal_label = r\"$Y_1$\"\n",
    "    else:\n",
    "        color_noise = sns.color_palette(\"colorblind\")[2]\n",
    "        color_signal = sns.color_palette(\"colorblind\")[8]\n",
    "        noise_label = r\"$X^*_1, X^*_2, ..., X^*_n$\"\n",
    "        signal_label = r\"$Y^*_1$\"\n",
    "    \n",
    "    # Compute the test statistic for the given bootstrap sample\n",
    "    T_star = test.test_2samp(planet_in, noise_in)[1]\n",
    "    \n",
    "    axis_in.hlines(0, xmin=-200, xmax=200, color=\"black\")\n",
    "    \n",
    "    # Plot the bootstrap sample\n",
    "    axis_in.scatter(noise_in,\n",
    "                    np.zeros_like(noise_in),\n",
    "                    color = color_noise,\n",
    "                    marker=\"x\", lw=3, s=100,\n",
    "                    label=noise_label)\n",
    "\n",
    "    axis_in.scatter(planet_in,\n",
    "                    np.zeros_like(planet_in),\n",
    "                    color = color_signal,\n",
    "                    marker=\"x\", lw=3, s=100, \n",
    "                    label=signal_label)\n",
    "    \n",
    "    # Add the value of the test statistic as text\n",
    "    if idx is None:\n",
    "        t_text = r\"$T_{obs}$\" + \" = {:.2f}\".format(T_obs)\n",
    "    else:\n",
    "        t_text = r\"$T^*_{}$\".format(idx) + \" = {:.2f}\".format(T_star)\n",
    "    \n",
    "    axis_in.text(120, 0, t_text, \n",
    "                 ha=\"center\", size=16, va=\"center\",\n",
    "                 bbox=dict(facecolor='white',\n",
    "                           boxstyle=\"round\",\n",
    "                           edgecolor=\"white\"))\n",
    "    \n",
    "    axis_in.set_xlim(-100, 135)\n",
    "    axis_in.axis(\"off\")"
   ]
  },
  {
   "cell_type": "markdown",
   "id": "5a6839b3",
   "metadata": {},
   "source": [
    "Create the final subplot."
   ]
  },
  {
   "cell_type": "code",
   "execution_count": 17,
   "id": "380c213d",
   "metadata": {},
   "outputs": [
    {
     "data": {
      "image/png": "[encoded data removed]",
      "text/plain": [
       "<Figure size 800x800 with 10 Axes>"
      ]
     },
     "metadata": {},
     "output_type": "display_data"
    }
   ],
   "source": [
    "# Create the Layout with gridspec\n",
    "fig = plt.figure(constrained_layout=False, figsize=(8, 8))\n",
    "\n",
    "# We have 10 subplots stack on to of each other\n",
    "# subplot 0: The input data\n",
    "# subplot 1: Estimation of the MLE\n",
    "# subplot 2: arrows from subplot 1 to subplots 3 - 9\n",
    "# subplots 3 - 5: bootstrap examples\n",
    "# subplot 6: Empty ...\n",
    "# subplots 7 - 9: bootstrap examples\n",
    "gs0 = fig.add_gridspec(10, 1, height_ratios=[1.5, 3, 1.,\n",
    "                                             1, 1, 1, 0.5,\n",
    "                                             1, 1, 1])\n",
    "\n",
    "# 1.) Plot the observations ---------------------------------------\n",
    "ax_observations = fig.add_subplot(gs0[0])\n",
    "plot_samples(noise_flux, planet_flux, ax_observations, None)\n",
    "\n",
    "ax_observations.text(gauss_loc, 0.035, \n",
    "                     r\"$\\overline{\\mathcal{X}}$\",\n",
    "                     ha=\"center\", size=16)\n",
    "\n",
    "# 2.) Plot the MLE step -------------------------------------------\n",
    "ax_mle = fig.add_subplot(gs0[1])\n",
    "\n",
    "# Plot the gaussian\n",
    "x = np.linspace(-200, 200, 2000)\n",
    "\n",
    "ax_mle.plot(x, stats.norm.pdf(x, loc=gauss_loc, scale=gauss_scale), \n",
    "            label=\"Noise PDF\",\n",
    "            color=sns.color_palette(\"colorblind\")[0], lw=3)\n",
    "\n",
    "ax_mle.set_xlim(-100, 135)\n",
    "ax_mle.set_ylim(-0.001, 0.019)\n",
    "ax_mle.hlines(0, xmin=-200, xmax=200, color=\"black\")\n",
    "ax_mle.axes.get_xaxis().set_ticklabels([])\n",
    "ax_mle.axes.get_yaxis().set_ticklabels([])\n",
    "ax_mle.axis(\"off\")\n",
    "\n",
    "ax_mle.axvline(gauss_loc,\n",
    "               ymin=0, ymax=1.4, ls=\"--\",\n",
    "               color=\"black\", \n",
    "               lw=2,\n",
    "               zorder=-1,\n",
    "               clip_on=False)\n",
    "\n",
    "# Add Text\n",
    "ax_mle.text(90, 0.005, \n",
    "            r\"$\\mu_{MLE} = \\overline{\\mathcal{X}}$\" + \" \\n\" +  \n",
    "            r\"$\\sigma_{MLE} = \\hat{\\sigma}_{\\mathcal{X}}$\",\n",
    "            ha=\"center\", size=16,\n",
    "            bbox=dict(facecolor='white',\n",
    "                      boxstyle=\"round\",\n",
    "                      edgecolor=\"white\"))\n",
    "\n",
    "ax_mle.text(-40, 0.005, \n",
    "            r\"$\\hat{F}$\",\n",
    "            ha=\"center\", size=18,\n",
    "            bbox=dict(facecolor='white',\n",
    "                      boxstyle=\"round\",\n",
    "                      edgecolor=\"white\"))\n",
    "\n",
    "# Add dashed line\n",
    "line = plt.Line2D((gauss_loc, gauss_loc + gauss_scale), \n",
    "                  (0.015, 0.015), lw=2, color=\"black\", \n",
    "                  marker=\"|\", ms=10)\n",
    "\n",
    "ax_mle.add_line(line)\n",
    "\n",
    "ax_mle.text(gauss_loc + gauss_scale/2, 0.017, \n",
    "            r\"$\\hat{\\sigma}_{\\mathcal{X}}$\",\n",
    "            ha=\"center\", size=16,)\n",
    "\n",
    "# 3.) Plot the arrows ---------------------------------------------\n",
    "ax_top_space = fig.add_subplot(gs0[2])\n",
    "\n",
    "ax_top_space.axis(\"off\")\n",
    "ax_top_space.set_xlim(-100, 135)\n",
    "ax_top_space.set_ylim(-1, 1)\n",
    "\n",
    "# one arrow for each noise and signal value\n",
    "for tmp_sample in resamples[0]:\n",
    "    ax_top_space.arrow(tmp_sample, 1.1, 0, -2.5, \n",
    "                       clip_on=False, width=1, lw=0.5,\n",
    "                       length_includes_head=True,\n",
    "                       head_length=0.5,\n",
    "                       head_width=4,\n",
    "                       color = sns.color_palette(\"colorblind\")[0])\n",
    "\n",
    "# 4.) Plot bootstrap examples -------------------------------------\n",
    "ax_rs1 = fig.add_subplot(gs0[3])\n",
    "ax_rs2 = fig.add_subplot(gs0[4])\n",
    "ax_rs3 = fig.add_subplot(gs0[5])\n",
    "\n",
    "# Plot the Samples and Re-samples ---------------------------------\n",
    "plot_samples(resamples[0][:-1], resamples[0][-1], ax_rs1, \"1\")\n",
    "plot_samples(resamples[1][:-1], resamples[1][-1], ax_rs2, \"2\")\n",
    "plot_samples(resamples[2][:-1], resamples[2][-1], ax_rs3, \"3\")\n",
    "\n",
    "# 5.) Plot Empty ... ----------------------------------------------\n",
    "ax_middle_space = fig.add_subplot(gs0[6])\n",
    "ax_middle_space.axis(\"off\")\n",
    "ax_middle_space.text(0, 0, \"...\", fontsize=18)\n",
    "ax_middle_space.set_xlim(-1, 1)\n",
    "ax_middle_space.set_ylim(-1, 1)\n",
    "\n",
    "# 6.) Plot bootstrap examples -------------------------------------\n",
    "ax_rs4 = fig.add_subplot(gs0[7])\n",
    "ax_rs5 = fig.add_subplot(gs0[8])\n",
    "ax_rs6 = fig.add_subplot(gs0[9])\n",
    "\n",
    "# Plot the Samples and Re-samples\n",
    "plot_samples(resamples[3][:-1], resamples[3][-1], ax_rs4, \"{B-2}\")\n",
    "plot_samples(resamples[4][:-1], resamples[4][-1], ax_rs5, \"{B-1}\")\n",
    "plot_samples(resamples[5][:-1], resamples[5][-1], ax_rs6, \"{B}\")\n",
    "\n",
    "# 7.) Add a Legend ------------------------------------------------\n",
    "ax_rs6.legend(ax_observations.get_legend_handles_labels()[0] + \\\n",
    "                  ax_rs6.get_legend_handles_labels()[0],\n",
    "              ax_observations.get_legend_handles_labels()[1] + \\\n",
    "                  ax_rs6.get_legend_handles_labels()[1],\n",
    "              ncol=4,\n",
    "              fontsize=16, \n",
    "              loc='lower center',\n",
    "              bbox_to_anchor=(0.5, -1.8))\n",
    "\n",
    "fig.patch.set_facecolor('white')\n",
    "plt.savefig(\"./04_01_resample.pdf\",\n",
    "            bbox_inches='tight')"
   ]
  },
  {
   "cell_type": "markdown",
   "id": "5c4c35fe",
   "metadata": {},
   "source": [
    "### 2. Distribution of $p(T^* = x | H_0)$"
   ]
  },
  {
   "cell_type": "markdown",
   "id": "0f616e45",
   "metadata": {},
   "source": [
    "The second subplot shows how the distribution $p(T^* = x | H_0)$ converges towards the t-distribution. For this we create histograms. Each histogram is based on a subset of the *T_star_gauss* we computed earlier."
   ]
  },
  {
   "cell_type": "code",
   "execution_count": 18,
   "id": "999d754f",
   "metadata": {},
   "outputs": [],
   "source": [
    "# Create the data and setups\n",
    "np.random.seed(42)\n",
    "idx_1 = np.random.randint(0, T_star_gauss.shape[0]-1, int(1e3))\n",
    "idx_2 = np.random.randint(0, T_star_gauss.shape[0]-1, int(1e4))\n",
    "idx_3 = np.random.randint(0, T_star_gauss.shape[0]-1, int(1e7))\n",
    "\n",
    "T_set_1 = pd.DataFrame({\"T\": T_star_gauss[idx_1],\n",
    "                        \"above\": T_star_gauss[idx_1] > T_obs})\n",
    "T_set_2 = pd.DataFrame({\"T\": T_star_gauss[idx_2],\n",
    "                        \"above\": T_star_gauss[idx_2] > T_obs})\n",
    "T_set_3 = pd.DataFrame({\"T\": T_star_gauss[idx_3],\n",
    "                        \"above\": T_star_gauss[idx_3] > T_obs})\n",
    "\n",
    "# The FPF / p-value of the test is given by the fraction of observations \n",
    "# larger than T_obs. See Equation (3) in the paper.\n",
    "fpf_1 = np.sum(T_star_gauss[idx_1] > T_obs) / len(T_star_gauss[idx_1])\n",
    "fpf_2 = np.sum(T_star_gauss[idx_2] > T_obs) / len(T_star_gauss[idx_2])\n",
    "fpf_3 = np.sum(T_star_gauss[idx_3] > T_obs) / len(T_star_gauss[idx_3])"
   ]
  },
  {
   "cell_type": "markdown",
   "id": "8437b064",
   "metadata": {},
   "source": [
    "A small function which plots one of the histograms."
   ]
  },
  {
   "cell_type": "code",
   "execution_count": 19,
   "id": "0cdc2307",
   "metadata": {},
   "outputs": [],
   "source": [
    "# Limits. Most values of T are between -7 and +7.\n",
    "axis_limit = 7\n",
    "\n",
    "def plot_histogram(data_in, \n",
    "                   numb_bins, \n",
    "                   axis_in,\n",
    "                   fpf_in):\n",
    "    \n",
    "    x = np.linspace(-axis_limit, axis_limit, 1000)\n",
    "    \n",
    "    # Plot the pdf of the t-distribution\n",
    "    axis_in.plot(x, stats.t.pdf(x, df=9),\n",
    "                 color=sns.color_palette(\"colorblind\")[1], \n",
    "                 lw=3,\n",
    "                 label=\"T-Distribution \" + r\"$\\nu = 9$\")\n",
    "    \n",
    "    # Plot the histogram based on the bootstrap samples\n",
    "    sns.histplot(data=data_in, \n",
    "                 x=\"T\", \n",
    "                 hue=\"above\",\n",
    "                 palette=[sns.color_palette(\"colorblind\")[0], \"red\"],\n",
    "                 bins=numb_bins, \n",
    "                 stat=\"density\", \n",
    "                 multiple=\"stack\",\n",
    "                 binrange=(-axis_limit, axis_limit),\n",
    "                 ax=axis_in,\n",
    "                 legend=False)\n",
    "    \n",
    "    # Add Text and Labels\n",
    "    axis_in.set_xlim(-7, 7)\n",
    "    axis_in.set_yscale(\"log\")\n",
    "    axis_in.yaxis.grid()\n",
    "    axis_in.tick_params(axis='both', which='major', labelsize=14)\n",
    "    axis_in.set_yticks([1e-04, 1e-03, 1e-02, 1e-01])\n",
    "    \n",
    "    axis_in.axvline(x=T_obs,\n",
    "                    ymin=0,\n",
    "                    ymax=1,\n",
    "                    c=\"black\",\n",
    "                    linewidth=2)\n",
    "\n",
    "    axis_in.set_ylabel(\"$p(T^*=x|H_0)$\", fontsize=16)\n",
    "    fpf_text = (5, 0.1, 16)\n",
    "\n",
    "    axis_in.text(\n",
    "        -5, 0.1, \n",
    "        r\"$B$\" + \" = {:.1e}\".format(data_in.shape[0]),\n",
    "        ha=\"center\", size=16,\n",
    "        bbox=dict(\n",
    "            facecolor='white',\n",
    "            boxstyle=\"round\",\n",
    "            edgecolor=\"white\"))\n",
    "    \n",
    "    axis_in.text(fpf_text[0], fpf_text[1], \n",
    "                 r\"FPF = {:.4f}\".format(fpf_in), \n",
    "                 ha=\"center\", size=fpf_text[2],\n",
    "                 bbox=dict(\n",
    "                     facecolor='white',\n",
    "                     boxstyle=\"round\",\n",
    "                     edgecolor=\"white\"))"
   ]
  },
  {
   "cell_type": "markdown",
   "id": "3250cb29",
   "metadata": {},
   "source": [
    "Create the actual plot. Note: this can take a while since *sns.histplot* has to calculate the histogram."
   ]
  },
  {
   "cell_type": "code",
   "execution_count": 20,
   "id": "c3580736",
   "metadata": {
    "nbsphinx-thumbnail": {
     "tooltip": "Illustration of the parametric bootstrap test introduced in this paper."
    }
   },
   "outputs": [
    {
     "data": {
      "image/png": "[encoded data removed]",
      "text/plain": [
       "<Figure size 800x800 with 3 Axes>"
      ]
     },
     "metadata": {},
     "output_type": "display_data"
    }
   ],
   "source": [
    "# Create the Layout with gridspec\n",
    "fig = plt.figure(constrained_layout=False, figsize=(8, 8))\n",
    "gs0 = fig.add_gridspec(3, 1, height_ratios=[1, 1, 1])\n",
    "gs0.update(hspace=0.1, wspace=0.2)\n",
    "\n",
    "ax_b1 = fig.add_subplot(gs0[0])\n",
    "ax_b2 = fig.add_subplot(gs0[1])\n",
    "ax_b3 = fig.add_subplot(gs0[2])\n",
    "\n",
    "# Plot the histograms\n",
    "plot_histogram(T_set_1, 100, ax_b1, fpf_1)\n",
    "plot_histogram(T_set_2, 100, ax_b2, fpf_2)\n",
    "plot_histogram(T_set_3, 100, ax_b3, fpf_3)\n",
    "\n",
    "# Add a vertical line at the position of T_obs\n",
    "ax_b2.axvline(x=T_obs,\n",
    "              ymin=-1.1,\n",
    "              ymax=1.1,\n",
    "              c=\"black\",\n",
    "              linewidth=2,\n",
    "              zorder=10, \n",
    "              clip_on=False)\n",
    "\n",
    "# Clean up the Labels\n",
    "ax_b1.axes.get_xaxis().set_ticklabels([])\n",
    "ax_b1.set_xlabel(\"\")\n",
    "ax_b2.axes.get_xaxis().set_ticklabels([])\n",
    "ax_b2.set_xlabel(\"\")\n",
    "ax_b3.set_xlabel(\"SNR / Test Statistic\", fontsize=16)\n",
    "\n",
    "# Add captions\n",
    "ax_b3.text(T_obs, 0.0001, r\"$T_{obs}$\" + \" = {:.2f}\".format(T_obs), \n",
    "           ha=\"center\", size=16,\n",
    "           bbox=dict(facecolor='white',\n",
    "                     boxstyle=\"round\",\n",
    "                     edgecolor=\"white\"))\n",
    "\n",
    "# Add a legend\n",
    "ax_b3.legend(ncol=1,\n",
    "             fontsize=16, \n",
    "             loc='lower center',\n",
    "             bbox_to_anchor=(0.5, -.7))\n",
    "\n",
    "# Save the plot\n",
    "fig.patch.set_facecolor('white')\n",
    "plt.savefig(\"./04_02_bs_histogram.pdf\",\n",
    "            bbox_inches='tight')"
   ]
  },
  {
   "cell_type": "markdown",
   "id": "648dc287",
   "metadata": {},
   "source": [
    "We merged the two subplots using Adobe Illustrator."
   ]
  },
  {
   "cell_type": "markdown",
   "id": "f21b43ea",
   "metadata": {},
   "source": [
    "## Bootstrapping for Laplacian noise"
   ]
  },
  {
   "cell_type": "markdown",
   "id": "5e87731e",
   "metadata": {},
   "source": [
    "<div style=\"text-align: justify\">\n",
    "This is an additional example which compares the distribution of $p(T^*=x | H_0)$ under two different assumptions: Gaussian noise and Laplacian noise. For this we first have to run the bootstrapping again for Laplacian noise.  \n",
    "</div>"
   ]
  },
  {
   "cell_type": "markdown",
   "id": "800ef0ef",
   "metadata": {},
   "source": [
    "### 1. Creation of Bootstrap samples"
   ]
  },
  {
   "cell_type": "markdown",
   "id": "d4b976a0",
   "metadata": {},
   "source": [
    "We start by setting up a [LaplaceBootstrapTest](../../03_package/statistics.rst#applefy.statistics.bootstrapping.LaplaceBootstrapTest)."
   ]
  },
  {
   "cell_type": "code",
   "execution_count": 21,
   "id": "3c6fa60a",
   "metadata": {},
   "outputs": [],
   "source": [
    "laplace_statistic = LaplaceBootstrapTest(\n",
    "    noise_flux, num_cpus=8)"
   ]
  },
  {
   "cell_type": "markdown",
   "id": "7cdd7abf",
   "metadata": {},
   "source": [
    "Now we can run the actual resampling using the function [run_bootstrap_experiment](../../03_package/statistics.rst#applefy.statistics.bootstrapping.BootstrapTest.run_bootstrap_experiment).\n",
    "\n",
    "Note: The following code cell is computationally expensive. Consider reducing *num_draws*."
   ]
  },
  {
   "cell_type": "code",
   "execution_count": 22,
   "id": "8efd8570",
   "metadata": {},
   "outputs": [],
   "source": [
    "T_star_laplace = laplace_statistic.run_bootstrap_experiment(\n",
    "    memory_size=5e6,\n",
    "    num_noise_values=len(noise_flux),\n",
    "    num_draws=1e8,\n",
    "    approximation_interval=np.linspace(-7, 7, 100000))"
   ]
  },
  {
   "cell_type": "code",
   "execution_count": 23,
   "id": "e8b08fed",
   "metadata": {},
   "outputs": [
    {
     "data": {
      "text/plain": [
       "(100000000,)"
      ]
     },
     "execution_count": 23,
     "metadata": {},
     "output_type": "execute_result"
    }
   ],
   "source": [
    "T_star_laplace.shape"
   ]
  },
  {
   "cell_type": "markdown",
   "id": "d0551ca8",
   "metadata": {},
   "source": [
    "### 2. Compute the Histograms"
   ]
  },
  {
   "cell_type": "markdown",
   "id": "a2f01300",
   "metadata": {},
   "source": [
    "In order to be able to show the interactive plots with bokeh on a static html page we have to pre-compute the histograms for different $B$ and noise assumptions."
   ]
  },
  {
   "cell_type": "markdown",
   "id": "76f7f116",
   "metadata": {},
   "source": [
    "The results are sorted in *T_star* which is why we shuffle them here."
   ]
  },
  {
   "cell_type": "code",
   "execution_count": 24,
   "id": "7b2227d4",
   "metadata": {},
   "outputs": [],
   "source": [
    "np.random.shuffle(T_star_laplace)\n",
    "np.random.shuffle(T_star_gauss)"
   ]
  },
  {
   "cell_type": "markdown",
   "id": "70220b38",
   "metadata": {},
   "source": [
    "Compute the bins and values of the histograms."
   ]
  },
  {
   "cell_type": "code",
   "execution_count": 25,
   "id": "4ed5d3a5",
   "metadata": {},
   "outputs": [],
   "source": [
    "num_draws = np.logspace(3, 8, 6)\n",
    "histogram_bins = np.linspace(-7, 7, 100)\n",
    "\n",
    "# a dict to save all histograms\n",
    "final_histograms = dict()\n",
    "\n",
    "for tmp_B in num_draws:\n",
    "    \n",
    "    # compute the histogram for the gaussian assumption\n",
    "    tmp_hist_gauss, edges = np.histogram(\n",
    "        # using the B random values of T_star \n",
    "        # (see shuffle step before)\n",
    "        T_star_gauss[:int(tmp_B)], \n",
    "        density=True,\n",
    "        bins=histogram_bins)\n",
    "    \n",
    "    # compute the histogram for the laplacian assumption\n",
    "    tmp_hist_laplace, edges = np.histogram(\n",
    "        T_star_laplace[:int(tmp_B)], \n",
    "        density=True,\n",
    "        bins=histogram_bins)\n",
    "    \n",
    "    # compute the fpf (equation 3 in the apples with apples paper)\n",
    "    fpf_gauss = np.sum(T_star_gauss[:int(tmp_B)] > T_obs) / \\\n",
    "        len(T_star_gauss[:int(tmp_B)])\n",
    "    fpf_laplace = np.sum(T_star_laplace[:int(tmp_B)] > T_obs) / \\\n",
    "        len(T_star_laplace[:int(tmp_B)])\n",
    "    \n",
    "    # We want to different colors for the part of the histogram larger than T_obs. \n",
    "    # This is why we split the histogram into two parts\n",
    "    cut_off_idx = np.where(edges[1:] > T_obs)[0][0]\n",
    "    \n",
    "    # Save the results\n",
    "    final_histograms[\"{:.0e}\".format(tmp_B) + \"_Gauss\"] = (\n",
    "        tmp_hist_gauss[:cut_off_idx],\n",
    "        tmp_hist_gauss[cut_off_idx:],\n",
    "        \"{:.4f}\".format(fpf_gauss))\n",
    "    \n",
    "    final_histograms[\"{:.0e}\".format(tmp_B) + \"_Laplace\"] = (\n",
    "        tmp_hist_laplace[:cut_off_idx],\n",
    "        tmp_hist_laplace[cut_off_idx:],\n",
    "        \"{:.4f}\".format(fpf_laplace))"
   ]
  },
  {
   "cell_type": "markdown",
   "id": "22537a58",
   "metadata": {},
   "source": [
    "### 3. Create the Plot"
   ]
  },
  {
   "cell_type": "code",
   "execution_count": 26,
   "id": "f742f7f1",
   "metadata": {},
   "outputs": [
    {
     "data": {
      "text/html": [
       "<style>\n",
       "        .bk-notebook-logo {\n",
       "            display: block;\n",
       "            width: 20px;\n",
       "            height: 20px;\n",
       "            background-image: url(data:image/png;base64,iVBORw0KGgoAAAANSUhEUgAAABQAAAAUCAYAAACNiR0NAAAABHNCSVQICAgIfAhkiAAAAAlwSFlzAAALEgAACxIB0t1+/AAAABx0RVh0U29mdHdhcmUAQWRvYmUgRmlyZXdvcmtzIENTNui8sowAAAOkSURBVDiNjZRtaJVlGMd/1/08zzln5zjP1LWcU9N0NkN8m2CYjpgQYQXqSs0I84OLIC0hkEKoPtiH3gmKoiJDU7QpLgoLjLIQCpEsNJ1vqUOdO7ppbuec5+V+rj4ctwzd8IIbbi6u+8f1539dt3A78eXC7QizUF7gyV1fD1Yqg4JWz84yffhm0qkFqBogB9rM8tZdtwVsPUhWhGcFJngGeWrPzHm5oaMmkfEg1usvLFyc8jLRqDOMru7AyC8saQr7GG7f5fvDeH7Ej8CM66nIF+8yngt6HWaKh7k49Soy9nXurCi1o3qUbS3zWfrYeQDTB/Qj6kX6Ybhw4B+bOYoLKCC9H3Nu/leUTZ1JdRWkkn2ldcCamzrcf47KKXdAJllSlxAOkRgyHsGC/zRday5Qld9DyoM4/q/rUoy/CXh3jzOu3bHUVZeU+DEn8FInkPBFlu3+nW3Nw0mk6vCDiWg8CeJaxEwuHS3+z5RgY+YBR6V1Z1nxSOfoaPa4LASWxxdNp+VWTk7+4vzaou8v8PN+xo+KY2xsw6une2frhw05CTYOmQvsEhjhWjn0bmXPjpE1+kplmmkP3suftwTubK9Vq22qKmrBhpY4jvd5afdRA3wGjFAgcnTK2s4hY0/GPNIb0nErGMCRxWOOX64Z8RAC4oCXdklmEvcL8o0BfkNK4lUg9HTl+oPlQxdNo3Mg4Nv175e/1LDGzZen30MEjRUtmXSfiTVu1kK8W4txyV6BMKlbgk3lMwYCiusNy9fVfvvwMxv8Ynl6vxoByANLTWplvuj/nF9m2+PDtt1eiHPBr1oIfhCChQMBw6Aw0UulqTKZdfVvfG7VcfIqLG9bcldL/+pdWTLxLUy8Qq38heUIjh4XlzZxzQm19lLFlr8vdQ97rjZVOLf8nclzckbcD4wxXMidpX30sFd37Fv/GtwwhzhxGVAprjbg0gCAEeIgwCZyTV2Z1REEW8O4py0wsjeloKoMr6iCY6dP92H6Vw/oTyICIthibxjm/DfN9lVz8IqtqKYLUXfoKVMVQVVJOElGjrnnUt9T9wbgp8AyYKaGlqingHZU/uG2NTZSVqwHQTWkx9hxjkpWDaCg6Ckj5qebgBVbT3V3NNXMSiWSDdGV3hrtzla7J+duwPOToIg42ChPQOQjspnSlp1V+Gjdged7+8UN5CRAV7a5EdFNwCjEaBR27b3W890TE7g24NAP/mMDXRWrGoFPQI9ls/MWO2dWFAar/xcOIImbbpA3zgAAAABJRU5ErkJggg==);\n",
       "        }\n",
       "    </style>\n",
       "    <div>\n",
       "        <a href=\"https://bokeh.org\" target=\"_blank\" class=\"bk-notebook-logo\"></a>\n",
       "        <span id=\"p1001\">Loading BokehJS ...</span>\n",
       "    </div>\n"
      ]
     },
     "metadata": {},
     "output_type": "display_data"
    },
    {
     "data": {
      "application/javascript": [
       "(function(root) {\n",
       "  function now() {\n",
       "    return new Date();\n",
       "  }\n",
       "\n",
       "  const force = true;\n",
       "\n",
       "  if (typeof root._bokeh_onload_callbacks === \"undefined\" || force === true) {\n",
       "    root._bokeh_onload_callbacks = [];\n",
       "    root._bokeh_is_loading = undefined;\n",
       "  }\n",
       "\n",
       "const JS_MIME_TYPE = 'application/javascript';\n",
       "  const HTML_MIME_TYPE = 'text/html';\n",
       "  const EXEC_MIME_TYPE = 'application/vnd.bokehjs_exec.v0+json';\n",
       "  const CLASS_NAME = 'output_bokeh rendered_html';\n",
       "\n",
       "  /**\n",
       "   * Render data to the DOM node\n",
       "   */\n",
       "  function render(props, node) {\n",
       "    const script = document.createElement(\"script\");\n",
       "    node.appendChild(script);\n",
       "  }\n",
       "\n",
       "  /**\n",
       "   * Handle when an output is cleared or removed\n",
       "   */\n",
       "  function handleClearOutput(event, handle) {\n",
       "    const cell = handle.cell;\n",
       "\n",
       "    const id = cell.output_area._bokeh_element_id;\n",
       "    const server_id = cell.output_area._bokeh_server_id;\n",
       "    // Clean up Bokeh references\n",
       "    if (id != null && id in Bokeh.index) {\n",
       "      Bokeh.index[id].model.document.clear();\n",
       "      delete Bokeh.index[id];\n",
       "    }\n",
       "\n",
       "    if (server_id !== undefined) {\n",
       "      // Clean up Bokeh references\n",
       "      const cmd_clean = \"from bokeh.io.state import curstate; print(curstate().uuid_to_server['\" + server_id + \"'].get_sessions()[0].document.roots[0]._id)\";\n",
       "      cell.notebook.kernel.execute(cmd_clean, {\n",
       "        iopub: {\n",
       "          output: function(msg) {\n",
       "            const id = msg.content.text.trim();\n",
       "            if (id in Bokeh.index) {\n",
       "              Bokeh.index[id].model.document.clear();\n",
       "              delete Bokeh.index[id];\n",
       "            }\n",
       "          }\n",
       "        }\n",
       "      });\n",
       "      // Destroy server and session\n",
       "      const cmd_destroy = \"import bokeh.io.notebook as ion; ion.destroy_server('\" + server_id + \"')\";\n",
       "      cell.notebook.kernel.execute(cmd_destroy);\n",
       "    }\n",
       "  }\n",
       "\n",
       "  /**\n",
       "   * Handle when a new output is added\n",
       "   */\n",
       "  function handleAddOutput(event, handle) {\n",
       "    const output_area = handle.output_area;\n",
       "    const output = handle.output;\n",
       "\n",
       "    // limit handleAddOutput to display_data with EXEC_MIME_TYPE content only\n",
       "    if ((output.output_type != \"display_data\") || (!Object.prototype.hasOwnProperty.call(output.data, EXEC_MIME_TYPE))) {\n",
       "      return\n",
       "    }\n",
       "\n",
       "    const toinsert = output_area.element.find(\".\" + CLASS_NAME.split(' ')[0]);\n",
       "\n",
       "    if (output.metadata[EXEC_MIME_TYPE][\"id\"] !== undefined) {\n",
       "      toinsert[toinsert.length - 1].firstChild.textContent = output.data[JS_MIME_TYPE];\n",
       "      // store reference to embed id on output_area\n",
       "      output_area._bokeh_element_id = output.metadata[EXEC_MIME_TYPE][\"id\"];\n",
       "    }\n",
       "    if (output.metadata[EXEC_MIME_TYPE][\"server_id\"] !== undefined) {\n",
       "      const bk_div = document.createElement(\"div\");\n",
       "      bk_div.innerHTML = output.data[HTML_MIME_TYPE];\n",
       "      const script_attrs = bk_div.children[0].attributes;\n",
       "      for (let i = 0; i < script_attrs.length; i++) {\n",
       "        toinsert[toinsert.length - 1].firstChild.setAttribute(script_attrs[i].name, script_attrs[i].value);\n",
       "        toinsert[toinsert.length - 1].firstChild.textContent = bk_div.children[0].textContent\n",
       "      }\n",
       "      // store reference to server id on output_area\n",
       "      output_area._bokeh_server_id = output.metadata[EXEC_MIME_TYPE][\"server_id\"];\n",
       "    }\n",
       "  }\n",
       "\n",
       "  function register_renderer(events, OutputArea) {\n",
       "\n",
       "    function append_mime(data, metadata, element) {\n",
       "      // create a DOM node to render to\n",
       "      const toinsert = this.create_output_subarea(\n",
       "        metadata,\n",
       "        CLASS_NAME,\n",
       "        EXEC_MIME_TYPE\n",
       "      );\n",
       "      this.keyboard_manager.register_events(toinsert);\n",
       "      // Render to node\n",
       "      const props = {data: data, metadata: metadata[EXEC_MIME_TYPE]};\n",
       "      render(props, toinsert[toinsert.length - 1]);\n",
       "      element.append(toinsert);\n",
       "      return toinsert\n",
       "    }\n",
       "\n",
       "    /* Handle when an output is cleared or removed */\n",
       "    events.on('clear_output.CodeCell', handleClearOutput);\n",
       "    events.on('delete.Cell', handleClearOutput);\n",
       "\n",
       "    /* Handle when a new output is added */\n",
       "    events.on('output_added.OutputArea', handleAddOutput);\n",
       "\n",
       "    /**\n",
       "     * Register the mime type and append_mime function with output_area\n",
       "     */\n",
       "    OutputArea.prototype.register_mime_type(EXEC_MIME_TYPE, append_mime, {\n",
       "      /* Is output safe? */\n",
       "      safe: true,\n",
       "      /* Index of renderer in `output_area.display_order` */\n",
       "      index: 0\n",
       "    });\n",
       "  }\n",
       "\n",
       "  // register the mime type if in Jupyter Notebook environment and previously unregistered\n",
       "  if (root.Jupyter !== undefined) {\n",
       "    const events = require('base/js/events');\n",
       "    const OutputArea = require('notebook/js/outputarea').OutputArea;\n",
       "\n",
       "    if (OutputArea.prototype.mime_types().indexOf(EXEC_MIME_TYPE) == -1) {\n",
       "      register_renderer(events, OutputArea);\n",
       "    }\n",
       "  }\n",
       "  if (typeof (root._bokeh_timeout) === \"undefined\" || force === true) {\n",
       "    root._bokeh_timeout = Date.now() + 5000;\n",
       "    root._bokeh_failed_load = false;\n",
       "  }\n",
       "\n",
       "  const NB_LOAD_WARNING = {'data': {'text/html':\n",
       "     \"<div style='background-color: #fdd'>\\n\"+\n",
       "     \"<p>\\n\"+\n",
       "     \"BokehJS does not appear to have successfully loaded. If loading BokehJS from CDN, this \\n\"+\n",
       "     \"may be due to a slow or bad network connection. Possible fixes:\\n\"+\n",
       "     \"</p>\\n\"+\n",
       "     \"<ul>\\n\"+\n",
       "     \"<li>re-rerun `output_notebook()` to attempt to load from CDN again, or</li>\\n\"+\n",
       "     \"<li>use INLINE resources instead, as so:</li>\\n\"+\n",
       "     \"</ul>\\n\"+\n",
       "     \"<code>\\n\"+\n",
       "     \"from bokeh.resources import INLINE\\n\"+\n",
       "     \"output_notebook(resources=INLINE)\\n\"+\n",
       "     \"</code>\\n\"+\n",
       "     \"</div>\"}};\n",
       "\n",
       "  function display_loaded() {\n",
       "    const el = document.getElementById(\"p1001\");\n",
       "    if (el != null) {\n",
       "      el.textContent = \"BokehJS is loading...\";\n",
       "    }\n",
       "    if (root.Bokeh !== undefined) {\n",
       "      if (el != null) {\n",
       "        el.textContent = \"BokehJS \" + root.Bokeh.version + \" successfully loaded.\";\n",
       "      }\n",
       "    } else if (Date.now() < root._bokeh_timeout) {\n",
       "      setTimeout(display_loaded, 100)\n",
       "    }\n",
       "  }\n",
       "\n",
       "  function run_callbacks() {\n",
       "    try {\n",
       "      root._bokeh_onload_callbacks.forEach(function(callback) {\n",
       "        if (callback != null)\n",
       "          callback();\n",
       "      });\n",
       "    } finally {\n",
       "      delete root._bokeh_onload_callbacks\n",
       "    }\n",
       "    console.debug(\"Bokeh: all callbacks have finished\");\n",
       "  }\n",
       "\n",
       "  function load_libs(css_urls, js_urls, callback) {\n",
       "    if (css_urls == null) css_urls = [];\n",
       "    if (js_urls == null) js_urls = [];\n",
       "\n",
       "    root._bokeh_onload_callbacks.push(callback);\n",
       "    if (root._bokeh_is_loading > 0) {\n",
       "      console.debug(\"Bokeh: BokehJS is being loaded, scheduling callback at\", now());\n",
       "      return null;\n",
       "    }\n",
       "    if (js_urls == null || js_urls.length === 0) {\n",
       "      run_callbacks();\n",
       "      return null;\n",
       "    }\n",
       "    console.debug(\"Bokeh: BokehJS not loaded, scheduling load and callback at\", now());\n",
       "    root._bokeh_is_loading = css_urls.length + js_urls.length;\n",
       "\n",
       "    function on_load() {\n",
       "      root._bokeh_is_loading--;\n",
       "      if (root._bokeh_is_loading === 0) {\n",
       "        console.debug(\"Bokeh: all BokehJS libraries/stylesheets loaded\");\n",
       "        run_callbacks()\n",
       "      }\n",
       "    }\n",
       "\n",
       "    function on_error(url) {\n",
       "      console.error(\"failed to load \" + url);\n",
       "    }\n",
       "\n",
       "    for (let i = 0; i < css_urls.length; i++) {\n",
       "      const url = css_urls[i];\n",
       "      const element = document.createElement(\"link\");\n",
       "      element.onload = on_load;\n",
       "      element.onerror = on_error.bind(null, url);\n",
       "      element.rel = \"stylesheet\";\n",
       "      element.type = \"text/css\";\n",
       "      element.href = url;\n",
       "      console.debug(\"Bokeh: injecting link tag for BokehJS stylesheet: \", url);\n",
       "      document.body.appendChild(element);\n",
       "    }\n",
       "\n",
       "    for (let i = 0; i < js_urls.length; i++) {\n",
       "      const url = js_urls[i];\n",
       "      const element = document.createElement('script');\n",
       "      element.onload = on_load;\n",
       "      element.onerror = on_error.bind(null, url);\n",
       "      element.async = false;\n",
       "      element.src = url;\n",
       "      console.debug(\"Bokeh: injecting script tag for BokehJS library: \", url);\n",
       "      document.head.appendChild(element);\n",
       "    }\n",
       "  };\n",
       "\n",
       "  function inject_raw_css(css) {\n",
       "    const element = document.createElement(\"style\");\n",
       "    element.appendChild(document.createTextNode(css));\n",
       "    document.body.appendChild(element);\n",
       "  }\n",
       "\n",
       "  const js_urls = [\"https://cdn.bokeh.org/bokeh/release/bokeh-3.0.3.min.js\", \"https://cdn.bokeh.org/bokeh/release/bokeh-gl-3.0.3.min.js\", \"https://cdn.bokeh.org/bokeh/release/bokeh-widgets-3.0.3.min.js\", \"https://cdn.bokeh.org/bokeh/release/bokeh-tables-3.0.3.min.js\", \"https://cdn.bokeh.org/bokeh/release/bokeh-mathjax-3.0.3.min.js\"];\n",
       "  const css_urls = [];\n",
       "\n",
       "  const inline_js = [    function(Bokeh) {\n",
       "      Bokeh.set_log_level(\"info\");\n",
       "    },\n",
       "function(Bokeh) {\n",
       "    }\n",
       "  ];\n",
       "\n",
       "  function run_inline_js() {\n",
       "    if (root.Bokeh !== undefined || force === true) {\n",
       "          for (let i = 0; i < inline_js.length; i++) {\n",
       "      inline_js[i].call(root, root.Bokeh);\n",
       "    }\n",
       "if (force === true) {\n",
       "        display_loaded();\n",
       "      }} else if (Date.now() < root._bokeh_timeout) {\n",
       "      setTimeout(run_inline_js, 100);\n",
       "    } else if (!root._bokeh_failed_load) {\n",
       "      console.log(\"Bokeh: BokehJS failed to load within specified timeout.\");\n",
       "      root._bokeh_failed_load = true;\n",
       "    } else if (force !== true) {\n",
       "      const cell = $(document.getElementById(\"p1001\")).parents('.cell').data().cell;\n",
       "      cell.output_area.append_execute_result(NB_LOAD_WARNING)\n",
       "    }\n",
       "  }\n",
       "\n",
       "  if (root._bokeh_is_loading === 0) {\n",
       "    console.debug(\"Bokeh: BokehJS loaded, going straight to plotting\");\n",
       "    run_inline_js();\n",
       "  } else {\n",
       "    load_libs(css_urls, js_urls, function() {\n",
       "      console.debug(\"Bokeh: BokehJS plotting callback run at\", now());\n",
       "      run_inline_js();\n",
       "    });\n",
       "  }\n",
       "}(window));"
      ],
      "application/vnd.bokehjs_load.v0+json": "(function(root) {\n  function now() {\n    return new Date();\n  }\n\n  const force = true;\n\n  if (typeof root._bokeh_onload_callbacks === \"undefined\" || force === true) {\n    root._bokeh_onload_callbacks = [];\n    root._bokeh_is_loading = undefined;\n  }\n\n\n  if (typeof (root._bokeh_timeout) === \"undefined\" || force === true) {\n    root._bokeh_timeout = Date.now() + 5000;\n    root._bokeh_failed_load = false;\n  }\n\n  const NB_LOAD_WARNING = {'data': {'text/html':\n     \"<div style='background-color: #fdd'>\\n\"+\n     \"<p>\\n\"+\n     \"BokehJS does not appear to have successfully loaded. If loading BokehJS from CDN, this \\n\"+\n     \"may be due to a slow or bad network connection. Possible fixes:\\n\"+\n     \"</p>\\n\"+\n     \"<ul>\\n\"+\n     \"<li>re-rerun `output_notebook()` to attempt to load from CDN again, or</li>\\n\"+\n     \"<li>use INLINE resources instead, as so:</li>\\n\"+\n     \"</ul>\\n\"+\n     \"<code>\\n\"+\n     \"from bokeh.resources import INLINE\\n\"+\n     \"output_notebook(resources=INLINE)\\n\"+\n     \"</code>\\n\"+\n     \"</div>\"}};\n\n  function display_loaded() {\n    const el = document.getElementById(\"p1001\");\n    if (el != null) {\n      el.textContent = \"BokehJS is loading...\";\n    }\n    if (root.Bokeh !== undefined) {\n      if (el != null) {\n        el.textContent = \"BokehJS \" + root.Bokeh.version + \" successfully loaded.\";\n      }\n    } else if (Date.now() < root._bokeh_timeout) {\n      setTimeout(display_loaded, 100)\n    }\n  }\n\n  function run_callbacks() {\n    try {\n      root._bokeh_onload_callbacks.forEach(function(callback) {\n        if (callback != null)\n          callback();\n      });\n    } finally {\n      delete root._bokeh_onload_callbacks\n    }\n    console.debug(\"Bokeh: all callbacks have finished\");\n  }\n\n  function load_libs(css_urls, js_urls, callback) {\n    if (css_urls == null) css_urls = [];\n    if (js_urls == null) js_urls = [];\n\n    root._bokeh_onload_callbacks.push(callback);\n    if (root._bokeh_is_loading > 0) {\n      console.debug(\"Bokeh: BokehJS is being loaded, scheduling callback at\", now());\n      return null;\n    }\n    if (js_urls == null || js_urls.length === 0) {\n      run_callbacks();\n      return null;\n    }\n    console.debug(\"Bokeh: BokehJS not loaded, scheduling load and callback at\", now());\n    root._bokeh_is_loading = css_urls.length + js_urls.length;\n\n    function on_load() {\n      root._bokeh_is_loading--;\n      if (root._bokeh_is_loading === 0) {\n        console.debug(\"Bokeh: all BokehJS libraries/stylesheets loaded\");\n        run_callbacks()\n      }\n    }\n\n    function on_error(url) {\n      console.error(\"failed to load \" + url);\n    }\n\n    for (let i = 0; i < css_urls.length; i++) {\n      const url = css_urls[i];\n      const element = document.createElement(\"link\");\n      element.onload = on_load;\n      element.onerror = on_error.bind(null, url);\n      element.rel = \"stylesheet\";\n      element.type = \"text/css\";\n      element.href = url;\n      console.debug(\"Bokeh: injecting link tag for BokehJS stylesheet: \", url);\n      document.body.appendChild(element);\n    }\n\n    for (let i = 0; i < js_urls.length; i++) {\n      const url = js_urls[i];\n      const element = document.createElement('script');\n      element.onload = on_load;\n      element.onerror = on_error.bind(null, url);\n      element.async = false;\n      element.src = url;\n      console.debug(\"Bokeh: injecting script tag for BokehJS library: \", url);\n      document.head.appendChild(element);\n    }\n  };\n\n  function inject_raw_css(css) {\n    const element = document.createElement(\"style\");\n    element.appendChild(document.createTextNode(css));\n    document.body.appendChild(element);\n  }\n\n  const js_urls = [\"https://cdn.bokeh.org/bokeh/release/bokeh-3.0.3.min.js\", \"https://cdn.bokeh.org/bokeh/release/bokeh-gl-3.0.3.min.js\", \"https://cdn.bokeh.org/bokeh/release/bokeh-widgets-3.0.3.min.js\", \"https://cdn.bokeh.org/bokeh/release/bokeh-tables-3.0.3.min.js\", \"https://cdn.bokeh.org/bokeh/release/bokeh-mathjax-3.0.3.min.js\"];\n  const css_urls = [];\n\n  const inline_js = [    function(Bokeh) {\n      Bokeh.set_log_level(\"info\");\n    },\nfunction(Bokeh) {\n    }\n  ];\n\n  function run_inline_js() {\n    if (root.Bokeh !== undefined || force === true) {\n          for (let i = 0; i < inline_js.length; i++) {\n      inline_js[i].call(root, root.Bokeh);\n    }\nif (force === true) {\n        display_loaded();\n      }} else if (Date.now() < root._bokeh_timeout) {\n      setTimeout(run_inline_js, 100);\n    } else if (!root._bokeh_failed_load) {\n      console.log(\"Bokeh: BokehJS failed to load within specified timeout.\");\n      root._bokeh_failed_load = true;\n    } else if (force !== true) {\n      const cell = $(document.getElementById(\"p1001\")).parents('.cell').data().cell;\n      cell.output_area.append_execute_result(NB_LOAD_WARNING)\n    }\n  }\n\n  if (root._bokeh_is_loading === 0) {\n    console.debug(\"Bokeh: BokehJS loaded, going straight to plotting\");\n    run_inline_js();\n  } else {\n    load_libs(css_urls, js_urls, function() {\n      console.debug(\"Bokeh: BokehJS plotting callback run at\", now());\n      run_inline_js();\n    });\n  }\n}(window));"
     },
     "metadata": {},
     "output_type": "display_data"
    }
   ],
   "source": [
    "# Start the bokeh for jupyter notebooks\n",
    "from bokeh.io import output_notebook\n",
    "output_notebook()"
   ]
  },
  {
   "cell_type": "markdown",
   "id": "82c44844",
   "metadata": {},
   "source": [
    "Setup the same colors as used for the previous plot."
   ]
  },
  {
   "cell_type": "code",
   "execution_count": 27,
   "id": "6c81025d",
   "metadata": {},
   "outputs": [],
   "source": [
    "color_blue = tuple([int(i*255) for i in sns.color_palette(\"colorblind\")[0]])\n",
    "color_t_dist = tuple([int(i*255) for i in sns.color_palette(\"colorblind\")[1]])\n",
    "color_red = \"red\""
   ]
  },
  {
   "cell_type": "markdown",
   "id": "4f8e4e98",
   "metadata": {},
   "source": [
    "Create the actual interactive Plot."
   ]
  },
  {
   "cell_type": "code",
   "execution_count": 28,
   "id": "381f5084",
   "metadata": {},
   "outputs": [
    {
     "data": {
      "text/html": [
       "\n",
       "  <div id=\"83c65906-86ea-42c4-b2a1-ca65d869a0f4\" data-root-id=\"p1102\" style=\"display: contents;\"></div>\n"
      ]
     },
     "metadata": {},
     "output_type": "display_data"
    },
    {
     "data": {
      "application/javascript": [
       "(function(root) {\n",
       "  function embed_document(root) {\n",
       "  const docs_json = {\"6a7e6ffa-a141-4f67-a9fc-c7ed07d8a789\":{\"version\":\"3.0.3\",\"title\":\"Bokeh Application\",\"defs\":[],\"roots\":[{\"type\":\"object\",\"name\":\"Column\",\"id\":\"p1102\",\"attributes\":{\"children\":[{\"type\":\"object\",\"name\":\"Row\",\"id\":\"p1101\",\"attributes\":{\"children\":[{\"type\":\"object\",\"name\":\"Select\",\"id\":\"p1098\",\"attributes\":{\"js_property_callbacks\":{\"type\":\"map\",\"entries\":[[\"change:value\",[{\"type\":\"object\",\"name\":\"CustomJS\",\"id\":\"p1100\",\"attributes\":{\"args\":{\"type\":\"map\",\"entries\":[[\"B\",{\"id\":\"p1098\"}],[\"dist\",{\"type\":\"object\",\"name\":\"Select\",\"id\":\"p1099\",\"attributes\":{\"js_property_callbacks\":{\"type\":\"map\",\"entries\":[[\"change:value\",[{\"id\":\"p1100\"}]]]},\"title\":\"Assumed noise:\",\"options\":[\"Gauss\",\"Laplace\"],\"value\":\"Gauss\"}}],[\"fpf_text\",{\"type\":\"object\",\"name\":\"Div\",\"id\":\"p1097\",\"attributes\":{\"width\":300,\"height\":50,\"margin\":[30,10,10,50],\"text\":\"<p style=\\\"color:black;\\n                                 font-size:20px;\\n                                 font-weight: bold;\\\">FPF = 0.0245 </p>\"}}],[\"s_all_histograms\",{\"type\":\"object\",\"name\":\"ColumnDataSource\",\"id\":\"p1035\",\"attributes\":{\"selected\":{\"type\":\"object\",\"name\":\"Selection\",\"id\":\"p1036\",\"attributes\":{\"indices\":[],\"line_indices\":[]}},\"selection_policy\":{\"type\":\"object\",\"name\":\"UnionRenderers\",\"id\":\"p1037\"},\"data\":{\"type\":\"map\",\"entries\":[[\"1e+03_Gauss\",[{\"type\":\"ndarray\",\"array\":{\"type\":\"bytes\",\"data\":\"AAAAAAAAAAAAAAAAAAAAAAAAAAAAAAAAAAAAAAAAAAAAAAAAAAAAAAAAAAAAAAAAAAAAAAAAAAAAAAAAAAAAAAAAAAAAAAAAAAAAAAAAAAAAAAAAAAAAAAAAAAAAAAAAAAAAAAAAAAAAAAAAAAAAAAAAAAAAAAAAAAAAAAAAAAAAAAAAAAAAAAAAAAAAAAAAAAAAAAAAAAAAAAAAAAAAAAAAAAAAAAAAAAAAAAAAAADKXjQn7vZ8PwAAAAAAAAAAAAAAAAAAAADKXjQn7vZ8P8peNCfu9nw/AAAAAAAAAAAAAAAAAAAAAONeNCfu9ow/sF40J+72fD8rR2edMrmlP+NeNCfu9ow/sF40J+72nD/jXjQn7vacP7BeNCfu9qw/K0dnnTK5tT+cpKcJXca+P+NeNCfu9rw/JF66SQwCwz/jXjQn7vbMP7BeNCfu9sw//nWH08c/yj8aAfS6w+nTP8qMHZEwjtI/DqQtLHvR1D9njZduEoPcPytHZ50yudU/2tJNYhBY2T/+dYfTxz/aPwRHZ50yudU/r3XK5FZF1T9pXnc4ffzXP527PcfFFNc/sF40J+72zD9gdQ325UrQP5PSkHOfXdQ/+umgDuqgxj9fAfS6w+nDPzgYR2edMsE/2tJNYhBYuT8uu4DYVBqyPzTTTWIQWKk/sF40J+72vD/a0k1iEFipPw==\"},\"shape\":[65],\"dtype\":\"float64\",\"order\":\"little\"},{\"type\":\"ndarray\",\"array\":{\"type\":\"bytes\",\"data\":\"UUdnnTK5lT+wXjQn7vaMP7BeNCfu9ow/sF40J+72jD9RR2edMrmVP7BeNCfu9ow/BEdnnTK5lT+wXjQn7vZ8PxdfNCfu9nw/sF40J+72jD8AAAAAAAAAAAAAAAAAAAAAF180J+72fD8AAAAAAAAAALBeNCfu9nw/AAAAAAAAAAAAAAAAAAAAAAAAAAAAAAAAAAAAAAAAAAAAAAAAAAAAAAAAAAAAAAAAAAAAAAAAAAAAAAAAAAAAAAAAAAAAAAAAAAAAAAAAAAAAAAAAAAAAAAAAAAAAAAAAAAAAAAAAAAAAAAAAAAAAAAAAAAAAAAAAAAAAAAAAAAAAAAAAAAAAAAAAAAAAAAAAAAAAAAAAAAA=\"},\"shape\":[34],\"dtype\":\"float64\",\"order\":\"little\"},\"0.0200\"]],[\"1e+03_Laplace\",[{\"type\":\"ndarray\",\"array\":{\"type\":\"bytes\",\"data\":\"AAAAAAAAAAAAAAAAAAAAAAAAAAAAAAAAAAAAAAAAAAAAAAAAAAAAAAAAAAAAAAAAAAAAAAAAAAAAAAAAAAAAAAAAAAAAAAAAAAAAAAAAAAAAAAAAAAAAACsvnzTKBX0/AAAAAAAAAABeL580ygV9PysvnzTKBX0/AAAAAAAAAABeL580ygV9P14vnzTKBX0/AAAAAAAAAAArL580ygWNPwAAAAAAAAAARC+fNMoFfT9EL580ygWNP14vnzTKBX0/RC+fNMoFfT8AAAAAAAAAAEQvnzTKBY0/RC+fNMoFfT9gY3enV8SlP14vnzTKBY0/YGN3p1fElT9eL580ygWtP14vnzTKBY0/YGN3p1fEpT+lipm9QVOwP0VJC+4QZak/h2N3p1fEtT9FSQvuEGWpP4djd6dXxLU/iIqZvUFTsD9UIunXJta+P2Bjd6dXxMU/fFbBSrSUxz9FSQvuEGXJPxZ3iLLMC9M/U1bBSrSU1z+HY3enV8TVP3JJC+4QZdk/ODxVkW012z+WpRavD2LeP0QHbOZYx+A/OtOTc8sI2D9gY3enV8TVP14vnzTKBc0/5mnSVSnc1D/tQrA/P03KP7E1+uKbHcw/U1bBSrSUxz+mVsFKtJTHPzg8VZFtNbs/RUkL7hBluT9TVsFKtJS3P61jd6dXxLU/e33jYJ4joj97feNgniOiPw==\"},\"shape\":[65],\"dtype\":\"float64\",\"order\":\"little\"},{\"type\":\"ndarray\",\"array\":{\"type\":\"bytes\",\"data\":\"kS+fNMoFnT8AAAAAAAAAACsvnzTKBZ0/YGN3p1fEpT+RL580ygWdP0VJC+4QZak/Ky+fNMoFfT9gY3enV8SVP7t942CeI6I/Ky+fNMoFjT8AAAAAAAAAAGBjd6dXxJU/u33jYJ4joj8rL580ygV9PwAAAAAAAAAAAAAAAAAAAAAAAAAAAAAAAAAAAAAAAAAAKy+fNMoFfT8AAAAAAAAAAAAAAAAAAAAAAAAAAAAAAAArL580ygV9P5EvnzTKBX0/AAAAAAAAAAAAAAAAAAAAAAAAAAAAAAAAAAAAAAAAAAArL580ygV9PwAAAAAAAAAAAAAAAAAAAAArL580ygV9PysvnzTKBX0/AAAAAAAAAAA=\"},\"shape\":[34],\"dtype\":\"float64\",\"order\":\"little\"},\"0.0490\"]],[\"1e+04_Gauss\",[{\"type\":\"ndarray\",\"array\":{\"type\":\"bytes\",\"data\":\"AAAAAAAAAAAAAAAAAAAAAAAAAAAAAAAAAAAAAAAAAAAAAAAAAAAAAAAAAAAAAAAAAAAAAAAAAAAAAAAAAAAAAAAAAAAAAAAACflwmIksRz8y+XCYiSxHPwn5cJiJLEc/AAAAAAAAAAAAAAAAAAAAAAAAAAAAAAAACflwmIksRz8y+XCYiSxXPzL5cJiJLFc/x7pUMmdhYT8J+XCYiSxXPzL5cJiJLEc/1rpUMmdhcT/62WJl+EZ0PzL5cJiJLEc/ZjeN/qv3bD9mN43+q/dsP9a6VDJnYYE/+tliZfhGdD9MN43+q/d8P+wnBmXjhIs/sWEmslwAlT+lVpsxPd2fP8YI+DFSn5g/lSWI2A5dpT+lVpsxPd2vPwxRYNKpebA/NTTQK+27sz8BvhEFJp26Pw8Vwvhb1sA/j0IYf8sawj9pca1LJXPGP5/rZ4uV4cs/w82Ynu4PzD/OSbyoOkrRP/yRD4eZyNI/lSWI2A5d1T/18cxuGv3XP/yANOXt5dc/ODZOuMHj2T/n0/2BcyvYP3CuimtdKtk/HCK2Q1fF1T/EOOEGj2fWP+oOXRXXutQ/dAZ6pX130j+Za10qmbPQP9ZjpD4xKMs/VHLskQ+HyT+dj3w4zETGP/4ykeUCqMA/lrAI+DFSvz/lgXMr2Pm6PywVwvhb1rA/8RTC+FvWsD9+zFlYBPyoPw==\"},\"shape\":[65],\"dtype\":\"float64\",\"order\":\"little\"},{\"type\":\"ndarray\",\"array\":{\"type\":\"bytes\",\"data\":\"JoE05e3lpz8qGH/LGhKaPyoYf8saEpo/x7pUMmdhkT8dKAZl44SLP0w3jf6r94w/eenp/sC5hT8J+XCYiSx3P5rK28sv1II/Khh/yxoSej8J+XCYiSxnP0w3jf6r92w/BLtUMmdhYT/HulQyZ2FhP8e6VDJnYWE/W/lwmIksRz/HulQyZ2FhPwn5cJiJLEc/CflwmIksRz8AAAAAAAAAAAAAAAAAAAAAAAAAAAAAAAAJ+XCYiSxHPwAAAAAAAAAAAAAAAAAAAAAAAAAAAAAAAAAAAAAAAAAAAAAAAAAAAAAAAAAAAAAAAAAAAAAAAAAAAAAAAAAAAAAAAAAAAAAAAAAAAAAAAAAAAAAAAAAAAAA=\"},\"shape\":[34],\"dtype\":\"float64\",\"order\":\"little\"},\"0.0226\"]],[\"1e+04_Laplace\",[{\"type\":\"ndarray\",\"array\":{\"type\":\"bytes\",\"data\":\"7v9nsws2Rz/F/2ezCzZHPwAAAAAAAAAAAAAAAAAAAAAAAAAAAAAAAMX/Z7MLNkc/7v9nsws2Rz/F/2ezCzZHP+7/Z7MLNlc/xf9nsws2Vz/u/2ezCzZHP9T/jcaIaHE/6f9BoI4DbT/u/2ezCzZ3P8X/Z7MLNlc/xf9nsws2Zz/z/43GiGhxP+n/QaCOA20/xf9nsws2Vz/M//o8Sk90P+n/QaCOA20/3H8x+KrChT/L/64WUOp/P/P/jcaIaIE/4X/Egenbgj/Z/2ezCzaHP9X/1CnNHIo/1f/UKc0cij/M//o8Sk+UP+s/cId91po/zr9f35mVkz/pf3hb73aeP/QfJToAUqA/0d/2UhF/oj/u/2ezCzanP75fB/v0v6k/8/+NxohosT/ULyevHDqxP+1/nm5sqbg/wO/StLA0uT/yd0NH22fCP8qnSaYwIMU/7pe0p9Uexz+3L9uIItXMP/IPkDulUNI/ynewvZxO1T/trzdXAHvYP+qbmPb+sts/t5eOlFjs3D/o0x+QYt/eP9et68JoY+A/6qMZMQ0n3D/Hoz9EilnWP++TPc9tcdU/04PO44+i0T/rfwvlLZDLP8BPBYbY18g/1Y9ZgETdwD8RAI7GiGjBP7s/cId91ro/ya/K4D6UtT/H72U+7022Px2gD89mYK0/xf9nsws2pz/Ln8hrIqykPw==\"},\"shape\":[65],\"dtype\":\"float64\",\"order\":\"little\"},{\"type\":\"ndarray\",\"array\":{\"type\":\"bytes\",\"data\":\"FUCWmvoIpT+/vznMHGOZP9VfwJewC6E/yX8x+KrClT8VAPs8Sk+UP9B/xIHp25I/1P+NxohokT+w/64WUOqPPxDA8mjYrpA/zP/6PEpPhD/F/2ezCzZ3P7b/QaCOA30/FQD7PEpPhD/U/43GiGhxP9T/jcaIaHE/EQCOxohocT/U/43GiGhhP7b/QaCOA20/1P+NxohoYT8RAI7GiGhhP8X/Z7MLNkc/xf9nsws2Rz/U/43GiGhhPxcAaLMLNkc/xf9nsws2Rz/F/2ezCzZHPwAAAAAAAAAAFwBosws2Rz/U/43GiGhhP8X/Z7MLNlc/FwBosws2Rz/F/2ezCzZXP8X/Z7MLNkc/AAAAAAAAAAA=\"},\"shape\":[34],\"dtype\":\"float64\",\"order\":\"little\"},\"0.0367\"]],[\"1e+05_Gauss\",[{\"type\":\"ndarray\",\"array\":{\"type\":\"bytes\",\"data\":\"AAAAAAAAAADj2Gw544kSPwAAAAAAAAAA49hsOeOJEj8AAAAAAAAAAOPYbDnjiRI/BNlsOeOJEj9VRSPW1M4rPwTZbDnjiRI/49hsOeOJEj8E2Ww544kiPwB0mqAf20Q/BNlsOeOJMj8kdJqgH9tEP+PYbDnjiUI/HA/IB1wsNz9FD8gHXCxHP4dFI9bUzks/AHSaoB/bVD9y4FA9ESBePzau53CvSF8/Sw3PhtBGZD+n3le8hTprP+Q9P9KmOHA/LHKhH5T1cT9pqPztDJh2P+MUs4r+3H8/naQK7PXMgD/dZ74Nqt6FP5YXspi6XZA/EnoIalpZlD98N07C0+yZP+QAcK3CfJ4/Tpon2gu2pD8rlfStykOrP/2YDUtJPbA/e53ePil1tD8SFy9SIpC5PwFTGfgMRL8/yw2ueJmzwj++Y5tvYnbFP518jjJHe8k//ihIEqJtzT8HUGBZI5vQP2dtn4+DINM/0Eg0rFZD1D8uY7x9mQnXP6HeqWbtatc/c/fF/gWI2T+ExM/qQnTYP62vrRs+p9g/od6pZu1q1z/w1WMqXprWPx2QlnKJz9Q/qoucqXV/0j/a/CEAexLRP9Mr/3a/LM0/R1NKlD3hyT8DE15eQljFPyEYP+AbmsI/eyyMviBpvz+ACzKxdQC5P1p6CGpaWbQ/oKp4tTBLsD9+zctDZ5mpPw==\"},\"shape\":[65],\"dtype\":\"float64\",\"order\":\"little\"},{\"type\":\"ndarray\",\"array\":{\"type\":\"bytes\",\"data\":\"zreP5Z9TpT/lzU6K/2agP7VxHtn7J5s/JwdhvZXIlD+lRxxXYLSOP7LqM0/7Noo/1Vnp+aj8gz8H5UjMWIaBPxJ6hSPCi30/8fQWYeVNdj/yV/B4HRdxP3JDKlVJ6Wg/N3aTIavAZz9VC9YFRWFhP6vcXjv6VFg/3OBQPREgXj8AdJqgH9tUPwB0mqAf20Q/HA/IB1wsRz9KdJqgH9tEP1VFI9bUzis/49hsOeOJQj9VRSPW1M4rPyXZbDnjiTI/AAAAAAAAAADj2Gw544kiPwAAAAAAAAAAJdlsOeOJEj8AAAAAAAAAAOPYbDnjiRI/JdlsOeOJEj/j2Gw544kSPwAAAAAAAAAAAAAAAAAAAAA=\"},\"shape\":[34],\"dtype\":\"float64\",\"order\":\"little\"},\"0.0245\"]],[\"1e+05_Laplace\",[{\"type\":\"ndarray\",\"array\":{\"type\":\"bytes\",\"data\":\"HF7rVlk+QD//jzEaZpAyPzFYSieZ2Ds//48xGmaQEj8gkDEaZpBCP/9d61ZZPlA/IJAxGmaQUj//DGEChl1YPybbGj95C1Y//z6nxZKvWj8o9L2gfzRXP/9w7YifAV0/oRwDS+kkYz+jNaas701kP/+iM0ysU18//8F33XLiZD/esCUgHh1xPywmBGSMhmk/fwNg6eL7cT/A4mvjKm9zP+lG+GlEE3g/1l+by0o8eT8aipDqpSp+Pxxe61ZZPoA/MQwJSI3egz/xRaCvS5SDP9Zfm8tKPIk/d4Hni/tHjD/fLP1NRWuSPybbGj95C5Y/vy1VCD7qlj9gYMcox3ubPyZWBITpuqE/p16t4pOdoz+MNv5m6MyoPxeqwmQjWKk/aWazb2ZxsD+gfzcXCkqzP4E+5TlYULc/bMNGDMcwvD88wR8jemPAPwCp1HtsucM/NnRjLG98xz9IO2+WiNXMP1ZegYUXXtE/BEQEmEan1D+k2V9tEc7YP87qZhOHA9w/QG+ciHmk3j/NlCB4NIrfP6mcUmKDnd4/SdYIhKSj3D84E/fUz4PYP1uKx6SYqdQ/XENCDAxI0T9K9auJNtPMP0H4bETl3cc/Ac53JYrvwj8VWQyz0ze/P6N48xVy1bk/m2c3h9svtz8zFDsy3PGyPzle61ZZPrA/Bx4dkRwDqz9o4y1vZc6mPw==\"},\"shape\":[65],\"dtype\":\"float64\",\"order\":\"little\"},{\"type\":\"ndarray\",\"array\":{\"type\":\"bytes\",\"data\":\"Sm+n5e/joj/HdviJoUegP59g84VDu50/EIBjdIaJlT+YLSmrwaqUPw8c1+1s5ZA/X2hEKvUeiz+fYPOFQ7uNP89n7G/8n4Y/f05JDvZ2hT8+UPmC53R+Px/BHyN6Y4A/3LLVlA8bej8/uiY5wX53Pz8kVO+aiHA/BONr4ypvcz//XetWWT5wP3/9vrkilm0/fwNg6eL7YT/TgI/RAslnP//Bd91y4mQ//13rVlk+YD9/A2Dp4vthP7vqvIfc0mA//8F33XLiVD//XetWWT5QP/9d61ZZPlA/YVhKJ5nYSz//872gfzRHP//Bd91y4kQ/UvS9oH80Rz//XetWWT5AP/+PMRpmkDI//48xGmaQIj8=\"},\"shape\":[34],\"dtype\":\"float64\",\"order\":\"little\"},\"0.0355\"]],[\"1e+06_Gauss\",[{\"type\":\"ndarray\",\"array\":{\"type\":\"bytes\",\"data\":\"R0MauNqJAj8+OF3zXakNP8Bv5NhErxA/qxZQl3BkFD/PFlCXcGQUPzaR8TQy9Bk/cjhd812pHT9sAOuGu1ElP0dDGrjaiSI/8dMgZlEsJz+vTsIDE7wsPxBfU+6rtTY/CvBZnCJYOz8oe4wkfeE6P/SemAw9YUE/vi+furMDRj+3wKVoKqZKP6LksVDqJVE//EUEy2gWVT/a71mcIlhbP9tBpa6TQ2E/+iy1pyV3Yz95hQQotMdpP56MenRce3A/26GCH8vtcz8U08MAC4x7P+rM1zbuzIA/6ApjivI3hD9XyD+r09KJPxkEJq2Pq5A/8bIx1+T2lD91fPsERL6aP6oK1CMysKA/xL4e5GIjpT+AJEc9dsiqP+/EN8vENrA/4uS9our4sz+1Kmx22K64P73nzxz2AL4/ccJfM7fmwT+DBxfFH9XFP7wtSxPom8k/P8QI9nt7zT8uA3FjK9jQP9gL0Y434dI/R5tXveid1D/ZlefN6orWP0wKfsPtrNc/6hPKugDe2D9Ix4mF7cvYP0BybRUQmdg/MDJMIh/S1z93D3YUqqrWP5uwj+X3x9Q/KASv6s/J0j+Skb5XNtnQP4RRoaAiqc0/I37dNk56yT+N41k4orvFP+M92yH/YcI/2UB22UqIvj/V0FJoQEi5P4Fx4h/ME7Q/XqkQEHRHsD//9JIJfhaqPw==\"},\"shape\":[65],\"dtype\":\"float64\",\"order\":\"little\"},{\"type\":\"ndarray\",\"array\":{\"type\":\"bytes\",\"data\":\"Jw+2VMc3pT/ls448K5egP0V8+wREvpo/bCrdDxgnlT95SNAQdpOQP2XdOwRCcoo/aPyXvOZRhD+56W3SBZmAP7V0W5kaKHo/nq1vLEkadD/xRmEwr7ZwP3pgyPfy+2c/j8VJRkVzZD8AIvjiqJZeP9+oy04uTVo/m3W4/mDIVT9dw497uDJNP/h6jCR94Uo/o2/k2ESvQD9Ol8VaTg0/P6OAYEqZ+j8/i4sdDxbbND+D5LFQ6iUxP9aLHQ8W2zQ/ZVl/yI+cIT+jb+TYRK8gP+kstacldyM/HGUnFMjOGz+zvbtVnBkYP6Nv5NhErxA/8hZQl3BkFD82kfE0MvQZPzaR8TQy9Ak/Pjhd812p7T4=\"},\"shape\":[34],\"dtype\":\"float64\",\"order\":\"little\"},\"0.0243\"]],[\"1e+06_Laplace\",[{\"type\":\"ndarray\",\"array\":{\"type\":\"bytes\",\"data\":\"hrsiDhJnQT+VBSqyeKJBP+JPMVbf3UE/un+BYkhrRD+rZcrKSr1GP58PcoeDE0w/KdTQ27kXTz8IPzxM+TZSP/FU1cBkFlc/WgOboC87VT82ROC2fm9XPwl51C1tNV8/+4nJN1PcXj8/2CtbUrFhP/5ujFhixGQ/O47nWuWqZz+h3ZJp0R5tP2+3x455zW4/Cy2e5/FBcT/tq9ZeTQ5zP8P+udmjN3Y/wdMNOMDieD+zM65Qkv19P4a4XX07PoE/iYGdmP1Fgz87zvbxph2GP+8dFdwmHok/DtTQ27kXjz9xGNax2gSSP/UnSkXSsZQ/as+fTMhrlz9/29tzVWOcPxN5wcENWKA/m3R7ukg1oz+xj3xD7c6mP5epbzE3+6o/MzRJEFnerz/0zDklbKWyP2WC0xeLB7c/K7t8j4Qkuz+U9155okPAP71wqI4Xn8M/LPwKrA1lxz8q6P1RCnTMP2XOSbHtPtE/Lr+Ywe/G1D+/pf1hzI/YP9St10eVUdw/QgJiKsEA3z+XbD2B2M/fPyxamUc3ut4/dyXdQiJ+3D+bXsEj1p3YP16K8C70tNQ/qxLNCEFJ0T+Ta4aJN3jMP7n0ZkXSZMc/g9UBikJpwz/HmZ06fzjAP4xVC0Dy17o/Lf4yjPaAtj98kGyzIf2yP5xk79LpBbA/+1scr0zgqj+9AHHPH/OmPw==\"},\"shape\":[65],\"dtype\":\"float64\",\"order\":\"little\"},{\"type\":\"ndarray\",\"array\":{\"type\":\"bytes\",\"data\":\"68UaG7cvoz/PVacFcwWgP2Z3kBOFBpw/UDl1zkUamD8N0SDDtmWUP/GWc2lv8JE/x3rwYyIQjj/UNT1i22SKP3bXRaQqmIY/MaFrdhS5gz8lwAPVnWqAP/PNRroMxn4/vQK16Qciej87iF05OFl3P6HmkVPv8HQ/GQFJ6+yecj+CSP7ZED5wPxglSFj1vWo/UTPrrJjIZz+9wMZ4l59mP6XOac06qmM/l/kVbx7/YD96lRrXs0pZP6VjO7kBVlo/5OGwjGPtVT8Z/GckYZtTPzWJQ/BfclI/jx7YfyBTTz8NROC2fm9HP9YpKR+BwUk/vKie8uJYRT+DZcrKSr1GPwNXZNKtfUM/Xwg/C7VzOj8=\"},\"shape\":[34],\"dtype\":\"float64\",\"order\":\"little\"},\"0.0356\"]],[\"1e+07_Gauss\",[{\"type\":\"ndarray\",\"array\":{\"type\":\"bytes\",\"data\":\"4g1xRbO6Bz/L4t1GSZUJP7QEjK+fjAw/zJ0OfiDGDj8QF1bbxugSP+/RhhKeGRg/NrQReRNJGD/BX15zu94gP3EuPMLhjiM/xn62+G3SJz+u921KwDcuP3bP+DSk9DI/CK8tuHUgNz+OY8883SY9P2asn9p7+0E/4Ie3iyyRRz/rcZiTjn1JP3DXMtnlIFA/svc1UGoWVT+bwy89l3pZP307E2iWv2A/aJ/INMfKZD8S2xUksiBqPxg+Pom6L3A/6SX7RkyHdD9IxqEd5g56P4S4ZFvIYYA/oaMMUqfghD/HYoGmXieKP06PXNrEmZA/98b+eDkRlT9Su+7BAXOaP9F+JBS+tKA/5IzepZoIpT9R+BlCWUeqP+/irSkOXbA/1bgZJd0ptD9FIeu9Z724P4QPYbKcN74/ZsNrW9Y0wj9+Nd8wpKfFP6XDq84Jhsk//CpUsaKhzT+sB1VSOuPQPxemCEvx59I/1MhZep3U1D+us2FpgYfWP6exvIVavdc/IOhImQyV2D/a1nU3LMfYP8hPa3YtmNg/bsfoFJbA1z/L2cW+w2/WP/Idql/i0NQ/agYBKCr70j+9P3RyDN7QP5kldfjoos0/lk9jS7GLyT9/2phlWbjFPzW8oP/KR8I/MSWiUVNavj/VLhjXtda4P5xzXo2qQLQ/MweFgNtZsD/PRBTq7j+qPw==\"},\"shape\":[65],\"dtype\":\"float64\",\"order\":\"little\"},{\"type\":\"ndarray\",\"array\":{\"type\":\"bytes\",\"data\":\"nQy6EGz6pD88qr7pe7WgP9qyVs0LdZo/5+LBSZ4ElT/bnkOZU3mQP61ZgBOgaIo/axwaKPlshD9BQNDddGiAP8mKcCumSXk/atzr1wO2dD9/doRCrc1wP9h6mSZNPGk/yf/9cgGLZD8h0pXXchxgP4NsQlFGnVo/G7NKipa2VT9Bc5kJYKZQP+pPBijjFks/YCof8MD4RD/YvqEA+XhBP5XZ+LA1Zz4/KEiwhvZZOT97MyCDf7c0PzByYJk4XDA/oo8NLRlOKT8m22uosUcjP8/QoyZ29iA/5gSMr5+MHD8TwS/e8p0WP5Njl0KHBRQ/+lJADtyJEj8mlpzfiHgIP0qFRavd/AY/b7m9P1tQAD8=\"},\"shape\":[34],\"dtype\":\"float64\",\"order\":\"little\"},\"0.0243\"]],[\"1e+07_Laplace\",[{\"type\":\"ndarray\",\"array\":{\"type\":\"bytes\",\"data\":\"YpnewIKuQT8RTWED/X5BP0n4nuwX9EQ/Ap8k5G/DRj8OLhPthg9JP/XYUNahhEw/8N2ysxdKUD8GVh8uOi5SP19CQDG8UFQ/xnP8P2jGVj+rlRhye7BYPw3zwz3E2lw/aqi3hIaCYD8mHMVpCg9iP2DpbMzv0WQ/68g3KCulZz/77Z2PkMtqP/xm0SJIZ24/7Y2deYh6cT+bs+HigYdzP3/fKfxCinY/pSz+jDr0eT/TffpUGIF9Pws3FtPAS4E/lIHXjB6ugz/gVDtCXaWGPx9J9BAaz4k/fyVeTgQ3jj/zqDZArXiRP/6RrsdvbpQ/1LNatF/blz+YLJ9GzQOcP9MeQcH+daA/VjHgAFcroz9JCfXij6qmP5oT76ebmKo/6a/3+2marz/vRGVU3s+yP1xYg09de7Y/tdjAG8UBuz+cGV/n6yPAP0/8yZgiaMM/bHu04byAxz9tzPkaMoLMPysMW2vcP9E/Z2CqjtDE1D8tXExA1q3YP5ahHV3mStw/jvgwNT343j/XYdzog+rfP2WBe+gi8t4/OCmp0Che3D/R7YRLxKjYP8znH/rBztQ/iKmYLrpH0T+E75C4x5XMP4iJATuInsc/hWJtw+V0wz+CCdAJCSXAP0KbzLI53Lo/6BOtNHZ5tj9uYnf90uOyP4BH1lFgwK8/nUx/3hGvqj8ZQ/0PZJmmPw==\"},\"shape\":[65],\"dtype\":\"float64\",\"order\":\"little\"},{\"type\":\"ndarray\",\"array\":{\"type\":\"bytes\",\"data\":\"I/fyDCY4oz/OFvFSMjCgP7A2ctFWzps/03kA8C+8lz8VP09YjmKUP5X32kinjZE/FcaXOCZPjj+U2Hi+VkCKPz+9dyUKe4Y/Zd2syc6ngz8RSMsPpvKAPzP2DXMWF34/6LhJBNu1eT+5rOhHJ3x2P1/fQOVBuXM/lwCt574acT8oixcV9IduP48UZ575cGo/fKODeQ4bZz+KwCChyadlP7Km+4BetWI/QVVYFaV2YD/bMpL33mxcP4aUAxIvlVk/uSCd0Ia6Vj944RxeI4xUPziinOu/XVI/WESj2L/PUD+oFkMX20NLPxN6kKoMP0k/5ZszC0LVRj8wY5VKOoNEP77XlxpRJUI/yHK8VfW6QD8=\"},\"shape\":[34],\"dtype\":\"float64\",\"order\":\"little\"},\"0.0354\"]],[\"1e+08_Gauss\",[{\"type\":\"ndarray\",\"array\":{\"type\":\"bytes\",\"data\":\"fIFnTVrWBD/6kB7S0jUHPxzhVl0D2Ao/dd5MKUPCED+8SawMTPcTPwPDVeRv0hc/MEXFgT0RHD8zFghqUaEhP1D/W37QkSU/YMTCdM2LKT+8f46eRbouP5INDulo5jI/Q4Tby7R0Nz8vTyyTg4U8Pz0+2GqoyUE/BZvs74drRj9i5WyRCHRLP7pq8lpD5VA/giF1/4UNVT8vM2kFIzhaPyxxejW6kGA/WQV84GO0ZD972Cr1+J9pPzhvcAb5HHA/Bfk7GwqCdD+4lP0J1et5PygfHTS0WIA/vUONFfquhD/NaTihri6KP64Ye3sEi5A/N6Bh2Cb7lD975I7G43aaP+UrkiDBqaA/gR+RstjypD8zje8sPCyqP+zMwYgjVLA/GYHyZVo8tD90+ZYmN9S4P+3aaOKRMr4/71K1klo4wj/J/csNwrnFP+9CqyF2kck/4GGITzKgzT+gHjAFdOTQP2Iwk6628tI/y6smFEnX1D/n+YnWsXbWPyrqlp+Avdc/uhawRdeM2D+A71etvczYP/w61rYEitg/H4BDYpC71z9fAbzfpXvWP7hUtElk29Q/RhpkgM3z0j8UqQKF2+XQP5bpVw16os0/+n7DQlKQyT8Z2z5Qx73FPyOVZf75QMI/SIrWOjRMvj9Fob8kGNy4P7XDtYIKMrQ/OgTbEm9KsD+IZXUegDqqPw==\"},\"shape\":[65],\"dtype\":\"float64\",\"order\":\"little\"},{\"type\":\"ndarray\",\"array\":{\"type\":\"bytes\",\"data\":\"dWPXEPTupD8535CVlaagP3oMU8NfaJo/mczu2T78lD8VZWG9tZGQP9LdxisgUIo/qjPtLinQhD9YyxwRj1uAP3HKRqM+znk/PoKftdGDdD+l9FmhEFBwPw42eEsr72k/iiyta6GAZD+sTY/tuk5gP70dYDlbE1o/d3BBZGfjVD/B8X2sOANRPzRWUnefxUo/wJbWu4LPRT+G4fRi3LdBP3+WBs+Hcjw/M958PEhlNz9BCZGo9IgzP4WSu3U1ki8/iVqcZuO4KT84E15cm9EkP21Z/8KAXCE/JyADXeCyHT/Pu/yuIygZP9GWCnfBJhQ/GEfS65CEED90bjbOMEoMP81hKVduugY/1YI8VDU+Az8=\"},\"shape\":[34],\"dtype\":\"float64\",\"order\":\"little\"},\"0.0243\"]],[\"1e+08_Laplace\",[{\"type\":\"ndarray\",\"array\":{\"type\":\"bytes\",\"data\":\"zeeUwh/IQD99EOJU4EdCP35h22+S0EQ/3YRaffEBRz95r9YkE4dJP0Au61bn3Uw/9IyzpbYBUD/z7+ZtvfFRPynjvaVP3VM/Z5duLsyYVj+edbf0FV5ZP25RTQA721w/H5fLCbZbYD9TlR2CeDliP/ByjEQ8z2Q/aCprlTJ5Zz/rCmxJiKxqP8yIMJ1oU24/OnGOtkM+cT/siWyH+KxzP3uvaJUsjHY/u1c7AUi9eT9f2yD45IB9P7vtomef/IA/jemtLUCmgz+zt0kF4HuGPwYNDAZwDIo/y+mIJ+1Djj+ArB3VQ4qRPwyGIe/WaZQ/K5tFqbHSlz/rXTP8hsqbP52XMUF1WqA/Y1CAgG4noz+EQOA3+qGmPx+9dzOruqo/Jl2UQ02qrz9A+z95rtmyPwjujikbdLY/IPJ/dy/ruj8c2zRbeSLAP/0ABgZNe8M/CudCBDmIxz+8CbzSaIPMPyiB9oPpSdE/J2T0x3bP1D8TcB+p3KnYP004XWVYU9w/nIARS/D03j+sSfViluvfP1Qwzlgt+t4/OI+iWMRX3D+TzvyHbqvYPx9TQ3T00NQ/BooNeu1D0T+C2IupdXzMP2oRvpAjhsc/Czx/yTJ4wz+Mt2x6ZibAP6g53pa157o/5IFLdAFvtj+fcBktW9WyP44hALwXqK8/ft0/DIK1qj8A8DaPn6imPw==\"},\"shape\":[65],\"dtype\":\"float64\",\"order\":\"little\"},{\"type\":\"ndarray\",\"array\":{\"type\":\"bytes\",\"data\":\"KaEWK4w4oz9O/qKq8kqgP7Jfy9mDxZs/3dRUUSfClz+k9v54C3KUP02Kh5puipE/qZ8oEUk/jj/KtzCvmxWKP2REPrMxhYY/jr2jDvBxgz9SvtaI2O2AP5NCGx/mkX0/kK2XUdy3eT+zLkolUah2P6sDGnYjxHM/q50szZBecT8/SrnCd1xuP84iU7Krt2o/wdDxh+FwZz/IRMJY9cdkP9QDUDBzXmI/4wY7mGdIYD+Lp9E/ya1cP1vMAjrtd1k/QbSHRWmhVj9u8PDTiz1UP9dMe0VLAFI/xsbl0/ASUD8apwo6gGZMP8qiMQJptUk/mSTk1d2lRj86LVHKPz1EPw++P+XXwkI/NeFeLqa7QD8=\"},\"shape\":[34],\"dtype\":\"float64\",\"order\":\"little\"},\"0.0354\"]]]}}}],[\"s_hist_data_large\",{\"type\":\"object\",\"name\":\"ColumnDataSource\",\"id\":\"p1041\",\"attributes\":{\"selected\":{\"type\":\"object\",\"name\":\"Selection\",\"id\":\"p1042\",\"attributes\":{\"indices\":[],\"line_indices\":[]}},\"selection_policy\":{\"type\":\"object\",\"name\":\"UnionRenderers\",\"id\":\"p1043\"},\"data\":{\"type\":\"map\",\"entries\":[[\"top\",{\"type\":\"ndarray\",\"array\":{\"type\":\"bytes\",\"data\":\"zreP5Z9TpT/lzU6K/2agP7VxHtn7J5s/JwdhvZXIlD+lRxxXYLSOP7LqM0/7Noo/1Vnp+aj8gz8H5UjMWIaBPxJ6hSPCi30/8fQWYeVNdj/yV/B4HRdxP3JDKlVJ6Wg/N3aTIavAZz9VC9YFRWFhP6vcXjv6VFg/3OBQPREgXj8AdJqgH9tUPwB0mqAf20Q/HA/IB1wsRz9KdJqgH9tEP1VFI9bUzis/49hsOeOJQj9VRSPW1M4rPyXZbDnjiTI/AAAAAAAAAADj2Gw544kiPwAAAAAAAAAAJdlsOeOJEj8AAAAAAAAAAOPYbDnjiRI/JdlsOeOJEj/j2Gw544kSPwAAAAAAAAAAAAAAAAAAAAA=\"},\"shape\":[34],\"dtype\":\"float64\",\"order\":\"little\"}],[\"bottom\",[1e-07,1e-07,1e-07,1e-07,1e-07,1e-07,1e-07,1e-07,1e-07,1e-07,1e-07,1e-07,1e-07,1e-07,1e-07,1e-07,1e-07,1e-07,1e-07,1e-07,1e-07,1e-07,1e-07,1e-07,1e-07,1e-07,1e-07,1e-07,1e-07,1e-07,1e-07,1e-07,1e-07,1e-07]],[\"left\",{\"type\":\"ndarray\",\"array\":{\"type\":\"bytes\",\"data\":\"NCTm7QyJAUCoqqqqqqoCQCAxb2dIzANAmLczJObtBEAQPvjggw8GQITEvJ0hMQdA/EqBWr9SCEB00UUXXXQJQOxXCtT6lQpAYN7OkJi3C0DYZJNNNtkMQFDrVwrU+g1AyHEcx3EcD0AefPDBBx8QQFq/UqDWrxBAlgK1fqVAEUDQRRdddNERQAyJeTtDYhJASMzbGRLzEkCEDz744IMTQL5SoNavFBRA+pUCtX6lFEA22WSTTTYVQHIcx3EcxxVArF8pUOtXFkDooosuuugWQCTm7QyJeRdAYClQ61cKGECabLLJJpsYQNavFKj1KxlAEvN2hsS8GUBMNtlkk00aQIh5O0Ni3hpAxLydITFvG0A=\"},\"shape\":[34],\"dtype\":\"float64\",\"order\":\"little\"}],[\"right\",{\"type\":\"ndarray\",\"array\":{\"type\":\"bytes\",\"data\":\"qKqqqqqqAkAgMW9nSMwDQJi3MyTm7QRAED744IMPBkCExLydITEHQPxKgVq/UghAdNFFF110CUDsVwrU+pUKQGDezpCYtwtA2GSTTTbZDEBQ61cK1PoNQMhxHMdxHA9AHnzwwQcfEEBav1Kg1q8QQJYCtX6lQBFA0EUXXXTREUAMiXk7Q2ISQEjM2xkS8xJAhA8++OCDE0C+UqDWrxQUQPqVArV+pRRANtlkk002FUByHMdxHMcVQKxfKVDrVxZA6KKLLrroFkAk5u0MiXkXQGApUOtXChhAmmyyySabGEDWrxSo9SsZQBLzdobEvBlATDbZZJNNGkCIeTtDYt4aQMS8nSExbxtAAAAAAAAAHEA=\"},\"shape\":[34],\"dtype\":\"float64\",\"order\":\"little\"}]]}}}],[\"s_hist_data_small\",{\"type\":\"object\",\"name\":\"ColumnDataSource\",\"id\":\"p1038\",\"attributes\":{\"selected\":{\"type\":\"object\",\"name\":\"Selection\",\"id\":\"p1039\",\"attributes\":{\"indices\":[],\"line_indices\":[]}},\"selection_policy\":{\"type\":\"object\",\"name\":\"UnionRenderers\",\"id\":\"p1040\"},\"data\":{\"type\":\"map\",\"entries\":[[\"top\",{\"type\":\"ndarray\",\"array\":{\"type\":\"bytes\",\"data\":\"AAAAAAAAAADj2Gw544kSPwAAAAAAAAAA49hsOeOJEj8AAAAAAAAAAOPYbDnjiRI/BNlsOeOJEj9VRSPW1M4rPwTZbDnjiRI/49hsOeOJEj8E2Ww544kiPwB0mqAf20Q/BNlsOeOJMj8kdJqgH9tEP+PYbDnjiUI/HA/IB1wsNz9FD8gHXCxHP4dFI9bUzks/AHSaoB/bVD9y4FA9ESBePzau53CvSF8/Sw3PhtBGZD+n3le8hTprP+Q9P9KmOHA/LHKhH5T1cT9pqPztDJh2P+MUs4r+3H8/naQK7PXMgD/dZ74Nqt6FP5YXspi6XZA/EnoIalpZlD98N07C0+yZP+QAcK3CfJ4/Tpon2gu2pD8rlfStykOrP/2YDUtJPbA/e53ePil1tD8SFy9SIpC5PwFTGfgMRL8/yw2ueJmzwj++Y5tvYnbFP518jjJHe8k//ihIEqJtzT8HUGBZI5vQP2dtn4+DINM/0Eg0rFZD1D8uY7x9mQnXP6HeqWbtatc/c/fF/gWI2T+ExM/qQnTYP62vrRs+p9g/od6pZu1q1z/w1WMqXprWPx2QlnKJz9Q/qoucqXV/0j/a/CEAexLRP9Mr/3a/LM0/R1NKlD3hyT8DE15eQljFPyEYP+AbmsI/eyyMviBpvz+ACzKxdQC5P1p6CGpaWbQ/oKp4tTBLsD9+zctDZ5mpPw==\"},\"shape\":[65],\"dtype\":\"float64\",\"order\":\"little\"}],[\"bottom\",[1e-07,1e-07,1e-07,1e-07,1e-07,1e-07,1e-07,1e-07,1e-07,1e-07,1e-07,1e-07,1e-07,1e-07,1e-07,1e-07,1e-07,1e-07,1e-07,1e-07,1e-07,1e-07,1e-07,1e-07,1e-07,1e-07,1e-07,1e-07,1e-07,1e-07,1e-07,1e-07,1e-07,1e-07,1e-07,1e-07,1e-07,1e-07,1e-07,1e-07,1e-07,1e-07,1e-07,1e-07,1e-07,1e-07,1e-07,1e-07,1e-07,1e-07,1e-07,1e-07,1e-07,1e-07,1e-07,1e-07,1e-07,1e-07,1e-07,1e-07,1e-07,1e-07,1e-07,1e-07,1e-07]],[\"left\",{\"type\":\"ndarray\",\"array\":{\"type\":\"bytes\",\"data\":\"AAAAAAAAHMDFvJ0hMW8bwIl5O0Ni3hrATjbZZJNNGsAS83aGxLwZwNevFKj1KxnAm2yyySabGMBgKVDrVwoYwCTm7QyJeRfA6aKLLrroFsCtXylQ61cWwHIcx3EcxxXANtlkk002FcD7lQK1fqUUwMBSoNavFBTAhA8++OCDE8BIzNsZEvMSwA2JeTtDYhLA0kUXXXTREcCWArV+pUARwFq/UqDWrxDAH3zwwQcfEMDHcRzHcRwPwFDrVwrU+g3A2mSTTTbZDMBj3s6QmLcLwOxXCtT6lQrAddFFF110CcD+SoFav1IIwIbEvJ0hMQfAED744IMPBsCYtzMk5u0EwCIxb2dIzAPArKqqqqqqAsA0JObtDIkBwL6dITFvZwDAjC666KKL/r+gITFvZ0j8v7AUqPUrBfq/xAcffPDB97/U+pUCtX71v+jtDIl5O/O/+OCDDz748L8YqPUrBWrtvziO4ziO4+i/YHTRRRdd5L8AtX6lQK3fv1CBWr9SoNa/QJtssskmy7+AZ0jM2xmyv0BnSMzbGbI/IJtssskmyz9AgVq/UqDWPwC1fqVArd8/WHTRRRdd5D84juM4juPoPxCo9SsFau0/+OCDDz748D/o7QyJeTvzP9D6lQK1fvU/wAcffPDB9z+wFKj1KwX6P6AhMW9nSPw/iC666KKL/j+8nSExb2cAQA==\"},\"shape\":[65],\"dtype\":\"float64\",\"order\":\"little\"}],[\"right\",{\"type\":\"ndarray\",\"array\":{\"type\":\"bytes\",\"data\":\"xbydITFvG8CJeTtDYt4awE422WSTTRrAEvN2hsS8GcDXrxSo9SsZwJtssskmmxjAYClQ61cKGMAk5u0MiXkXwOmiiy666BbArV8pUOtXFsByHMdxHMcVwDbZZJNNNhXA+5UCtX6lFMDAUqDWrxQUwIQPPvjggxPASMzbGRLzEsANiXk7Q2ISwNJFF1100RHAlgK1fqVAEcBav1Kg1q8QwB988MEHHxDAx3Ecx3EcD8BQ61cK1PoNwNpkk0022QzAY97OkJi3C8DsVwrU+pUKwHXRRRdddAnA/kqBWr9SCMCGxLydITEHwBA++OCDDwbAmLczJObtBMAiMW9nSMwDwKyqqqqqqgLANCTm7QyJAcC+nSExb2cAwIwuuuiii/6/oCExb2dI/L+wFKj1KwX6v8QHH3zwwfe/1PqVArV+9b/o7QyJeTvzv/jggw8++PC/GKj1KwVq7b84juM4juPov2B00UUXXeS/ALV+pUCt379QgVq/UqDWv0CbbLLJJsu/gGdIzNsZsr9AZ0jM2xmyPyCbbLLJJss/QIFav1Kg1j8AtX6lQK3fP1h00UUXXeQ/OI7jOI7j6D8QqPUrBWrtP/jggw8++PA/6O0MiXk78z/Q+pUCtX71P8AHH3zwwfc/sBSo9SsF+j+gITFvZ0j8P4guuuiii/4/vJ0hMW9nAEA0JObtDIkBQA==\"},\"shape\":[65],\"dtype\":\"float64\",\"order\":\"little\"}]]}}}]]},\"code\":\"\\n    // 1.) Select the histogram\\n    const hist_new = s_all_histograms.data[B.value + \\\"_\\\" + dist.value]\\n    \\n    // 2.) Update the FPF\\n    const tmp_fpf = hist_new[2]\\n    fpf_text.text = '<p style=\\\"color:black; font-size:20px; font-weight:'\\n        + ' bold;\\\">FPF = ' + tmp_fpf + '</p>'\\n    \\n    \\n    // 3.) update the values\\n    s_hist_data_small.data = {\\n         top: hist_new[0], \\n         bottom: s_hist_data_small.data.bottom, \\n         left: s_hist_data_small.data.left, \\n         right: s_hist_data_small.data.right}; \\n         \\n    s_hist_data_large.data = {\\n         top: hist_new[1], \\n         bottom: s_hist_data_large.data.bottom, \\n         left: s_hist_data_large.data.left, \\n         right: s_hist_data_large.data.right};    \\n    \\n\"}}]]]},\"title\":\"B:\",\"options\":[\"1e+03\",\"1e+04\",\"1e+05\",\"1e+06\",\"1e+07\",\"1e+08\"],\"value\":\"1e+05\"}},{\"id\":\"p1099\"},{\"id\":\"p1097\"}]}},{\"type\":\"object\",\"name\":\"Figure\",\"id\":\"p1002\",\"attributes\":{\"width\":750,\"height\":300,\"x_range\":{\"type\":\"object\",\"name\":\"Range1d\",\"id\":\"p1012\",\"attributes\":{\"start\":-7,\"end\":7}},\"y_range\":{\"type\":\"object\",\"name\":\"Range1d\",\"id\":\"p1014\",\"attributes\":{\"start\":1e-05,\"end\":3}},\"x_scale\":{\"type\":\"object\",\"name\":\"LinearScale\",\"id\":\"p1016\"},\"y_scale\":{\"type\":\"object\",\"name\":\"LogScale\",\"id\":\"p1018\"},\"title\":{\"type\":\"object\",\"name\":\"Title\",\"id\":\"p1005\",\"attributes\":{\"text\":\"Parametric Bootstrap Distribution\"}},\"renderers\":[{\"type\":\"object\",\"name\":\"GlyphRenderer\",\"id\":\"p1050\",\"attributes\":{\"data_source\":{\"id\":\"p1038\"},\"view\":{\"type\":\"object\",\"name\":\"CDSView\",\"id\":\"p1051\",\"attributes\":{\"filter\":{\"type\":\"object\",\"name\":\"AllIndices\",\"id\":\"p1052\"}}},\"glyph\":{\"type\":\"object\",\"name\":\"Quad\",\"id\":\"p1047\",\"attributes\":{\"left\":{\"type\":\"field\",\"field\":\"left\"},\"right\":{\"type\":\"field\",\"field\":\"right\"},\"bottom\":{\"type\":\"field\",\"field\":\"bottom\"},\"top\":{\"type\":\"field\",\"field\":\"top\"},\"line_color\":{\"type\":\"value\",\"value\":\"white\"},\"fill_color\":{\"type\":\"value\",\"value\":[1,115,178]}}},\"nonselection_glyph\":{\"type\":\"object\",\"name\":\"Quad\",\"id\":\"p1048\",\"attributes\":{\"left\":{\"type\":\"field\",\"field\":\"left\"},\"right\":{\"type\":\"field\",\"field\":\"right\"},\"bottom\":{\"type\":\"field\",\"field\":\"bottom\"},\"top\":{\"type\":\"field\",\"field\":\"top\"},\"line_color\":{\"type\":\"value\",\"value\":\"white\"},\"line_alpha\":{\"type\":\"value\",\"value\":0.1},\"fill_color\":{\"type\":\"value\",\"value\":[1,115,178]},\"fill_alpha\":{\"type\":\"value\",\"value\":0.1},\"hatch_alpha\":{\"type\":\"value\",\"value\":0.1}}},\"muted_glyph\":{\"type\":\"object\",\"name\":\"Quad\",\"id\":\"p1049\",\"attributes\":{\"left\":{\"type\":\"field\",\"field\":\"left\"},\"right\":{\"type\":\"field\",\"field\":\"right\"},\"bottom\":{\"type\":\"field\",\"field\":\"bottom\"},\"top\":{\"type\":\"field\",\"field\":\"top\"},\"line_color\":{\"type\":\"value\",\"value\":\"white\"},\"line_alpha\":{\"type\":\"value\",\"value\":0.2},\"fill_color\":{\"type\":\"value\",\"value\":[1,115,178]},\"fill_alpha\":{\"type\":\"value\",\"value\":0.2},\"hatch_alpha\":{\"type\":\"value\",\"value\":0.2}}}}},{\"type\":\"object\",\"name\":\"GlyphRenderer\",\"id\":\"p1059\",\"attributes\":{\"data_source\":{\"id\":\"p1041\"},\"view\":{\"type\":\"object\",\"name\":\"CDSView\",\"id\":\"p1060\",\"attributes\":{\"filter\":{\"type\":\"object\",\"name\":\"AllIndices\",\"id\":\"p1061\"}}},\"glyph\":{\"type\":\"object\",\"name\":\"Quad\",\"id\":\"p1056\",\"attributes\":{\"left\":{\"type\":\"field\",\"field\":\"left\"},\"right\":{\"type\":\"field\",\"field\":\"right\"},\"bottom\":{\"type\":\"field\",\"field\":\"bottom\"},\"top\":{\"type\":\"field\",\"field\":\"top\"},\"line_color\":{\"type\":\"value\",\"value\":\"white\"},\"fill_color\":{\"type\":\"value\",\"value\":\"red\"}}},\"nonselection_glyph\":{\"type\":\"object\",\"name\":\"Quad\",\"id\":\"p1057\",\"attributes\":{\"left\":{\"type\":\"field\",\"field\":\"left\"},\"right\":{\"type\":\"field\",\"field\":\"right\"},\"bottom\":{\"type\":\"field\",\"field\":\"bottom\"},\"top\":{\"type\":\"field\",\"field\":\"top\"},\"line_color\":{\"type\":\"value\",\"value\":\"white\"},\"line_alpha\":{\"type\":\"value\",\"value\":0.1},\"fill_color\":{\"type\":\"value\",\"value\":\"red\"},\"fill_alpha\":{\"type\":\"value\",\"value\":0.1},\"hatch_alpha\":{\"type\":\"value\",\"value\":0.1}}},\"muted_glyph\":{\"type\":\"object\",\"name\":\"Quad\",\"id\":\"p1058\",\"attributes\":{\"left\":{\"type\":\"field\",\"field\":\"left\"},\"right\":{\"type\":\"field\",\"field\":\"right\"},\"bottom\":{\"type\":\"field\",\"field\":\"bottom\"},\"top\":{\"type\":\"field\",\"field\":\"top\"},\"line_color\":{\"type\":\"value\",\"value\":\"white\"},\"line_alpha\":{\"type\":\"value\",\"value\":0.2},\"fill_color\":{\"type\":\"value\",\"value\":\"red\"},\"fill_alpha\":{\"type\":\"value\",\"value\":0.2},\"hatch_alpha\":{\"type\":\"value\",\"value\":0.2}}}}},{\"type\":\"object\",\"name\":\"Span\",\"id\":\"p1063\",\"attributes\":{\"location\":2.2804911538959938,\"dimension\":\"height\",\"line_width\":3}},{\"type\":\"object\",\"name\":\"GlyphRenderer\",\"id\":\"p1070\",\"attributes\":{\"data_source\":{\"type\":\"object\",\"name\":\"ColumnDataSource\",\"id\":\"p1064\",\"attributes\":{\"selected\":{\"type\":\"object\",\"name\":\"Selection\",\"id\":\"p1065\",\"attributes\":{\"indices\":[],\"line_indices\":[]}},\"selection_policy\":{\"type\":\"object\",\"name\":\"UnionRenderers\",\"id\":\"p1066\"},\"data\":{\"type\":\"map\",\"entries\":[[\"x\",{\"type\":\"ndarray\",\"array\":{\"type\":\"bytes\",\"data\":\"AAAAAAAAHMDFvJ0hMW8bwIl5O0Ni3hrATjbZZJNNGsAS83aGxLwZwNevFKj1KxnAm2yyySabGMBgKVDrVwoYwCTm7QyJeRfA6aKLLrroFsCtXylQ61cWwHIcx3EcxxXANtlkk002FcD7lQK1fqUUwMBSoNavFBTAhA8++OCDE8BIzNsZEvMSwA2JeTtDYhLA0kUXXXTREcCWArV+pUARwFq/UqDWrxDAH3zwwQcfEMDHcRzHcRwPwFDrVwrU+g3A2mSTTTbZDMBj3s6QmLcLwOxXCtT6lQrAddFFF110CcD+SoFav1IIwIbEvJ0hMQfAED744IMPBsCYtzMk5u0EwCIxb2dIzAPArKqqqqqqAsA0JObtDIkBwL6dITFvZwDAjC666KKL/r+gITFvZ0j8v7AUqPUrBfq/xAcffPDB97/U+pUCtX71v+jtDIl5O/O/+OCDDz748L8YqPUrBWrtvziO4ziO4+i/YHTRRRdd5L8AtX6lQK3fv1CBWr9SoNa/QJtssskmy7+AZ0jM2xmyv0BnSMzbGbI/IJtssskmyz9AgVq/UqDWPwC1fqVArd8/WHTRRRdd5D84juM4juPoPxCo9SsFau0/+OCDDz748D/o7QyJeTvzP9D6lQK1fvU/wAcffPDB9z+wFKj1KwX6P6AhMW9nSPw/iC666KKL/j+8nSExb2cAQDQk5u0MiQFAqKqqqqqqAkAgMW9nSMwDQJi3MyTm7QRAED744IMPBkCExLydITEHQPxKgVq/UghAdNFFF110CUDsVwrU+pUKQGDezpCYtwtA2GSTTTbZDEBQ61cK1PoNQMhxHMdxHA9AHnzwwQcfEEBav1Kg1q8QQJYCtX6lQBFA0EUXXXTREUAMiXk7Q2ISQEjM2xkS8xJAhA8++OCDE0C+UqDWrxQUQPqVArV+pRRANtlkk002FUByHMdxHMcVQKxfKVDrVxZA6KKLLrroFkAk5u0MiXkXQGApUOtXChhAmmyyySabGEDWrxSo9SsZQBLzdobEvBlATDbZZJNNGkCIeTtDYt4aQMS8nSExbxtAAAAAAAAAHEA=\"},\"shape\":[100],\"dtype\":\"float64\",\"order\":\"little\"}],[\"y\",{\"type\":\"ndarray\",\"array\":{\"type\":\"bytes\",\"data\":\"ZA6tl3hNAj+Azt5VGbwFPxmfbl+D3wk/cA/jExzgDj9BeNwW/3cSP4HHRhi7JhY/IWxvZRWjGj9+5oRpyA4gPz1NRsx3aSM/hSK9iLyHJz+AGnm8lJksP3BV8rjDbTE/XhknjgpNNT9qegX3EBs6P60tqnOoCkA/XYR+ePjEQz9AVpg5OW5IP+UKCMrZRU4/thzBqGjOUj+VsKnkRW1XPyydwsSYQV0/O70zGehPYj+tNqMr3/lmPxr6e7lz42w/nDl/kBUycj+vbP88jfV2P7l+hvVXAn0/xiGPlmFYgj/ygfLAjTeHP6JI6ND7Yo0/79hEDymXkj83StB4Tn+XP+/Bq3zmpZ0/JOEPpkWooj9fIdgz2WanP+glwYs1Oa0/itqqZIElsj8bVueawGK2P43uPNUyZbs/m+r/VEKbwD/oZtEOjOrDP2imvsfJl8c/UWbUg2SQyz8MbQ7ydbbPP0ABhi9N8NE/yuV69L7t0z9EuSSZt7bVP3QvCHTsLdc/C/82RP842D9GEsJr78PYP0YSwmvvw9g/E/82RP842D90Lwh07C3XP0S5JJm3ttU/0OV69L7t0z9AAYYvTfDRPxVtDvJ1ts8/UWbUg2SQyz9opr7HyZfHP+5m0Q6M6sM/n+r/VEKbwD+N7jzVMmW7PxtW55rAYrY/jtqqZIElsj/1JcGLNTmtP18h2DPZZqc/M+EPpkWooj//wat85qWdPzdK0HhOf5c/79hEDymXkj+rSOjQ+2KNP/KB8sCNN4c/xiGPlmFYgj+5fob1VwJ9P8Bs/zyN9XY/pTl/kBUycj8a+nu5c+NsP6g2oyvf+WY/RL0zGehPYj8sncLEmEFdP5WwqeRFbVc/xRzBqGjOUj/xCgjK2UVOP0BWmDk5bkg/XYR+ePjEQz+6LapzqApAP3J6BfcQGzo/XhknjgpNNT9wVfK4w20xP48aebyUmSw/jCK9iLyHJz89TUbMd2kjP37mhGnIDiA/L2xvZRWjGj+Gx0YYuyYWP0F43Bb/dxI/hQ/jExzgDj8fn25fg98JP4XO3lUZvAU/ZA6tl3hNAj8=\"},\"shape\":[100],\"dtype\":\"float64\",\"order\":\"little\"}]]}}},\"view\":{\"type\":\"object\",\"name\":\"CDSView\",\"id\":\"p1071\",\"attributes\":{\"filter\":{\"type\":\"object\",\"name\":\"AllIndices\",\"id\":\"p1072\"}}},\"glyph\":{\"type\":\"object\",\"name\":\"Line\",\"id\":\"p1067\",\"attributes\":{\"x\":{\"type\":\"field\",\"field\":\"x\"},\"y\":{\"type\":\"field\",\"field\":\"y\"},\"line_color\":\"rgb(222, 143, 5)\",\"line_width\":3}},\"nonselection_glyph\":{\"type\":\"object\",\"name\":\"Line\",\"id\":\"p1068\",\"attributes\":{\"x\":{\"type\":\"field\",\"field\":\"x\"},\"y\":{\"type\":\"field\",\"field\":\"y\"},\"line_color\":\"rgb(222, 143, 5)\",\"line_alpha\":0.1,\"line_width\":3}},\"muted_glyph\":{\"type\":\"object\",\"name\":\"Line\",\"id\":\"p1069\",\"attributes\":{\"x\":{\"type\":\"field\",\"field\":\"x\"},\"y\":{\"type\":\"field\",\"field\":\"y\"},\"line_color\":\"rgb(222, 143, 5)\",\"line_alpha\":0.2,\"line_width\":3}}}}],\"toolbar\":{\"type\":\"object\",\"name\":\"Toolbar\",\"id\":\"p1008\"},\"toolbar_location\":null,\"left\":[{\"type\":\"object\",\"name\":\"LogAxis\",\"id\":\"p1027\",\"attributes\":{\"ticker\":{\"type\":\"object\",\"name\":\"LogTicker\",\"id\":\"p1030\",\"attributes\":{\"num_minor_ticks\":10,\"mantissas\":[1,5]}},\"formatter\":{\"type\":\"object\",\"name\":\"LogTickFormatter\",\"id\":\"p1028\"},\"axis_label\":\"$$p(T^* = x| H_0)$$\",\"major_label_policy\":{\"type\":\"object\",\"name\":\"AllLabels\",\"id\":\"p1029\"}}}],\"below\":[{\"type\":\"object\",\"name\":\"LinearAxis\",\"id\":\"p1020\",\"attributes\":{\"ticker\":{\"type\":\"object\",\"name\":\"BasicTicker\",\"id\":\"p1023\",\"attributes\":{\"mantissas\":[1,2,5]}},\"formatter\":{\"type\":\"object\",\"name\":\"BasicTickFormatter\",\"id\":\"p1021\"},\"axis_label\":\"SNR / Test Statistc\",\"major_label_policy\":{\"type\":\"object\",\"name\":\"AllLabels\",\"id\":\"p1022\"}}}],\"center\":[{\"type\":\"object\",\"name\":\"Grid\",\"id\":\"p1026\",\"attributes\":{\"axis\":{\"id\":\"p1020\"}}},{\"type\":\"object\",\"name\":\"Grid\",\"id\":\"p1033\",\"attributes\":{\"dimension\":1,\"axis\":{\"id\":\"p1027\"}}},{\"type\":\"object\",\"name\":\"Label\",\"id\":\"p1062\",\"attributes\":{\"text\":\"$$T_{\\\\text{obs}} = 2.28$$\",\"x\":3,\"y\":0.2}},{\"type\":\"object\",\"name\":\"Legend\",\"id\":\"p1095\",\"attributes\":{\"location\":\"bottom_left\",\"items\":[{\"type\":\"object\",\"name\":\"LegendItem\",\"id\":\"p1096\",\"attributes\":{\"label\":{\"type\":\"value\",\"value\":\"t-distribution\"},\"renderers\":[{\"id\":\"p1070\"}]}}]}}]}}]}}]}};\n",
       "  const render_items = [{\"docid\":\"6a7e6ffa-a141-4f67-a9fc-c7ed07d8a789\",\"roots\":{\"p1102\":\"83c65906-86ea-42c4-b2a1-ca65d869a0f4\"},\"root_ids\":[\"p1102\"]}];\n",
       "  root.Bokeh.embed.embed_items_notebook(docs_json, render_items);\n",
       "  }\n",
       "  if (root.Bokeh !== undefined) {\n",
       "    embed_document(root);\n",
       "  } else {\n",
       "    let attempts = 0;\n",
       "    const timer = setInterval(function(root) {\n",
       "      if (root.Bokeh !== undefined) {\n",
       "        clearInterval(timer);\n",
       "        embed_document(root);\n",
       "      } else {\n",
       "        attempts++;\n",
       "        if (attempts > 100) {\n",
       "          clearInterval(timer);\n",
       "          console.log(\"Bokeh: ERROR: Unable to run BokehJS code because BokehJS library is missing\");\n",
       "        }\n",
       "      }\n",
       "    }, 10, root)\n",
       "  }\n",
       "})(window);"
      ],
      "application/vnd.bokehjs_exec.v0+json": ""
     },
     "metadata": {
      "application/vnd.bokehjs_exec.v0+json": {
       "id": "p1102"
      }
     },
     "output_type": "display_data"
    }
   ],
   "source": [
    "# 1. Setup the figure ----------------------------------------------------------\n",
    "p = figure(width=750, height=300, \n",
    "           toolbar_location=None,\n",
    "           tools = [],\n",
    "           title=\"Parametric Bootstrap Distribution\",\n",
    "           y_axis_type=\"log\", \n",
    "           y_range=(1e-5, 3),\n",
    "           x_range=(-7, 7))\n",
    "\n",
    "# 2. Plot the histogram --------------------------------------------------------\n",
    "# The ColumnDataSource are used for the interactive updates\n",
    "# s_all_histograms contains all available histograms\n",
    "s_all_histograms = ColumnDataSource(data=final_histograms)\n",
    "\n",
    "# s_hist_data_small and s_hist_data_large contain the current histogram\n",
    "s_hist_data_small = ColumnDataSource(\n",
    "    data=dict(top=final_histograms[\"1e+05_Gauss\"][0], \n",
    "              bottom=([1e-7,]*99)[:cut_off_idx], \n",
    "              left=edges[:-1][:cut_off_idx], \n",
    "              right=edges[1:][:cut_off_idx]))\n",
    "\n",
    "s_hist_data_large = ColumnDataSource(\n",
    "    data=dict(top=final_histograms[\"1e+05_Gauss\"][1], \n",
    "              bottom=([1e-7,]*99)[cut_off_idx:], \n",
    "              left=edges[:-1][cut_off_idx:], \n",
    "              right=edges[1:][cut_off_idx:]))\n",
    "\n",
    "# Draw the actual histogram ----------------------------------------------------\n",
    "p.quad(top=\"top\", bottom=\"bottom\", left=\"left\", right=\"right\",\n",
    "       source=s_hist_data_small,\n",
    "       fill_color=color_blue, \n",
    "       line_color=\"white\")\n",
    "\n",
    "p.quad(top=\"top\", bottom=\"bottom\", left=\"left\", right=\"right\",\n",
    "       source=s_hist_data_large,\n",
    "       fill_color=color_red, \n",
    "       line_color=\"white\")\n",
    "\n",
    "# 3. Add labels ----------------------------------------------------------------\n",
    "p.xaxis.axis_label = \"SNR / Test Statistc\"\n",
    "p.yaxis.axis_label = r\"$$p(T^* = x| H_0)$$\"\n",
    "mytext = Label(x=3, y=0.2,\n",
    "               text=r'$$T_{\\text{obs}} = 2.28$$')\n",
    "p.add_layout(mytext)\n",
    "\n",
    "# 4. Draw T_obs vertical line --------------------------------------------------\n",
    "vline = Span(location=T_obs, \n",
    "             dimension='height', \n",
    "             line_color='black', \n",
    "             line_width=3)\n",
    "p.renderers.extend([vline,])\n",
    "\n",
    "\n",
    "# 5. Plot the t-distibution ----------------------------------------------------\n",
    "x = np.linspace(-7.0, 7.0, 100)\n",
    "pdf = stats.t.pdf(x, df=9)\n",
    "p.line(x, pdf, line_width=3, line_color=color_t_dist,\n",
    "       legend_label=\"t-distribution\")\n",
    "p.legend.location = \"bottom_left\"\n",
    "\n",
    "\n",
    "# 6. Add fpf Text box ----------------------------------------------------------\n",
    "fpf_text = Div(text=\"\"\"<p style=\"color:black;\n",
    "                                 font-size:20px;\n",
    "                                 font-weight: bold;\">FPF = 0.0245 </p>\"\"\",\n",
    "width=300, height=50, margin=(30, 10, 10, 50))\n",
    "\n",
    "# 7. Add interaction -----------------------------------------------------------\n",
    "# JavaScript code for the update\n",
    "code = \"\"\"\n",
    "    // 1.) Select the histogram\n",
    "    const hist_new = s_all_histograms.data[B.value + \"_\" + dist.value]\n",
    "    \n",
    "    // 2.) Update the FPF\n",
    "    const tmp_fpf = hist_new[2]\n",
    "    fpf_text.text = '<p style=\"color:black; font-size:20px; font-weight:'\n",
    "        + ' bold;\">FPF = ' + tmp_fpf + '</p>'\n",
    "    \n",
    "    \n",
    "    // 3.) update the values\n",
    "    s_hist_data_small.data = {\n",
    "         top: hist_new[0], \n",
    "         bottom: s_hist_data_small.data.bottom, \n",
    "         left: s_hist_data_small.data.left, \n",
    "         right: s_hist_data_small.data.right}; \n",
    "         \n",
    "    s_hist_data_large.data = {\n",
    "         top: hist_new[1], \n",
    "         bottom: s_hist_data_large.data.bottom, \n",
    "         left: s_hist_data_large.data.left, \n",
    "         right: s_hist_data_large.data.right};    \n",
    "    \n",
    "\"\"\"\n",
    "# create the Dropdown menus\n",
    "select_B = Select(title=\"B:\", value=\"1e+05\", \n",
    "                  options=[\"{:.0e}\".format(i) for i in num_draws])\n",
    "\n",
    "select_dist = Select(title=\"Assumed noise:\", \n",
    "                     value=\"Gauss\",\n",
    "                     options=[\"Gauss\", \"Laplace\"])\n",
    "\n",
    "# Setup the callback function\n",
    "callback = CustomJS(args=dict(\n",
    "    B=select_B,\n",
    "    dist=select_dist,\n",
    "    fpf_text=fpf_text,\n",
    "    s_all_histograms=s_all_histograms,\n",
    "    s_hist_data_large=s_hist_data_large,\n",
    "    s_hist_data_small=s_hist_data_small), \n",
    "                    code=code)\n",
    "\n",
    "select_B.js_on_change('value', callback)\n",
    "select_dist.js_on_change('value', callback)\n",
    "\n",
    "# 8. Show the plot -------------------------------------------------------------\n",
    "show(column(row(select_B, select_dist, fpf_text), p))"
   ]
  }
 ],
 "metadata": {
  "kernelspec": {
   "display_name": "Python 3 (ipykernel)",
   "language": "python",
   "name": "python3"
  },
  "language_info": {
   "codemirror_mode": {
    "name": "ipython",
    "version": 3
   },
   "file_extension": ".py",
   "mimetype": "text/x-python",
   "name": "python",
   "nbconvert_exporter": "python",
   "pygments_lexer": "ipython3",
   "version": "3.8.10"
  },
  "widgets": {
   "application/vnd.jupyter.widget-state+json": {
    "state": {},
    "version_major": 2,
    "version_minor": 0
   }
  }
 },
 "nbformat": 4,
 "nbformat_minor": 5
}
